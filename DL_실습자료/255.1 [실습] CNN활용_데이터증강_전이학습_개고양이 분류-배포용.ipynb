{
 "cells": [
  {
   "cell_type": "markdown",
   "id": "8a361714",
   "metadata": {},
   "source": [
    "# [실습] CNN활용_데이터증강_전이학습_개고양이 분류(Kaggel)_ResNet50_Data_Augmentation\n",
    "\n",
    "* 데이터출처: https://www.kaggle.com/tongpython/cat-and-dog"
   ]
  },
  {
   "cell_type": "code",
   "execution_count": 1,
   "id": "7f17c315",
   "metadata": {},
   "outputs": [],
   "source": [
    "# 라이브러리 불러오기\n",
    "import tensorflow as tf\n",
    "from tensorflow.keras.preprocessing.image import ImageDataGenerator\n",
    "\n",
    "import numpy as np\n",
    "import pandas as pd\n",
    "import matplotlib.pyplot as plt"
   ]
  },
  {
   "cell_type": "markdown",
   "id": "451ebed0",
   "metadata": {},
   "source": [
    "### 모델 학습"
   ]
  },
  {
   "cell_type": "markdown",
   "id": "f5999c1f",
   "metadata": {},
   "source": [
    "### ImageDataGenerator"
   ]
  },
  {
   "cell_type": "code",
   "execution_count": 2,
   "id": "cb6cd285",
   "metadata": {},
   "outputs": [
    {
     "data": {
      "text/plain": [
       "<keras.preprocessing.image.ImageDataGenerator at 0x29c5bf880>"
      ]
     },
     "execution_count": 2,
     "metadata": {},
     "output_type": "execute_result"
    }
   ],
   "source": [
    "# 케라스로 ImageDataGenerator 클래스의 객체를 생성하고,\n",
    "# rescale옵션을 지정해 이미지 각 픽셀의 값을 0~1로 정규화한다.\n",
    "# 생성된 제너레이터 객체를 image_gen변수에 할당한다.\n",
    "image_gen = ImageDataGenerator(rescale=(1/255.0))\n",
    "image_gen"
   ]
  },
  {
   "cell_type": "markdown",
   "id": "f1b96c84",
   "metadata": {},
   "source": [
    "### flow_from_directory함수"
   ]
  },
  {
   "cell_type": "code",
   "execution_count": 3,
   "id": "922097c3",
   "metadata": {},
   "outputs": [
    {
     "name": "stdout",
     "output_type": "stream",
     "text": [
      "Found 8005 images belonging to 2 classes.\n",
      "Found 2023 images belonging to 2 classes.\n"
     ]
    }
   ],
   "source": [
    "# flow_from_directory함수로 폴더에서 이미지를 가져와 제너레이터 객체로 정리\n",
    "train_dir = '../data/cat_and_dog/training_set/training_set'\n",
    "valid_dir = '../data/cat_and_dog/test_set/test_set'\n",
    "\n",
    "train_gen = image_gen.flow_from_directory(train_dir, \n",
    "                                          batch_size=32,\n",
    "                                          target_size=(224, 224),\n",
    "                                          classes=['cats', 'dogs'],\n",
    "                                          class_mode='binary',\n",
    "                                          seed=2023)\n",
    "valid_gen = image_gen.flow_from_directory(valid_dir, \n",
    "                                          batch_size=32,\n",
    "                                          target_size=(224, 224),\n",
    "                                          classes=['cats', 'dogs'],\n",
    "                                          class_mode='binary',\n",
    "                                          seed=2023)"
   ]
  },
  {
   "cell_type": "code",
   "execution_count": 4,
   "id": "9da4613a",
   "metadata": {},
   "outputs": [],
   "source": [
    "class_labels = ['cat', 'dog']"
   ]
  },
  {
   "cell_type": "code",
   "execution_count": 5,
   "id": "b380eb70",
   "metadata": {},
   "outputs": [],
   "source": [
    "# 샘플 이미지 출력(첫번째 배치)\n",
    "batch = next(train_gen)\n",
    "type(batch)\n",
    "len(batch)\n",
    "images, labels = batch[0], batch[1]\n"
   ]
  },
  {
   "cell_type": "code",
   "execution_count": 6,
   "id": "1bc6a659",
   "metadata": {},
   "outputs": [
    {
     "data": {
      "text/plain": [
       "(32, 224, 224, 3)"
      ]
     },
     "execution_count": 6,
     "metadata": {},
     "output_type": "execute_result"
    }
   ],
   "source": [
    "images.shape"
   ]
  },
  {
   "cell_type": "code",
   "execution_count": 7,
   "id": "ef6cd7de",
   "metadata": {},
   "outputs": [
    {
     "name": "stdout",
     "output_type": "stream",
     "text": [
      "[1. 0. 0. 0. 1. 0. 0. 0. 1. 0. 0. 0. 1. 0. 1. 1. 1. 1. 1. 0. 1. 1. 1. 0.\n",
      " 1. 0. 1. 0. 0. 1. 0. 1.]\n"
     ]
    }
   ],
   "source": [
    "print(labels)"
   ]
  },
  {
   "cell_type": "code",
   "execution_count": 30,
   "id": "325228b9",
   "metadata": {},
   "outputs": [],
   "source": [
    "# 이미지 시각화\n",
    "\n",
    "plt.figure(figsize=(16,8))\n",
    "for i in range(0,32):\n",
    "    ax = plt.subplot(4, 8, i+1)\n",
    "    plt.axis('off')\n",
    "    plt.title(labels[i])\n",
    "    plt.imshow(images[i])\n",
    "plt.show()"
   ]
  },
  {
   "cell_type": "markdown",
   "id": "b826a863",
   "metadata": {},
   "source": [
    "### 모델 훈련"
   ]
  },
  {
   "cell_type": "code",
   "execution_count": 8,
   "id": "72979767",
   "metadata": {},
   "outputs": [
    {
     "name": "stdout",
     "output_type": "stream",
     "text": [
      "Metal device set to: Apple M1\n",
      "\n",
      "systemMemory: 8.00 GB\n",
      "maxCacheSize: 2.67 GB\n",
      "\n"
     ]
    },
    {
     "name": "stderr",
     "output_type": "stream",
     "text": [
      "2023-02-27 11:25:35.516990: I tensorflow/core/common_runtime/pluggable_device/pluggable_device_factory.cc:305] Could not identify NUMA node of platform GPU ID 0, defaulting to 0. Your kernel may not have been built with NUMA support.\n",
      "2023-02-27 11:25:35.517762: I tensorflow/core/common_runtime/pluggable_device/pluggable_device_factory.cc:271] Created TensorFlow device (/job:localhost/replica:0/task:0/device:GPU:0 with 0 MB memory) -> physical PluggableDevice (device: 0, name: METAL, pci bus id: <undefined>)\n"
     ]
    }
   ],
   "source": [
    "# Sequential API를 활용하여 샘플 모델 생성\n",
    "from tensorflow.keras.models import Sequential\n",
    "from tensorflow.keras.layers import Conv2D, MaxPooling2D, BatchNormalization, Dense, Flatten, Dropout\n",
    "\n",
    "model = Sequential([\n",
    "    # Feature Learning\n",
    "    Conv2D(32, (3,3), padding='same', activation='relu'),\n",
    "    MaxPooling2D((2,2)),\n",
    "    BatchNormalization(),\n",
    "\n",
    "    Conv2D(64, (3,3), padding='same', activation='relu'),\n",
    "    MaxPooling2D((2,2)),\n",
    "    BatchNormalization(),\n",
    "\n",
    "    Conv2D(128, (3,3), padding='same', activation='relu'),\n",
    "    MaxPooling2D((2,2)),\n",
    "    BatchNormalization(),\n",
    "\n",
    "    # Classifier Learning\n",
    "    Flatten(),\n",
    "    Dense(256, activation='relu'),\n",
    "    Dropout(0.5),\n",
    "    Dense(1, activation='sigmoid')     # binary로 하였기 때문에 노드가 1개여야 한다.\n",
    "\n",
    "    \n",
    "])"
   ]
  },
  {
   "cell_type": "code",
   "execution_count": 9,
   "id": "e662bad3",
   "metadata": {},
   "outputs": [],
   "source": [
    "# 모델 컴파일\n",
    "model.compile(optimizer='adam',\n",
    "              loss='binary_crossentropy',\n",
    "              metrics='accuracy')"
   ]
  },
  {
   "cell_type": "code",
   "execution_count": 19,
   "id": "7532ce59",
   "metadata": {},
   "outputs": [
    {
     "name": "stdout",
     "output_type": "stream",
     "text": [
      "Epoch 1/20\n"
     ]
    },
    {
     "name": "stderr",
     "output_type": "stream",
     "text": [
      "2023-02-27 11:30:32.166626: W tensorflow/core/platform/profile_utils/cpu_utils.cc:128] Failed to get CPU frequency: 0 Hz\n",
      "2023-02-27 11:30:32.356936: I tensorflow/core/grappler/optimizers/custom_graph_optimizer_registry.cc:113] Plugin optimizer for device_type GPU is enabled.\n",
      "2023-02-27 11:31:30.423339: I tensorflow/core/grappler/optimizers/custom_graph_optimizer_registry.cc:113] Plugin optimizer for device_type GPU is enabled.\n"
     ]
    },
    {
     "name": "stdout",
     "output_type": "stream",
     "text": [
      "251/251 - 64s - loss: 0.2020 - accuracy: 0.9047 - val_loss: 0.7453 - val_accuracy: 0.7963 - 64s/epoch - 253ms/step\n",
      "Epoch 2/20\n",
      "251/251 - 62s - loss: 0.2188 - accuracy: 0.9003 - val_loss: 0.7263 - val_accuracy: 0.7800 - 62s/epoch - 248ms/step\n",
      "Epoch 3/20\n",
      "251/251 - 63s - loss: 0.1873 - accuracy: 0.9156 - val_loss: 1.0186 - val_accuracy: 0.7558 - 63s/epoch - 249ms/step\n",
      "Epoch 4/20\n",
      "251/251 - 63s - loss: 0.1842 - accuracy: 0.9176 - val_loss: 0.6694 - val_accuracy: 0.6911 - 63s/epoch - 249ms/step\n",
      "Epoch 5/20\n",
      "251/251 - 62s - loss: 0.1923 - accuracy: 0.9107 - val_loss: 0.9320 - val_accuracy: 0.7815 - 62s/epoch - 246ms/step\n",
      "Epoch 6/20\n",
      "251/251 - 62s - loss: 0.1617 - accuracy: 0.9243 - val_loss: 0.7508 - val_accuracy: 0.7954 - 62s/epoch - 247ms/step\n",
      "Epoch 7/20\n",
      "251/251 - 62s - loss: 0.1572 - accuracy: 0.9277 - val_loss: 0.8010 - val_accuracy: 0.8047 - 62s/epoch - 246ms/step\n",
      "Epoch 8/20\n",
      "251/251 - 62s - loss: 0.1649 - accuracy: 0.9278 - val_loss: 0.9627 - val_accuracy: 0.7800 - 62s/epoch - 245ms/step\n",
      "Epoch 9/20\n",
      "251/251 - 64s - loss: 0.1593 - accuracy: 0.9330 - val_loss: 0.7338 - val_accuracy: 0.6920 - 64s/epoch - 254ms/step\n",
      "Epoch 10/20\n",
      "251/251 - 63s - loss: 0.1585 - accuracy: 0.9345 - val_loss: 0.9149 - val_accuracy: 0.7944 - 63s/epoch - 252ms/step\n",
      "Epoch 11/20\n",
      "251/251 - 62s - loss: 0.1360 - accuracy: 0.9420 - val_loss: 0.9045 - val_accuracy: 0.7914 - 62s/epoch - 245ms/step\n",
      "Epoch 12/20\n",
      "251/251 - 62s - loss: 0.1219 - accuracy: 0.9474 - val_loss: 1.1678 - val_accuracy: 0.8047 - 62s/epoch - 247ms/step\n",
      "Epoch 13/20\n",
      "251/251 - 61s - loss: 0.1133 - accuracy: 0.9519 - val_loss: 1.1043 - val_accuracy: 0.7879 - 61s/epoch - 245ms/step\n",
      "Epoch 14/20\n",
      "251/251 - 62s - loss: 0.1103 - accuracy: 0.9539 - val_loss: 1.1346 - val_accuracy: 0.7840 - 62s/epoch - 246ms/step\n",
      "Epoch 15/20\n",
      "251/251 - 62s - loss: 0.1315 - accuracy: 0.9500 - val_loss: 0.6371 - val_accuracy: 0.7449 - 62s/epoch - 245ms/step\n",
      "Epoch 16/20\n",
      "251/251 - 62s - loss: 0.1296 - accuracy: 0.9472 - val_loss: 1.3766 - val_accuracy: 0.7711 - 62s/epoch - 248ms/step\n",
      "Epoch 17/20\n",
      "251/251 - 62s - loss: 0.1050 - accuracy: 0.9564 - val_loss: 1.4983 - val_accuracy: 0.7855 - 62s/epoch - 246ms/step\n",
      "Epoch 18/20\n",
      "251/251 - 62s - loss: 0.1091 - accuracy: 0.9584 - val_loss: 1.0631 - val_accuracy: 0.8166 - 62s/epoch - 245ms/step\n",
      "Epoch 19/20\n",
      "251/251 - 62s - loss: 0.0913 - accuracy: 0.9626 - val_loss: 1.2678 - val_accuracy: 0.8038 - 62s/epoch - 246ms/step\n",
      "Epoch 20/20\n",
      "251/251 - 61s - loss: 0.0910 - accuracy: 0.9645 - val_loss: 0.9769 - val_accuracy: 0.7884 - 61s/epoch - 242ms/step\n"
     ]
    }
   ],
   "source": [
    "# 모델 훈련\n",
    "hist = model.fit(train_gen, validation_data=valid_gen, epochs=20, verbose=2)"
   ]
  },
  {
   "cell_type": "code",
   "execution_count": null,
   "id": "cb6bfdf7",
   "metadata": {},
   "outputs": [],
   "source": [
    "model.save['255.1_cat_and_dog_without_aug.h5']"
   ]
  },
  {
   "cell_type": "code",
   "execution_count": 17,
   "id": "512d928f",
   "metadata": {},
   "outputs": [],
   "source": [
    "model = tf.keras.models.load_model('../data/cat_and_dog/225.1_cat_and_dog_without_aug.h5')"
   ]
  },
  {
   "cell_type": "code",
   "execution_count": 22,
   "id": "020d36f0",
   "metadata": {},
   "outputs": [
    {
     "ename": "FileNotFoundError",
     "evalue": "[Errno 2] No such file or directory: '../data/cat_and_dog/225.1_cat_and_dog_without_aug.csv'",
     "output_type": "error",
     "traceback": [
      "\u001b[0;31m---------------------------------------------------------------------------\u001b[0m",
      "\u001b[0;31mFileNotFoundError\u001b[0m                         Traceback (most recent call last)",
      "Cell \u001b[0;32mIn[22], line 3\u001b[0m\n\u001b[1;32m      1\u001b[0m df \u001b[39m=\u001b[39m pd\u001b[39m.\u001b[39mDataFrame(hist\u001b[39m.\u001b[39mhistory)\n\u001b[1;32m      2\u001b[0m df\u001b[39m.\u001b[39mto_csv(\u001b[39m'\u001b[39m\u001b[39m../data/cat_and_dog/255.1_cat_and_dog_without_aug.csv\u001b[39m\u001b[39m'\u001b[39m, index\u001b[39m=\u001b[39m\u001b[39mFalse\u001b[39;00m)\n\u001b[0;32m----> 3\u001b[0m df \u001b[39m=\u001b[39m pd\u001b[39m.\u001b[39;49mread_csv(\u001b[39m\"\u001b[39;49m\u001b[39m../data/cat_and_dog/225.1_cat_and_dog_without_aug.csv\u001b[39;49m\u001b[39m\"\u001b[39;49m)\n\u001b[1;32m      4\u001b[0m df\n",
      "File \u001b[0;32m~/miniconda/envs/tensorflow/lib/python3.8/site-packages/pandas/util/_decorators.py:211\u001b[0m, in \u001b[0;36mdeprecate_kwarg.<locals>._deprecate_kwarg.<locals>.wrapper\u001b[0;34m(*args, **kwargs)\u001b[0m\n\u001b[1;32m    209\u001b[0m     \u001b[39melse\u001b[39;00m:\n\u001b[1;32m    210\u001b[0m         kwargs[new_arg_name] \u001b[39m=\u001b[39m new_arg_value\n\u001b[0;32m--> 211\u001b[0m \u001b[39mreturn\u001b[39;00m func(\u001b[39m*\u001b[39;49margs, \u001b[39m*\u001b[39;49m\u001b[39m*\u001b[39;49mkwargs)\n",
      "File \u001b[0;32m~/miniconda/envs/tensorflow/lib/python3.8/site-packages/pandas/util/_decorators.py:331\u001b[0m, in \u001b[0;36mdeprecate_nonkeyword_arguments.<locals>.decorate.<locals>.wrapper\u001b[0;34m(*args, **kwargs)\u001b[0m\n\u001b[1;32m    325\u001b[0m \u001b[39mif\u001b[39;00m \u001b[39mlen\u001b[39m(args) \u001b[39m>\u001b[39m num_allow_args:\n\u001b[1;32m    326\u001b[0m     warnings\u001b[39m.\u001b[39mwarn(\n\u001b[1;32m    327\u001b[0m         msg\u001b[39m.\u001b[39mformat(arguments\u001b[39m=\u001b[39m_format_argument_list(allow_args)),\n\u001b[1;32m    328\u001b[0m         \u001b[39mFutureWarning\u001b[39;00m,\n\u001b[1;32m    329\u001b[0m         stacklevel\u001b[39m=\u001b[39mfind_stack_level(),\n\u001b[1;32m    330\u001b[0m     )\n\u001b[0;32m--> 331\u001b[0m \u001b[39mreturn\u001b[39;00m func(\u001b[39m*\u001b[39;49margs, \u001b[39m*\u001b[39;49m\u001b[39m*\u001b[39;49mkwargs)\n",
      "File \u001b[0;32m~/miniconda/envs/tensorflow/lib/python3.8/site-packages/pandas/io/parsers/readers.py:950\u001b[0m, in \u001b[0;36mread_csv\u001b[0;34m(filepath_or_buffer, sep, delimiter, header, names, index_col, usecols, squeeze, prefix, mangle_dupe_cols, dtype, engine, converters, true_values, false_values, skipinitialspace, skiprows, skipfooter, nrows, na_values, keep_default_na, na_filter, verbose, skip_blank_lines, parse_dates, infer_datetime_format, keep_date_col, date_parser, dayfirst, cache_dates, iterator, chunksize, compression, thousands, decimal, lineterminator, quotechar, quoting, doublequote, escapechar, comment, encoding, encoding_errors, dialect, error_bad_lines, warn_bad_lines, on_bad_lines, delim_whitespace, low_memory, memory_map, float_precision, storage_options)\u001b[0m\n\u001b[1;32m    935\u001b[0m kwds_defaults \u001b[39m=\u001b[39m _refine_defaults_read(\n\u001b[1;32m    936\u001b[0m     dialect,\n\u001b[1;32m    937\u001b[0m     delimiter,\n\u001b[0;32m   (...)\u001b[0m\n\u001b[1;32m    946\u001b[0m     defaults\u001b[39m=\u001b[39m{\u001b[39m\"\u001b[39m\u001b[39mdelimiter\u001b[39m\u001b[39m\"\u001b[39m: \u001b[39m\"\u001b[39m\u001b[39m,\u001b[39m\u001b[39m\"\u001b[39m},\n\u001b[1;32m    947\u001b[0m )\n\u001b[1;32m    948\u001b[0m kwds\u001b[39m.\u001b[39mupdate(kwds_defaults)\n\u001b[0;32m--> 950\u001b[0m \u001b[39mreturn\u001b[39;00m _read(filepath_or_buffer, kwds)\n",
      "File \u001b[0;32m~/miniconda/envs/tensorflow/lib/python3.8/site-packages/pandas/io/parsers/readers.py:605\u001b[0m, in \u001b[0;36m_read\u001b[0;34m(filepath_or_buffer, kwds)\u001b[0m\n\u001b[1;32m    602\u001b[0m _validate_names(kwds\u001b[39m.\u001b[39mget(\u001b[39m\"\u001b[39m\u001b[39mnames\u001b[39m\u001b[39m\"\u001b[39m, \u001b[39mNone\u001b[39;00m))\n\u001b[1;32m    604\u001b[0m \u001b[39m# Create the parser.\u001b[39;00m\n\u001b[0;32m--> 605\u001b[0m parser \u001b[39m=\u001b[39m TextFileReader(filepath_or_buffer, \u001b[39m*\u001b[39;49m\u001b[39m*\u001b[39;49mkwds)\n\u001b[1;32m    607\u001b[0m \u001b[39mif\u001b[39;00m chunksize \u001b[39mor\u001b[39;00m iterator:\n\u001b[1;32m    608\u001b[0m     \u001b[39mreturn\u001b[39;00m parser\n",
      "File \u001b[0;32m~/miniconda/envs/tensorflow/lib/python3.8/site-packages/pandas/io/parsers/readers.py:1442\u001b[0m, in \u001b[0;36mTextFileReader.__init__\u001b[0;34m(self, f, engine, **kwds)\u001b[0m\n\u001b[1;32m   1439\u001b[0m     \u001b[39mself\u001b[39m\u001b[39m.\u001b[39moptions[\u001b[39m\"\u001b[39m\u001b[39mhas_index_names\u001b[39m\u001b[39m\"\u001b[39m] \u001b[39m=\u001b[39m kwds[\u001b[39m\"\u001b[39m\u001b[39mhas_index_names\u001b[39m\u001b[39m\"\u001b[39m]\n\u001b[1;32m   1441\u001b[0m \u001b[39mself\u001b[39m\u001b[39m.\u001b[39mhandles: IOHandles \u001b[39m|\u001b[39m \u001b[39mNone\u001b[39;00m \u001b[39m=\u001b[39m \u001b[39mNone\u001b[39;00m\n\u001b[0;32m-> 1442\u001b[0m \u001b[39mself\u001b[39m\u001b[39m.\u001b[39m_engine \u001b[39m=\u001b[39m \u001b[39mself\u001b[39;49m\u001b[39m.\u001b[39;49m_make_engine(f, \u001b[39mself\u001b[39;49m\u001b[39m.\u001b[39;49mengine)\n",
      "File \u001b[0;32m~/miniconda/envs/tensorflow/lib/python3.8/site-packages/pandas/io/parsers/readers.py:1735\u001b[0m, in \u001b[0;36mTextFileReader._make_engine\u001b[0;34m(self, f, engine)\u001b[0m\n\u001b[1;32m   1733\u001b[0m     \u001b[39mif\u001b[39;00m \u001b[39m\"\u001b[39m\u001b[39mb\u001b[39m\u001b[39m\"\u001b[39m \u001b[39mnot\u001b[39;00m \u001b[39min\u001b[39;00m mode:\n\u001b[1;32m   1734\u001b[0m         mode \u001b[39m+\u001b[39m\u001b[39m=\u001b[39m \u001b[39m\"\u001b[39m\u001b[39mb\u001b[39m\u001b[39m\"\u001b[39m\n\u001b[0;32m-> 1735\u001b[0m \u001b[39mself\u001b[39m\u001b[39m.\u001b[39mhandles \u001b[39m=\u001b[39m get_handle(\n\u001b[1;32m   1736\u001b[0m     f,\n\u001b[1;32m   1737\u001b[0m     mode,\n\u001b[1;32m   1738\u001b[0m     encoding\u001b[39m=\u001b[39;49m\u001b[39mself\u001b[39;49m\u001b[39m.\u001b[39;49moptions\u001b[39m.\u001b[39;49mget(\u001b[39m\"\u001b[39;49m\u001b[39mencoding\u001b[39;49m\u001b[39m\"\u001b[39;49m, \u001b[39mNone\u001b[39;49;00m),\n\u001b[1;32m   1739\u001b[0m     compression\u001b[39m=\u001b[39;49m\u001b[39mself\u001b[39;49m\u001b[39m.\u001b[39;49moptions\u001b[39m.\u001b[39;49mget(\u001b[39m\"\u001b[39;49m\u001b[39mcompression\u001b[39;49m\u001b[39m\"\u001b[39;49m, \u001b[39mNone\u001b[39;49;00m),\n\u001b[1;32m   1740\u001b[0m     memory_map\u001b[39m=\u001b[39;49m\u001b[39mself\u001b[39;49m\u001b[39m.\u001b[39;49moptions\u001b[39m.\u001b[39;49mget(\u001b[39m\"\u001b[39;49m\u001b[39mmemory_map\u001b[39;49m\u001b[39m\"\u001b[39;49m, \u001b[39mFalse\u001b[39;49;00m),\n\u001b[1;32m   1741\u001b[0m     is_text\u001b[39m=\u001b[39;49mis_text,\n\u001b[1;32m   1742\u001b[0m     errors\u001b[39m=\u001b[39;49m\u001b[39mself\u001b[39;49m\u001b[39m.\u001b[39;49moptions\u001b[39m.\u001b[39;49mget(\u001b[39m\"\u001b[39;49m\u001b[39mencoding_errors\u001b[39;49m\u001b[39m\"\u001b[39;49m, \u001b[39m\"\u001b[39;49m\u001b[39mstrict\u001b[39;49m\u001b[39m\"\u001b[39;49m),\n\u001b[1;32m   1743\u001b[0m     storage_options\u001b[39m=\u001b[39;49m\u001b[39mself\u001b[39;49m\u001b[39m.\u001b[39;49moptions\u001b[39m.\u001b[39;49mget(\u001b[39m\"\u001b[39;49m\u001b[39mstorage_options\u001b[39;49m\u001b[39m\"\u001b[39;49m, \u001b[39mNone\u001b[39;49;00m),\n\u001b[1;32m   1744\u001b[0m )\n\u001b[1;32m   1745\u001b[0m \u001b[39massert\u001b[39;00m \u001b[39mself\u001b[39m\u001b[39m.\u001b[39mhandles \u001b[39mis\u001b[39;00m \u001b[39mnot\u001b[39;00m \u001b[39mNone\u001b[39;00m\n\u001b[1;32m   1746\u001b[0m f \u001b[39m=\u001b[39m \u001b[39mself\u001b[39m\u001b[39m.\u001b[39mhandles\u001b[39m.\u001b[39mhandle\n",
      "File \u001b[0;32m~/miniconda/envs/tensorflow/lib/python3.8/site-packages/pandas/io/common.py:856\u001b[0m, in \u001b[0;36mget_handle\u001b[0;34m(path_or_buf, mode, encoding, compression, memory_map, is_text, errors, storage_options)\u001b[0m\n\u001b[1;32m    851\u001b[0m \u001b[39melif\u001b[39;00m \u001b[39misinstance\u001b[39m(handle, \u001b[39mstr\u001b[39m):\n\u001b[1;32m    852\u001b[0m     \u001b[39m# Check whether the filename is to be opened in binary mode.\u001b[39;00m\n\u001b[1;32m    853\u001b[0m     \u001b[39m# Binary mode does not support 'encoding' and 'newline'.\u001b[39;00m\n\u001b[1;32m    854\u001b[0m     \u001b[39mif\u001b[39;00m ioargs\u001b[39m.\u001b[39mencoding \u001b[39mand\u001b[39;00m \u001b[39m\"\u001b[39m\u001b[39mb\u001b[39m\u001b[39m\"\u001b[39m \u001b[39mnot\u001b[39;00m \u001b[39min\u001b[39;00m ioargs\u001b[39m.\u001b[39mmode:\n\u001b[1;32m    855\u001b[0m         \u001b[39m# Encoding\u001b[39;00m\n\u001b[0;32m--> 856\u001b[0m         handle \u001b[39m=\u001b[39m \u001b[39mopen\u001b[39;49m(\n\u001b[1;32m    857\u001b[0m             handle,\n\u001b[1;32m    858\u001b[0m             ioargs\u001b[39m.\u001b[39;49mmode,\n\u001b[1;32m    859\u001b[0m             encoding\u001b[39m=\u001b[39;49mioargs\u001b[39m.\u001b[39;49mencoding,\n\u001b[1;32m    860\u001b[0m             errors\u001b[39m=\u001b[39;49merrors,\n\u001b[1;32m    861\u001b[0m             newline\u001b[39m=\u001b[39;49m\u001b[39m\"\u001b[39;49m\u001b[39m\"\u001b[39;49m,\n\u001b[1;32m    862\u001b[0m         )\n\u001b[1;32m    863\u001b[0m     \u001b[39melse\u001b[39;00m:\n\u001b[1;32m    864\u001b[0m         \u001b[39m# Binary mode\u001b[39;00m\n\u001b[1;32m    865\u001b[0m         handle \u001b[39m=\u001b[39m \u001b[39mopen\u001b[39m(handle, ioargs\u001b[39m.\u001b[39mmode)\n",
      "\u001b[0;31mFileNotFoundError\u001b[0m: [Errno 2] No such file or directory: '../data/cat_and_dog/225.1_cat_and_dog_without_aug.csv'"
     ]
    }
   ],
   "source": [
    "df = pd.DataFrame(hist.history)\n",
    "df.to_csv('../data/cat_and_dog/255.1_cat_and_dog_without_aug.csv', index=False)\n",
    "df = pd.read_csv(\"../data/cat_and_dog/225.1_cat_and_dog_without_aug.csv\")\n",
    "df"
   ]
  },
  {
   "cell_type": "code",
   "execution_count": null,
   "id": "0e719e4b",
   "metadata": {},
   "outputs": [],
   "source": [
    "# 손실함수, 정확도 시각화\n",
    "fig, ax = plt.subplots(figsize=(8, 4), nrows=1, ncols=2)\n",
    "\n",
    "ax[0].plot(range(1, 21), df['loss'], label='loss')\n",
    "ax[0].plot(range(1,21), df['val_loss'], label='val_loss')\n",
    "ax[0].legend()\n",
    "ax[1].plot(range(1, 21), df['accuracy'], label='accuracy')\n",
    "ax[1].plot(range(1,21), df['val_accuracy'], label='val_accuracy')\n",
    "ax[1].legend();"
   ]
  },
  {
   "cell_type": "code",
   "execution_count": null,
   "id": "d7e6d27d",
   "metadata": {},
   "outputs": [],
   "source": []
  },
  {
   "cell_type": "markdown",
   "id": "e6bd1735",
   "metadata": {},
   "source": [
    "###  데이터 증강"
   ]
  },
  {
   "cell_type": "raw",
   "id": "eefcefad",
   "metadata": {},
   "source": [
    "ImageDataGenerator를 사용하면 다양한 데이터 증강 기법을 클래스 함수의 매개변수 속성으로 지정할 수 있다.\n",
    "horizontal_flip: 이미지를 좌우방향으로 뒤집는다.\n",
    "rotation_range: 회전 각도\n",
    "shear_range: 반시계방향 뒤집기\n",
    "zoom_range: 이미지를줌으로 확대"
   ]
  },
  {
   "cell_type": "raw",
   "id": "aeacb82a",
   "metadata": {},
   "source": [
    "이미지 파일이 저장되어 있는 폴더에서 이미지를 배치 크기 단위로 불러와 데이터 증강 기법을 적용하고 목표 크기에 맞춰서 미니 배치를 구성함.\n",
    "이것들을 모아서 반복 이터레이션 객체를 만듦"
   ]
  },
  {
   "cell_type": "code",
   "execution_count": null,
   "id": "c3e5c46b",
   "metadata": {},
   "outputs": [],
   "source": [
    "# 이미지 데이터 제너레이터 정의(  Augmentation 적용)\n",
    "image_gen_aug = ImageDataGenerator(rescale = 1/255,\n",
    "                                  horizontal_flip = True,\n",
    "                                  rotation_range=30, \n",
    "                                  shear_range=0.15,\n",
    "                                  zoom_range=0.3)\n",
    "\n",
    "# flow_from_directory 함수로 폴더에서 이미지 가져와서 제너레이터 객체로 정리\n",
    "train_gen_aug = image_gen_aug.flow_from_directory(train_dir,\n",
    "                                                 batch_size=32,\n",
    "                                                 target_size=(224, 224),\n",
    "                                                 classes=['cats', 'dogs'],\n",
    "                                                 class_mode ='binary',\n",
    "                                                 seed=2020)\n",
    "valid_gen_aug = image_gen_aug.flow_from_directory(valid_dir,\n",
    "                                                 batch_size=32,\n",
    "                                                 target_size=(224, 224),\n",
    "                                                 classes=['cats', 'dogs'],\n",
    "                                                 class_mode ='binary',\n",
    "                                                 seed=2020)"
   ]
  },
  {
   "cell_type": "code",
   "execution_count": null,
   "id": "9e2cf55b",
   "metadata": {},
   "outputs": [],
   "source": [
    "# 모델 생성\n"
   ]
  },
  {
   "cell_type": "code",
   "execution_count": null,
   "id": "d4dab20c",
   "metadata": {},
   "outputs": [],
   "source": [
    "# 모델 컴파일\n",
    "model_aug.compile(optimizer=tf.optimizers.Adam(learning_rate=0.001), \n",
    "                  loss = tf.keras.losses.BinaryCrossentropy(from_logits=False),\n",
    "                 metrics=['accuracy'])"
   ]
  },
  {
   "cell_type": "code",
   "execution_count": null,
   "id": "99309e10",
   "metadata": {},
   "outputs": [],
   "source": [
    "# 모델 훈련\n",
    "history_aug = model_aug.fit(train_gen_aug, validation_data = valid_gen_aug, epochs=40)"
   ]
  },
  {
   "cell_type": "code",
   "execution_count": null,
   "id": "09b021ee",
   "metadata": {},
   "outputs": [],
   "source": [
    "model_aug.save('255.1_cnn_catsndogs_data_aug.h5')"
   ]
  },
  {
   "cell_type": "code",
   "execution_count": null,
   "id": "5c5c8f9f",
   "metadata": {},
   "outputs": [],
   "source": [
    "import pandas as pd\n",
    "df = pd.DataFrame(history_aug.history)\n",
    "df.to_csv(\"./output/255.1_데이터증강_history.csv\", index=False)\n",
    "df = pd.read_csv(\"./output/255.1_데이터증강_history.csv\")\n",
    "df"
   ]
  },
  {
   "cell_type": "code",
   "execution_count": null,
   "id": "2af65f95",
   "metadata": {},
   "outputs": [],
   "source": [
    "# 손실함수, 정확도 그래프 그리기\n",
    "\n",
    "import matplotlib.pyplot as plt\n",
    "\n",
    "plt.figure(figsize=(5,5))\n",
    "plt.plot(range(1, 21), df['loss'], label='train_loss')\n",
    "plt.plot(range(1, 21), df['val_loss'], label='val_loss');"
   ]
  },
  {
   "cell_type": "raw",
   "id": "3005a11f",
   "metadata": {},
   "source": [
    "손실함수와 모델의 정확도를 그래프로 그려보면, 과대적합이나 과소적합이 거의 발생하지 않고 학습이 잘 진행되는 것을 알수 있음."
   ]
  },
  {
   "cell_type": "code",
   "execution_count": null,
   "id": "64421d46",
   "metadata": {},
   "outputs": [],
   "source": []
  },
  {
   "cell_type": "code",
   "execution_count": null,
   "id": "9bb16756",
   "metadata": {},
   "outputs": [],
   "source": []
  }
 ],
 "metadata": {
  "kernelspec": {
   "display_name": "tensorflow",
   "language": "python",
   "name": "python3"
  },
  "language_info": {
   "codemirror_mode": {
    "name": "ipython",
    "version": 3
   },
   "file_extension": ".py",
   "mimetype": "text/x-python",
   "name": "python",
   "nbconvert_exporter": "python",
   "pygments_lexer": "ipython3",
   "version": "3.8.16"
  },
  "vscode": {
   "interpreter": {
    "hash": "04fd9c361be45f4292b225cf55355a67dfa13b4c14ac86b9ffe9743e2c71714e"
   }
  }
 },
 "nbformat": 4,
 "nbformat_minor": 5
}
