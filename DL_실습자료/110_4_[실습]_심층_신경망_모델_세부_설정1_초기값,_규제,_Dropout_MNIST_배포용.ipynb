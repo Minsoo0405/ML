{
  "cells": [
    {
      "cell_type": "markdown",
      "metadata": {
        "id": "NBfAcSzn3y72"
      },
      "source": [
        "# 심층 신경망 - 모델 세부 설정-초기값, 규제, Dropout-MNIST"
      ]
    },
    {
      "cell_type": "code",
      "execution_count": 11,
      "metadata": {
        "colab": {
          "base_uri": "https://localhost:8080/"
        },
        "id": "dXaEMD0jt0d3",
        "outputId": "dbd63046-a422-4a15-f031-dbef2c3d6059"
      },
      "outputs": [
        {
          "output_type": "stream",
          "name": "stdout",
          "text": [
            "train set:  (60000, 28, 28) (60000,)\n",
            "test  set:  (10000, 28, 28) (10000,)\n"
          ]
        }
      ],
      "source": [
        "import numpy as np\n",
        "import pandas as pd\n",
        "import tensorflow as tf\n",
        "from tensorflow import keras\n",
        "\n",
        "mnist = keras.datasets.mnist\n",
        "\n",
        "# 데이터셋을 로드\n",
        "(x_train, y_train), (x_test, y_test) = mnist.load_data()\n",
        "\n",
        "# 로드된 데이터셋 확인\n",
        "print('train set: ', x_train.shape, y_train.shape)\n",
        "print('test  set: ', x_test.shape, y_test.shape)\n",
        "\n",
        "# 데이터 정규화\n"
      ]
    },
    {
      "cell_type": "markdown",
      "metadata": {
        "id": "YImkI8kKzypT"
      },
      "source": [
        "## 초기값 설정"
      ]
    },
    {
      "cell_type": "code",
      "execution_count": 3,
      "metadata": {
        "colab": {
          "base_uri": "https://localhost:8080/"
        },
        "id": "16IWTVpMvAlR",
        "outputId": "acfc1d14-5eb0-455d-89b1-4ceaa7058fdf"
      },
      "outputs": [
        {
          "output_type": "execute_result",
          "data": {
            "text/plain": [
              "{'name': 'dense',\n",
              " 'trainable': True,\n",
              " 'dtype': 'float32',\n",
              " 'units': 256,\n",
              " 'activation': 'relu',\n",
              " 'use_bias': True,\n",
              " 'kernel_initializer': {'class_name': 'GlorotUniform',\n",
              "  'config': {'seed': None}},\n",
              " 'bias_initializer': {'class_name': 'Zeros', 'config': {}},\n",
              " 'kernel_regularizer': None,\n",
              " 'bias_regularizer': None,\n",
              " 'activity_regularizer': None,\n",
              " 'kernel_constraint': None,\n",
              " 'bias_constraint': None}"
            ]
          },
          "metadata": {},
          "execution_count": 3
        }
      ],
      "source": [
        "from keras.layers import Dense\n",
        "dense = Dense(256, activation='relu')\n",
        "dense.get_config()"
      ]
    },
    {
      "cell_type": "code",
      "execution_count": 6,
      "metadata": {
        "colab": {
          "base_uri": "https://localhost:8080/"
        },
        "id": "kSyO19Pzuh2C",
        "outputId": "d1f06bfe-4adc-426c-f5e4-e614409a8501"
      },
      "outputs": [
        {
          "output_type": "execute_result",
          "data": {
            "text/plain": [
              "{'name': 'dense_3',\n",
              " 'trainable': True,\n",
              " 'dtype': 'float32',\n",
              " 'units': 256,\n",
              " 'activation': 'relu',\n",
              " 'use_bias': True,\n",
              " 'kernel_initializer': {'class_name': 'HeNormal', 'config': {'seed': None}},\n",
              " 'bias_initializer': {'class_name': 'Zeros', 'config': {}},\n",
              " 'kernel_regularizer': None,\n",
              " 'bias_regularizer': None,\n",
              " 'activity_regularizer': None,\n",
              " 'kernel_constraint': None,\n",
              " 'bias_constraint': None}"
            ]
          },
          "metadata": {},
          "execution_count": 6
        }
      ],
      "source": [
        "# he normal 초기화\n",
        "dense = Dense(256, kernel_initializer='he_normal', activation='relu')\n",
        "dense.get_config()"
      ]
    },
    {
      "cell_type": "code",
      "execution_count": null,
      "metadata": {
        "id": "NlEK1gXsxHly"
      },
      "outputs": [],
      "source": [
        "# 클래스 인스턴스 초기화\n"
      ]
    },
    {
      "cell_type": "code",
      "execution_count": null,
      "metadata": {
        "id": "Comy_ypP3y75"
      },
      "outputs": [],
      "source": [
        "print(\"https://www.tensorflow.org/api_docs/python/tf/keras/initializers\")"
      ]
    },
    {
      "cell_type": "markdown",
      "metadata": {
        "id": "RLvhyVBuzwkp"
      },
      "source": [
        "## 규제"
      ]
    },
    {
      "cell_type": "code",
      "execution_count": 8,
      "metadata": {
        "colab": {
          "base_uri": "https://localhost:8080/"
        },
        "id": "9bX0zFe40Cdf",
        "outputId": "debcb436-897f-486a-e2a3-d002c419f1d5"
      },
      "outputs": [
        {
          "output_type": "execute_result",
          "data": {
            "text/plain": [
              "{'name': 'dense_3',\n",
              " 'trainable': True,\n",
              " 'dtype': 'float32',\n",
              " 'units': 256,\n",
              " 'activation': 'relu',\n",
              " 'use_bias': True,\n",
              " 'kernel_initializer': {'class_name': 'HeNormal', 'config': {'seed': None}},\n",
              " 'bias_initializer': {'class_name': 'Zeros', 'config': {}},\n",
              " 'kernel_regularizer': None,\n",
              " 'bias_regularizer': None,\n",
              " 'activity_regularizer': None,\n",
              " 'kernel_constraint': None,\n",
              " 'bias_constraint': None}"
            ]
          },
          "metadata": {},
          "execution_count": 8
        }
      ],
      "source": [
        "# 기본 값\n",
        "dense.get_config()"
      ]
    },
    {
      "cell_type": "code",
      "execution_count": 10,
      "metadata": {
        "colab": {
          "base_uri": "https://localhost:8080/"
        },
        "id": "nBMmB6CJzvnk",
        "outputId": "b9198013-ef72-4261-ad40-591b0235df87"
      },
      "outputs": [
        {
          "output_type": "stream",
          "name": "stdout",
          "text": [
            "{'name': 'dense_5', 'trainable': True, 'dtype': 'float32', 'units': 256, 'activation': 'relu', 'use_bias': True, 'kernel_initializer': {'class_name': 'HeNormal', 'config': {'seed': None}}, 'bias_initializer': {'class_name': 'Zeros', 'config': {}}, 'kernel_regularizer': {'class_name': 'L1', 'config': {'l1': 0.009999999776482582}}, 'bias_regularizer': None, 'activity_regularizer': None, 'kernel_constraint': None, 'bias_constraint': None}\n"
          ]
        },
        {
          "output_type": "execute_result",
          "data": {
            "text/plain": [
              "{'name': 'dense_6',\n",
              " 'trainable': True,\n",
              " 'dtype': 'float32',\n",
              " 'units': 256,\n",
              " 'activation': 'relu',\n",
              " 'use_bias': True,\n",
              " 'kernel_initializer': {'class_name': 'GlorotUniform',\n",
              "  'config': {'seed': None}},\n",
              " 'bias_initializer': {'class_name': 'Zeros', 'config': {}},\n",
              " 'kernel_regularizer': {'class_name': 'L1',\n",
              "  'config': {'l1': 0.10000000149011612}},\n",
              " 'bias_regularizer': None,\n",
              " 'activity_regularizer': None,\n",
              " 'kernel_constraint': None,\n",
              " 'bias_constraint': None}"
            ]
          },
          "metadata": {},
          "execution_count": 10
        }
      ],
      "source": [
        "from keras import regularizers\n",
        "# l1 규제 적용\n",
        "dense = Dense(256, kernel_initializer='he_normal', kernel_regularizer='l1', activation='relu')\n",
        "print(dense.get_config())\n",
        "\n",
        "# 클래스 인스턴스 적용, alpha 값 변경\n",
        "regularizer = tf.keras.regularizers.l1(l1=0.1)\n",
        "dense = Dense(256, kernel_regularizer=regularizer, activation='relu')\n",
        "dense.get_config()"
      ]
    },
    {
      "cell_type": "markdown",
      "metadata": {
        "id": "yGLMFgK220bh"
      },
      "source": [
        "## 드랍아웃"
      ]
    },
    {
      "cell_type": "code",
      "execution_count": null,
      "metadata": {
        "id": "_2nE5yoI2rIa"
      },
      "outputs": [],
      "source": [
        "# Dropout 25% 비율 적용 (25%의 노드가 삭제)\n",
        "from keras.layers import Dropout\n",
        "\n"
      ]
    },
    {
      "cell_type": "code",
      "execution_count": 15,
      "metadata": {
        "colab": {
          "base_uri": "https://localhost:8080/"
        },
        "id": "cWti6WiC3y76",
        "outputId": "39bda651-7217-4be3-cd0a-65fc35110936"
      },
      "outputs": [
        {
          "output_type": "stream",
          "name": "stdout",
          "text": [
            "tf.Tensor(\n",
            "[[ 1.4285715  2.857143   0.         0.         7.1428576]\n",
            " [ 0.        10.        11.428572  12.857143  14.285715 ]], shape=(2, 5), dtype=float32)\n"
          ]
        }
      ],
      "source": [
        "# DropOut 예제\n",
        "# dropout ratio가 30%는 완전히 30%가 아니라 될 확률이므로 항상 정확하게 dropout되지 않는다\n",
        "data = np.arange(1,11).reshape(2,5).astype(np.float32)\n",
        "layer = keras.layers.Dropout(0.3, input_shape=(2, ))\n",
        "output = layer(data, training=True)\n",
        "print(output)"
      ]
    },
    {
      "cell_type": "markdown",
      "metadata": {
        "id": "TSPUXVR2J11X"
      },
      "source": [
        "##  배치 정규화"
      ]
    },
    {
      "cell_type": "code",
      "execution_count": 18,
      "metadata": {
        "colab": {
          "base_uri": "https://localhost:8080/"
        },
        "id": "wn4CWL_K3tkc",
        "outputId": "ff08eb5b-761a-402b-b035-8427a84f25de"
      },
      "outputs": [
        {
          "output_type": "stream",
          "name": "stdout",
          "text": [
            "Model: \"sequential_2\"\n",
            "_________________________________________________________________\n",
            " Layer (type)                Output Shape              Param #   \n",
            "=================================================================\n",
            " flatten_2 (Flatten)         (None, 784)               0         \n",
            "                                                                 \n",
            " dense_13 (Dense)            (None, 64)                50240     \n",
            "                                                                 \n",
            " dense_14 (Dense)            (None, 32)                2080      \n",
            "                                                                 \n",
            " dense_15 (Dense)            (None, 10)                330       \n",
            "                                                                 \n",
            "=================================================================\n",
            "Total params: 52,650\n",
            "Trainable params: 52,650\n",
            "Non-trainable params: 0\n",
            "_________________________________________________________________\n"
          ]
        }
      ],
      "source": [
        "# Model A: Dense + ReLU\n",
        "model_a = tf.keras.Sequential([\n",
        "    tf.keras.layers.Flatten(input_shape=(28,28)),\n",
        "    tf.keras.layers.Dense(64, activation='relu'),\n",
        "    tf.keras.layers.Dense(32, activation='relu'),\n",
        "    tf.keras.layers.Dense(10, activation='softmax')\n",
        "])\n",
        "\n",
        "model_a.summary()"
      ]
    },
    {
      "cell_type": "code",
      "execution_count": 19,
      "metadata": {
        "colab": {
          "base_uri": "https://localhost:8080/"
        },
        "id": "Sjh59kkOuDhA",
        "outputId": "8d8d31ae-55c0-4bbd-8c5c-64be40b2d5e1"
      },
      "outputs": [
        {
          "output_type": "stream",
          "name": "stdout",
          "text": [
            "Model: \"sequential_3\"\n",
            "_________________________________________________________________\n",
            " Layer (type)                Output Shape              Param #   \n",
            "=================================================================\n",
            " flatten_3 (Flatten)         (None, 784)               0         \n",
            "                                                                 \n",
            " dense_16 (Dense)            (None, 64)                50240     \n",
            "                                                                 \n",
            " batch_normalization_2 (Batc  (None, 64)               256       \n",
            " hNormalization)                                                 \n",
            "                                                                 \n",
            " activation_2 (Activation)   (None, 64)                0         \n",
            "                                                                 \n",
            " dense_17 (Dense)            (None, 32)                2080      \n",
            "                                                                 \n",
            " batch_normalization_3 (Batc  (None, 32)               128       \n",
            " hNormalization)                                                 \n",
            "                                                                 \n",
            " activation_3 (Activation)   (None, 32)                0         \n",
            "                                                                 \n",
            " dense_18 (Dense)            (None, 10)                330       \n",
            "                                                                 \n",
            "=================================================================\n",
            "Total params: 53,034\n",
            "Trainable params: 52,842\n",
            "Non-trainable params: 192\n",
            "_________________________________________________________________\n"
          ]
        }
      ],
      "source": [
        "#from keras.api._v2.keras.layers import BatchNormalization\n",
        "\n",
        "# Model B: Dense + BatchNorm + ReLU\n",
        "model_b = tf.keras.Sequential([\n",
        "    tf.keras.layers.Flatten(input_shape=(28,28)),\n",
        "\n",
        "    tf.keras.layers.Dense(64),\n",
        "    tf.keras.layers.BatchNormalization(),\n",
        "    tf.keras.layers.Activation('relu'),\n",
        "\n",
        "    tf.keras.layers.Dense(32),\n",
        "    tf.keras.layers.BatchNormalization(),\n",
        "    tf.keras.layers.Activation('relu'),\n",
        "\n",
        "    tf.keras.layers.Dense(10, activation='softmax')\n",
        "])\n",
        "\n",
        "model_b.summary()"
      ]
    },
    {
      "cell_type": "markdown",
      "metadata": {
        "id": "rkbav_uwJ6Tq"
      },
      "source": [
        "## 활성화 함수: relu 이외에 Keras가 지원하는 다른 활성화 함수 사용 가능"
      ]
    },
    {
      "cell_type": "code",
      "execution_count": null,
      "metadata": {
        "id": "ioLNEQNg3T8u"
      },
      "outputs": [],
      "source": [
        "# LeakyReLU 기본 설정\n",
        "\n",
        "\n",
        "# LeakyReLU, alpha=0.2 로 변경\n"
      ]
    },
    {
      "cell_type": "code",
      "execution_count": null,
      "metadata": {
        "id": "CHsonIffUsL2"
      },
      "outputs": [],
      "source": [
        "# Model C: Dense + BatchNorm + LeakyReLU(0.2)\n",
        "\n",
        "# 모델 요약\n"
      ]
    },
    {
      "cell_type": "code",
      "execution_count": null,
      "metadata": {
        "id": "QO4hIMAn0JiS"
      },
      "outputs": [],
      "source": [
        "\n",
        "# Model A: Dense + ReLU\n",
        "\n",
        "# Model B: Dense + BatchNorm + ReLU\n",
        "\n",
        "# Model C: Dense + BatchNorm + LeakyReLU(0.2)\n"
      ]
    },
    {
      "cell_type": "code",
      "execution_count": 20,
      "metadata": {
        "colab": {
          "base_uri": "https://localhost:8080/"
        },
        "id": "_mkn51mV0koD",
        "outputId": "a2242dc1-d7bd-49e5-f2de-ea7199197a58"
      },
      "outputs": [
        {
          "output_type": "stream",
          "name": "stdout",
          "text": [
            "Epoch 1/10\n",
            "1875/1875 [==============================] - 8s 4ms/step - loss: 1.5778 - accuracy: 0.8028 - val_loss: 0.4862 - val_accuracy: 0.8801\n",
            "Epoch 2/10\n",
            "1875/1875 [==============================] - 6s 3ms/step - loss: 0.3787 - accuracy: 0.9016 - val_loss: 0.3671 - val_accuracy: 0.9125\n",
            "Epoch 3/10\n",
            "1875/1875 [==============================] - 6s 3ms/step - loss: 0.3080 - accuracy: 0.9194 - val_loss: 0.3193 - val_accuracy: 0.9185\n",
            "Epoch 4/10\n",
            "1875/1875 [==============================] - 6s 3ms/step - loss: 0.2621 - accuracy: 0.9289 - val_loss: 0.3241 - val_accuracy: 0.9214\n",
            "Epoch 5/10\n",
            "1875/1875 [==============================] - 7s 4ms/step - loss: 0.2310 - accuracy: 0.9359 - val_loss: 0.2735 - val_accuracy: 0.9331\n",
            "Epoch 6/10\n",
            "1875/1875 [==============================] - 6s 3ms/step - loss: 0.2093 - accuracy: 0.9434 - val_loss: 0.2318 - val_accuracy: 0.9400\n",
            "Epoch 7/10\n",
            "1875/1875 [==============================] - 7s 4ms/step - loss: 0.1841 - accuracy: 0.9487 - val_loss: 0.2165 - val_accuracy: 0.9431\n",
            "Epoch 8/10\n",
            "1875/1875 [==============================] - 6s 3ms/step - loss: 0.1719 - accuracy: 0.9517 - val_loss: 0.2043 - val_accuracy: 0.9478\n",
            "Epoch 9/10\n",
            "1875/1875 [==============================] - 7s 4ms/step - loss: 0.1628 - accuracy: 0.9535 - val_loss: 0.1957 - val_accuracy: 0.9491\n",
            "Epoch 10/10\n",
            "1875/1875 [==============================] - 6s 3ms/step - loss: 0.1438 - accuracy: 0.9580 - val_loss: 0.2296 - val_accuracy: 0.9457\n",
            "Epoch 1/10\n",
            "1875/1875 [==============================] - 8s 4ms/step - loss: 0.3258 - accuracy: 0.9097 - val_loss: 0.1326 - val_accuracy: 0.9590\n",
            "Epoch 2/10\n",
            "1875/1875 [==============================] - 8s 4ms/step - loss: 0.1434 - accuracy: 0.9565 - val_loss: 0.0948 - val_accuracy: 0.9697\n",
            "Epoch 3/10\n",
            "1875/1875 [==============================] - 7s 4ms/step - loss: 0.1146 - accuracy: 0.9653 - val_loss: 0.0943 - val_accuracy: 0.9708\n",
            "Epoch 4/10\n",
            "1875/1875 [==============================] - 7s 4ms/step - loss: 0.0973 - accuracy: 0.9694 - val_loss: 0.0878 - val_accuracy: 0.9727\n",
            "Epoch 5/10\n",
            "1875/1875 [==============================] - 7s 4ms/step - loss: 0.0841 - accuracy: 0.9733 - val_loss: 0.0853 - val_accuracy: 0.9741\n",
            "Epoch 6/10\n",
            "1875/1875 [==============================] - 7s 4ms/step - loss: 0.0769 - accuracy: 0.9758 - val_loss: 0.0791 - val_accuracy: 0.9760\n",
            "Epoch 7/10\n",
            "1875/1875 [==============================] - 9s 5ms/step - loss: 0.0675 - accuracy: 0.9782 - val_loss: 0.0854 - val_accuracy: 0.9762\n",
            "Epoch 8/10\n",
            "1875/1875 [==============================] - 6s 3ms/step - loss: 0.0625 - accuracy: 0.9799 - val_loss: 0.0871 - val_accuracy: 0.9747\n",
            "Epoch 9/10\n",
            "1875/1875 [==============================] - 8s 4ms/step - loss: 0.0589 - accuracy: 0.9806 - val_loss: 0.0853 - val_accuracy: 0.9770\n",
            "Epoch 10/10\n",
            "1875/1875 [==============================] - 7s 3ms/step - loss: 0.0561 - accuracy: 0.9819 - val_loss: 0.0859 - val_accuracy: 0.9752\n"
          ]
        }
      ],
      "source": [
        "# 컴파일\n",
        "model_a.compile(loss='sparse_categorical_crossentropy', metrics='accuracy', \\\n",
        "optimizer='adam')\n",
        "\n",
        "model_b.compile(loss='sparse_categorical_crossentropy', metrics='accuracy', \\\n",
        "optimizer='adam')\n",
        "\n",
        "# 학습\n",
        "hist_a = model_a.fit(x_train, y_train, validation_data=(x_test,y_test), epochs=10)\n",
        "hist_b = model_b.fit(x_train, y_train, validation_data=(x_test,y_test), epochs=10)\n",
        "\n",
        "# 시각화\n"
      ]
    },
    {
      "cell_type": "code",
      "source": [
        "print(pd.DataFrame(hist_a.history))\n",
        "print('*'* 50)\n",
        "print(pd.DataFrame(hist_b.history))"
      ],
      "metadata": {
        "colab": {
          "base_uri": "https://localhost:8080/"
        },
        "id": "G1oI4Nm9ANH2",
        "outputId": "ec4bcd27-f5b9-4ea2-9acc-286094738141"
      },
      "execution_count": 22,
      "outputs": [
        {
          "output_type": "stream",
          "name": "stdout",
          "text": [
            "       loss  accuracy  val_loss  val_accuracy\n",
            "0  1.577761  0.802767  0.486237        0.8801\n",
            "1  0.378698  0.901633  0.367064        0.9125\n",
            "2  0.308017  0.919400  0.319347        0.9185\n",
            "3  0.262124  0.928867  0.324143        0.9214\n",
            "4  0.231041  0.935867  0.273503        0.9331\n",
            "5  0.209256  0.943417  0.231800        0.9400\n",
            "6  0.184061  0.948733  0.216521        0.9431\n",
            "7  0.171949  0.951667  0.204336        0.9478\n",
            "8  0.162758  0.953500  0.195664        0.9491\n",
            "9  0.143784  0.958000  0.229600        0.9457\n",
            "**************************************************\n",
            "       loss  accuracy  val_loss  val_accuracy\n",
            "0  0.325765  0.909733  0.132607        0.9590\n",
            "1  0.143447  0.956533  0.094757        0.9697\n",
            "2  0.114578  0.965300  0.094262        0.9708\n",
            "3  0.097273  0.969400  0.087839        0.9727\n",
            "4  0.084079  0.973300  0.085263        0.9741\n",
            "5  0.076882  0.975767  0.079066        0.9760\n",
            "6  0.067508  0.978200  0.085356        0.9762\n",
            "7  0.062501  0.979867  0.087091        0.9747\n",
            "8  0.058888  0.980567  0.085288        0.9770\n",
            "9  0.056052  0.981850  0.085908        0.9752\n"
          ]
        }
      ]
    }
  ],
  "metadata": {
    "colab": {
      "provenance": []
    },
    "kernelspec": {
      "display_name": "Python 3",
      "language": "python",
      "name": "python3"
    },
    "language_info": {
      "codemirror_mode": {
        "name": "ipython",
        "version": 3
      },
      "file_extension": ".py",
      "mimetype": "text/x-python",
      "name": "python",
      "nbconvert_exporter": "python",
      "pygments_lexer": "ipython3",
      "version": "3.8.8"
    }
  },
  "nbformat": 4,
  "nbformat_minor": 0
}