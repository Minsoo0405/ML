{
 "cells": [
  {
   "cell_type": "raw",
   "metadata": {},
   "source": [
    "출처: \n",
    "실습 1) 생능 출판사 \"으뜸 머신러닝\"(1판) 교재의 소스 코드\n",
    "10장 순환신경망\n",
    "실습 2) 데이터진흥원, 우호진, sin(X)¶\n"
   ]
  },
  {
   "cell_type": "code",
   "execution_count": 13,
   "metadata": {},
   "outputs": [],
   "source": [
    "import numpy as numpy\n",
    "import pandas as pd\n",
    "import matplotlib.pyplot as plt"
   ]
  },
  {
   "cell_type": "markdown",
   "metadata": {},
   "source": [
    "# [실습1] Sequence 숫자 데이터 예측하기"
   ]
  },
  {
   "cell_type": "markdown",
   "metadata": {},
   "source": [
    "### 데이터 준비"
   ]
  },
  {
   "cell_type": "code",
   "execution_count": 4,
   "metadata": {},
   "outputs": [],
   "source": [
    "import numpy as np\n",
    "\n",
    "# 0.0, 0.1, .. 증가하는 시퀀스 데이터를 생성함\n",
    "# seq_len 길이를 가지는 시퀀스 데이터를 size 갯수만큼 생성한다\n",
    "def sequence_gen(size, seq_len):\n",
    "    # 비어있는 넘파이 배열을 생성한다.\n",
    "    seq_X = np.empty(shape=(size, seq_len, 1))\n",
    "    Y = np.empty(shape=(size,))\n",
    "\n",
    "    for i in range(size):\n",
    "        # [0, 0.1, 0.2, .. ]같은 시퀀스와 Y 값을 size 갯수만큼 생성\n",
    "        c = np.linspace(i/10, (i+seq_len-1)/10, seq_len)\n",
    "        seq_X[i] = c[:, np.newaxis]   # 새로운 축을 하나 더 추가함\n",
    "        Y[i] = (i+seq_len) / 10       # 목표값을 생성함\n",
    "\n",
    "    return seq_X, Y\n",
    "\n",
    "# \n",
    "n, seq_len = 8, 16\n",
    "train_seq_X, train_Y = sequence_gen(n, seq_len)"
   ]
  },
  {
   "cell_type": "code",
   "execution_count": 5,
   "metadata": {},
   "outputs": [
    {
     "name": "stdout",
     "output_type": "stream",
     "text": [
      "훈련용 데이터\n",
      "[0.  0.1 0.2 0.3 0.4 0.5 0.6 0.7 0.8 0.9 1.  1.1 1.2 1.3 1.4 1.5] 1.6\n",
      "[0.1 0.2 0.3 0.4 0.5 0.6 0.7 0.8 0.9 1.  1.1 1.2 1.3 1.4 1.5 1.6] 1.7\n",
      "[0.2 0.3 0.4 0.5 0.6 0.7 0.8 0.9 1.  1.1 1.2 1.3 1.4 1.5 1.6 1.7] 1.8\n",
      "[0.3 0.4 0.5 0.6 0.7 0.8 0.9 1.  1.1 1.2 1.3 1.4 1.5 1.6 1.7 1.8] 1.9\n",
      "[0.4 0.5 0.6 0.7 0.8 0.9 1.  1.1 1.2 1.3 1.4 1.5 1.6 1.7 1.8 1.9] 2.0\n",
      "[0.5 0.6 0.7 0.8 0.9 1.  1.1 1.2 1.3 1.4 1.5 1.6 1.7 1.8 1.9 2. ] 2.1\n",
      "[0.6 0.7 0.8 0.9 1.  1.1 1.2 1.3 1.4 1.5 1.6 1.7 1.8 1.9 2.  2.1] 2.2\n",
      "[0.7 0.8 0.9 1.  1.1 1.2 1.3 1.4 1.5 1.6 1.7 1.8 1.9 2.  2.1 2.2] 2.3\n",
      "검증용 데이터\n",
      "[1.  1.1 1.2 1.3 1.4 1.5 1.6 1.7 1.8 1.9 2.  2.1 2.2 2.3 2.4 2.5] 2.6\n",
      "[1.1 1.2 1.3 1.4 1.5 1.6 1.7 1.8 1.9 2.  2.1 2.2 2.3 2.4 2.5 2.6] 2.7\n",
      "[1.2 1.3 1.4 1.5 1.6 1.7 1.8 1.9 2.  2.1 2.2 2.3 2.4 2.5 2.6 2.7] 2.8\n",
      "[1.3 1.4 1.5 1.6 1.7 1.8 1.9 2.  2.1 2.2 2.3 2.4 2.5 2.6 2.7 2.8] 2.9\n"
     ]
    }
   ],
   "source": [
    "print('훈련용 데이터')\n",
    "for i in range(n):\n",
    "    print(train_seq_X[i].flatten(), train_Y[i])\n",
    "\n",
    "half_n, offset = int(n/2), 1.0\n",
    "test_seq_X = train_seq_X[:half_n] + offset\n",
    "test_Y = train_Y[:half_n] + offset\n",
    "\n",
    "print('검증용 데이터')\n",
    "for i in range(half_n):\n",
    "    print(test_seq_X[i].flatten(), test_Y[i])"
   ]
  },
  {
   "cell_type": "markdown",
   "metadata": {},
   "source": [
    "### simple RNN 모델 구현"
   ]
  },
  {
   "cell_type": "code",
   "execution_count": 6,
   "metadata": {},
   "outputs": [
    {
     "name": "stderr",
     "output_type": "stream",
     "text": [
      "2023-02-27 15:28:39.616403: I tensorflow/core/common_runtime/pluggable_device/pluggable_device_factory.cc:305] Could not identify NUMA node of platform GPU ID 0, defaulting to 0. Your kernel may not have been built with NUMA support.\n",
      "2023-02-27 15:28:39.617818: I tensorflow/core/common_runtime/pluggable_device/pluggable_device_factory.cc:271] Created TensorFlow device (/job:localhost/replica:0/task:0/device:GPU:0 with 0 MB memory) -> physical PluggableDevice (device: 0, name: METAL, pci bus id: <undefined>)\n"
     ]
    },
    {
     "name": "stdout",
     "output_type": "stream",
     "text": [
      "Metal device set to: Apple M1\n",
      "\n",
      "systemMemory: 8.00 GB\n",
      "maxCacheSize: 2.67 GB\n",
      "\n"
     ]
    }
   ],
   "source": [
    "import tensorflow as tf\n",
    "from tensorflow.keras.models import Sequential\n",
    "from tensorflow.keras.layers import SimpleRNN, Dense\n",
    "model = Sequential([\n",
    "    SimpleRNN(units=256, return_sequences=False, input_shape=(16, 1)),\n",
    "    Dense(1)\n",
    "])\n",
    "model.compile(loss='mse', metrics='mae', optimizer='adam')"
   ]
  },
  {
   "cell_type": "code",
   "execution_count": 7,
   "metadata": {},
   "outputs": [
    {
     "data": {
      "image/png": "[encoded data removed]",
      "text/plain": [
       "<IPython.core.display.Image object>"
      ]
     },
     "execution_count": 7,
     "metadata": {},
     "output_type": "execute_result"
    }
   ],
   "source": [
    "from tensorflow.keras.utils import plot_model\n",
    "\n",
    "plot_model(model, show_shapes=True, show_layer_names=True)"
   ]
  },
  {
   "cell_type": "code",
   "execution_count": 10,
   "metadata": {},
   "outputs": [
    {
     "name": "stdout",
     "output_type": "stream",
     "text": [
      "Epoch 1/100\n"
     ]
    },
    {
     "name": "stderr",
     "output_type": "stream",
     "text": [
      "2023-02-27 15:29:42.210026: W tensorflow/core/platform/profile_utils/cpu_utils.cc:128] Failed to get CPU frequency: 0 Hz\n",
      "2023-02-27 15:29:42.580878: I tensorflow/core/grappler/optimizers/custom_graph_optimizer_registry.cc:113] Plugin optimizer for device_type GPU is enabled.\n"
     ]
    },
    {
     "name": "stdout",
     "output_type": "stream",
     "text": [
      "1/1 - 1s - loss: 3.3833 - mae: 1.8235 - 1s/epoch - 1s/step\n",
      "Epoch 2/100\n",
      "1/1 - 0s - loss: 0.0431 - mae: 0.1738 - 103ms/epoch - 103ms/step\n",
      "Epoch 3/100\n",
      "1/1 - 0s - loss: 0.9176 - mae: 0.9532 - 91ms/epoch - 91ms/step\n",
      "Epoch 4/100\n",
      "1/1 - 0s - loss: 0.3319 - mae: 0.5683 - 120ms/epoch - 120ms/step\n",
      "Epoch 5/100\n",
      "1/1 - 0s - loss: 0.0698 - mae: 0.2382 - 85ms/epoch - 85ms/step\n",
      "Epoch 6/100\n",
      "1/1 - 0s - loss: 0.4375 - mae: 0.6503 - 86ms/epoch - 86ms/step\n",
      "Epoch 7/100\n",
      "1/1 - 0s - loss: 0.2654 - mae: 0.5045 - 84ms/epoch - 84ms/step\n",
      "Epoch 8/100\n",
      "1/1 - 0s - loss: 0.0343 - mae: 0.1644 - 85ms/epoch - 85ms/step\n",
      "Epoch 9/100\n",
      "1/1 - 0s - loss: 0.0324 - mae: 0.1642 - 85ms/epoch - 85ms/step\n",
      "Epoch 10/100\n",
      "1/1 - 0s - loss: 0.1353 - mae: 0.3614 - 86ms/epoch - 86ms/step\n",
      "Epoch 11/100\n",
      "1/1 - 0s - loss: 0.1530 - mae: 0.3853 - 95ms/epoch - 95ms/step\n",
      "Epoch 12/100\n",
      "1/1 - 0s - loss: 0.0782 - mae: 0.2707 - 95ms/epoch - 95ms/step\n",
      "Epoch 13/100\n",
      "1/1 - 0s - loss: 0.0126 - mae: 0.0982 - 90ms/epoch - 90ms/step\n",
      "Epoch 14/100\n",
      "1/1 - 0s - loss: 0.0185 - mae: 0.1084 - 87ms/epoch - 87ms/step\n",
      "Epoch 15/100\n",
      "1/1 - 0s - loss: 0.0656 - mae: 0.2414 - 94ms/epoch - 94ms/step\n",
      "Epoch 16/100\n",
      "1/1 - 0s - loss: 0.0852 - mae: 0.2798 - 89ms/epoch - 89ms/step\n",
      "Epoch 17/100\n",
      "1/1 - 0s - loss: 0.0585 - mae: 0.2300 - 84ms/epoch - 84ms/step\n",
      "Epoch 18/100\n",
      "1/1 - 0s - loss: 0.0196 - mae: 0.1247 - 86ms/epoch - 86ms/step\n",
      "Epoch 19/100\n",
      "1/1 - 0s - loss: 0.0027 - mae: 0.0435 - 86ms/epoch - 86ms/step\n",
      "Epoch 20/100\n",
      "1/1 - 0s - loss: 0.0127 - mae: 0.1040 - 86ms/epoch - 86ms/step\n",
      "Epoch 21/100\n",
      "1/1 - 0s - loss: 0.0310 - mae: 0.1719 - 83ms/epoch - 83ms/step\n",
      "Epoch 22/100\n",
      "1/1 - 0s - loss: 0.0377 - mae: 0.1910 - 90ms/epoch - 90ms/step\n",
      "Epoch 23/100\n",
      "1/1 - 0s - loss: 0.0278 - mae: 0.1632 - 84ms/epoch - 84ms/step\n",
      "Epoch 24/100\n",
      "1/1 - 0s - loss: 0.0112 - mae: 0.1006 - 84ms/epoch - 84ms/step\n",
      "Epoch 25/100\n",
      "1/1 - 0s - loss: 0.0015 - mae: 0.0342 - 82ms/epoch - 82ms/step\n",
      "Epoch 26/100\n",
      "1/1 - 0s - loss: 0.0041 - mae: 0.0564 - 85ms/epoch - 85ms/step\n",
      "Epoch 27/100\n",
      "1/1 - 0s - loss: 0.0138 - mae: 0.1136 - 84ms/epoch - 84ms/step\n",
      "Epoch 28/100\n",
      "1/1 - 0s - loss: 0.0203 - mae: 0.1394 - 96ms/epoch - 96ms/step\n",
      "Epoch 29/100\n",
      "1/1 - 0s - loss: 0.0180 - mae: 0.1308 - 93ms/epoch - 93ms/step\n",
      "Epoch 30/100\n",
      "1/1 - 0s - loss: 0.0097 - mae: 0.0935 - 83ms/epoch - 83ms/step\n",
      "Epoch 31/100\n",
      "1/1 - 0s - loss: 0.0026 - mae: 0.0390 - 89ms/epoch - 89ms/step\n",
      "Epoch 32/100\n",
      "1/1 - 0s - loss: 0.0017 - mae: 0.0354 - 84ms/epoch - 84ms/step\n",
      "Epoch 33/100\n",
      "1/1 - 0s - loss: 0.0059 - mae: 0.0710 - 116ms/epoch - 116ms/step\n",
      "Epoch 34/100\n",
      "1/1 - 0s - loss: 0.0103 - mae: 0.0926 - 87ms/epoch - 87ms/step\n",
      "Epoch 35/100\n",
      "1/1 - 0s - loss: 0.0109 - mae: 0.0952 - 86ms/epoch - 86ms/step\n",
      "Epoch 36/100\n",
      "1/1 - 0s - loss: 0.0073 - mae: 0.0789 - 84ms/epoch - 84ms/step\n",
      "Epoch 37/100\n",
      "1/1 - 0s - loss: 0.0030 - mae: 0.0504 - 87ms/epoch - 87ms/step\n",
      "Epoch 38/100\n",
      "1/1 - 0s - loss: 0.0012 - mae: 0.0291 - 83ms/epoch - 83ms/step\n",
      "Epoch 39/100\n",
      "1/1 - 0s - loss: 0.0027 - mae: 0.0397 - 83ms/epoch - 83ms/step\n",
      "Epoch 40/100\n",
      "1/1 - 0s - loss: 0.0052 - mae: 0.0650 - 82ms/epoch - 82ms/step\n",
      "Epoch 41/100\n",
      "1/1 - 0s - loss: 0.0063 - mae: 0.0733 - 82ms/epoch - 82ms/step\n",
      "Epoch 42/100\n",
      "1/1 - 0s - loss: 0.0050 - mae: 0.0643 - 84ms/epoch - 84ms/step\n",
      "Epoch 43/100\n",
      "1/1 - 0s - loss: 0.0027 - mae: 0.0415 - 82ms/epoch - 82ms/step\n",
      "Epoch 44/100\n",
      "1/1 - 0s - loss: 0.0011 - mae: 0.0265 - 82ms/epoch - 82ms/step\n",
      "Epoch 45/100\n",
      "1/1 - 0s - loss: 0.0013 - mae: 0.0326 - 86ms/epoch - 86ms/step\n",
      "Epoch 46/100\n",
      "1/1 - 0s - loss: 0.0026 - mae: 0.0453 - 88ms/epoch - 88ms/step\n",
      "Epoch 47/100\n",
      "1/1 - 0s - loss: 0.0036 - mae: 0.0528 - 82ms/epoch - 82ms/step\n",
      "Epoch 48/100\n",
      "1/1 - 0s - loss: 0.0032 - mae: 0.0497 - 82ms/epoch - 82ms/step\n",
      "Epoch 49/100\n",
      "1/1 - 0s - loss: 0.0020 - mae: 0.0395 - 83ms/epoch - 83ms/step\n",
      "Epoch 50/100\n",
      "1/1 - 0s - loss: 0.0010 - mae: 0.0283 - 82ms/epoch - 82ms/step\n",
      "Epoch 51/100\n",
      "1/1 - 0s - loss: 9.5031e-04 - mae: 0.0248 - 83ms/epoch - 83ms/step\n",
      "Epoch 52/100\n",
      "1/1 - 0s - loss: 0.0016 - mae: 0.0293 - 82ms/epoch - 82ms/step\n",
      "Epoch 53/100\n",
      "1/1 - 0s - loss: 0.0022 - mae: 0.0371 - 83ms/epoch - 83ms/step\n",
      "Epoch 54/100\n",
      "1/1 - 0s - loss: 0.0022 - mae: 0.0362 - 82ms/epoch - 82ms/step\n",
      "Epoch 55/100\n",
      "1/1 - 0s - loss: 0.0015 - mae: 0.0284 - 86ms/epoch - 86ms/step\n",
      "Epoch 56/100\n",
      "1/1 - 0s - loss: 9.6391e-04 - mae: 0.0244 - 85ms/epoch - 85ms/step\n",
      "Epoch 57/100\n",
      "1/1 - 0s - loss: 8.7483e-04 - mae: 0.0269 - 82ms/epoch - 82ms/step\n",
      "Epoch 58/100\n",
      "1/1 - 0s - loss: 0.0012 - mae: 0.0312 - 83ms/epoch - 83ms/step\n",
      "Epoch 59/100\n",
      "1/1 - 0s - loss: 0.0016 - mae: 0.0350 - 83ms/epoch - 83ms/step\n",
      "Epoch 60/100\n",
      "1/1 - 0s - loss: 0.0015 - mae: 0.0348 - 82ms/epoch - 82ms/step\n",
      "Epoch 61/100\n",
      "1/1 - 0s - loss: 0.0012 - mae: 0.0310 - 84ms/epoch - 84ms/step\n",
      "Epoch 62/100\n",
      "1/1 - 0s - loss: 8.7908e-04 - mae: 0.0271 - 85ms/epoch - 85ms/step\n",
      "Epoch 63/100\n",
      "1/1 - 0s - loss: 8.3566e-04 - mae: 0.0239 - 82ms/epoch - 82ms/step\n",
      "Epoch 64/100\n",
      "1/1 - 0s - loss: 0.0010 - mae: 0.0249 - 83ms/epoch - 83ms/step\n",
      "Epoch 65/100\n",
      "1/1 - 0s - loss: 0.0012 - mae: 0.0261 - 83ms/epoch - 83ms/step\n",
      "Epoch 66/100\n",
      "1/1 - 0s - loss: 0.0012 - mae: 0.0258 - 83ms/epoch - 83ms/step\n",
      "Epoch 67/100\n",
      "1/1 - 0s - loss: 9.6425e-04 - mae: 0.0243 - 84ms/epoch - 84ms/step\n",
      "Epoch 68/100\n",
      "1/1 - 0s - loss: 7.9179e-04 - mae: 0.0233 - 82ms/epoch - 82ms/step\n",
      "Epoch 69/100\n",
      "1/1 - 0s - loss: 7.8956e-04 - mae: 0.0254 - 86ms/epoch - 86ms/step\n",
      "Epoch 70/100\n",
      "1/1 - 0s - loss: 9.0665e-04 - mae: 0.0270 - 86ms/epoch - 86ms/step\n",
      "Epoch 71/100\n",
      "1/1 - 0s - loss: 9.8526e-04 - mae: 0.0283 - 93ms/epoch - 93ms/step\n",
      "Epoch 72/100\n",
      "1/1 - 0s - loss: 9.3455e-04 - mae: 0.0275 - 123ms/epoch - 123ms/step\n",
      "Epoch 73/100\n",
      "1/1 - 0s - loss: 8.1009e-04 - mae: 0.0256 - 119ms/epoch - 119ms/step\n",
      "Epoch 74/100\n",
      "1/1 - 0s - loss: 7.3347e-04 - mae: 0.0237 - 105ms/epoch - 105ms/step\n",
      "Epoch 75/100\n",
      "1/1 - 0s - loss: 7.5839e-04 - mae: 0.0231 - 85ms/epoch - 85ms/step\n",
      "Epoch 76/100\n",
      "1/1 - 0s - loss: 8.2765e-04 - mae: 0.0229 - 84ms/epoch - 84ms/step\n",
      "Epoch 77/100\n",
      "1/1 - 0s - loss: 8.4991e-04 - mae: 0.0229 - 84ms/epoch - 84ms/step\n",
      "Epoch 78/100\n",
      "1/1 - 0s - loss: 7.9864e-04 - mae: 0.0229 - 82ms/epoch - 82ms/step\n",
      "Epoch 79/100\n",
      "1/1 - 0s - loss: 7.2842e-04 - mae: 0.0229 - 85ms/epoch - 85ms/step\n",
      "Epoch 80/100\n",
      "1/1 - 0s - loss: 7.0475e-04 - mae: 0.0230 - 85ms/epoch - 85ms/step\n",
      "Epoch 81/100\n",
      "1/1 - 0s - loss: 7.3381e-04 - mae: 0.0239 - 87ms/epoch - 87ms/step\n",
      "Epoch 82/100\n",
      "1/1 - 0s - loss: 7.6571e-04 - mae: 0.0244 - 82ms/epoch - 82ms/step\n",
      "Epoch 83/100\n",
      "1/1 - 0s - loss: 7.5654e-04 - mae: 0.0243 - 82ms/epoch - 82ms/step\n",
      "Epoch 84/100\n",
      "1/1 - 0s - loss: 7.1420e-04 - mae: 0.0235 - 82ms/epoch - 82ms/step\n",
      "Epoch 85/100\n",
      "1/1 - 0s - loss: 6.8111e-04 - mae: 0.0226 - 84ms/epoch - 84ms/step\n",
      "Epoch 86/100\n",
      "1/1 - 0s - loss: 6.8271e-04 - mae: 0.0224 - 82ms/epoch - 82ms/step\n",
      "Epoch 87/100\n",
      "1/1 - 0s - loss: 7.0264e-04 - mae: 0.0223 - 83ms/epoch - 83ms/step\n",
      "Epoch 88/100\n",
      "1/1 - 0s - loss: 7.0766e-04 - mae: 0.0222 - 83ms/epoch - 83ms/step\n",
      "Epoch 89/100\n",
      "1/1 - 0s - loss: 6.8682e-04 - mae: 0.0221 - 83ms/epoch - 83ms/step\n",
      "Epoch 90/100\n",
      "1/1 - 0s - loss: 6.5979e-04 - mae: 0.0221 - 82ms/epoch - 82ms/step\n",
      "Epoch 91/100\n",
      "1/1 - 0s - loss: 6.4991e-04 - mae: 0.0220 - 81ms/epoch - 81ms/step\n",
      "Epoch 92/100\n",
      "1/1 - 0s - loss: 6.5757e-04 - mae: 0.0226 - 89ms/epoch - 89ms/step\n",
      "Epoch 93/100\n",
      "1/1 - 0s - loss: 6.6360e-04 - mae: 0.0228 - 83ms/epoch - 83ms/step\n",
      "Epoch 94/100\n",
      "1/1 - 0s - loss: 6.5425e-04 - mae: 0.0226 - 80ms/epoch - 80ms/step\n",
      "Epoch 95/100\n",
      "1/1 - 0s - loss: 6.3591e-04 - mae: 0.0221 - 84ms/epoch - 84ms/step\n",
      "Epoch 96/100\n",
      "1/1 - 0s - loss: 6.2439e-04 - mae: 0.0215 - 84ms/epoch - 84ms/step\n",
      "Epoch 97/100\n",
      "1/1 - 0s - loss: 6.2514e-04 - mae: 0.0214 - 82ms/epoch - 82ms/step\n",
      "Epoch 98/100\n",
      "1/1 - 0s - loss: 6.2862e-04 - mae: 0.0213 - 83ms/epoch - 83ms/step\n",
      "Epoch 99/100\n",
      "1/1 - 0s - loss: 6.2397e-04 - mae: 0.0212 - 84ms/epoch - 84ms/step\n",
      "Epoch 100/100\n",
      "1/1 - 0s - loss: 6.1181e-04 - mae: 0.0211 - 82ms/epoch - 82ms/step\n"
     ]
    }
   ],
   "source": [
    "# 학습\n",
    "hist = model.fit(train_seq_X, train_Y, epochs=100, verbose=2)"
   ]
  },
  {
   "cell_type": "code",
   "execution_count": 14,
   "metadata": {},
   "outputs": [
    {
     "data": {
      "image/png": "[encoded data removed]",
      "text/plain": [
       "<Figure size 500x500 with 1 Axes>"
      ]
     },
     "metadata": {},
     "output_type": "display_data"
    }
   ],
   "source": [
    "df = pd.DataFrame(hist.history)\n",
    "\n",
    "plt.figure(figsize=(5, 5))\n",
    "plt.plot(df.loss, label='train_loss');"
   ]
  },
  {
   "cell_type": "markdown",
   "metadata": {},
   "source": [
    "# [실습2] sin함수 형태의 시계열 데이터 예측하기\n",
    "- sin 곡선의 일부를 잘라 만든 시퀀스를 보고 다음 값을 예측하는 RNN 모델을 구현한다.\n"
   ]
  },
  {
   "cell_type": "code",
   "execution_count": null,
   "metadata": {},
   "outputs": [],
   "source": []
  },
  {
   "cell_type": "code",
   "execution_count": null,
   "metadata": {},
   "outputs": [],
   "source": []
  },
  {
   "cell_type": "markdown",
   "metadata": {},
   "source": [
    "### 데이터 준비"
   ]
  },
  {
   "cell_type": "code",
   "execution_count": null,
   "metadata": {},
   "outputs": [],
   "source": [
    "# 데이터는 각 차원이 자료수, 타임 스텝의 크기, 특성 형태의 3차원 텐서"
   ]
  },
  {
   "cell_type": "code",
   "execution_count": null,
   "metadata": {},
   "outputs": [],
   "source": [
    "# 사인 함수 그리기\n",
    "import numpy as np \n",
    "start = 0 \n",
    "end = 2 * np.pi \n",
    "dx = 1000 \n",
    "x = np.linspace(start, end, dx)\n",
    "\n",
    "import numpy as np \n",
    "from matplotlib import pyplot as plt \n",
    "start = 0 \n",
    "end = 2 * np.pi \n",
    "dx = 1000 \n",
    "x = np.linspace(start, end, dx) \n",
    "\n",
    "plt.plot(x, np.sin(x))\n"
   ]
  },
  {
   "cell_type": "code",
   "execution_count": 15,
   "metadata": {},
   "outputs": [],
   "source": [
    "import numpy as np\n",
    "import matplotlib.pyplot as plt\n",
    "\n",
    "size, seq_len = 100, 10\n",
    "# 비어있는 넘파이 배열을 생성한다.\n",
    "seq_X = np.empty(shape=(size, seq_len, 1))\n",
    "Y = np.empty(shape=(size,))\n",
    "s = np.sin(2 * np.pi )\n",
    "# sine 곡선에서 잘라낼 구간 설정\n",
    "interval = np.linspace(0.0, 2.5, seq_len+1)"
   ]
  },
  {
   "cell_type": "raw",
   "metadata": {},
   "source": [
    "시퀀스는 2파이를 주기로 반복되는 사인 곡선의 2.5 길이 구간을 잘라낸다."
   ]
  },
  {
   "cell_type": "code",
   "execution_count": 17,
   "metadata": {},
   "outputs": [
    {
     "data": {
      "text/plain": [
       "((100, 10, 1), (100,))"
      ]
     },
     "execution_count": 17,
     "metadata": {},
     "output_type": "execute_result"
    }
   ],
   "source": [
    "# 생성하는 시퀀스는 구간의 길이는 같고, 시작하는 값은 모두 다르게 만듦.(난수발생)\n",
    "# 구간의 마지막 값으로 Y label을 만듦\n",
    "shift = np.random.randn(size) # 시퀀스 추출에 사용할 구간을 옮겨 놓는 값\n",
    "for i in range(size):\n",
    "    seq_X[i,:,:] = np.sin(shift[i] + interval[:-1]).reshape(seq_len, 1)\n",
    "    Y[i] = np.sin(shift[i] + interval[-1])\n",
    "\n",
    "seq_X.shape, Y.shape"
   ]
  },
  {
   "cell_type": "code",
   "execution_count": 18,
   "metadata": {},
   "outputs": [
    {
     "data": {
      "image/png": "[encoded data removed]",
      "text/plain": [
       "<Figure size 640x480 with 1 Axes>"
      ]
     },
     "metadata": {},
     "output_type": "display_data"
    },
    {
     "data": {
      "image/png": "[encoded data removed]",
      "text/plain": [
       "<Figure size 640x480 with 1 Axes>"
      ]
     },
     "metadata": {},
     "output_type": "display_data"
    },
    {
     "data": {
      "image/png": "[encoded data removed]",
      "text/plain": [
       "<Figure size 640x480 with 1 Axes>"
      ]
     },
     "metadata": {},
     "output_type": "display_data"
    },
    {
     "data": {
      "image/png": "[encoded data removed]",
      "text/plain": [
       "<Figure size 640x480 with 1 Axes>"
      ]
     },
     "metadata": {},
     "output_type": "display_data"
    }
   ],
   "source": [
    "# 100개의 시퀀스 중 4개를 시각화해봄\n",
    "for i in [1, 3, 5, 9]:\n",
    "    plt.scatter(interval[:-1], seq_X[i, :,:])\n",
    "    plt.scatter(interval[-1], Y[i])\n",
    "    plt.show()"
   ]
  },
  {
   "cell_type": "code",
   "execution_count": 19,
   "metadata": {},
   "outputs": [],
   "source": [
    "# 80개는 훈련, 20개는 검증\n",
    "X_train = seq_X[:80]\n",
    "y_train = Y[:80]\n",
    "X_test = seq_X[80:]\n",
    "y_test = Y[80:]"
   ]
  },
  {
   "cell_type": "markdown",
   "metadata": {},
   "source": [
    "### simple RNN 모델 구현"
   ]
  },
  {
   "cell_type": "code",
   "execution_count": 21,
   "metadata": {},
   "outputs": [
    {
     "name": "stdout",
     "output_type": "stream",
     "text": [
      "Model: \"sequential_2\"\n",
      "_________________________________________________________________\n",
      " Layer (type)                Output Shape              Param #   \n",
      "=================================================================\n",
      " simple_rnn_2 (SimpleRNN)    (None, 10)                120       \n",
      "                                                                 \n",
      " dense_2 (Dense)             (None, 1)                 11        \n",
      "                                                                 \n",
      "=================================================================\n",
      "Total params: 131\n",
      "Trainable params: 131\n",
      "Non-trainable params: 0\n",
      "_________________________________________________________________\n"
     ]
    }
   ],
   "source": [
    "model = Sequential([\n",
    "    SimpleRNN(units=10, return_sequences=False,\n",
    "              input_shape=(10, 1)),\n",
    "    Dense(1)\n",
    "])\n",
    "\n",
    "model.compile(loss='mse', metrics='mae', optimizer='adam')\n",
    "model.summary()"
   ]
  },
  {
   "cell_type": "code",
   "execution_count": 22,
   "metadata": {},
   "outputs": [
    {
     "name": "stdout",
     "output_type": "stream",
     "text": [
      "Epoch 1/50\n"
     ]
    },
    {
     "name": "stderr",
     "output_type": "stream",
     "text": [
      "2023-02-27 15:38:46.646329: I tensorflow/core/grappler/optimizers/custom_graph_optimizer_registry.cc:113] Plugin optimizer for device_type GPU is enabled.\n"
     ]
    },
    {
     "name": "stdout",
     "output_type": "stream",
     "text": [
      "3/3 - 1s - loss: 0.2224 - mae: 0.4394 - 1s/epoch - 374ms/step\n",
      "Epoch 2/50\n",
      "3/3 - 0s - loss: 0.1670 - mae: 0.3817 - 131ms/epoch - 44ms/step\n",
      "Epoch 3/50\n",
      "3/3 - 0s - loss: 0.1226 - mae: 0.3269 - 124ms/epoch - 41ms/step\n",
      "Epoch 4/50\n",
      "3/3 - 0s - loss: 0.0867 - mae: 0.2748 - 130ms/epoch - 43ms/step\n",
      "Epoch 5/50\n",
      "3/3 - 0s - loss: 0.0576 - mae: 0.2235 - 126ms/epoch - 42ms/step\n",
      "Epoch 6/50\n",
      "3/3 - 0s - loss: 0.0366 - mae: 0.1764 - 122ms/epoch - 41ms/step\n",
      "Epoch 7/50\n",
      "3/3 - 0s - loss: 0.0221 - mae: 0.1343 - 123ms/epoch - 41ms/step\n",
      "Epoch 8/50\n",
      "3/3 - 0s - loss: 0.0135 - mae: 0.0962 - 125ms/epoch - 42ms/step\n",
      "Epoch 9/50\n",
      "3/3 - 0s - loss: 0.0095 - mae: 0.0767 - 131ms/epoch - 44ms/step\n",
      "Epoch 10/50\n",
      "3/3 - 0s - loss: 0.0077 - mae: 0.0732 - 127ms/epoch - 42ms/step\n",
      "Epoch 11/50\n",
      "3/3 - 0s - loss: 0.0077 - mae: 0.0745 - 170ms/epoch - 57ms/step\n",
      "Epoch 12/50\n",
      "3/3 - 0s - loss: 0.0081 - mae: 0.0755 - 122ms/epoch - 41ms/step\n",
      "Epoch 13/50\n",
      "3/3 - 0s - loss: 0.0081 - mae: 0.0739 - 123ms/epoch - 41ms/step\n",
      "Epoch 14/50\n",
      "3/3 - 0s - loss: 0.0076 - mae: 0.0711 - 123ms/epoch - 41ms/step\n",
      "Epoch 15/50\n",
      "3/3 - 0s - loss: 0.0068 - mae: 0.0672 - 131ms/epoch - 44ms/step\n",
      "Epoch 16/50\n",
      "3/3 - 0s - loss: 0.0057 - mae: 0.0627 - 121ms/epoch - 40ms/step\n",
      "Epoch 17/50\n",
      "3/3 - 0s - loss: 0.0047 - mae: 0.0581 - 123ms/epoch - 41ms/step\n",
      "Epoch 18/50\n",
      "3/3 - 0s - loss: 0.0039 - mae: 0.0534 - 122ms/epoch - 41ms/step\n",
      "Epoch 19/50\n",
      "3/3 - 0s - loss: 0.0032 - mae: 0.0487 - 124ms/epoch - 41ms/step\n",
      "Epoch 20/50\n",
      "3/3 - 0s - loss: 0.0028 - mae: 0.0450 - 123ms/epoch - 41ms/step\n",
      "Epoch 21/50\n",
      "3/3 - 0s - loss: 0.0026 - mae: 0.0425 - 120ms/epoch - 40ms/step\n",
      "Epoch 22/50\n",
      "3/3 - 0s - loss: 0.0025 - mae: 0.0411 - 122ms/epoch - 41ms/step\n",
      "Epoch 23/50\n",
      "3/3 - 0s - loss: 0.0023 - mae: 0.0397 - 122ms/epoch - 41ms/step\n",
      "Epoch 24/50\n",
      "3/3 - 0s - loss: 0.0021 - mae: 0.0383 - 125ms/epoch - 42ms/step\n",
      "Epoch 25/50\n",
      "3/3 - 0s - loss: 0.0020 - mae: 0.0368 - 123ms/epoch - 41ms/step\n",
      "Epoch 26/50\n",
      "3/3 - 0s - loss: 0.0018 - mae: 0.0355 - 129ms/epoch - 43ms/step\n",
      "Epoch 27/50\n",
      "3/3 - 0s - loss: 0.0017 - mae: 0.0342 - 120ms/epoch - 40ms/step\n",
      "Epoch 28/50\n",
      "3/3 - 0s - loss: 0.0015 - mae: 0.0329 - 120ms/epoch - 40ms/step\n",
      "Epoch 29/50\n",
      "3/3 - 0s - loss: 0.0014 - mae: 0.0319 - 123ms/epoch - 41ms/step\n",
      "Epoch 30/50\n",
      "3/3 - 0s - loss: 0.0013 - mae: 0.0312 - 123ms/epoch - 41ms/step\n",
      "Epoch 31/50\n",
      "3/3 - 0s - loss: 0.0012 - mae: 0.0305 - 139ms/epoch - 46ms/step\n",
      "Epoch 32/50\n",
      "3/3 - 0s - loss: 0.0012 - mae: 0.0296 - 124ms/epoch - 41ms/step\n",
      "Epoch 33/50\n",
      "3/3 - 0s - loss: 0.0011 - mae: 0.0288 - 123ms/epoch - 41ms/step\n",
      "Epoch 34/50\n",
      "3/3 - 0s - loss: 0.0010 - mae: 0.0282 - 119ms/epoch - 40ms/step\n",
      "Epoch 35/50\n",
      "3/3 - 0s - loss: 9.7323e-04 - mae: 0.0273 - 126ms/epoch - 42ms/step\n",
      "Epoch 36/50\n",
      "3/3 - 0s - loss: 9.1969e-04 - mae: 0.0265 - 122ms/epoch - 41ms/step\n",
      "Epoch 37/50\n",
      "3/3 - 0s - loss: 8.7276e-04 - mae: 0.0258 - 121ms/epoch - 40ms/step\n",
      "Epoch 38/50\n",
      "3/3 - 0s - loss: 8.2636e-04 - mae: 0.0250 - 120ms/epoch - 40ms/step\n",
      "Epoch 39/50\n",
      "3/3 - 0s - loss: 7.8418e-04 - mae: 0.0243 - 122ms/epoch - 41ms/step\n",
      "Epoch 40/50\n",
      "3/3 - 0s - loss: 7.4700e-04 - mae: 0.0236 - 120ms/epoch - 40ms/step\n",
      "Epoch 41/50\n",
      "3/3 - 0s - loss: 7.1975e-04 - mae: 0.0230 - 120ms/epoch - 40ms/step\n",
      "Epoch 42/50\n",
      "3/3 - 0s - loss: 6.8914e-04 - mae: 0.0225 - 120ms/epoch - 40ms/step\n",
      "Epoch 43/50\n",
      "3/3 - 0s - loss: 6.5969e-04 - mae: 0.0219 - 176ms/epoch - 59ms/step\n",
      "Epoch 44/50\n",
      "3/3 - 0s - loss: 6.3174e-04 - mae: 0.0214 - 177ms/epoch - 59ms/step\n",
      "Epoch 45/50\n",
      "3/3 - 0s - loss: 6.0837e-04 - mae: 0.0209 - 130ms/epoch - 43ms/step\n",
      "Epoch 46/50\n",
      "3/3 - 0s - loss: 5.8519e-04 - mae: 0.0205 - 156ms/epoch - 52ms/step\n",
      "Epoch 47/50\n",
      "3/3 - 0s - loss: 5.6323e-04 - mae: 0.0200 - 123ms/epoch - 41ms/step\n",
      "Epoch 48/50\n",
      "3/3 - 0s - loss: 5.4322e-04 - mae: 0.0196 - 125ms/epoch - 42ms/step\n",
      "Epoch 49/50\n",
      "3/3 - 0s - loss: 5.2607e-04 - mae: 0.0192 - 118ms/epoch - 39ms/step\n",
      "Epoch 50/50\n",
      "3/3 - 0s - loss: 5.0909e-04 - mae: 0.0188 - 135ms/epoch - 45ms/step\n"
     ]
    }
   ],
   "source": [
    "hist = model.fit(X_train, y_train, epochs=50, verbose=2)"
   ]
  },
  {
   "cell_type": "code",
   "execution_count": 23,
   "metadata": {},
   "outputs": [
    {
     "data": {
      "text/html": [
       "<div>\n",
       "<style scoped>\n",
       "    .dataframe tbody tr th:only-of-type {\n",
       "        vertical-align: middle;\n",
       "    }\n",
       "\n",
       "    .dataframe tbody tr th {\n",
       "        vertical-align: top;\n",
       "    }\n",
       "\n",
       "    .dataframe thead th {\n",
       "        text-align: right;\n",
       "    }\n",
       "</style>\n",
       "<table border=\"1\" class=\"dataframe\">\n",
       "  <thead>\n",
       "    <tr style=\"text-align: right;\">\n",
       "      <th></th>\n",
       "      <th>loss</th>\n",
       "      <th>mae</th>\n",
       "    </tr>\n",
       "  </thead>\n",
       "  <tbody>\n",
       "    <tr>\n",
       "      <th>0</th>\n",
       "      <td>0.222374</td>\n",
       "      <td>0.439352</td>\n",
       "    </tr>\n",
       "    <tr>\n",
       "      <th>1</th>\n",
       "      <td>0.167050</td>\n",
       "      <td>0.381665</td>\n",
       "    </tr>\n",
       "    <tr>\n",
       "      <th>2</th>\n",
       "      <td>0.122561</td>\n",
       "      <td>0.326857</td>\n",
       "    </tr>\n",
       "    <tr>\n",
       "      <th>3</th>\n",
       "      <td>0.086746</td>\n",
       "      <td>0.274837</td>\n",
       "    </tr>\n",
       "    <tr>\n",
       "      <th>4</th>\n",
       "      <td>0.057589</td>\n",
       "      <td>0.223510</td>\n",
       "    </tr>\n",
       "    <tr>\n",
       "      <th>5</th>\n",
       "      <td>0.036644</td>\n",
       "      <td>0.176435</td>\n",
       "    </tr>\n",
       "    <tr>\n",
       "      <th>6</th>\n",
       "      <td>0.022116</td>\n",
       "      <td>0.134337</td>\n",
       "    </tr>\n",
       "    <tr>\n",
       "      <th>7</th>\n",
       "      <td>0.013454</td>\n",
       "      <td>0.096234</td>\n",
       "    </tr>\n",
       "    <tr>\n",
       "      <th>8</th>\n",
       "      <td>0.009544</td>\n",
       "      <td>0.076671</td>\n",
       "    </tr>\n",
       "    <tr>\n",
       "      <th>9</th>\n",
       "      <td>0.007700</td>\n",
       "      <td>0.073242</td>\n",
       "    </tr>\n",
       "    <tr>\n",
       "      <th>10</th>\n",
       "      <td>0.007668</td>\n",
       "      <td>0.074527</td>\n",
       "    </tr>\n",
       "    <tr>\n",
       "      <th>11</th>\n",
       "      <td>0.008116</td>\n",
       "      <td>0.075488</td>\n",
       "    </tr>\n",
       "    <tr>\n",
       "      <th>12</th>\n",
       "      <td>0.008125</td>\n",
       "      <td>0.073896</td>\n",
       "    </tr>\n",
       "    <tr>\n",
       "      <th>13</th>\n",
       "      <td>0.007611</td>\n",
       "      <td>0.071062</td>\n",
       "    </tr>\n",
       "    <tr>\n",
       "      <th>14</th>\n",
       "      <td>0.006754</td>\n",
       "      <td>0.067228</td>\n",
       "    </tr>\n",
       "    <tr>\n",
       "      <th>15</th>\n",
       "      <td>0.005709</td>\n",
       "      <td>0.062690</td>\n",
       "    </tr>\n",
       "    <tr>\n",
       "      <th>16</th>\n",
       "      <td>0.004662</td>\n",
       "      <td>0.058138</td>\n",
       "    </tr>\n",
       "    <tr>\n",
       "      <th>17</th>\n",
       "      <td>0.003856</td>\n",
       "      <td>0.053407</td>\n",
       "    </tr>\n",
       "    <tr>\n",
       "      <th>18</th>\n",
       "      <td>0.003214</td>\n",
       "      <td>0.048662</td>\n",
       "    </tr>\n",
       "    <tr>\n",
       "      <th>19</th>\n",
       "      <td>0.002849</td>\n",
       "      <td>0.044959</td>\n",
       "    </tr>\n",
       "    <tr>\n",
       "      <th>20</th>\n",
       "      <td>0.002618</td>\n",
       "      <td>0.042519</td>\n",
       "    </tr>\n",
       "    <tr>\n",
       "      <th>21</th>\n",
       "      <td>0.002470</td>\n",
       "      <td>0.041076</td>\n",
       "    </tr>\n",
       "    <tr>\n",
       "      <th>22</th>\n",
       "      <td>0.002302</td>\n",
       "      <td>0.039710</td>\n",
       "    </tr>\n",
       "    <tr>\n",
       "      <th>23</th>\n",
       "      <td>0.002145</td>\n",
       "      <td>0.038342</td>\n",
       "    </tr>\n",
       "    <tr>\n",
       "      <th>24</th>\n",
       "      <td>0.001968</td>\n",
       "      <td>0.036814</td>\n",
       "    </tr>\n",
       "    <tr>\n",
       "      <th>25</th>\n",
       "      <td>0.001808</td>\n",
       "      <td>0.035461</td>\n",
       "    </tr>\n",
       "    <tr>\n",
       "      <th>26</th>\n",
       "      <td>0.001658</td>\n",
       "      <td>0.034168</td>\n",
       "    </tr>\n",
       "    <tr>\n",
       "      <th>27</th>\n",
       "      <td>0.001517</td>\n",
       "      <td>0.032916</td>\n",
       "    </tr>\n",
       "    <tr>\n",
       "      <th>28</th>\n",
       "      <td>0.001404</td>\n",
       "      <td>0.031910</td>\n",
       "    </tr>\n",
       "    <tr>\n",
       "      <th>29</th>\n",
       "      <td>0.001323</td>\n",
       "      <td>0.031174</td>\n",
       "    </tr>\n",
       "    <tr>\n",
       "      <th>30</th>\n",
       "      <td>0.001237</td>\n",
       "      <td>0.030496</td>\n",
       "    </tr>\n",
       "    <tr>\n",
       "      <th>31</th>\n",
       "      <td>0.001158</td>\n",
       "      <td>0.029615</td>\n",
       "    </tr>\n",
       "    <tr>\n",
       "      <th>32</th>\n",
       "      <td>0.001090</td>\n",
       "      <td>0.028841</td>\n",
       "    </tr>\n",
       "    <tr>\n",
       "      <th>33</th>\n",
       "      <td>0.001033</td>\n",
       "      <td>0.028180</td>\n",
       "    </tr>\n",
       "    <tr>\n",
       "      <th>34</th>\n",
       "      <td>0.000973</td>\n",
       "      <td>0.027308</td>\n",
       "    </tr>\n",
       "    <tr>\n",
       "      <th>35</th>\n",
       "      <td>0.000920</td>\n",
       "      <td>0.026546</td>\n",
       "    </tr>\n",
       "    <tr>\n",
       "      <th>36</th>\n",
       "      <td>0.000873</td>\n",
       "      <td>0.025776</td>\n",
       "    </tr>\n",
       "    <tr>\n",
       "      <th>37</th>\n",
       "      <td>0.000826</td>\n",
       "      <td>0.024982</td>\n",
       "    </tr>\n",
       "    <tr>\n",
       "      <th>38</th>\n",
       "      <td>0.000784</td>\n",
       "      <td>0.024252</td>\n",
       "    </tr>\n",
       "    <tr>\n",
       "      <th>39</th>\n",
       "      <td>0.000747</td>\n",
       "      <td>0.023576</td>\n",
       "    </tr>\n",
       "    <tr>\n",
       "      <th>40</th>\n",
       "      <td>0.000720</td>\n",
       "      <td>0.022974</td>\n",
       "    </tr>\n",
       "    <tr>\n",
       "      <th>41</th>\n",
       "      <td>0.000689</td>\n",
       "      <td>0.022467</td>\n",
       "    </tr>\n",
       "    <tr>\n",
       "      <th>42</th>\n",
       "      <td>0.000660</td>\n",
       "      <td>0.021939</td>\n",
       "    </tr>\n",
       "    <tr>\n",
       "      <th>43</th>\n",
       "      <td>0.000632</td>\n",
       "      <td>0.021429</td>\n",
       "    </tr>\n",
       "    <tr>\n",
       "      <th>44</th>\n",
       "      <td>0.000608</td>\n",
       "      <td>0.020941</td>\n",
       "    </tr>\n",
       "    <tr>\n",
       "      <th>45</th>\n",
       "      <td>0.000585</td>\n",
       "      <td>0.020476</td>\n",
       "    </tr>\n",
       "    <tr>\n",
       "      <th>46</th>\n",
       "      <td>0.000563</td>\n",
       "      <td>0.020028</td>\n",
       "    </tr>\n",
       "    <tr>\n",
       "      <th>47</th>\n",
       "      <td>0.000543</td>\n",
       "      <td>0.019600</td>\n",
       "    </tr>\n",
       "    <tr>\n",
       "      <th>48</th>\n",
       "      <td>0.000526</td>\n",
       "      <td>0.019164</td>\n",
       "    </tr>\n",
       "    <tr>\n",
       "      <th>49</th>\n",
       "      <td>0.000509</td>\n",
       "      <td>0.018817</td>\n",
       "    </tr>\n",
       "  </tbody>\n",
       "</table>\n",
       "</div>"
      ],
      "text/plain": [
       "        loss       mae\n",
       "0   0.222374  0.439352\n",
       "1   0.167050  0.381665\n",
       "2   0.122561  0.326857\n",
       "3   0.086746  0.274837\n",
       "4   0.057589  0.223510\n",
       "5   0.036644  0.176435\n",
       "6   0.022116  0.134337\n",
       "7   0.013454  0.096234\n",
       "8   0.009544  0.076671\n",
       "9   0.007700  0.073242\n",
       "10  0.007668  0.074527\n",
       "11  0.008116  0.075488\n",
       "12  0.008125  0.073896\n",
       "13  0.007611  0.071062\n",
       "14  0.006754  0.067228\n",
       "15  0.005709  0.062690\n",
       "16  0.004662  0.058138\n",
       "17  0.003856  0.053407\n",
       "18  0.003214  0.048662\n",
       "19  0.002849  0.044959\n",
       "20  0.002618  0.042519\n",
       "21  0.002470  0.041076\n",
       "22  0.002302  0.039710\n",
       "23  0.002145  0.038342\n",
       "24  0.001968  0.036814\n",
       "25  0.001808  0.035461\n",
       "26  0.001658  0.034168\n",
       "27  0.001517  0.032916\n",
       "28  0.001404  0.031910\n",
       "29  0.001323  0.031174\n",
       "30  0.001237  0.030496\n",
       "31  0.001158  0.029615\n",
       "32  0.001090  0.028841\n",
       "33  0.001033  0.028180\n",
       "34  0.000973  0.027308\n",
       "35  0.000920  0.026546\n",
       "36  0.000873  0.025776\n",
       "37  0.000826  0.024982\n",
       "38  0.000784  0.024252\n",
       "39  0.000747  0.023576\n",
       "40  0.000720  0.022974\n",
       "41  0.000689  0.022467\n",
       "42  0.000660  0.021939\n",
       "43  0.000632  0.021429\n",
       "44  0.000608  0.020941\n",
       "45  0.000585  0.020476\n",
       "46  0.000563  0.020028\n",
       "47  0.000543  0.019600\n",
       "48  0.000526  0.019164\n",
       "49  0.000509  0.018817"
      ]
     },
     "execution_count": 23,
     "metadata": {},
     "output_type": "execute_result"
    }
   ],
   "source": [
    "df = pd.DataFrame(hist.history)\n",
    "df"
   ]
  },
  {
   "cell_type": "code",
   "execution_count": 24,
   "metadata": {},
   "outputs": [
    {
     "data": {
      "image/png": "[encoded data removed]",
      "text/plain": [
       "<Figure size 500x500 with 1 Axes>"
      ]
     },
     "metadata": {},
     "output_type": "display_data"
    }
   ],
   "source": [
    "# 시각화 그리기\n",
    "plt.figure(figsize=(5, 5))\n",
    "plt.plot(df.loss, label='train_loss');"
   ]
  }
 ],
 "metadata": {
  "colab": {
   "collapsed_sections": [],
   "name": "ch10.ipynb",
   "provenance": [
    {
     "file_id": "11J--272C0cPrHqZkWUDJMi2_vsL4nxmK",
     "timestamp": 1620287070935
    }
   ]
  },
  "kernelspec": {
   "display_name": "tensorflow",
   "language": "python",
   "name": "python3"
  },
  "language_info": {
   "codemirror_mode": {
    "name": "ipython",
    "version": 3
   },
   "file_extension": ".py",
   "mimetype": "text/x-python",
   "name": "python",
   "nbconvert_exporter": "python",
   "pygments_lexer": "ipython3",
   "version": "3.8.16"
  },
  "vscode": {
   "interpreter": {
    "hash": "04fd9c361be45f4292b225cf55355a67dfa13b4c14ac86b9ffe9743e2c71714e"
   }
  }
 },
 "nbformat": 4,
 "nbformat_minor": 1
}
