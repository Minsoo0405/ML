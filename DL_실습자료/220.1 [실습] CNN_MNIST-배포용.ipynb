{
 "cells": [
  {
   "cell_type": "markdown",
   "id": "6a726f9f",
   "metadata": {},
   "source": [
    "# CNN_MNIST : Basic CNN"
   ]
  },
  {
   "cell_type": "code",
   "execution_count": null,
   "id": "ce9b3b75",
   "metadata": {},
   "outputs": [],
   "source": []
  },
  {
   "cell_type": "markdown",
   "id": "characteristic-adventure",
   "metadata": {
    "id": "characteristic-adventure"
   },
   "source": [
    "## import"
   ]
  },
  {
   "cell_type": "code",
   "execution_count": 1,
   "id": "opened-yield",
   "metadata": {
    "id": "opened-yield"
   },
   "outputs": [],
   "source": [
    "# tensorflow 모듈 import \n",
    "import tensorflow as tf\n",
    "from tensorflow import keras"
   ]
  },
  {
   "cell_type": "code",
   "execution_count": 2,
   "id": "0c3da7d2",
   "metadata": {},
   "outputs": [],
   "source": [
    "import numpy as np\n",
    "import pandas as pd\n",
    "import matplotlib.pyplot as plt"
   ]
  },
  {
   "cell_type": "markdown",
   "id": "clinical-cowboy",
   "metadata": {
    "id": "clinical-cowboy"
   },
   "source": [
    "## Dataset"
   ]
  },
  {
   "cell_type": "code",
   "execution_count": 96,
   "id": "2d789944",
   "metadata": {},
   "outputs": [],
   "source": [
    "# 2차원 배열 파일 메모리에 로드loaded_X_train = np.loadtxt('../data/skyggle_MNIST/X_train.txt')\n",
    "loaded_X_train = np.loadtxt('../data/skyggle_MNIST/X_train.txt')\n",
    "loaded_y_train = np.loadtxt('../data/skyggle_MNIST/y_train.txt')\n",
    "loaded_X_test = np.loadtxt('../data/skyggle_MNIST/X_test.txt')"
   ]
  },
  {
   "cell_type": "code",
   "execution_count": 97,
   "id": "a085cc46",
   "metadata": {},
   "outputs": [
    {
     "name": "stdout",
     "output_type": "stream",
     "text": [
      "(60000, 28, 28)\n",
      "(60000,)\n",
      "(10000, 28, 28)\n"
     ]
    }
   ],
   "source": [
    "# 2차원 배열을 3차원으로 \n",
    "X_train_np = loaded_X_train.reshape(60000, 28, 28)\n",
    "y_train_np = loaded_y_train.astype(int)\n",
    "X_test = loaded_X_test.reshape(10000, 28, 28)\n",
    "#X_train = X_train_.astype(int)\n",
    "#y_train = y_train_all.astype(int)\n",
    "print(X_train_np.shape)\n",
    "print(y_train_np.shape)\n",
    "print(X_test.shape)"
   ]
  },
  {
   "cell_type": "code",
   "execution_count": 98,
   "id": "93555d15",
   "metadata": {},
   "outputs": [
    {
     "data": {
      "text/plain": [
       "array([[  0.,   0.,   0.,   0.,   0.,   0.,   0.,   0.,   0.,   0.,   0.,\n",
       "          0.,   0.,   0.,   0.,   0.,   0.,   0.,   0.,   0.,   0.,   0.,\n",
       "          0.,   0.,   0.,   0.,   0.,   0.],\n",
       "       [  0.,   0.,   0.,   0.,   0.,   0.,   0.,   0.,   0.,   0.,   0.,\n",
       "          0.,   0.,   0.,   0.,   0.,   0.,   0.,   0.,   0.,   0.,   0.,\n",
       "          0.,   0.,   0.,   0.,   0.,   0.],\n",
       "       [  0.,   0.,   0.,   0.,   0.,   0.,   0.,   0.,   0.,   0.,   0.,\n",
       "          0.,   0.,   0.,   0.,   0.,   0.,   0.,   0.,   0.,   0.,   0.,\n",
       "          0.,   0.,   0.,   0.,   0.,   0.],\n",
       "       [  0.,   0.,   0.,   0.,   0.,   0.,   0.,   0.,   0.,   0.,   0.,\n",
       "          0.,   0.,   0.,   0.,   0.,   0.,   0.,   0.,   0.,   0.,   0.,\n",
       "          0.,   0.,   0.,   0.,   0.,   0.],\n",
       "       [  0.,   0.,   0.,   0.,   0.,   0.,   0.,   0.,   0.,   0.,   0.,\n",
       "          0.,   0.,   0.,   0.,   0.,   0.,   0.,   0.,   0.,   0.,   0.,\n",
       "          0.,   0.,   0.,   0.,   0.,   0.],\n",
       "       [  0.,   0.,   0.,   0.,   0.,   0.,   0.,   0.,   0.,   0.,   0.,\n",
       "          0.,   3.,  18.,  18.,  18., 126., 136., 175.,  26., 166., 255.,\n",
       "        247., 127.,   0.,   0.,   0.,   0.],\n",
       "       [  0.,   0.,   0.,   0.,   0.,   0.,   0.,   0.,  30.,  36.,  94.,\n",
       "        154., 170., 253., 253., 253., 253., 253., 225., 172., 253., 242.,\n",
       "        195.,  64.,   0.,   0.,   0.,   0.],\n",
       "       [  0.,   0.,   0.,   0.,   0.,   0.,   0.,  49., 238., 253., 253.,\n",
       "        253., 253., 253., 253., 253., 253., 251.,  93.,  82.,  82.,  56.,\n",
       "         39.,   0.,   0.,   0.,   0.,   0.],\n",
       "       [  0.,   0.,   0.,   0.,   0.,   0.,   0.,  18., 219., 253., 253.,\n",
       "        253., 253., 253., 198., 182., 247., 241.,   0.,   0.,   0.,   0.,\n",
       "          0.,   0.,   0.,   0.,   0.,   0.],\n",
       "       [  0.,   0.,   0.,   0.,   0.,   0.,   0.,   0.,  80., 156., 107.,\n",
       "        253., 253., 205.,  11.,   0.,  43., 154.,   0.,   0.,   0.,   0.,\n",
       "          0.,   0.,   0.,   0.,   0.,   0.],\n",
       "       [  0.,   0.,   0.,   0.,   0.,   0.,   0.,   0.,   0.,  14.,   1.,\n",
       "        154., 253.,  90.,   0.,   0.,   0.,   0.,   0.,   0.,   0.,   0.,\n",
       "          0.,   0.,   0.,   0.,   0.,   0.],\n",
       "       [  0.,   0.,   0.,   0.,   0.,   0.,   0.,   0.,   0.,   0.,   0.,\n",
       "        139., 253., 190.,   2.,   0.,   0.,   0.,   0.,   0.,   0.,   0.,\n",
       "          0.,   0.,   0.,   0.,   0.,   0.],\n",
       "       [  0.,   0.,   0.,   0.,   0.,   0.,   0.,   0.,   0.,   0.,   0.,\n",
       "         11., 190., 253.,  70.,   0.,   0.,   0.,   0.,   0.,   0.,   0.,\n",
       "          0.,   0.,   0.,   0.,   0.,   0.],\n",
       "       [  0.,   0.,   0.,   0.,   0.,   0.,   0.,   0.,   0.,   0.,   0.,\n",
       "          0.,  35., 241., 225., 160., 108.,   1.,   0.,   0.,   0.,   0.,\n",
       "          0.,   0.,   0.,   0.,   0.,   0.],\n",
       "       [  0.,   0.,   0.,   0.,   0.,   0.,   0.,   0.,   0.,   0.,   0.,\n",
       "          0.,   0.,  81., 240., 253., 253., 119.,  25.,   0.,   0.,   0.,\n",
       "          0.,   0.,   0.,   0.,   0.,   0.],\n",
       "       [  0.,   0.,   0.,   0.,   0.,   0.,   0.,   0.,   0.,   0.,   0.,\n",
       "          0.,   0.,   0.,  45., 186., 253., 253., 150.,  27.,   0.,   0.,\n",
       "          0.,   0.,   0.,   0.,   0.,   0.],\n",
       "       [  0.,   0.,   0.,   0.,   0.,   0.,   0.,   0.,   0.,   0.,   0.,\n",
       "          0.,   0.,   0.,   0.,  16.,  93., 252., 253., 187.,   0.,   0.,\n",
       "          0.,   0.,   0.,   0.,   0.,   0.],\n",
       "       [  0.,   0.,   0.,   0.,   0.,   0.,   0.,   0.,   0.,   0.,   0.,\n",
       "          0.,   0.,   0.,   0.,   0.,   0., 249., 253., 249.,  64.,   0.,\n",
       "          0.,   0.,   0.,   0.,   0.,   0.],\n",
       "       [  0.,   0.,   0.,   0.,   0.,   0.,   0.,   0.,   0.,   0.,   0.,\n",
       "          0.,   0.,   0.,  46., 130., 183., 253., 253., 207.,   2.,   0.,\n",
       "          0.,   0.,   0.,   0.,   0.,   0.],\n",
       "       [  0.,   0.,   0.,   0.,   0.,   0.,   0.,   0.,   0.,   0.,   0.,\n",
       "          0.,  39., 148., 229., 253., 253., 253., 250., 182.,   0.,   0.,\n",
       "          0.,   0.,   0.,   0.,   0.,   0.],\n",
       "       [  0.,   0.,   0.,   0.,   0.,   0.,   0.,   0.,   0.,   0.,  24.,\n",
       "        114., 221., 253., 253., 253., 253., 201.,  78.,   0.,   0.,   0.,\n",
       "          0.,   0.,   0.,   0.,   0.,   0.],\n",
       "       [  0.,   0.,   0.,   0.,   0.,   0.,   0.,   0.,  23.,  66., 213.,\n",
       "        253., 253., 253., 253., 198.,  81.,   2.,   0.,   0.,   0.,   0.,\n",
       "          0.,   0.,   0.,   0.,   0.,   0.],\n",
       "       [  0.,   0.,   0.,   0.,   0.,   0.,  18., 171., 219., 253., 253.,\n",
       "        253., 253., 195.,  80.,   9.,   0.,   0.,   0.,   0.,   0.,   0.,\n",
       "          0.,   0.,   0.,   0.,   0.,   0.],\n",
       "       [  0.,   0.,   0.,   0.,  55., 172., 226., 253., 253., 253., 253.,\n",
       "        244., 133.,  11.,   0.,   0.,   0.,   0.,   0.,   0.,   0.,   0.,\n",
       "          0.,   0.,   0.,   0.,   0.,   0.],\n",
       "       [  0.,   0.,   0.,   0., 136., 253., 253., 253., 212., 135., 132.,\n",
       "         16.,   0.,   0.,   0.,   0.,   0.,   0.,   0.,   0.,   0.,   0.,\n",
       "          0.,   0.,   0.,   0.,   0.,   0.],\n",
       "       [  0.,   0.,   0.,   0.,   0.,   0.,   0.,   0.,   0.,   0.,   0.,\n",
       "          0.,   0.,   0.,   0.,   0.,   0.,   0.,   0.,   0.,   0.,   0.,\n",
       "          0.,   0.,   0.,   0.,   0.,   0.],\n",
       "       [  0.,   0.,   0.,   0.,   0.,   0.,   0.,   0.,   0.,   0.,   0.,\n",
       "          0.,   0.,   0.,   0.,   0.,   0.,   0.,   0.,   0.,   0.,   0.,\n",
       "          0.,   0.,   0.,   0.,   0.,   0.],\n",
       "       [  0.,   0.,   0.,   0.,   0.,   0.,   0.,   0.,   0.,   0.,   0.,\n",
       "          0.,   0.,   0.,   0.,   0.,   0.,   0.,   0.,   0.,   0.,   0.,\n",
       "          0.,   0.,   0.,   0.,   0.,   0.]])"
      ]
     },
     "execution_count": 98,
     "metadata": {},
     "output_type": "execute_result"
    }
   ],
   "source": [
    "# x_train[0] 데이터 확인\n",
    "# x_traini[0] 값 출력\n",
    "X_train_np[0]"
   ]
  },
  {
   "cell_type": "code",
   "execution_count": 99,
   "id": "64687c63",
   "metadata": {
    "scrolled": true
   },
   "outputs": [
    {
     "data": {
      "text/plain": [
       "5"
      ]
     },
     "execution_count": 99,
     "metadata": {},
     "output_type": "execute_result"
    }
   ],
   "source": [
    "y_train_np[0]"
   ]
  },
  {
   "cell_type": "code",
   "execution_count": 100,
   "id": "joUirjDUmlPu",
   "metadata": {
    "colab": {
     "base_uri": "https://localhost:8080/",
     "height": 303
    },
    "executionInfo": {
     "elapsed": 2324,
     "status": "ok",
     "timestamp": 1620127354673,
     "user": {
      "displayName": "오승환",
      "photoUrl": "https://lh3.googleusercontent.com/a-/AOh14GgBRB1w8bMEGhEpsp7aa7I9MQGz2D37o6hJeKeW=s64",
      "userId": "00933700884551564729"
     },
     "user_tz": -540
    },
    "id": "joUirjDUmlPu",
    "outputId": "719f4b6d-87e5-4ca1-a020-493490fe1b8d"
   },
   "outputs": [
    {
     "data": {
      "image/png": "[encoded data removed]",
      "text/plain": [
       "<Figure size 500x500 with 1 Axes>"
      ]
     },
     "metadata": {},
     "output_type": "display_data"
    }
   ],
   "source": [
    "# 샘플 이미지 출력\n",
    "plt.figure(figsize=(5,5))\n",
    "plt.imshow(X_train_np[0], cmap='gray')\n",
    "plt.axis('off')\n",
    "plt.show();"
   ]
  },
  {
   "cell_type": "code",
   "execution_count": 101,
   "id": "b2e862a0",
   "metadata": {},
   "outputs": [
    {
     "data": {
      "text/plain": [
       "0    5923\n",
       "1    6742\n",
       "2    5958\n",
       "3    6131\n",
       "4    5842\n",
       "5    5421\n",
       "6    5918\n",
       "7    6265\n",
       "8    5851\n",
       "9    5949\n",
       "dtype: int64"
      ]
     },
     "execution_count": 101,
     "metadata": {},
     "output_type": "execute_result"
    }
   ],
   "source": [
    "# 타겟 분포확인\n",
    "pd.Series(y_train_np).value_counts().sort_index()"
   ]
  },
  {
   "cell_type": "markdown",
   "id": "fc8869a8",
   "metadata": {},
   "source": [
    "#### 데이터 준비: 분할, 정규화, 차원 변경, 원핫인코딩"
   ]
  },
  {
   "cell_type": "code",
   "execution_count": 102,
   "id": "224cc0ff",
   "metadata": {},
   "outputs": [],
   "source": [
    "# 데이터 분할\n",
    "from sklearn.model_selection import train_test_split\n",
    "\n",
    "X_train, X_val, y_train, y_val = train_test_split(X_train_np, y_train_np,\n",
    "                                                  stratify=y_train_np,\n",
    "                                                  test_size=0.2,\n",
    "                                                  random_state=42)"
   ]
  },
  {
   "cell_type": "code",
   "execution_count": 103,
   "id": "d2c59bbf",
   "metadata": {},
   "outputs": [
    {
     "data": {
      "text/plain": [
       "((48000, 28, 28), (12000, 28, 28), (48000,), (12000,))"
      ]
     },
     "execution_count": 103,
     "metadata": {},
     "output_type": "execute_result"
    }
   ],
   "source": [
    "X_train.shape, X_val.shape, y_train.shape, y_val.shape"
   ]
  },
  {
   "cell_type": "code",
   "execution_count": null,
   "id": "01fa3b8f",
   "metadata": {},
   "outputs": [],
   "source": []
  },
  {
   "cell_type": "code",
   "execution_count": 104,
   "id": "485bf312",
   "metadata": {},
   "outputs": [],
   "source": [
    "# 데이터 정규화\n",
    "X_train = X_train / 255\n",
    "X_val = X_val / 255"
   ]
  },
  {
   "cell_type": "code",
   "execution_count": 105,
   "id": "891b91ff",
   "metadata": {},
   "outputs": [
    {
     "data": {
      "text/plain": [
       "((48000, 784), (12000, 784))"
      ]
     },
     "execution_count": 105,
     "metadata": {},
     "output_type": "execute_result"
    }
   ],
   "source": [
    "# 심층 신경망 입력을 위해 데이터 차원 변경\n",
    "X_train = X_train.reshape(-1, 784)\n",
    "X_val = X_val.reshape(-1, 784)\n",
    "\n",
    "X_train.shape, X_val.shape"
   ]
  },
  {
   "cell_type": "code",
   "execution_count": 106,
   "id": "d7c8dc41",
   "metadata": {},
   "outputs": [],
   "source": [
    "# y_train, y_val 원핫인코딩(=카테고리화)\n",
    "from tensorflow.keras.utils import to_categorical\n",
    "\n",
    "y_train_encoded = to_categorical(y_train)\n",
    "y_val_encoded = to_categorical(y_val)"
   ]
  },
  {
   "cell_type": "code",
   "execution_count": null,
   "id": "b4128481",
   "metadata": {},
   "outputs": [],
   "source": []
  },
  {
   "cell_type": "code",
   "execution_count": null,
   "id": "5276f54a",
   "metadata": {},
   "outputs": [],
   "source": []
  },
  {
   "cell_type": "markdown",
   "id": "b7082f05",
   "metadata": {},
   "source": [
    "## 순차 심층 신경망(DNN) 구축하기"
   ]
  },
  {
   "cell_type": "code",
   "execution_count": 107,
   "id": "048af794",
   "metadata": {},
   "outputs": [],
   "source": [
    "# 모델 구조 및 최적화 설계\n",
    "from keras.models import Sequential\n",
    "from keras.layers import Dense\n",
    "\n",
    "dnn_model = tf.keras.Sequential([\n",
    "    Dense(256, activation='relu', input_shape=(784,)),\n",
    "    Dense(10, activation='softmax')\n",
    "])\n",
    "\n",
    "dnn_model.compile(loss='categorical_crossentropy',\n",
    "                  metrics='accuracy',\n",
    "                  optimizer='adam')\n",
    "#model = Sequential()\n",
    "#model.add(Dense(32, activation='relu', input_shape=(784,)))\n",
    "#model.add(Dense(16, activation='relu'))\n",
    "#model.add(Dense(10, activation='softmax'))"
   ]
  },
  {
   "cell_type": "code",
   "execution_count": 108,
   "id": "d069494d",
   "metadata": {},
   "outputs": [
    {
     "name": "stdout",
     "output_type": "stream",
     "text": [
      "Model: \"sequential_7\"\n",
      "_________________________________________________________________\n",
      " Layer (type)                Output Shape              Param #   \n",
      "=================================================================\n",
      " dense_14 (Dense)            (None, 256)               200960    \n",
      "                                                                 \n",
      " dense_15 (Dense)            (None, 10)                2570      \n",
      "                                                                 \n",
      "=================================================================\n",
      "Total params: 203,530\n",
      "Trainable params: 203,530\n",
      "Non-trainable params: 0\n",
      "_________________________________________________________________\n"
     ]
    }
   ],
   "source": [
    "dnn_model.summary()"
   ]
  },
  {
   "cell_type": "code",
   "execution_count": 31,
   "id": "a48679ee",
   "metadata": {},
   "outputs": [
    {
     "name": "stdout",
     "output_type": "stream",
     "text": [
      "Collecting pydot\n",
      "  Downloading pydot-1.4.2-py2.py3-none-any.whl (21 kB)\n",
      "Requirement already satisfied: pyparsing>=2.1.4 in /Users/kimminsoo/miniconda/envs/tensorflow/lib/python3.8/site-packages (from pydot) (3.0.9)\n",
      "Installing collected packages: pydot\n",
      "Successfully installed pydot-1.4.2\n",
      "Collecting graphviz\n",
      "  Using cached graphviz-0.20.1-py3-none-any.whl (47 kB)\n",
      "Installing collected packages: graphviz\n",
      "Successfully installed graphviz-0.20.1\n"
     ]
    }
   ],
   "source": [
    "!pip install pydot\n",
    "!pip install graphviz"
   ]
  },
  {
   "cell_type": "code",
   "execution_count": 109,
   "id": "e849edee",
   "metadata": {},
   "outputs": [
    {
     "name": "stdout",
     "output_type": "stream",
     "text": [
      "You must install pydot (`pip install pydot`) and install graphviz (see instructions at https://graphviz.gitlab.io/download/) for plot_model/model_to_dot to work.\n"
     ]
    }
   ],
   "source": [
    "#모델 구조 시각화\n",
    "from tensorflow.keras.utils import plot_model\n",
    "\n",
    "plot_model(dnn_model, show_shapes=True, show_layer_names=True)"
   ]
  },
  {
   "cell_type": "code",
   "execution_count": 110,
   "id": "d993b049",
   "metadata": {},
   "outputs": [
    {
     "name": "stdout",
     "output_type": "stream",
     "text": [
      "Epoch 1/5\n"
     ]
    },
    {
     "name": "stderr",
     "output_type": "stream",
     "text": [
      "2023-02-23 11:30:41.874105: I tensorflow/core/grappler/optimizers/custom_graph_optimizer_registry.cc:113] Plugin optimizer for device_type GPU is enabled.\n"
     ]
    },
    {
     "name": "stdout",
     "output_type": "stream",
     "text": [
      "1494/1500 [============================>.] - ETA: 0s - loss: 0.2491 - accuracy: 0.9290"
     ]
    },
    {
     "name": "stderr",
     "output_type": "stream",
     "text": [
      "2023-02-23 11:30:54.192948: I tensorflow/core/grappler/optimizers/custom_graph_optimizer_registry.cc:113] Plugin optimizer for device_type GPU is enabled.\n"
     ]
    },
    {
     "name": "stdout",
     "output_type": "stream",
     "text": [
      "1500/1500 [==============================] - 15s 9ms/step - loss: 0.2486 - accuracy: 0.9290 - val_loss: 0.1377 - val_accuracy: 0.9599\n",
      "Epoch 2/5\n",
      "1500/1500 [==============================] - 14s 9ms/step - loss: 0.1042 - accuracy: 0.9687 - val_loss: 0.1127 - val_accuracy: 0.9657\n",
      "Epoch 3/5\n",
      "1500/1500 [==============================] - 14s 9ms/step - loss: 0.0679 - accuracy: 0.9796 - val_loss: 0.0909 - val_accuracy: 0.9744\n",
      "Epoch 4/5\n",
      "1500/1500 [==============================] - 14s 10ms/step - loss: 0.0484 - accuracy: 0.9847 - val_loss: 0.0872 - val_accuracy: 0.9753\n",
      "Epoch 5/5\n",
      "1500/1500 [==============================] - 14s 10ms/step - loss: 0.0361 - accuracy: 0.9880 - val_loss: 0.0913 - val_accuracy: 0.9726\n"
     ]
    }
   ],
   "source": [
    "# dnn_model 학습 \n",
    "dnn_hist = dnn_model.fit(X_train, y_train_encoded, epochs=5,\n",
    "                          validation_data=(X_val, y_val_encoded))\n"
   ]
  },
  {
   "cell_type": "code",
   "execution_count": 111,
   "id": "fc98b39f",
   "metadata": {},
   "outputs": [],
   "source": [
    "# 모델을 파일로 저장\n",
    "dnn_model.save('mnist_20230223.h5')"
   ]
  },
  {
   "cell_type": "code",
   "execution_count": null,
   "id": "8fdf9301",
   "metadata": {},
   "outputs": [],
   "source": []
  },
  {
   "cell_type": "code",
   "execution_count": 113,
   "id": "d8b85fc2",
   "metadata": {},
   "outputs": [],
   "source": [
    "# 모델 복원\n",
    "h5_loaded = keras.models.load_model('mnist_20230223.h5')"
   ]
  },
  {
   "cell_type": "code",
   "execution_count": 116,
   "id": "71f4894c",
   "metadata": {},
   "outputs": [
    {
     "name": "stdout",
     "output_type": "stream",
     "text": [
      "375/375 [==============================] - 3s 7ms/step - loss: 0.0913 - accuracy: 0.9726\n",
      "[0.09133534878492355, 0.9725832939147949]\n",
      " 16/375 [>.............................] - ETA: 2s - loss: 0.1075 - accuracy: 0.9707"
     ]
    },
    {
     "name": "stderr",
     "output_type": "stream",
     "text": [
      "2023-02-23 11:33:45.562979: I tensorflow/core/grappler/optimizers/custom_graph_optimizer_registry.cc:113] Plugin optimizer for device_type GPU is enabled.\n"
     ]
    },
    {
     "name": "stdout",
     "output_type": "stream",
     "text": [
      "375/375 [==============================] - 3s 7ms/step - loss: 0.0913 - accuracy: 0.9726\n",
      "[0.09133534878492355, 0.9725832939147949]\n"
     ]
    }
   ],
   "source": [
    "# 모델 성능 테스트 \n",
    "print(dnn_model.evaluate(X_val, y_val_encoded))\n",
    "print(h5_loaded.evaluate(X_val, y_val_encoded))"
   ]
  },
  {
   "cell_type": "code",
   "execution_count": null,
   "id": "564f74b9",
   "metadata": {},
   "outputs": [],
   "source": [
    "# 복원한 모델 성능 테스트\n"
   ]
  },
  {
   "cell_type": "markdown",
   "id": "portuguese-oriental",
   "metadata": {
    "id": "portuguese-oriental"
   },
   "source": [
    "## Simple CNN"
   ]
  },
  {
   "cell_type": "markdown",
   "id": "c52cfb29",
   "metadata": {},
   "source": [
    "####  데이터셋 준비하기"
   ]
  },
  {
   "cell_type": "code",
   "execution_count": 41,
   "id": "d13076c4",
   "metadata": {},
   "outputs": [],
   "source": [
    "# 데이터 분할\n",
    "X_train, X_val, y_train, y_test = train_test_split(X_train_np, y_train_np,\n",
    "                                                   stratify=y_train_np,\n",
    "                                                   test_size=0.2,\n",
    "                                                   random_state=42)"
   ]
  },
  {
   "cell_type": "code",
   "execution_count": 43,
   "id": "professional-quantity",
   "metadata": {
    "colab": {
     "base_uri": "https://localhost:8080/"
    },
    "executionInfo": {
     "elapsed": 4296,
     "status": "ok",
     "timestamp": 1617871380359,
     "user": {
      "displayName": "오승환",
      "photoUrl": "https://lh3.googleusercontent.com/a-/AOh14GgBRB1w8bMEGhEpsp7aa7I9MQGz2D37o6hJeKeW=s64",
      "userId": "00933700884551564729"
     },
     "user_tz": -540
    },
    "id": "professional-quantity",
    "outputId": "652adc39-35d6-456f-ff31-9fec9415535c"
   },
   "outputs": [
    {
     "name": "stdout",
     "output_type": "stream",
     "text": [
      "(60000, 28, 28)\n",
      "(48000, 28, 28, 1) (12000, 28, 28, 1) (10000, 28, 28, 1)\n"
     ]
    }
   ],
   "source": [
    "# CNN은 (데이터샘플 수, 행의 갯수, 열의 갯수, 채널수)의 형태로 제공되어야 함.\n",
    "#When using this layer as the first layer in a model, \n",
    "#provide the keyword argument input_shape (tuple of integers or None, does not include the sample axis), \n",
    "#e.g. input_shape=(128, 128, 3) for 128x128 RGB pictures in data_format=\"channels_last\". \n",
    "#You can use None when a dimension has variable size.\n",
    "# https://www.tensorflow.org/api_docs/python/tf/keras/layers/Conv2D\n",
    "# 채널 추가 :minst 데이터셋은 색을 나타내는 채널이 1개인 모노컬러. 색상 채널 추가\n",
    "print(X_train_np.shape)\n",
    "\n",
    "X_train_in = X_train[..., tf.newaxis]\n",
    "X_val_in = X_val[..., tf.newaxis]\n",
    "X_test_in = X_test[..., tf.newaxis]\n",
    "\n",
    "print(X_train_in.shape, X_val_in.shape, X_test_in.shape)\n"
   ]
  },
  {
   "cell_type": "raw",
   "id": "883e4d1f",
   "metadata": {},
   "source": [
    "# 방법 2) numpy의 newaxis를 이용하는 법\n",
    "import numpy as np\n",
    "x_train_in = x_train[:, :, :, np.newaxis]\n",
    "x_valid_in = x_valid[:, :, :, np.newaxis]\n",
    "\n",
    "print(x_train_in.shape, x_valid_in.shape)\n",
    "\n",
    "#채널 추가방법: \n",
    "tf.newaxis\n",
    "np.newaxis\n",
    "tf.expand_dims()\n",
    "tf.expand_dims(x_train, -1)"
   ]
  },
  {
   "cell_type": "code",
   "execution_count": null,
   "id": "7974ebc8",
   "metadata": {},
   "outputs": [],
   "source": []
  },
  {
   "cell_type": "code",
   "execution_count": 49,
   "id": "unusual-clone",
   "metadata": {
    "id": "unusual-clone"
   },
   "outputs": [],
   "source": [
    "# Sequential API를 사용하여 샘플 모델 생성: 합성곱 레이어1개, 풀링 레이어 1개\n",
    "from keras.layers import Conv2D, MaxPooling2D, Flatten\n",
    "\n",
    "cnn_model = tf.keras.Sequential([\n",
    "                Conv2D(filters=32, kernel_size=(3, 3), activation='relu',\n",
    "                       input_shape=(28,28,1), name='conv'),\n",
    "                MaxPooling2D((2,2), name='pool'),\n",
    "                Flatten(),\n",
    "                Dense(10,activation='softmax')\n",
    "])"
   ]
  },
  {
   "cell_type": "code",
   "execution_count": 50,
   "id": "211de37b",
   "metadata": {
    "colab": {
     "base_uri": "https://localhost:8080/"
    },
    "executionInfo": {
     "elapsed": 116071,
     "status": "ok",
     "timestamp": 1617871492139,
     "user": {
      "displayName": "오승환",
      "photoUrl": "https://lh3.googleusercontent.com/a-/AOh14GgBRB1w8bMEGhEpsp7aa7I9MQGz2D37o6hJeKeW=s64",
      "userId": "00933700884551564729"
     },
     "user_tz": -540
    },
    "id": "bulgarian-reader",
    "outputId": "c78392b6-0e9b-4273-b072-06ee73d14bf4"
   },
   "outputs": [],
   "source": [
    "# 모델 컴파일\n",
    "cnn_model.compile(loss='sparse_categorical_crossentropy', \n",
    "                  metrics='accuracy', optimizer='adam')"
   ]
  },
  {
   "cell_type": "code",
   "execution_count": 51,
   "id": "5a228e03",
   "metadata": {},
   "outputs": [
    {
     "name": "stdout",
     "output_type": "stream",
     "text": [
      "Model: \"sequential_4\"\n",
      "_________________________________________________________________\n",
      " Layer (type)                Output Shape              Param #   \n",
      "=================================================================\n",
      " conv (Conv2D)               (None, 26, 26, 32)        320       \n",
      "                                                                 \n",
      " pool (MaxPooling2D)         (None, 13, 13, 32)        0         \n",
      "                                                                 \n",
      " flatten (Flatten)           (None, 5408)              0         \n",
      "                                                                 \n",
      " dense_9 (Dense)             (None, 10)                54090     \n",
      "                                                                 \n",
      "=================================================================\n",
      "Total params: 54,410\n",
      "Trainable params: 54,410\n",
      "Non-trainable params: 0\n",
      "_________________________________________________________________\n"
     ]
    }
   ],
   "source": [
    "#모델 구조 파악\n",
    "\n",
    "# conv 레이어 output( valid padding : 28, 28 -> 26, 26의 특성맵이 32는 커널(필터) 수만큼 생성)\n",
    "# (28, 28, 1) 이미지에 서로 다른 32개 커널을 적용해서 32종류의 피처(특징)을 추출\n",
    "# pool 레이어: (2, 2) 풀링을 적용하므로 이미지 크기가 1/2로 줄어듬(13, 13)\n",
    "\n",
    "# conv param: 320  (학습 가능한 파라미터 수)\n",
    "#  ( 3* 3(커널의 크기) * 1( 채널 수) * 필터수(32) = 288 ) + (32(필터별 상수항, 바이어스) = 320\n",
    "cnn_model.summary()\n",
    "\n",
    "## conv_param = (3 * 3) * 32 + 32(bias)\n",
    "## dense_9_param = 5408 * 10 + 10"
   ]
  },
  {
   "cell_type": "code",
   "execution_count": 58,
   "id": "e8f885bb",
   "metadata": {},
   "outputs": [
    {
     "ename": "SyntaxError",
     "evalue": "invalid syntax (2451845687.py, line 1)",
     "output_type": "error",
     "traceback": [
      "\u001b[0;36m  Cell \u001b[0;32mIn[58], line 1\u001b[0;36m\u001b[0m\n\u001b[0;31m    pip install pydot\u001b[0m\n\u001b[0m        ^\u001b[0m\n\u001b[0;31mSyntaxError\u001b[0m\u001b[0;31m:\u001b[0m invalid syntax\n"
     ]
    }
   ],
   "source": [
    "pip install pydot\n",
    "pip install graphviz"
   ]
  },
  {
   "cell_type": "code",
   "execution_count": 57,
   "id": "52137ccf",
   "metadata": {},
   "outputs": [
    {
     "name": "stdout",
     "output_type": "stream",
     "text": [
      "You must install pydot (`pip install pydot`) and install graphviz (see instructions at https://graphviz.gitlab.io/download/) for plot_model/model_to_dot to work.\n"
     ]
    }
   ],
   "source": [
    "#모델 구조 시각화\n",
    "from keras.utils import plot_model\n",
    "\n",
    "plot_model(cnn_model, show_shapes=True)"
   ]
  },
  {
   "cell_type": "markdown",
   "id": "fd509795",
   "metadata": {},
   "source": [
    "* 모델 구조 세부 확인"
   ]
  },
  {
   "cell_type": "code",
   "execution_count": 59,
   "id": "476624e4",
   "metadata": {},
   "outputs": [
    {
     "data": {
      "text/plain": [
       "<KerasTensor: shape=(None, 28, 28, 1) dtype=float32 (created by layer 'conv_input')>"
      ]
     },
     "execution_count": 59,
     "metadata": {},
     "output_type": "execute_result"
    }
   ],
   "source": [
    "# 모델의 입력 텐서 확인\n",
    "cnn_model.input\n",
    "# (None, 28, 28, 1) : 가장 앞에 있는 축이 None인 것은 batch크가기 들어오는 자리로 배치 크리로 어떤 값이든 가능하다는 뜻"
   ]
  },
  {
   "cell_type": "code",
   "execution_count": 61,
   "id": "5c02d60f",
   "metadata": {},
   "outputs": [
    {
     "data": {
      "text/plain": [
       "<KerasTensor: shape=(None, 10) dtype=float32 (created by layer 'dense_9')>"
      ]
     },
     "execution_count": 61,
     "metadata": {},
     "output_type": "execute_result"
    }
   ],
   "source": [
    "# 모델의 출력 텐서 \n",
    "cnn_model.output"
   ]
  },
  {
   "cell_type": "code",
   "execution_count": 62,
   "id": "ac29f9e6",
   "metadata": {},
   "outputs": [
    {
     "data": {
      "text/plain": [
       "[<keras.layers.convolutional.conv2d.Conv2D at 0x140311bb0>,\n",
       " <keras.layers.pooling.max_pooling2d.MaxPooling2D at 0x141b92fd0>,\n",
       " <keras.layers.reshaping.flatten.Flatten at 0x140311b80>,\n",
       " <keras.layers.core.dense.Dense at 0x140311520>]"
      ]
     },
     "execution_count": 62,
     "metadata": {},
     "output_type": "execute_result"
    }
   ],
   "source": [
    "# 모델의 레이어 확인\n",
    "cnn_model.layers"
   ]
  },
  {
   "cell_type": "code",
   "execution_count": 63,
   "id": "26b6c6c5",
   "metadata": {},
   "outputs": [
    {
     "data": {
      "text/plain": [
       "<keras.layers.convolutional.conv2d.Conv2D at 0x140311bb0>"
      ]
     },
     "execution_count": 63,
     "metadata": {},
     "output_type": "execute_result"
    }
   ],
   "source": [
    "# 레이어 선택: 리스트 인덱싱\n",
    "cnn_model.layers[0]"
   ]
  },
  {
   "cell_type": "code",
   "execution_count": 64,
   "id": "2547ce24",
   "metadata": {},
   "outputs": [
    {
     "data": {
      "text/plain": [
       "<KerasTensor: shape=(None, 28, 28, 1) dtype=float32 (created by layer 'conv_input')>"
      ]
     },
     "execution_count": 64,
     "metadata": {},
     "output_type": "execute_result"
    }
   ],
   "source": [
    "# 첫 번째 레이어 입력\n",
    "cnn_model.layers[0].input"
   ]
  },
  {
   "cell_type": "code",
   "execution_count": null,
   "id": "1b260628",
   "metadata": {},
   "outputs": [],
   "source": [
    "#첫 번째 레이어 출력\n",
    "cnn_model.layers[0].output"
   ]
  },
  {
   "cell_type": "code",
   "execution_count": 66,
   "id": "52bdebb4",
   "metadata": {},
   "outputs": [
    {
     "data": {
      "text/plain": [
       "<tf.Tensor: shape=(1, 32), dtype=float32, numpy=\n",
       "array([[-0.05350117,  0.09276827,  0.05257404, -0.14022663,  0.08172557,\n",
       "        -0.03108435, -0.05894842,  0.13990779,  0.13022421,  0.01598527,\n",
       "        -0.09532547, -0.10391201, -0.10452561,  0.00989531,  0.02015507,\n",
       "         0.00275883, -0.00496802, -0.09784339, -0.03686306, -0.00224382,\n",
       "         0.01905048, -0.08308899, -0.09032921,  0.14180331, -0.03709526,\n",
       "        -0.0343172 ,  0.0774094 ,  0.05177011, -0.02861769,  0.08075228,\n",
       "         0.05082749,  0.06650697]], dtype=float32)>"
      ]
     },
     "execution_count": 66,
     "metadata": {},
     "output_type": "execute_result"
    }
   ],
   "source": [
    "# 첫 번째 레이어의 가중치\n",
    "cnn_model.layers[0].weights[0][0][0]"
   ]
  },
  {
   "cell_type": "code",
   "execution_count": 69,
   "id": "789c3c37",
   "metadata": {},
   "outputs": [
    {
     "data": {
      "text/plain": [
       "<tf.Variable 'conv/kernel:0' shape=(3, 3, 1, 32) dtype=float32, numpy=\n",
       "array([[[[-0.05350117,  0.09276827,  0.05257404, -0.14022663,\n",
       "           0.08172557, -0.03108435, -0.05894842,  0.13990779,\n",
       "           0.13022421,  0.01598527, -0.09532547, -0.10391201,\n",
       "          -0.10452561,  0.00989531,  0.02015507,  0.00275883,\n",
       "          -0.00496802, -0.09784339, -0.03686306, -0.00224382,\n",
       "           0.01905048, -0.08308899, -0.09032921,  0.14180331,\n",
       "          -0.03709526, -0.0343172 ,  0.0774094 ,  0.05177011,\n",
       "          -0.02861769,  0.08075228,  0.05082749,  0.06650697]],\n",
       "\n",
       "        [[ 0.01479454, -0.11101073,  0.04229853,  0.13902901,\n",
       "           0.09106952,  0.0581906 ,  0.13015549, -0.13560298,\n",
       "           0.12393694,  0.04301721, -0.05212449, -0.1418167 ,\n",
       "           0.11973895, -0.03346382,  0.07745166,  0.11801143,\n",
       "           0.02135228,  0.08338763, -0.02018974, -0.08778479,\n",
       "           0.0697168 , -0.02341795,  0.09021264, -0.08494736,\n",
       "           0.04142226, -0.09527446, -0.01466471,  0.03007235,\n",
       "           0.08986127, -0.02474115, -0.0672866 , -0.08787398]],\n",
       "\n",
       "        [[ 0.07481529,  0.0949523 , -0.00156993,  0.05305341,\n",
       "          -0.05677991, -0.06615074,  0.09491462,  0.03692226,\n",
       "          -0.09908687, -0.0084022 ,  0.05515504,  0.13093112,\n",
       "           0.12454768,  0.00852595, -0.08199371, -0.03011338,\n",
       "          -0.09535258, -0.0218043 ,  0.04926196, -0.06100145,\n",
       "          -0.0236312 ,  0.07028726,  0.11321609,  0.12841459,\n",
       "          -0.11464833,  0.12603249,  0.05471267,  0.13843687,\n",
       "           0.14000441, -0.08413821, -0.06709033,  0.08358268]]],\n",
       "\n",
       "\n",
       "       [[[ 0.06246677, -0.00612399, -0.08139709,  0.08076838,\n",
       "           0.12282376,  0.01778883, -0.00687821, -0.05530814,\n",
       "           0.01102522, -0.12400995,  0.03835851,  0.04081313,\n",
       "          -0.04485451,  0.09835649, -0.08084629, -0.11157889,\n",
       "          -0.10410856,  0.12967695,  0.04214765,  0.01562203,\n",
       "          -0.13540407,  0.0684644 , -0.04093916, -0.05709682,\n",
       "           0.05402863, -0.08212787, -0.13961598, -0.0214554 ,\n",
       "          -0.11851654, -0.02625924,  0.02177478, -0.0002204 ]],\n",
       "\n",
       "        [[-0.08294161, -0.12121787,  0.10927381, -0.09356543,\n",
       "          -0.02191904,  0.13663773, -0.01802715, -0.10410229,\n",
       "          -0.10853156,  0.1048024 , -0.08917058, -0.04590999,\n",
       "           0.06163657, -0.02950967, -0.14110483,  0.11536588,\n",
       "           0.08502799,  0.08339384,  0.12296335,  0.12389953,\n",
       "           0.11482377, -0.08924144, -0.00044541,  0.08914353,\n",
       "           0.09561178, -0.12639095, -0.13401535,  0.04706231,\n",
       "          -0.05212385, -0.1164709 , -0.05568619, -0.14148769]],\n",
       "\n",
       "        [[ 0.03787148, -0.09816648,  0.04994798,  0.11588584,\n",
       "          -0.04615016, -0.00979754, -0.05578202, -0.01771898,\n",
       "           0.07088064,  0.06697905, -0.01355731, -0.00272949,\n",
       "          -0.08842665,  0.00576359,  0.10622743, -0.00875056,\n",
       "           0.03960583,  0.04170538,  0.13146456, -0.02555804,\n",
       "           0.10387352,  0.10981198, -0.06311955,  0.10966371,\n",
       "          -0.08016796, -0.05936896, -0.13089427,  0.08916882,\n",
       "           0.08925584,  0.00619897, -0.10660911,  0.01388599]]],\n",
       "\n",
       "\n",
       "       [[[ 0.07833771,  0.03366874, -0.0712482 ,  0.11183612,\n",
       "          -0.06133687,  0.05779913, -0.06759495, -0.0161418 ,\n",
       "          -0.00953291, -0.12512928, -0.02814761,  0.05484192,\n",
       "          -0.10561441, -0.07740503, -0.0463606 ,  0.00935633,\n",
       "           0.02599132, -0.08033903,  0.00915554, -0.12749876,\n",
       "          -0.13090122, -0.02311984,  0.08226681, -0.12967072,\n",
       "           0.13348024, -0.00251241, -0.03677858, -0.04680353,\n",
       "          -0.13428564,  0.14144449,  0.00617644, -0.08440711]],\n",
       "\n",
       "        [[ 0.06204274,  0.09740025,  0.12913127,  0.11402597,\n",
       "           0.03649795, -0.11763151,  0.01932815, -0.06036799,\n",
       "          -0.0886093 ,  0.04715189,  0.03383377, -0.12956141,\n",
       "          -0.00106138,  0.04192552, -0.04100043, -0.05107185,\n",
       "          -0.04632138,  0.06797014, -0.09519527, -0.02400396,\n",
       "           0.08140926, -0.01165664, -0.02079036,  0.01792139,\n",
       "          -0.13043605,  0.07197699, -0.0900695 , -0.05455791,\n",
       "          -0.0554807 , -0.11765353,  0.07180837, -0.02156068]],\n",
       "\n",
       "        [[ 0.08179815, -0.10912609, -0.04191501,  0.00204347,\n",
       "          -0.09532137,  0.01168026,  0.02176739, -0.09425097,\n",
       "           0.08549644, -0.04410973, -0.05476151,  0.13362767,\n",
       "          -0.01894194,  0.00520106,  0.1010734 , -0.07970174,\n",
       "           0.07416882, -0.12859447,  0.00374191,  0.13457115,\n",
       "          -0.04735346, -0.13317281, -0.06005264,  0.02483369,\n",
       "           0.07297063,  0.05856407,  0.01673754, -0.02817404,\n",
       "           0.096012  ,  0.07536434,  0.01145382,  0.00695191]]]],\n",
       "      dtype=float32)>"
      ]
     },
     "execution_count": 69,
     "metadata": {},
     "output_type": "execute_result"
    }
   ],
   "source": [
    "# 첫 번째 레이어의 커널 가중치\n",
    "cnn_model.layers[0].kernel"
   ]
  },
  {
   "cell_type": "code",
   "execution_count": null,
   "id": "505b759b",
   "metadata": {},
   "outputs": [],
   "source": []
  },
  {
   "cell_type": "code",
   "execution_count": 70,
   "id": "bulgarian-reader",
   "metadata": {
    "colab": {
     "base_uri": "https://localhost:8080/"
    },
    "executionInfo": {
     "elapsed": 116071,
     "status": "ok",
     "timestamp": 1617871492139,
     "user": {
      "displayName": "오승환",
      "photoUrl": "https://lh3.googleusercontent.com/a-/AOh14GgBRB1w8bMEGhEpsp7aa7I9MQGz2D37o6hJeKeW=s64",
      "userId": "00933700884551564729"
     },
     "user_tz": -540
    },
    "id": "bulgarian-reader",
    "outputId": "c78392b6-0e9b-4273-b072-06ee73d14bf4",
    "scrolled": true
   },
   "outputs": [
    {
     "name": "stdout",
     "output_type": "stream",
     "text": [
      "Epoch 1/10\n"
     ]
    },
    {
     "name": "stderr",
     "output_type": "stream",
     "text": [
      "2023-02-23 10:50:36.852921: I tensorflow/core/grappler/optimizers/custom_graph_optimizer_registry.cc:113] Plugin optimizer for device_type GPU is enabled.\n"
     ]
    },
    {
     "name": "stdout",
     "output_type": "stream",
     "text": [
      "1494/1500 [============================>.] - ETA: 0s - loss: 0.6104 - accuracy: 0.9332"
     ]
    },
    {
     "name": "stderr",
     "output_type": "stream",
     "text": [
      "2023-02-23 10:50:46.091241: I tensorflow/core/grappler/optimizers/custom_graph_optimizer_registry.cc:113] Plugin optimizer for device_type GPU is enabled.\n"
     ]
    },
    {
     "name": "stdout",
     "output_type": "stream",
     "text": [
      "1500/1500 [==============================] - 11s 6ms/step - loss: 0.6090 - accuracy: 0.9333 - val_loss: 0.1304 - val_accuracy: 0.9652\n",
      "Epoch 2/10\n",
      "1500/1500 [==============================] - 8s 6ms/step - loss: 0.0879 - accuracy: 0.9739 - val_loss: 0.1010 - val_accuracy: 0.9707\n",
      "Epoch 3/10\n",
      "1500/1500 [==============================] - 8s 6ms/step - loss: 0.0689 - accuracy: 0.9789 - val_loss: 0.1235 - val_accuracy: 0.9665\n",
      "Epoch 4/10\n",
      "1500/1500 [==============================] - 8s 6ms/step - loss: 0.0593 - accuracy: 0.9821 - val_loss: 0.1381 - val_accuracy: 0.9722\n",
      "Epoch 5/10\n",
      "1500/1500 [==============================] - 8s 6ms/step - loss: 0.0578 - accuracy: 0.9821 - val_loss: 0.1238 - val_accuracy: 0.9699\n",
      "Epoch 6/10\n",
      "1500/1500 [==============================] - 8s 6ms/step - loss: 0.0490 - accuracy: 0.9854 - val_loss: 0.1483 - val_accuracy: 0.9695\n",
      "Epoch 7/10\n",
      "1500/1500 [==============================] - 8s 6ms/step - loss: 0.0397 - accuracy: 0.9879 - val_loss: 0.1532 - val_accuracy: 0.9732\n",
      "Epoch 8/10\n",
      "1500/1500 [==============================] - 8s 6ms/step - loss: 0.0393 - accuracy: 0.9885 - val_loss: 0.1989 - val_accuracy: 0.9671\n",
      "Epoch 9/10\n",
      "1500/1500 [==============================] - 8s 6ms/step - loss: 0.0356 - accuracy: 0.9900 - val_loss: 0.1817 - val_accuracy: 0.9732\n",
      "Epoch 10/10\n",
      "1500/1500 [==============================] - 8s 6ms/step - loss: 0.0355 - accuracy: 0.9912 - val_loss: 0.2306 - val_accuracy: 0.9691\n"
     ]
    }
   ],
   "source": [
    "# 모델 훈련\n",
    "hist = cnn_model.fit(X_train_in, y_train,\n",
    "                      validation_data=(X_val_in, y_val), epochs=10)"
   ]
  },
  {
   "cell_type": "code",
   "execution_count": 72,
   "id": "difficult-princess",
   "metadata": {
    "colab": {
     "base_uri": "https://localhost:8080/"
    },
    "executionInfo": {
     "elapsed": 117755,
     "status": "ok",
     "timestamp": 1617871493829,
     "user": {
      "displayName": "오승환",
      "photoUrl": "https://lh3.googleusercontent.com/a-/AOh14GgBRB1w8bMEGhEpsp7aa7I9MQGz2D37o6hJeKeW=s64",
      "userId": "00933700884551564729"
     },
     "user_tz": -540
    },
    "id": "difficult-princess",
    "outputId": "b4534e27-9679-446b-9ebd-c00baba191d6"
   },
   "outputs": [
    {
     "data": {
      "text/html": [
       "<div>\n",
       "<style scoped>\n",
       "    .dataframe tbody tr th:only-of-type {\n",
       "        vertical-align: middle;\n",
       "    }\n",
       "\n",
       "    .dataframe tbody tr th {\n",
       "        vertical-align: top;\n",
       "    }\n",
       "\n",
       "    .dataframe thead th {\n",
       "        text-align: right;\n",
       "    }\n",
       "</style>\n",
       "<table border=\"1\" class=\"dataframe\">\n",
       "  <thead>\n",
       "    <tr style=\"text-align: right;\">\n",
       "      <th></th>\n",
       "      <th>loss</th>\n",
       "      <th>accuracy</th>\n",
       "      <th>val_loss</th>\n",
       "      <th>val_accuracy</th>\n",
       "    </tr>\n",
       "  </thead>\n",
       "  <tbody>\n",
       "    <tr>\n",
       "      <th>0</th>\n",
       "      <td>0.608958</td>\n",
       "      <td>0.933292</td>\n",
       "      <td>0.130411</td>\n",
       "      <td>0.965167</td>\n",
       "    </tr>\n",
       "    <tr>\n",
       "      <th>1</th>\n",
       "      <td>0.087859</td>\n",
       "      <td>0.973896</td>\n",
       "      <td>0.101012</td>\n",
       "      <td>0.970750</td>\n",
       "    </tr>\n",
       "    <tr>\n",
       "      <th>2</th>\n",
       "      <td>0.068909</td>\n",
       "      <td>0.978875</td>\n",
       "      <td>0.123522</td>\n",
       "      <td>0.966500</td>\n",
       "    </tr>\n",
       "    <tr>\n",
       "      <th>3</th>\n",
       "      <td>0.059328</td>\n",
       "      <td>0.982063</td>\n",
       "      <td>0.138105</td>\n",
       "      <td>0.972167</td>\n",
       "    </tr>\n",
       "    <tr>\n",
       "      <th>4</th>\n",
       "      <td>0.057771</td>\n",
       "      <td>0.982125</td>\n",
       "      <td>0.123770</td>\n",
       "      <td>0.969917</td>\n",
       "    </tr>\n",
       "    <tr>\n",
       "      <th>5</th>\n",
       "      <td>0.048966</td>\n",
       "      <td>0.985354</td>\n",
       "      <td>0.148276</td>\n",
       "      <td>0.969500</td>\n",
       "    </tr>\n",
       "    <tr>\n",
       "      <th>6</th>\n",
       "      <td>0.039699</td>\n",
       "      <td>0.987896</td>\n",
       "      <td>0.153213</td>\n",
       "      <td>0.973250</td>\n",
       "    </tr>\n",
       "    <tr>\n",
       "      <th>7</th>\n",
       "      <td>0.039336</td>\n",
       "      <td>0.988542</td>\n",
       "      <td>0.198851</td>\n",
       "      <td>0.967083</td>\n",
       "    </tr>\n",
       "    <tr>\n",
       "      <th>8</th>\n",
       "      <td>0.035631</td>\n",
       "      <td>0.990042</td>\n",
       "      <td>0.181734</td>\n",
       "      <td>0.973250</td>\n",
       "    </tr>\n",
       "    <tr>\n",
       "      <th>9</th>\n",
       "      <td>0.035492</td>\n",
       "      <td>0.991250</td>\n",
       "      <td>0.230615</td>\n",
       "      <td>0.969083</td>\n",
       "    </tr>\n",
       "  </tbody>\n",
       "</table>\n",
       "</div>"
      ],
      "text/plain": [
       "       loss  accuracy  val_loss  val_accuracy\n",
       "0  0.608958  0.933292  0.130411      0.965167\n",
       "1  0.087859  0.973896  0.101012      0.970750\n",
       "2  0.068909  0.978875  0.123522      0.966500\n",
       "3  0.059328  0.982063  0.138105      0.972167\n",
       "4  0.057771  0.982125  0.123770      0.969917\n",
       "5  0.048966  0.985354  0.148276      0.969500\n",
       "6  0.039699  0.987896  0.153213      0.973250\n",
       "7  0.039336  0.988542  0.198851      0.967083\n",
       "8  0.035631  0.990042  0.181734      0.973250\n",
       "9  0.035492  0.991250  0.230615      0.969083"
      ]
     },
     "execution_count": 72,
     "metadata": {},
     "output_type": "execute_result"
    }
   ],
   "source": [
    "df = pd.DataFrame(hist.history)\n",
    "df"
   ]
  },
  {
   "cell_type": "markdown",
   "id": "50b6cf92",
   "metadata": {},
   "source": [
    "#### 손실과 정확도 그래프: 모델 성능 평가"
   ]
  },
  {
   "cell_type": "markdown",
   "id": "7d6e7ed7",
   "metadata": {},
   "source": [
    "* 모델 학습 결과 시각화"
   ]
  },
  {
   "cell_type": "code",
   "execution_count": 73,
   "id": "3d3ec858",
   "metadata": {},
   "outputs": [
    {
     "data": {
      "image/png": "[encoded data removed]",
      "text/plain": [
       "<Figure size 640x480 with 1 Axes>"
      ]
     },
     "metadata": {},
     "output_type": "display_data"
    }
   ],
   "source": [
    "plt.plot(df.loss, label='train_loss')\n",
    "plt.plot(df.val_loss, label='val_loss')\n",
    "plt.grid()\n",
    "plt.xlabel('epochs')\n",
    "plt.ylabel('loss')\n",
    "plt.legend()\n",
    "plt.show();"
   ]
  },
  {
   "cell_type": "code",
   "execution_count": 74,
   "id": "5f373c7e",
   "metadata": {},
   "outputs": [
    {
     "data": {
      "image/png": "[encoded data removed]",
      "text/plain": [
       "<Figure size 640x480 with 1 Axes>"
      ]
     },
     "metadata": {},
     "output_type": "display_data"
    }
   ],
   "source": [
    "# 시각화\n",
    "plt.plot(df.accuracy, label='train_accuracy')\n",
    "plt.plot(df.val_accuracy, label='val_accuracy')\n",
    "plt.grid()\n",
    "plt.xlabel('epochs')\n",
    "plt.ylabel('accuracy')\n",
    "plt.legend()\n",
    "plt.show();\n"
   ]
  },
  {
   "cell_type": "markdown",
   "id": "18496632",
   "metadata": {},
   "source": [
    "* 예측값 생성 및 제출"
   ]
  },
  {
   "cell_type": "code",
   "execution_count": 75,
   "id": "5ea6cdc5",
   "metadata": {},
   "outputs": [
    {
     "name": "stdout",
     "output_type": "stream",
     "text": [
      " 47/313 [===>..........................] - ETA: 0s"
     ]
    },
    {
     "name": "stderr",
     "output_type": "stream",
     "text": [
      "2023-02-23 11:09:16.032556: I tensorflow/core/grappler/optimizers/custom_graph_optimizer_registry.cc:113] Plugin optimizer for device_type GPU is enabled.\n"
     ]
    },
    {
     "name": "stdout",
     "output_type": "stream",
     "text": [
      "313/313 [==============================] - 1s 2ms/step\n"
     ]
    }
   ],
   "source": [
    "y_pred_proba = cnn_model.predict(X_test_in)"
   ]
  },
  {
   "cell_type": "code",
   "execution_count": 76,
   "id": "ec5a785f",
   "metadata": {},
   "outputs": [
    {
     "data": {
      "text/plain": [
       "10000"
      ]
     },
     "execution_count": 76,
     "metadata": {},
     "output_type": "execute_result"
    }
   ],
   "source": [
    "len(y_pred_proba)"
   ]
  },
  {
   "cell_type": "code",
   "execution_count": 80,
   "id": "12a2b60f",
   "metadata": {},
   "outputs": [
    {
     "data": {
      "text/plain": [
       "array([[0.        , 0.        , 0.        , 0.        , 0.        ,\n",
       "        0.        , 0.        , 1.        , 0.        , 0.        ],\n",
       "       [0.        , 0.00003426, 0.9999423 , 0.00000012, 0.        ,\n",
       "        0.        , 0.00002341, 0.        , 0.        , 0.        ],\n",
       "       [0.        , 1.        , 0.        , 0.        , 0.        ,\n",
       "        0.        , 0.        , 0.        , 0.        , 0.        ],\n",
       "       [1.        , 0.        , 0.        , 0.        , 0.        ,\n",
       "        0.        , 0.        , 0.        , 0.        , 0.        ],\n",
       "       [0.        , 0.        , 0.        , 0.        , 1.        ,\n",
       "        0.        , 0.        , 0.        , 0.        , 0.        ]],\n",
       "      dtype=float32)"
      ]
     },
     "execution_count": 80,
     "metadata": {},
     "output_type": "execute_result"
    }
   ],
   "source": [
    "np.set_printoptions(suppress=True)\n",
    "y_pred_proba[:5]"
   ]
  },
  {
   "cell_type": "code",
   "execution_count": 81,
   "id": "79b81fc9",
   "metadata": {},
   "outputs": [
    {
     "data": {
      "text/plain": [
       "array([7, 2, 1, ..., 4, 5, 6])"
      ]
     },
     "execution_count": 81,
     "metadata": {},
     "output_type": "execute_result"
    }
   ],
   "source": [
    "np.argmax(y_pred_proba, axis=-1)"
   ]
  },
  {
   "cell_type": "code",
   "execution_count": 86,
   "id": "7064cf84",
   "metadata": {},
   "outputs": [
    {
     "data": {
      "text/html": [
       "<div>\n",
       "<style scoped>\n",
       "    .dataframe tbody tr th:only-of-type {\n",
       "        vertical-align: middle;\n",
       "    }\n",
       "\n",
       "    .dataframe tbody tr th {\n",
       "        vertical-align: top;\n",
       "    }\n",
       "\n",
       "    .dataframe thead th {\n",
       "        text-align: right;\n",
       "    }\n",
       "</style>\n",
       "<table border=\"1\" class=\"dataframe\">\n",
       "  <thead>\n",
       "    <tr style=\"text-align: right;\">\n",
       "      <th></th>\n",
       "      <th>no</th>\n",
       "      <th>label</th>\n",
       "    </tr>\n",
       "  </thead>\n",
       "  <tbody>\n",
       "    <tr>\n",
       "      <th>0</th>\n",
       "      <td>1</td>\n",
       "      <td>NaN</td>\n",
       "    </tr>\n",
       "    <tr>\n",
       "      <th>1</th>\n",
       "      <td>2</td>\n",
       "      <td>NaN</td>\n",
       "    </tr>\n",
       "    <tr>\n",
       "      <th>2</th>\n",
       "      <td>3</td>\n",
       "      <td>NaN</td>\n",
       "    </tr>\n",
       "    <tr>\n",
       "      <th>3</th>\n",
       "      <td>4</td>\n",
       "      <td>NaN</td>\n",
       "    </tr>\n",
       "    <tr>\n",
       "      <th>4</th>\n",
       "      <td>5</td>\n",
       "      <td>NaN</td>\n",
       "    </tr>\n",
       "    <tr>\n",
       "      <th>...</th>\n",
       "      <td>...</td>\n",
       "      <td>...</td>\n",
       "    </tr>\n",
       "    <tr>\n",
       "      <th>9995</th>\n",
       "      <td>9996</td>\n",
       "      <td>NaN</td>\n",
       "    </tr>\n",
       "    <tr>\n",
       "      <th>9996</th>\n",
       "      <td>9997</td>\n",
       "      <td>NaN</td>\n",
       "    </tr>\n",
       "    <tr>\n",
       "      <th>9997</th>\n",
       "      <td>9998</td>\n",
       "      <td>NaN</td>\n",
       "    </tr>\n",
       "    <tr>\n",
       "      <th>9998</th>\n",
       "      <td>9999</td>\n",
       "      <td>NaN</td>\n",
       "    </tr>\n",
       "    <tr>\n",
       "      <th>9999</th>\n",
       "      <td>10000</td>\n",
       "      <td>NaN</td>\n",
       "    </tr>\n",
       "  </tbody>\n",
       "</table>\n",
       "<p>10000 rows × 2 columns</p>\n",
       "</div>"
      ],
      "text/plain": [
       "         no  label\n",
       "0         1    NaN\n",
       "1         2    NaN\n",
       "2         3    NaN\n",
       "3         4    NaN\n",
       "4         5    NaN\n",
       "...     ...    ...\n",
       "9995   9996    NaN\n",
       "9996   9997    NaN\n",
       "9997   9998    NaN\n",
       "9998   9999    NaN\n",
       "9999  10000    NaN\n",
       "\n",
       "[10000 rows x 2 columns]"
      ]
     },
     "execution_count": 86,
     "metadata": {},
     "output_type": "execute_result"
    }
   ],
   "source": [
    "submission = pd.read_csv('../data/skyggle_MNIST/submission.csv')\n",
    "submission"
   ]
  },
  {
   "cell_type": "code",
   "execution_count": 88,
   "id": "6bf27269",
   "metadata": {},
   "outputs": [
    {
     "data": {
      "text/html": [
       "<div>\n",
       "<style scoped>\n",
       "    .dataframe tbody tr th:only-of-type {\n",
       "        vertical-align: middle;\n",
       "    }\n",
       "\n",
       "    .dataframe tbody tr th {\n",
       "        vertical-align: top;\n",
       "    }\n",
       "\n",
       "    .dataframe thead th {\n",
       "        text-align: right;\n",
       "    }\n",
       "</style>\n",
       "<table border=\"1\" class=\"dataframe\">\n",
       "  <thead>\n",
       "    <tr style=\"text-align: right;\">\n",
       "      <th></th>\n",
       "      <th>no</th>\n",
       "      <th>label</th>\n",
       "    </tr>\n",
       "  </thead>\n",
       "  <tbody>\n",
       "    <tr>\n",
       "      <th>0</th>\n",
       "      <td>1</td>\n",
       "      <td>7</td>\n",
       "    </tr>\n",
       "    <tr>\n",
       "      <th>1</th>\n",
       "      <td>2</td>\n",
       "      <td>2</td>\n",
       "    </tr>\n",
       "    <tr>\n",
       "      <th>2</th>\n",
       "      <td>3</td>\n",
       "      <td>1</td>\n",
       "    </tr>\n",
       "    <tr>\n",
       "      <th>3</th>\n",
       "      <td>4</td>\n",
       "      <td>0</td>\n",
       "    </tr>\n",
       "    <tr>\n",
       "      <th>4</th>\n",
       "      <td>5</td>\n",
       "      <td>4</td>\n",
       "    </tr>\n",
       "    <tr>\n",
       "      <th>...</th>\n",
       "      <td>...</td>\n",
       "      <td>...</td>\n",
       "    </tr>\n",
       "    <tr>\n",
       "      <th>9995</th>\n",
       "      <td>9996</td>\n",
       "      <td>2</td>\n",
       "    </tr>\n",
       "    <tr>\n",
       "      <th>9996</th>\n",
       "      <td>9997</td>\n",
       "      <td>3</td>\n",
       "    </tr>\n",
       "    <tr>\n",
       "      <th>9997</th>\n",
       "      <td>9998</td>\n",
       "      <td>4</td>\n",
       "    </tr>\n",
       "    <tr>\n",
       "      <th>9998</th>\n",
       "      <td>9999</td>\n",
       "      <td>5</td>\n",
       "    </tr>\n",
       "    <tr>\n",
       "      <th>9999</th>\n",
       "      <td>10000</td>\n",
       "      <td>6</td>\n",
       "    </tr>\n",
       "  </tbody>\n",
       "</table>\n",
       "<p>10000 rows × 2 columns</p>\n",
       "</div>"
      ],
      "text/plain": [
       "         no  label\n",
       "0         1      7\n",
       "1         2      2\n",
       "2         3      1\n",
       "3         4      0\n",
       "4         5      4\n",
       "...     ...    ...\n",
       "9995   9996      2\n",
       "9996   9997      3\n",
       "9997   9998      4\n",
       "9998   9999      5\n",
       "9999  10000      6\n",
       "\n",
       "[10000 rows x 2 columns]"
      ]
     },
     "execution_count": 88,
     "metadata": {},
     "output_type": "execute_result"
    }
   ],
   "source": [
    "submission['label'] = np.argmax(y_pred_proba, axis=-1)\n",
    "submission"
   ]
  },
  {
   "cell_type": "code",
   "execution_count": 89,
   "id": "49733a33",
   "metadata": {},
   "outputs": [],
   "source": [
    "submission.to_csv('cnn_mnist.csv', index=False)"
   ]
  }
 ],
 "metadata": {
  "accelerator": "GPU",
  "colab": {
   "collapsed_sections": [],
   "name": "4.1_mnist_cnn.ipynb",
   "provenance": []
  },
  "kernelspec": {
   "display_name": "tensorflow",
   "language": "python",
   "name": "python3"
  },
  "language_info": {
   "codemirror_mode": {
    "name": "ipython",
    "version": 3
   },
   "file_extension": ".py",
   "mimetype": "text/x-python",
   "name": "python",
   "nbconvert_exporter": "python",
   "pygments_lexer": "ipython3",
   "version": "3.8.16"
  },
  "vscode": {
   "interpreter": {
    "hash": "04fd9c361be45f4292b225cf55355a67dfa13b4c14ac86b9ffe9743e2c71714e"
   }
  }
 },
 "nbformat": 4,
 "nbformat_minor": 5
}
