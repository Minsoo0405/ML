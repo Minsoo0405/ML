{
 "cells": [
  {
   "cell_type": "markdown",
   "id": "9db67c07",
   "metadata": {},
   "source": [
    "##  [quiz] 2021년 11월 1일~ 2022년 1월 27일 코로나 확진자를 학습하고 이후 확진자수 예측하라"
   ]
  },
  {
   "cell_type": "code",
   "execution_count": null,
   "id": "990f77b4",
   "metadata": {},
   "outputs": [],
   "source": [
    "#3일 동안의 확진자 수 추이를 보고 다음 날의 확진자 수를 예측\n",
    "#따라서 인공지능은 3일 동안의 확진자 수를 보고 다음 날의 확진자 수가 어떻게 되었는지 학습\n",
    "#만약 100일 동안의 확진자 수가 있다면 가장 먼저 1, 2, 3일차의 확진자 수가 어떻게 변하였는지 살펴보고 4일차의 확진자 수를 학습한다\n",
    "#그리고 2, 3, 4일차의 확진자 수가 어떻게 변하였는지 살펴보고 5일차의 확진자 수를 학습한다\n",
    "#이러한 방식으로 계속 학습하여 97, 98, 99일차의 확진자 수로 100일차의 확진자 수를 학습한다\n",
    "#연속된 데이터의 형태에서 그 패턴을 찾아내는 순환 신경망(RNN) 방식으로, RNN의 기본적인 형태를 설계하고 학습시켜 본다\n"
   ]
  },
  {
   "cell_type": "markdown",
   "id": "4c831c9b",
   "metadata": {},
   "source": [
    "# RNN-코로나19 확진자수 예측"
   ]
  },
  {
   "cell_type": "markdown",
   "id": "1b733a73",
   "metadata": {},
   "source": [
    "#### 필요한 라이브러리 임포트"
   ]
  },
  {
   "cell_type": "code",
   "execution_count": 2,
   "id": "d89e8c20",
   "metadata": {},
   "outputs": [],
   "source": [
    "from keras.models import Sequential\n",
    "from keras.layers import SimpleRNN, Dense\n",
    "from sklearn.preprocessing import MinMaxScaler\n",
    "from sklearn.metrics import mean_squared_error\n",
    "from sklearn.model_selection import train_test_split\n",
    "\n",
    "import math\n",
    "import numpy as np\n",
    "import matplotlib.pyplot as plt\n",
    "import pandas as pd\n",
    "\n"
   ]
  },
  {
   "cell_type": "markdown",
   "id": "5440adb5",
   "metadata": {},
   "source": [
    "#### 코로나 데이터 가져오기"
   ]
  },
  {
   "cell_type": "code",
   "execution_count": 48,
   "id": "2f66911a",
   "metadata": {},
   "outputs": [
    {
     "data": {
      "text/plain": [
       "array([[366382.],\n",
       "       [367970.],\n",
       "       [370637.],\n",
       "       [373119.],\n",
       "       [375462.],\n",
       "       [377708.],\n",
       "       [379933.],\n",
       "       [381687.],\n",
       "       [383404.],\n",
       "       [385829.],\n",
       "       [388347.],\n",
       "       [390715.],\n",
       "       [393039.],\n",
       "       [395457.],\n",
       "       [397461.],\n",
       "       [399583.],\n",
       "       [402772.],\n",
       "       [406064.],\n",
       "       [409097.],\n",
       "       [412302.],\n",
       "       [415422.],\n",
       "       [418249.],\n",
       "       [420946.],\n",
       "       [425059.],\n",
       "       [428996.],\n",
       "       [432892.],\n",
       "       [436959.],\n",
       "       [440884.],\n",
       "       [444191.],\n",
       "       [447222.],\n",
       "       [452344.],\n",
       "       [457607.],\n",
       "       [462551.],\n",
       "       [467903.],\n",
       "       [473028.],\n",
       "       [477352.],\n",
       "       [482305.],\n",
       "       [489478.],\n",
       "       [496853.],\n",
       "       [503601.],\n",
       "       [510578.],\n",
       "       [517259.],\n",
       "       [523075.],\n",
       "       [528642.],\n",
       "       [536491.],\n",
       "       [544110.],\n",
       "       [551544.],\n",
       "       [558854.],\n",
       "       [565087.],\n",
       "       [570403.],\n",
       "       [575595.],\n",
       "       [583047.],\n",
       "       [589961.],\n",
       "       [596194.],\n",
       "       [602034.],\n",
       "       [607447.],\n",
       "       [611650.],\n",
       "       [615514.],\n",
       "       [620921.],\n",
       "       [625955.],\n",
       "       [630828.],\n",
       "       [635243.],\n",
       "       [639074.],\n",
       "       [642199.],\n",
       "       [645220.],\n",
       "       [649661.],\n",
       "       [653783.],\n",
       "       [657496.],\n",
       "       [661003.],\n",
       "       [664374.],\n",
       "       [667379.],\n",
       "       [670471.],\n",
       "       [674854.],\n",
       "       [679018.],\n",
       "       [683556.],\n",
       "       [687975.],\n",
       "       [692164.],\n",
       "       [696018.],\n",
       "       [700080.],\n",
       "       [705883.],\n",
       "       [712483.],\n",
       "       [719249.],\n",
       "       [726254.],\n",
       "       [733880.],\n",
       "       [741391.],\n",
       "       [749961.],\n",
       "       [762971.],\n",
       "       [777486.]], dtype=float32)"
      ]
     },
     "execution_count": 48,
     "metadata": {},
     "output_type": "execute_result"
    }
   ],
   "source": [
    "df = pd.read_csv('../data/covid_2021101_20220127.csv', usecols=[3], engine='python')\n",
    "data = df.values\n",
    "data = data.astype('float32')   # 정규화하기 위해\n",
    "data"
   ]
  },
  {
   "cell_type": "markdown",
   "id": "fb0666c0",
   "metadata": {},
   "source": [
    "#### 데이터 정규화 및 분류하기"
   ]
  },
  {
   "cell_type": "code",
   "execution_count": 49,
   "id": "f1aa37c8",
   "metadata": {},
   "outputs": [
    {
     "data": {
      "text/plain": [
       "array([[0.        ],\n",
       "       [0.0038628 ],\n",
       "       [0.01035023],\n",
       "       [0.01638758],\n",
       "       [0.02208692],\n",
       "       [0.02755022],\n",
       "       [0.0329625 ],\n",
       "       [0.03722906],\n",
       "       [0.04140562],\n",
       "       [0.04730433],\n",
       "       [0.05342931],\n",
       "       [0.05918944],\n",
       "       [0.06484252],\n",
       "       [0.07072425],\n",
       "       [0.0755989 ],\n",
       "       [0.0807606 ],\n",
       "       [0.08851779],\n",
       "       [0.09652549],\n",
       "       [0.10390317],\n",
       "       [0.11169922],\n",
       "       [0.11928856],\n",
       "       [0.12616515],\n",
       "       [0.1327256 ],\n",
       "       [0.14273036],\n",
       "       [0.15230703],\n",
       "       [0.16178393],\n",
       "       [0.17167675],\n",
       "       [0.18122423],\n",
       "       [0.18926847],\n",
       "       [0.1966412 ],\n",
       "       [0.20910037],\n",
       "       [0.22190249],\n",
       "       [0.23392868],\n",
       "       [0.24694729],\n",
       "       [0.25941372],\n",
       "       [0.26993167],\n",
       "       [0.2819798 ],\n",
       "       [0.29942787],\n",
       "       [0.31736743],\n",
       "       [0.33378172],\n",
       "       [0.35075307],\n",
       "       [0.3670045 ],\n",
       "       [0.3811518 ],\n",
       "       [0.39469337],\n",
       "       [0.41378582],\n",
       "       [0.4323188 ],\n",
       "       [0.4504019 ],\n",
       "       [0.46818328],\n",
       "       [0.4833449 ],\n",
       "       [0.4962759 ],\n",
       "       [0.5089053 ],\n",
       "       [0.52703214],\n",
       "       [0.5438502 ],\n",
       "       [0.5590118 ],\n",
       "       [0.5732175 ],\n",
       "       [0.58638453],\n",
       "       [0.59660816],\n",
       "       [0.6060072 ],\n",
       "       [0.6191597 ],\n",
       "       [0.63140476],\n",
       "       [0.6432582 ],\n",
       "       [0.65399754],\n",
       "       [0.66331637],\n",
       "       [0.67091787],\n",
       "       [0.6782664 ],\n",
       "       [0.6890689 ],\n",
       "       [0.6990956 ],\n",
       "       [0.7081274 ],\n",
       "       [0.7166581 ],\n",
       "       [0.7248579 ],\n",
       "       [0.7321676 ],\n",
       "       [0.73968875],\n",
       "       [0.75035036],\n",
       "       [0.7604791 ],\n",
       "       [0.77151763],\n",
       "       [0.78226686],\n",
       "       [0.7924564 ],\n",
       "       [0.80183125],\n",
       "       [0.8117119 ],\n",
       "       [0.8258276 ],\n",
       "       [0.8418819 ],\n",
       "       [0.85834   ],\n",
       "       [0.87537944],\n",
       "       [0.8939295 ],\n",
       "       [0.91219985],\n",
       "       [0.9330462 ],\n",
       "       [0.9646927 ],\n",
       "       [1.        ]], dtype=float32)"
      ]
     },
     "execution_count": 49,
     "metadata": {},
     "output_type": "execute_result"
    }
   ],
   "source": [
    "scaler = MinMaxScaler()\n",
    "corona = scaler.fit_transform(data)\n",
    "corona"
   ]
  },
  {
   "cell_type": "code",
   "execution_count": 58,
   "id": "ca51d7dc",
   "metadata": {},
   "outputs": [
    {
     "data": {
      "text/plain": [
       "((70, 1), (18, 1))"
      ]
     },
     "execution_count": 58,
     "metadata": {},
     "output_type": "execute_result"
    }
   ],
   "source": [
    "#### shuffle=False임을 유의할 것(sequential 데이터이므로 shuffle해서는 안됨)\n",
    "train, test = train_test_split(corona, test_size=0.2, shuffle=False)\n",
    "train.shape, test.shape"
   ]
  },
  {
   "cell_type": "markdown",
   "id": "f6f937d3",
   "metadata": {},
   "source": [
    "#### 데이터 형태 변경하기"
   ]
  },
  {
   "cell_type": "code",
   "execution_count": 62,
   "id": "d3f188bd",
   "metadata": {},
   "outputs": [],
   "source": [
    "def create_dataset(dataset, look_back):\n",
    "    x_data = []\n",
    "    y_data = []\n",
    "    for i in range(len(dataset) - look_back):\n",
    "        data = dataset[i:(i+look_back), 0]\n",
    "        x_data.append(data)\n",
    "        y_data.append(dataset[i + look_back, 0])\n",
    "\n",
    "    return np.array (x_data), np.array(y_data)"
   ]
  },
  {
   "cell_type": "code",
   "execution_count": 67,
   "id": "a32c6a89",
   "metadata": {},
   "outputs": [
    {
     "data": {
      "text/plain": [
       "((67, 3), (67,))"
      ]
     },
     "execution_count": 67,
     "metadata": {},
     "output_type": "execute_result"
    }
   ],
   "source": [
    "look_back = 3\n",
    "x_train, y_train = create_dataset(train, look_back)\n",
    "x_train.shape, y_train.shape"
   ]
  },
  {
   "cell_type": "code",
   "execution_count": 68,
   "id": "45ea3654",
   "metadata": {},
   "outputs": [
    {
     "data": {
      "text/plain": [
       "((15, 3), (15,))"
      ]
     },
     "execution_count": 68,
     "metadata": {},
     "output_type": "execute_result"
    }
   ],
   "source": [
    "x_test, y_test = create_dataset(test, look_back)\n",
    "x_test.shape, y_test.shape"
   ]
  },
  {
   "cell_type": "code",
   "execution_count": 69,
   "id": "b8a186af",
   "metadata": {},
   "outputs": [
    {
     "data": {
      "text/plain": [
       "((67, 1, 3), (15, 1, 3))"
      ]
     },
     "execution_count": 69,
     "metadata": {},
     "output_type": "execute_result"
    }
   ],
   "source": [
    "# 인공지능 모델의 입력 형태로 데이터 구조 변환\n",
    "x_train = x_train[:, np.newaxis]\n",
    "x_test = x_test[:, np.newaxis]\n",
    "x_train.shape, x_test.shape"
   ]
  },
  {
   "cell_type": "code",
   "execution_count": 70,
   "id": "0a054860",
   "metadata": {},
   "outputs": [
    {
     "data": {
      "text/plain": [
       "array([[0.        , 0.0038628 , 0.01035023]], dtype=float32)"
      ]
     },
     "execution_count": 70,
     "metadata": {},
     "output_type": "execute_result"
    }
   ],
   "source": [
    "x_train[0]"
   ]
  },
  {
   "cell_type": "markdown",
   "id": "98753206",
   "metadata": {},
   "source": [
    "### 인공지능 모델 만들기"
   ]
  },
  {
   "cell_type": "code",
   "execution_count": 71,
   "id": "7ac0895c",
   "metadata": {},
   "outputs": [
    {
     "name": "stdout",
     "output_type": "stream",
     "text": [
      "Metal device set to: Apple M1\n",
      "\n",
      "systemMemory: 8.00 GB\n",
      "maxCacheSize: 2.67 GB\n",
      "\n"
     ]
    },
    {
     "name": "stderr",
     "output_type": "stream",
     "text": [
      "2023-02-27 17:47:48.446033: I tensorflow/core/common_runtime/pluggable_device/pluggable_device_factory.cc:305] Could not identify NUMA node of platform GPU ID 0, defaulting to 0. Your kernel may not have been built with NUMA support.\n",
      "2023-02-27 17:47:48.447563: I tensorflow/core/common_runtime/pluggable_device/pluggable_device_factory.cc:271] Created TensorFlow device (/job:localhost/replica:0/task:0/device:GPU:0 with 0 MB memory) -> physical PluggableDevice (device: 0, name: METAL, pci bus id: <undefined>)\n"
     ]
    },
    {
     "name": "stdout",
     "output_type": "stream",
     "text": [
      "Model: \"sequential\"\n",
      "_________________________________________________________________\n",
      " Layer (type)                Output Shape              Param #   \n",
      "=================================================================\n",
      " simple_rnn (SimpleRNN)      (None, 3)                 21        \n",
      "                                                                 \n",
      " dense (Dense)               (None, 1)                 4         \n",
      "                                                                 \n",
      "=================================================================\n",
      "Total params: 25\n",
      "Trainable params: 25\n",
      "Non-trainable params: 0\n",
      "_________________________________________________________________\n"
     ]
    }
   ],
   "source": [
    "model = Sequential()\n",
    "model.add(SimpleRNN(3, input_shape=(1, 3)))     # input_shape(batch, timestep, feature) => batch(생략), timestep = 1, feature = 3\n",
    "model.add(Dense(1, activation='linear'))\n",
    "\n",
    "model.compile(loss='mse', metrics='mae', optimizer='adam')\n",
    "model.summary()"
   ]
  },
  {
   "cell_type": "markdown",
   "id": "f8da65f9",
   "metadata": {},
   "source": [
    "#### 모델 학습"
   ]
  },
  {
   "cell_type": "code",
   "execution_count": 72,
   "id": "59260206",
   "metadata": {},
   "outputs": [
    {
     "name": "stdout",
     "output_type": "stream",
     "text": [
      "Epoch 1/100\n"
     ]
    },
    {
     "name": "stderr",
     "output_type": "stream",
     "text": [
      "2023-02-27 17:48:56.568887: W tensorflow/core/platform/profile_utils/cpu_utils.cc:128] Failed to get CPU frequency: 0 Hz\n",
      "2023-02-27 17:48:57.104485: I tensorflow/core/grappler/optimizers/custom_graph_optimizer_registry.cc:113] Plugin optimizer for device_type GPU is enabled.\n"
     ]
    },
    {
     "name": "stdout",
     "output_type": "stream",
     "text": [
      "23/23 - 2s - loss: 0.6002 - mae: 0.6362 - 2s/epoch - 89ms/step\n",
      "Epoch 2/100\n",
      "23/23 - 0s - loss: 0.4692 - mae: 0.5463 - 174ms/epoch - 8ms/step\n",
      "Epoch 3/100\n",
      "23/23 - 0s - loss: 0.3664 - mae: 0.4738 - 176ms/epoch - 8ms/step\n",
      "Epoch 4/100\n",
      "23/23 - 0s - loss: 0.2820 - mae: 0.4128 - 176ms/epoch - 8ms/step\n",
      "Epoch 5/100\n",
      "23/23 - 0s - loss: 0.2226 - mae: 0.3694 - 172ms/epoch - 7ms/step\n",
      "Epoch 6/100\n",
      "23/23 - 0s - loss: 0.1754 - mae: 0.3333 - 170ms/epoch - 7ms/step\n",
      "Epoch 7/100\n",
      "23/23 - 0s - loss: 0.1397 - mae: 0.3013 - 170ms/epoch - 7ms/step\n",
      "Epoch 8/100\n",
      "23/23 - 0s - loss: 0.1139 - mae: 0.2806 - 175ms/epoch - 8ms/step\n",
      "Epoch 9/100\n",
      "23/23 - 0s - loss: 0.0958 - mae: 0.2624 - 185ms/epoch - 8ms/step\n",
      "Epoch 10/100\n",
      "23/23 - 0s - loss: 0.0826 - mae: 0.2486 - 178ms/epoch - 8ms/step\n",
      "Epoch 11/100\n",
      "23/23 - 0s - loss: 0.0727 - mae: 0.2371 - 172ms/epoch - 7ms/step\n",
      "Epoch 12/100\n",
      "23/23 - 0s - loss: 0.0657 - mae: 0.2275 - 171ms/epoch - 7ms/step\n",
      "Epoch 13/100\n",
      "23/23 - 0s - loss: 0.0607 - mae: 0.2214 - 175ms/epoch - 8ms/step\n",
      "Epoch 14/100\n",
      "23/23 - 0s - loss: 0.0551 - mae: 0.2115 - 240ms/epoch - 10ms/step\n",
      "Epoch 15/100\n",
      "23/23 - 0s - loss: 0.0517 - mae: 0.2050 - 172ms/epoch - 7ms/step\n",
      "Epoch 16/100\n",
      "23/23 - 0s - loss: 0.0481 - mae: 0.1982 - 172ms/epoch - 7ms/step\n",
      "Epoch 17/100\n",
      "23/23 - 0s - loss: 0.0448 - mae: 0.1911 - 204ms/epoch - 9ms/step\n",
      "Epoch 18/100\n",
      "23/23 - 0s - loss: 0.0419 - mae: 0.1850 - 170ms/epoch - 7ms/step\n",
      "Epoch 19/100\n",
      "23/23 - 0s - loss: 0.0392 - mae: 0.1788 - 172ms/epoch - 7ms/step\n",
      "Epoch 20/100\n",
      "23/23 - 0s - loss: 0.0366 - mae: 0.1727 - 168ms/epoch - 7ms/step\n",
      "Epoch 21/100\n",
      "23/23 - 0s - loss: 0.0341 - mae: 0.1667 - 170ms/epoch - 7ms/step\n",
      "Epoch 22/100\n",
      "23/23 - 0s - loss: 0.0317 - mae: 0.1609 - 170ms/epoch - 7ms/step\n",
      "Epoch 23/100\n",
      "23/23 - 0s - loss: 0.0295 - mae: 0.1551 - 169ms/epoch - 7ms/step\n",
      "Epoch 24/100\n",
      "23/23 - 0s - loss: 0.0273 - mae: 0.1492 - 169ms/epoch - 7ms/step\n",
      "Epoch 25/100\n",
      "23/23 - 0s - loss: 0.0253 - mae: 0.1437 - 171ms/epoch - 7ms/step\n",
      "Epoch 26/100\n",
      "23/23 - 0s - loss: 0.0234 - mae: 0.1382 - 171ms/epoch - 7ms/step\n",
      "Epoch 27/100\n",
      "23/23 - 0s - loss: 0.0217 - mae: 0.1330 - 169ms/epoch - 7ms/step\n",
      "Epoch 28/100\n",
      "23/23 - 0s - loss: 0.0199 - mae: 0.1274 - 170ms/epoch - 7ms/step\n",
      "Epoch 29/100\n",
      "23/23 - 0s - loss: 0.0184 - mae: 0.1223 - 171ms/epoch - 7ms/step\n",
      "Epoch 30/100\n",
      "23/23 - 0s - loss: 0.0169 - mae: 0.1171 - 209ms/epoch - 9ms/step\n",
      "Epoch 31/100\n",
      "23/23 - 0s - loss: 0.0155 - mae: 0.1122 - 166ms/epoch - 7ms/step\n",
      "Epoch 32/100\n",
      "23/23 - 0s - loss: 0.0141 - mae: 0.1070 - 167ms/epoch - 7ms/step\n",
      "Epoch 33/100\n",
      "23/23 - 0s - loss: 0.0129 - mae: 0.1023 - 174ms/epoch - 8ms/step\n",
      "Epoch 34/100\n",
      "23/23 - 0s - loss: 0.0118 - mae: 0.0978 - 192ms/epoch - 8ms/step\n",
      "Epoch 35/100\n",
      "23/23 - 0s - loss: 0.0106 - mae: 0.0931 - 169ms/epoch - 7ms/step\n",
      "Epoch 36/100\n",
      "23/23 - 0s - loss: 0.0096 - mae: 0.0886 - 177ms/epoch - 8ms/step\n",
      "Epoch 37/100\n",
      "23/23 - 0s - loss: 0.0088 - mae: 0.0848 - 201ms/epoch - 9ms/step\n",
      "Epoch 38/100\n",
      "23/23 - 0s - loss: 0.0078 - mae: 0.0801 - 180ms/epoch - 8ms/step\n",
      "Epoch 39/100\n",
      "23/23 - 0s - loss: 0.0071 - mae: 0.0757 - 175ms/epoch - 8ms/step\n",
      "Epoch 40/100\n",
      "23/23 - 0s - loss: 0.0063 - mae: 0.0720 - 181ms/epoch - 8ms/step\n",
      "Epoch 41/100\n",
      "23/23 - 0s - loss: 0.0056 - mae: 0.0678 - 181ms/epoch - 8ms/step\n",
      "Epoch 42/100\n",
      "23/23 - 0s - loss: 0.0050 - mae: 0.0640 - 221ms/epoch - 10ms/step\n",
      "Epoch 43/100\n",
      "23/23 - 0s - loss: 0.0045 - mae: 0.0605 - 178ms/epoch - 8ms/step\n",
      "Epoch 44/100\n",
      "23/23 - 0s - loss: 0.0040 - mae: 0.0570 - 179ms/epoch - 8ms/step\n",
      "Epoch 45/100\n",
      "23/23 - 0s - loss: 0.0035 - mae: 0.0535 - 181ms/epoch - 8ms/step\n",
      "Epoch 46/100\n",
      "23/23 - 0s - loss: 0.0031 - mae: 0.0505 - 177ms/epoch - 8ms/step\n",
      "Epoch 47/100\n",
      "23/23 - 0s - loss: 0.0027 - mae: 0.0474 - 175ms/epoch - 8ms/step\n",
      "Epoch 48/100\n",
      "23/23 - 0s - loss: 0.0024 - mae: 0.0443 - 176ms/epoch - 8ms/step\n",
      "Epoch 49/100\n",
      "23/23 - 0s - loss: 0.0021 - mae: 0.0415 - 179ms/epoch - 8ms/step\n",
      "Epoch 50/100\n",
      "23/23 - 0s - loss: 0.0018 - mae: 0.0387 - 176ms/epoch - 8ms/step\n",
      "Epoch 51/100\n",
      "23/23 - 0s - loss: 0.0016 - mae: 0.0362 - 177ms/epoch - 8ms/step\n",
      "Epoch 52/100\n",
      "23/23 - 0s - loss: 0.0014 - mae: 0.0339 - 178ms/epoch - 8ms/step\n",
      "Epoch 53/100\n",
      "23/23 - 0s - loss: 0.0012 - mae: 0.0316 - 178ms/epoch - 8ms/step\n",
      "Epoch 54/100\n",
      "23/23 - 0s - loss: 0.0011 - mae: 0.0295 - 174ms/epoch - 8ms/step\n",
      "Epoch 55/100\n",
      "23/23 - 0s - loss: 9.1587e-04 - mae: 0.0274 - 173ms/epoch - 8ms/step\n",
      "Epoch 56/100\n",
      "23/23 - 0s - loss: 7.8813e-04 - mae: 0.0253 - 175ms/epoch - 8ms/step\n",
      "Epoch 57/100\n",
      "23/23 - 0s - loss: 6.6906e-04 - mae: 0.0234 - 177ms/epoch - 8ms/step\n",
      "Epoch 58/100\n",
      "23/23 - 0s - loss: 5.7478e-04 - mae: 0.0216 - 179ms/epoch - 8ms/step\n",
      "Epoch 59/100\n",
      "23/23 - 0s - loss: 4.9172e-04 - mae: 0.0201 - 177ms/epoch - 8ms/step\n",
      "Epoch 60/100\n",
      "23/23 - 0s - loss: 4.1617e-04 - mae: 0.0184 - 177ms/epoch - 8ms/step\n",
      "Epoch 61/100\n",
      "23/23 - 0s - loss: 3.5515e-04 - mae: 0.0170 - 180ms/epoch - 8ms/step\n",
      "Epoch 62/100\n",
      "23/23 - 0s - loss: 3.0260e-04 - mae: 0.0157 - 177ms/epoch - 8ms/step\n",
      "Epoch 63/100\n",
      "23/23 - 0s - loss: 2.5599e-04 - mae: 0.0144 - 174ms/epoch - 8ms/step\n",
      "Epoch 64/100\n",
      "23/23 - 0s - loss: 2.1754e-04 - mae: 0.0132 - 178ms/epoch - 8ms/step\n",
      "Epoch 65/100\n",
      "23/23 - 0s - loss: 1.8614e-04 - mae: 0.0122 - 186ms/epoch - 8ms/step\n",
      "Epoch 66/100\n",
      "23/23 - 0s - loss: 1.5691e-04 - mae: 0.0112 - 177ms/epoch - 8ms/step\n",
      "Epoch 67/100\n",
      "23/23 - 0s - loss: 1.3187e-04 - mae: 0.0102 - 175ms/epoch - 8ms/step\n",
      "Epoch 68/100\n",
      "23/23 - 0s - loss: 1.1303e-04 - mae: 0.0094 - 203ms/epoch - 9ms/step\n",
      "Epoch 69/100\n",
      "23/23 - 0s - loss: 9.5891e-05 - mae: 0.0086 - 175ms/epoch - 8ms/step\n",
      "Epoch 70/100\n",
      "23/23 - 0s - loss: 8.2605e-05 - mae: 0.0080 - 174ms/epoch - 8ms/step\n",
      "Epoch 71/100\n",
      "23/23 - 0s - loss: 7.1358e-05 - mae: 0.0073 - 174ms/epoch - 8ms/step\n",
      "Epoch 72/100\n",
      "23/23 - 0s - loss: 6.0391e-05 - mae: 0.0066 - 174ms/epoch - 8ms/step\n",
      "Epoch 73/100\n",
      "23/23 - 0s - loss: 5.2626e-05 - mae: 0.0061 - 175ms/epoch - 8ms/step\n",
      "Epoch 74/100\n",
      "23/23 - 0s - loss: 4.5609e-05 - mae: 0.0057 - 174ms/epoch - 8ms/step\n",
      "Epoch 75/100\n",
      "23/23 - 0s - loss: 4.0731e-05 - mae: 0.0053 - 172ms/epoch - 7ms/step\n",
      "Epoch 76/100\n",
      "23/23 - 0s - loss: 3.6068e-05 - mae: 0.0049 - 173ms/epoch - 8ms/step\n",
      "Epoch 77/100\n",
      "23/23 - 0s - loss: 3.2771e-05 - mae: 0.0047 - 174ms/epoch - 8ms/step\n",
      "Epoch 78/100\n",
      "23/23 - 0s - loss: 3.0223e-05 - mae: 0.0044 - 176ms/epoch - 8ms/step\n",
      "Epoch 79/100\n",
      "23/23 - 0s - loss: 2.7299e-05 - mae: 0.0043 - 173ms/epoch - 8ms/step\n",
      "Epoch 80/100\n",
      "23/23 - 0s - loss: 2.5506e-05 - mae: 0.0042 - 172ms/epoch - 7ms/step\n",
      "Epoch 81/100\n",
      "23/23 - 0s - loss: 2.3857e-05 - mae: 0.0040 - 174ms/epoch - 8ms/step\n",
      "Epoch 82/100\n",
      "23/23 - 0s - loss: 2.2936e-05 - mae: 0.0039 - 174ms/epoch - 8ms/step\n",
      "Epoch 83/100\n",
      "23/23 - 0s - loss: 2.1834e-05 - mae: 0.0037 - 175ms/epoch - 8ms/step\n",
      "Epoch 84/100\n",
      "23/23 - 0s - loss: 2.0778e-05 - mae: 0.0036 - 173ms/epoch - 8ms/step\n",
      "Epoch 85/100\n",
      "23/23 - 0s - loss: 2.0211e-05 - mae: 0.0035 - 188ms/epoch - 8ms/step\n",
      "Epoch 86/100\n",
      "23/23 - 0s - loss: 1.9601e-05 - mae: 0.0035 - 174ms/epoch - 8ms/step\n",
      "Epoch 87/100\n",
      "23/23 - 0s - loss: 1.9369e-05 - mae: 0.0035 - 174ms/epoch - 8ms/step\n",
      "Epoch 88/100\n",
      "23/23 - 0s - loss: 1.9318e-05 - mae: 0.0035 - 174ms/epoch - 8ms/step\n",
      "Epoch 89/100\n",
      "23/23 - 0s - loss: 1.8633e-05 - mae: 0.0034 - 171ms/epoch - 7ms/step\n",
      "Epoch 90/100\n",
      "23/23 - 0s - loss: 1.8510e-05 - mae: 0.0034 - 174ms/epoch - 8ms/step\n",
      "Epoch 91/100\n",
      "23/23 - 0s - loss: 1.8357e-05 - mae: 0.0034 - 174ms/epoch - 8ms/step\n",
      "Epoch 92/100\n",
      "23/23 - 0s - loss: 1.8207e-05 - mae: 0.0034 - 182ms/epoch - 8ms/step\n",
      "Epoch 93/100\n",
      "23/23 - 0s - loss: 1.8334e-05 - mae: 0.0034 - 174ms/epoch - 8ms/step\n",
      "Epoch 94/100\n",
      "23/23 - 0s - loss: 1.8161e-05 - mae: 0.0034 - 174ms/epoch - 8ms/step\n",
      "Epoch 95/100\n",
      "23/23 - 0s - loss: 1.8055e-05 - mae: 0.0034 - 212ms/epoch - 9ms/step\n",
      "Epoch 96/100\n",
      "23/23 - 0s - loss: 1.7997e-05 - mae: 0.0034 - 181ms/epoch - 8ms/step\n",
      "Epoch 97/100\n",
      "23/23 - 0s - loss: 1.7901e-05 - mae: 0.0034 - 172ms/epoch - 7ms/step\n",
      "Epoch 98/100\n",
      "23/23 - 0s - loss: 1.8030e-05 - mae: 0.0034 - 174ms/epoch - 8ms/step\n",
      "Epoch 99/100\n",
      "23/23 - 0s - loss: 1.7936e-05 - mae: 0.0034 - 176ms/epoch - 8ms/step\n",
      "Epoch 100/100\n",
      "23/23 - 0s - loss: 1.8284e-05 - mae: 0.0034 - 172ms/epoch - 7ms/step\n"
     ]
    }
   ],
   "source": [
    "hist = model.fit(x_train, y_train, epochs=100, batch_size=3, verbose=2)"
   ]
  },
  {
   "cell_type": "markdown",
   "id": "ebc9d9ca",
   "metadata": {},
   "source": [
    "#### 결과 시각화"
   ]
  },
  {
   "cell_type": "code",
   "execution_count": 74,
   "id": "a54b5810",
   "metadata": {},
   "outputs": [
    {
     "data": {
      "text/html": [
       "<div>\n",
       "<style scoped>\n",
       "    .dataframe tbody tr th:only-of-type {\n",
       "        vertical-align: middle;\n",
       "    }\n",
       "\n",
       "    .dataframe tbody tr th {\n",
       "        vertical-align: top;\n",
       "    }\n",
       "\n",
       "    .dataframe thead th {\n",
       "        text-align: right;\n",
       "    }\n",
       "</style>\n",
       "<table border=\"1\" class=\"dataframe\">\n",
       "  <thead>\n",
       "    <tr style=\"text-align: right;\">\n",
       "      <th></th>\n",
       "      <th>loss</th>\n",
       "      <th>mae</th>\n",
       "    </tr>\n",
       "  </thead>\n",
       "  <tbody>\n",
       "    <tr>\n",
       "      <th>0</th>\n",
       "      <td>0.600199</td>\n",
       "      <td>0.636236</td>\n",
       "    </tr>\n",
       "    <tr>\n",
       "      <th>1</th>\n",
       "      <td>0.469154</td>\n",
       "      <td>0.546287</td>\n",
       "    </tr>\n",
       "    <tr>\n",
       "      <th>2</th>\n",
       "      <td>0.366442</td>\n",
       "      <td>0.473762</td>\n",
       "    </tr>\n",
       "    <tr>\n",
       "      <th>3</th>\n",
       "      <td>0.281969</td>\n",
       "      <td>0.412809</td>\n",
       "    </tr>\n",
       "    <tr>\n",
       "      <th>4</th>\n",
       "      <td>0.222620</td>\n",
       "      <td>0.369438</td>\n",
       "    </tr>\n",
       "    <tr>\n",
       "      <th>...</th>\n",
       "      <td>...</td>\n",
       "      <td>...</td>\n",
       "    </tr>\n",
       "    <tr>\n",
       "      <th>95</th>\n",
       "      <td>0.000018</td>\n",
       "      <td>0.003377</td>\n",
       "    </tr>\n",
       "    <tr>\n",
       "      <th>96</th>\n",
       "      <td>0.000018</td>\n",
       "      <td>0.003378</td>\n",
       "    </tr>\n",
       "    <tr>\n",
       "      <th>97</th>\n",
       "      <td>0.000018</td>\n",
       "      <td>0.003375</td>\n",
       "    </tr>\n",
       "    <tr>\n",
       "      <th>98</th>\n",
       "      <td>0.000018</td>\n",
       "      <td>0.003382</td>\n",
       "    </tr>\n",
       "    <tr>\n",
       "      <th>99</th>\n",
       "      <td>0.000018</td>\n",
       "      <td>0.003420</td>\n",
       "    </tr>\n",
       "  </tbody>\n",
       "</table>\n",
       "<p>100 rows × 2 columns</p>\n",
       "</div>"
      ],
      "text/plain": [
       "        loss       mae\n",
       "0   0.600199  0.636236\n",
       "1   0.469154  0.546287\n",
       "2   0.366442  0.473762\n",
       "3   0.281969  0.412809\n",
       "4   0.222620  0.369438\n",
       "..       ...       ...\n",
       "95  0.000018  0.003377\n",
       "96  0.000018  0.003378\n",
       "97  0.000018  0.003375\n",
       "98  0.000018  0.003382\n",
       "99  0.000018  0.003420\n",
       "\n",
       "[100 rows x 2 columns]"
      ]
     },
     "execution_count": 74,
     "metadata": {},
     "output_type": "execute_result"
    }
   ],
   "source": [
    "df = pd.DataFrame(hist.history)\n",
    "df"
   ]
  },
  {
   "cell_type": "code",
   "execution_count": 75,
   "id": "0f50fb82",
   "metadata": {},
   "outputs": [
    {
     "data": {
      "text/plain": [
       "[<matplotlib.lines.Line2D at 0x281f51d60>]"
      ]
     },
     "execution_count": 75,
     "metadata": {},
     "output_type": "execute_result"
    },
    {
     "data": {
      "image/png": "[encoded data removed]",
      "text/plain": [
       "<Figure size 600x600 with 1 Axes>"
      ]
     },
     "metadata": {},
     "output_type": "display_data"
    }
   ],
   "source": [
    "plt.figure(figsize=(6,6))\n",
    "plt.plot(df.index, df.loss)"
   ]
  },
  {
   "cell_type": "code",
   "execution_count": 76,
   "id": "4a47d216",
   "metadata": {},
   "outputs": [
    {
     "name": "stdout",
     "output_type": "stream",
     "text": [
      "1/1 [==============================] - 0s 343ms/step\n"
     ]
    },
    {
     "name": "stderr",
     "output_type": "stream",
     "text": [
      "2023-02-27 17:52:54.727077: I tensorflow/core/grappler/optimizers/custom_graph_optimizer_registry.cc:113] Plugin optimizer for device_type GPU is enabled.\n"
     ]
    },
    {
     "data": {
      "text/plain": [
       "array([[0.7400798 ],\n",
       "       [0.744212  ],\n",
       "       [0.75212973],\n",
       "       [0.7588086 ],\n",
       "       [0.7663866 ],\n",
       "       [0.77370477],\n",
       "       [0.7808937 ],\n",
       "       [0.7877067 ],\n",
       "       [0.7930561 ],\n",
       "       [0.8015021 ],\n",
       "       [0.8115165 ],\n",
       "       [0.82164323],\n",
       "       [0.83127546],\n",
       "       [0.8425454 ],\n",
       "       [0.8536698 ]], dtype=float32)"
      ]
     },
     "execution_count": 76,
     "metadata": {},
     "output_type": "execute_result"
    }
   ],
   "source": [
    "model.predict(x_test)"
   ]
  },
  {
   "cell_type": "code",
   "execution_count": null,
   "id": "4eec0687",
   "metadata": {},
   "outputs": [],
   "source": [
    "# 인버스 값 만들기 \n",
    "# 숫자로 변환해야함.\n",
    "inverse.transform"
   ]
  }
 ],
 "metadata": {
  "kernelspec": {
   "display_name": "tensorflow",
   "language": "python",
   "name": "python3"
  },
  "language_info": {
   "codemirror_mode": {
    "name": "ipython",
    "version": 3
   },
   "file_extension": ".py",
   "mimetype": "text/x-python",
   "name": "python",
   "nbconvert_exporter": "python",
   "pygments_lexer": "ipython3",
   "version": "3.8.16"
  },
  "vscode": {
   "interpreter": {
    "hash": "04fd9c361be45f4292b225cf55355a67dfa13b4c14ac86b9ffe9743e2c71714e"
   }
  }
 },
 "nbformat": 4,
 "nbformat_minor": 5
}
