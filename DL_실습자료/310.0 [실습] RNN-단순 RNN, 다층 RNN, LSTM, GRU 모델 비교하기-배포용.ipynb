{
 "cells": [
  {
   "cell_type": "markdown",
   "id": "c2a89399",
   "metadata": {},
   "source": [
    "# [실습] RNN-단순 RNN, LSTM, GRU 모델 비교하기"
   ]
  },
  {
   "cell_type": "markdown",
   "id": "a0ee1403",
   "metadata": {},
   "source": [
    "### 1)  시퀀스 데이터 준비"
   ]
  },
  {
   "cell_type": "code",
   "execution_count": 2,
   "id": "1485d23d",
   "metadata": {},
   "outputs": [],
   "source": [
    "import numpy as np\n",
    "\n",
    "# 0.0, 0.1, .. 증가하는 시퀀스 데이터를 생성함\n",
    "# seq_len 길이를 가지는 시퀀스 데이터를 size 갯수만큼 생성한다\n",
    "def sequence_gen(size, seq_len):\n",
    "    # 비어있는 넘파이 배열을 생성한다.\n",
    "    seq_X = np.empty(shape=(size, seq_len, 1))\n",
    "    Y = np.empty(shape=(size,))\n",
    "\n",
    "    for i in range(size):\n",
    "        # [0, 0.1, 0.2, .. ]같은 시퀀스와 Y 값을 size 갯수만큼 생성\n",
    "        c = np.linspace(i/10, (i+seq_len-1)/10, seq_len)\n",
    "        seq_X[i] = c[:, np.newaxis]   # 새로운 축을 하나 더 추가함\n",
    "        Y[i] = (i+seq_len) / 10       # 목표값을 생성함\n",
    "\n",
    "    return seq_X, Y\n",
    "\n",
    "# 길이가 16인 시퀀스 8개를 훈련용으로 만든다\n",
    "n, seq_len = 8, 16   \n",
    "train_seq_X, train_Y = sequence_gen(n, seq_len)"
   ]
  },
  {
   "cell_type": "code",
   "execution_count": 3,
   "id": "f0edce77",
   "metadata": {},
   "outputs": [
    {
     "name": "stdout",
     "output_type": "stream",
     "text": [
      "훈련용 데이터\n",
      "[0.  0.1 0.2 0.3 0.4 0.5 0.6 0.7 0.8 0.9 1.  1.1 1.2 1.3 1.4 1.5] 1.6\n",
      "[0.1 0.2 0.3 0.4 0.5 0.6 0.7 0.8 0.9 1.  1.1 1.2 1.3 1.4 1.5 1.6] 1.7\n",
      "[0.2 0.3 0.4 0.5 0.6 0.7 0.8 0.9 1.  1.1 1.2 1.3 1.4 1.5 1.6 1.7] 1.8\n",
      "[0.3 0.4 0.5 0.6 0.7 0.8 0.9 1.  1.1 1.2 1.3 1.4 1.5 1.6 1.7 1.8] 1.9\n",
      "[0.4 0.5 0.6 0.7 0.8 0.9 1.  1.1 1.2 1.3 1.4 1.5 1.6 1.7 1.8 1.9] 2.0\n",
      "[0.5 0.6 0.7 0.8 0.9 1.  1.1 1.2 1.3 1.4 1.5 1.6 1.7 1.8 1.9 2. ] 2.1\n",
      "[0.6 0.7 0.8 0.9 1.  1.1 1.2 1.3 1.4 1.5 1.6 1.7 1.8 1.9 2.  2.1] 2.2\n",
      "[0.7 0.8 0.9 1.  1.1 1.2 1.3 1.4 1.5 1.6 1.7 1.8 1.9 2.  2.1 2.2] 2.3\n",
      "검증용 데이터\n",
      "[1.  1.1 1.2 1.3 1.4 1.5 1.6 1.7 1.8 1.9 2.  2.1 2.2 2.3 2.4 2.5] 2.6\n",
      "[1.1 1.2 1.3 1.4 1.5 1.6 1.7 1.8 1.9 2.  2.1 2.2 2.3 2.4 2.5 2.6] 2.7\n",
      "[1.2 1.3 1.4 1.5 1.6 1.7 1.8 1.9 2.  2.1 2.2 2.3 2.4 2.5 2.6 2.7] 2.8\n",
      "[1.3 1.4 1.5 1.6 1.7 1.8 1.9 2.  2.1 2.2 2.3 2.4 2.5 2.6 2.7 2.8] 2.9\n"
     ]
    }
   ],
   "source": [
    "print('훈련용 데이터')\n",
    "for i in range(n):\n",
    "    print(train_seq_X[i].flatten(), train_Y[i])\n",
    "\n",
    "half_n, offset = int(n/2), 1.0\n",
    "test_seq_X = train_seq_X[:half_n] + offset\n",
    "test_Y = train_Y[:half_n] + offset\n",
    "\n",
    "print('검증용 데이터')\n",
    "for i in range(half_n):\n",
    "    print(test_seq_X[i].flatten(), test_Y[i])"
   ]
  },
  {
   "attachments": {},
   "cell_type": "markdown",
   "id": "b7e4070e",
   "metadata": {},
   "source": [
    "### 단순 RNN과 다층 RNN, LSTM, GRU 모델의 비교 \n"
   ]
  },
  {
   "cell_type": "code",
   "execution_count": 1,
   "id": "bb45019e",
   "metadata": {},
   "outputs": [],
   "source": [
    "import tensorflow as tf\n",
    "from tensorflow.keras.models import Sequential\n",
    "from tensorflow.keras.layers import SimpleRNN, LSTM, GRU, Dense"
   ]
  },
  {
   "cell_type": "markdown",
   "id": "6c2ac343",
   "metadata": {},
   "source": [
    "#### 1) 단순 RNN모델"
   ]
  },
  {
   "cell_type": "code",
   "execution_count": 5,
   "id": "418146f2",
   "metadata": {},
   "outputs": [
    {
     "name": "stdout",
     "output_type": "stream",
     "text": [
      "Metal device set to: Apple M1\n",
      "\n",
      "systemMemory: 8.00 GB\n",
      "maxCacheSize: 2.67 GB\n",
      "\n"
     ]
    },
    {
     "name": "stderr",
     "output_type": "stream",
     "text": [
      "2023-02-28 10:34:19.454169: I tensorflow/core/common_runtime/pluggable_device/pluggable_device_factory.cc:305] Could not identify NUMA node of platform GPU ID 0, defaulting to 0. Your kernel may not have been built with NUMA support.\n",
      "2023-02-28 10:34:19.455538: I tensorflow/core/common_runtime/pluggable_device/pluggable_device_factory.cc:271] Created TensorFlow device (/job:localhost/replica:0/task:0/device:GPU:0 with 0 MB memory) -> physical PluggableDevice (device: 0, name: METAL, pci bus id: <undefined>)\n"
     ]
    }
   ],
   "source": [
    "SimpleRNN_model = Sequential([\n",
    "    SimpleRNN(units=256, return_sequences=False, input_shape=(16,1)),\n",
    "    Dense(1)\n",
    "])\n",
    "\n",
    "SimpleRNN_model.compile(loss='mse', metrics='mse', optimizer='adam')"
   ]
  },
  {
   "cell_type": "code",
   "execution_count": 6,
   "id": "f7660048",
   "metadata": {},
   "outputs": [
    {
     "name": "stdout",
     "output_type": "stream",
     "text": [
      "Epoch 1/100\n"
     ]
    },
    {
     "name": "stderr",
     "output_type": "stream",
     "text": [
      "2023-02-28 10:34:40.243027: W tensorflow/core/platform/profile_utils/cpu_utils.cc:128] Failed to get CPU frequency: 0 Hz\n",
      "2023-02-28 10:34:40.715408: I tensorflow/core/grappler/optimizers/custom_graph_optimizer_registry.cc:113] Plugin optimizer for device_type GPU is enabled.\n"
     ]
    },
    {
     "name": "stdout",
     "output_type": "stream",
     "text": [
      "1/1 [==============================] - 1s 1s/step - loss: 6.5780 - mse: 6.5780\n",
      "Epoch 2/100\n",
      "1/1 [==============================] - 0s 88ms/step - loss: 0.1795 - mse: 0.1795\n",
      "Epoch 3/100\n",
      "1/1 [==============================] - 0s 94ms/step - loss: 0.7536 - mse: 0.7536\n",
      "Epoch 4/100\n",
      "1/1 [==============================] - 0s 85ms/step - loss: 0.6120 - mse: 0.6120\n",
      "Epoch 5/100\n",
      "1/1 [==============================] - 0s 87ms/step - loss: 0.0395 - mse: 0.0395\n",
      "Epoch 6/100\n",
      "1/1 [==============================] - 0s 122ms/step - loss: 0.2040 - mse: 0.2040\n",
      "Epoch 7/100\n",
      "1/1 [==============================] - 0s 90ms/step - loss: 0.3834 - mse: 0.3834\n",
      "Epoch 8/100\n",
      "1/1 [==============================] - 0s 115ms/step - loss: 0.2401 - mse: 0.2401\n",
      "Epoch 9/100\n",
      "1/1 [==============================] - 0s 90ms/step - loss: 0.0608 - mse: 0.0608\n",
      "Epoch 10/100\n",
      "1/1 [==============================] - 0s 85ms/step - loss: 0.0021 - mse: 0.0021\n",
      "Epoch 11/100\n",
      "1/1 [==============================] - 0s 89ms/step - loss: 0.0504 - mse: 0.0504\n",
      "Epoch 12/100\n",
      "1/1 [==============================] - 0s 90ms/step - loss: 0.1071 - mse: 0.1071\n",
      "Epoch 13/100\n",
      "1/1 [==============================] - 0s 85ms/step - loss: 0.0999 - mse: 0.0999\n",
      "Epoch 14/100\n",
      "1/1 [==============================] - 0s 87ms/step - loss: 0.0439 - mse: 0.0439\n",
      "Epoch 15/100\n",
      "1/1 [==============================] - 0s 86ms/step - loss: 0.0053 - mse: 0.0053\n",
      "Epoch 16/100\n",
      "1/1 [==============================] - 0s 86ms/step - loss: 0.0241 - mse: 0.0241\n",
      "Epoch 17/100\n",
      "1/1 [==============================] - 0s 86ms/step - loss: 0.0663 - mse: 0.0663\n",
      "Epoch 18/100\n",
      "1/1 [==============================] - 0s 96ms/step - loss: 0.0725 - mse: 0.0725\n",
      "Epoch 19/100\n",
      "1/1 [==============================] - 0s 101ms/step - loss: 0.0393 - mse: 0.0393\n",
      "Epoch 20/100\n",
      "1/1 [==============================] - 0s 85ms/step - loss: 0.0083 - mse: 0.0083\n",
      "Epoch 21/100\n",
      "1/1 [==============================] - 0s 86ms/step - loss: 0.0077 - mse: 0.0077\n",
      "Epoch 22/100\n",
      "1/1 [==============================] - 0s 92ms/step - loss: 0.0273 - mse: 0.0273\n",
      "Epoch 23/100\n",
      "1/1 [==============================] - 0s 86ms/step - loss: 0.0399 - mse: 0.0399\n",
      "Epoch 24/100\n",
      "1/1 [==============================] - 0s 84ms/step - loss: 0.0324 - mse: 0.0324\n",
      "Epoch 25/100\n",
      "1/1 [==============================] - 0s 86ms/step - loss: 0.0140 - mse: 0.0140\n",
      "Epoch 26/100\n",
      "1/1 [==============================] - 0s 101ms/step - loss: 0.0028 - mse: 0.0028\n",
      "Epoch 27/100\n",
      "1/1 [==============================] - 0s 87ms/step - loss: 0.0065 - mse: 0.0065\n",
      "Epoch 28/100\n",
      "1/1 [==============================] - 0s 85ms/step - loss: 0.0174 - mse: 0.0174\n",
      "Epoch 29/100\n",
      "1/1 [==============================] - 0s 125ms/step - loss: 0.0222 - mse: 0.0222\n",
      "Epoch 30/100\n",
      "1/1 [==============================] - 0s 93ms/step - loss: 0.0164 - mse: 0.0164\n",
      "Epoch 31/100\n",
      "1/1 [==============================] - 0s 86ms/step - loss: 0.0065 - mse: 0.0065\n",
      "Epoch 32/100\n",
      "1/1 [==============================] - 0s 111ms/step - loss: 0.0019 - mse: 0.0019\n",
      "Epoch 33/100\n",
      "1/1 [==============================] - 0s 86ms/step - loss: 0.0049 - mse: 0.0049\n",
      "Epoch 34/100\n",
      "1/1 [==============================] - 0s 84ms/step - loss: 0.0106 - mse: 0.0106\n",
      "Epoch 35/100\n",
      "1/1 [==============================] - 0s 83ms/step - loss: 0.0124 - mse: 0.0124\n",
      "Epoch 36/100\n",
      "1/1 [==============================] - 0s 91ms/step - loss: 0.0089 - mse: 0.0089\n",
      "Epoch 37/100\n",
      "1/1 [==============================] - 0s 85ms/step - loss: 0.0039 - mse: 0.0039\n",
      "Epoch 38/100\n",
      "1/1 [==============================] - 0s 84ms/step - loss: 0.0019 - mse: 0.0019\n",
      "Epoch 39/100\n",
      "1/1 [==============================] - 0s 85ms/step - loss: 0.0039 - mse: 0.0039\n",
      "Epoch 40/100\n",
      "1/1 [==============================] - 0s 85ms/step - loss: 0.0069 - mse: 0.0069\n",
      "Epoch 41/100\n",
      "1/1 [==============================] - 0s 84ms/step - loss: 0.0075 - mse: 0.0075\n",
      "Epoch 42/100\n",
      "1/1 [==============================] - 0s 86ms/step - loss: 0.0053 - mse: 0.0053\n",
      "Epoch 43/100\n",
      "1/1 [==============================] - 0s 87ms/step - loss: 0.0026 - mse: 0.0026\n",
      "Epoch 44/100\n",
      "1/1 [==============================] - 0s 84ms/step - loss: 0.0018 - mse: 0.0018\n",
      "Epoch 45/100\n",
      "1/1 [==============================] - 0s 83ms/step - loss: 0.0030 - mse: 0.0030\n",
      "Epoch 46/100\n",
      "1/1 [==============================] - 0s 85ms/step - loss: 0.0046 - mse: 0.0046\n",
      "Epoch 47/100\n",
      "1/1 [==============================] - 0s 87ms/step - loss: 0.0046 - mse: 0.0046\n",
      "Epoch 48/100\n",
      "1/1 [==============================] - 0s 84ms/step - loss: 0.0032 - mse: 0.0032\n",
      "Epoch 49/100\n",
      "1/1 [==============================] - 0s 87ms/step - loss: 0.0018 - mse: 0.0018\n",
      "Epoch 50/100\n",
      "1/1 [==============================] - 0s 84ms/step - loss: 0.0016 - mse: 0.0016\n",
      "Epoch 51/100\n",
      "1/1 [==============================] - 0s 91ms/step - loss: 0.0025 - mse: 0.0025\n",
      "Epoch 52/100\n",
      "1/1 [==============================] - 0s 104ms/step - loss: 0.0032 - mse: 0.0032\n",
      "Epoch 53/100\n",
      "1/1 [==============================] - 0s 86ms/step - loss: 0.0030 - mse: 0.0030\n",
      "Epoch 54/100\n",
      "1/1 [==============================] - 0s 87ms/step - loss: 0.0021 - mse: 0.0021\n",
      "Epoch 55/100\n",
      "1/1 [==============================] - 0s 83ms/step - loss: 0.0014 - mse: 0.0014\n",
      "Epoch 56/100\n",
      "1/1 [==============================] - 0s 86ms/step - loss: 0.0016 - mse: 0.0016\n",
      "Epoch 57/100\n",
      "1/1 [==============================] - 0s 83ms/step - loss: 0.0021 - mse: 0.0021\n",
      "Epoch 58/100\n",
      "1/1 [==============================] - 0s 90ms/step - loss: 0.0024 - mse: 0.0024\n",
      "Epoch 59/100\n",
      "1/1 [==============================] - 0s 88ms/step - loss: 0.0020 - mse: 0.0020\n",
      "Epoch 60/100\n",
      "1/1 [==============================] - 0s 86ms/step - loss: 0.0015 - mse: 0.0015\n",
      "Epoch 61/100\n",
      "1/1 [==============================] - 0s 83ms/step - loss: 0.0013 - mse: 0.0013\n",
      "Epoch 62/100\n",
      "1/1 [==============================] - 0s 83ms/step - loss: 0.0015 - mse: 0.0015\n",
      "Epoch 63/100\n",
      "1/1 [==============================] - 0s 86ms/step - loss: 0.0018 - mse: 0.0018\n",
      "Epoch 64/100\n",
      "1/1 [==============================] - 0s 84ms/step - loss: 0.0018 - mse: 0.0018\n",
      "Epoch 65/100\n",
      "1/1 [==============================] - 0s 86ms/step - loss: 0.0015 - mse: 0.0015\n",
      "Epoch 66/100\n",
      "1/1 [==============================] - 0s 84ms/step - loss: 0.0013 - mse: 0.0013\n",
      "Epoch 67/100\n",
      "1/1 [==============================] - 0s 85ms/step - loss: 0.0013 - mse: 0.0013\n",
      "Epoch 68/100\n",
      "1/1 [==============================] - 0s 84ms/step - loss: 0.0015 - mse: 0.0015\n",
      "Epoch 69/100\n",
      "1/1 [==============================] - 0s 88ms/step - loss: 0.0015 - mse: 0.0015\n",
      "Epoch 70/100\n",
      "1/1 [==============================] - 0s 83ms/step - loss: 0.0014 - mse: 0.0014\n",
      "Epoch 71/100\n",
      "1/1 [==============================] - 0s 85ms/step - loss: 0.0012 - mse: 0.0012\n",
      "Epoch 72/100\n",
      "1/1 [==============================] - 0s 84ms/step - loss: 0.0012 - mse: 0.0012\n",
      "Epoch 73/100\n",
      "1/1 [==============================] - 0s 84ms/step - loss: 0.0012 - mse: 0.0012\n",
      "Epoch 74/100\n",
      "1/1 [==============================] - 0s 85ms/step - loss: 0.0013 - mse: 0.0013\n",
      "Epoch 75/100\n",
      "1/1 [==============================] - 0s 95ms/step - loss: 0.0013 - mse: 0.0013\n",
      "Epoch 76/100\n",
      "1/1 [==============================] - 0s 86ms/step - loss: 0.0011 - mse: 0.0011\n",
      "Epoch 77/100\n",
      "1/1 [==============================] - 0s 109ms/step - loss: 0.0011 - mse: 0.0011\n",
      "Epoch 78/100\n",
      "1/1 [==============================] - 0s 88ms/step - loss: 0.0011 - mse: 0.0011\n",
      "Epoch 79/100\n",
      "1/1 [==============================] - 0s 84ms/step - loss: 0.0012 - mse: 0.0012\n",
      "Epoch 80/100\n",
      "1/1 [==============================] - 0s 87ms/step - loss: 0.0011 - mse: 0.0011\n",
      "Epoch 81/100\n",
      "1/1 [==============================] - 0s 84ms/step - loss: 0.0011 - mse: 0.0011\n",
      "Epoch 82/100\n",
      "1/1 [==============================] - 0s 83ms/step - loss: 0.0010 - mse: 0.0010\n",
      "Epoch 83/100\n",
      "1/1 [==============================] - 0s 86ms/step - loss: 0.0010 - mse: 0.0010\n",
      "Epoch 84/100\n",
      "1/1 [==============================] - 0s 85ms/step - loss: 0.0011 - mse: 0.0011\n",
      "Epoch 85/100\n",
      "1/1 [==============================] - 0s 84ms/step - loss: 0.0010 - mse: 0.0010\n",
      "Epoch 86/100\n",
      "1/1 [==============================] - 0s 84ms/step - loss: 9.9380e-04 - mse: 9.9380e-04\n",
      "Epoch 87/100\n",
      "1/1 [==============================] - 0s 85ms/step - loss: 9.5520e-04 - mse: 9.5520e-04\n",
      "Epoch 88/100\n",
      "1/1 [==============================] - 0s 83ms/step - loss: 9.5339e-04 - mse: 9.5339e-04\n",
      "Epoch 89/100\n",
      "1/1 [==============================] - 0s 87ms/step - loss: 9.6478e-04 - mse: 9.6478e-04\n",
      "Epoch 90/100\n",
      "1/1 [==============================] - 0s 91ms/step - loss: 9.5351e-04 - mse: 9.5351e-04\n",
      "Epoch 91/100\n",
      "1/1 [==============================] - 0s 87ms/step - loss: 9.1933e-04 - mse: 9.1933e-04\n",
      "Epoch 92/100\n",
      "1/1 [==============================] - 0s 103ms/step - loss: 8.9207e-04 - mse: 8.9207e-04\n",
      "Epoch 93/100\n",
      "1/1 [==============================] - 0s 99ms/step - loss: 8.8794e-04 - mse: 8.8794e-04\n",
      "Epoch 94/100\n",
      "1/1 [==============================] - 0s 91ms/step - loss: 8.9061e-04 - mse: 8.9061e-04\n",
      "Epoch 95/100\n",
      "1/1 [==============================] - 0s 109ms/step - loss: 8.7793e-04 - mse: 8.7793e-04\n",
      "Epoch 96/100\n",
      "1/1 [==============================] - 0s 88ms/step - loss: 8.5209e-04 - mse: 8.5209e-04\n",
      "Epoch 97/100\n",
      "1/1 [==============================] - 0s 86ms/step - loss: 8.3265e-04 - mse: 8.3265e-04\n",
      "Epoch 98/100\n",
      "1/1 [==============================] - 0s 89ms/step - loss: 8.2751e-04 - mse: 8.2751e-04\n",
      "Epoch 99/100\n",
      "1/1 [==============================] - 0s 85ms/step - loss: 8.2419e-04 - mse: 8.2419e-04\n",
      "Epoch 100/100\n",
      "1/1 [==============================] - 0s 85ms/step - loss: 8.1026e-04 - mse: 8.1026e-04\n"
     ]
    },
    {
     "data": {
      "text/plain": [
       "<keras.callbacks.History at 0x13fe12970>"
      ]
     },
     "execution_count": 6,
     "metadata": {},
     "output_type": "execute_result"
    }
   ],
   "source": [
    "SimpleRNN_model.fit(train_seq_X, train_Y, epochs=100)"
   ]
  },
  {
   "cell_type": "code",
   "execution_count": 12,
   "id": "3181069c",
   "metadata": {},
   "outputs": [
    {
     "name": "stdout",
     "output_type": "stream",
     "text": [
      "1/1 [==============================] - 0s 33ms/step\n",
      "예측값: [2.409 2.449 2.485 2.517]\n",
      "실제값: [2.6 2.7 2.8 2.9]\n"
     ]
    }
   ],
   "source": [
    "result = SimpleRNN_model.predict(test_seq_X)\n",
    "result = result.flatten()\n",
    "print(f'예측값: {np.round(result,3)}')\n",
    "print(f'실제값: {test_Y}')"
   ]
  },
  {
   "cell_type": "markdown",
   "id": "0455e988",
   "metadata": {},
   "source": [
    "#### 2) 다층 RNN 모델"
   ]
  },
  {
   "cell_type": "code",
   "execution_count": 24,
   "id": "4afadf75",
   "metadata": {},
   "outputs": [
    {
     "name": "stdout",
     "output_type": "stream",
     "text": [
      "Model: \"sequential_6\"\n",
      "_________________________________________________________________\n",
      " Layer (type)                Output Shape              Param #   \n",
      "=================================================================\n",
      " simple_rnn_13 (SimpleRNN)   (None, 16, 256)           66048     \n",
      "                                                                 \n",
      " simple_rnn_14 (SimpleRNN)   (None, 16, 256)           131328    \n",
      "                                                                 \n",
      " simple_rnn_15 (SimpleRNN)   (None, 16, 256)           131328    \n",
      "                                                                 \n",
      " simple_rnn_16 (SimpleRNN)   (None, 256)               131328    \n",
      "                                                                 \n",
      " dense_6 (Dense)             (None, 1)                 257       \n",
      "                                                                 \n",
      "=================================================================\n",
      "Total params: 460,289\n",
      "Trainable params: 460,289\n",
      "Non-trainable params: 0\n",
      "_________________________________________________________________\n"
     ]
    }
   ],
   "source": [
    "multiRNN_model = Sequential([\n",
    "    SimpleRNN(units=256, return_sequences=True, input_shape=(16,1)),\n",
    "    SimpleRNN(256, return_sequences=True),\n",
    "    SimpleRNN(256, return_sequences=True),\n",
    "    SimpleRNN(256, return_sequences=False),\n",
    "    Dense(1)\n",
    "])\n",
    "\n",
    "multiRNN_model.compile(loss='mse', metrics='mse', optimizer='adam')\n",
    "multiRNN_model.summary()"
   ]
  },
  {
   "cell_type": "code",
   "execution_count": 25,
   "id": "a86b4192",
   "metadata": {},
   "outputs": [
    {
     "name": "stdout",
     "output_type": "stream",
     "text": [
      "Epoch 1/100\n"
     ]
    },
    {
     "name": "stderr",
     "output_type": "stream",
     "text": [
      "2023-02-28 10:49:06.680982: I tensorflow/core/grappler/optimizers/custom_graph_optimizer_registry.cc:113] Plugin optimizer for device_type GPU is enabled.\n"
     ]
    },
    {
     "name": "stdout",
     "output_type": "stream",
     "text": [
      "1/1 [==============================] - 2s 2s/step - loss: 11.1766 - mse: 11.1766\n",
      "Epoch 2/100\n",
      "1/1 [==============================] - 1s 543ms/step - loss: 8.3382 - mse: 8.3382\n",
      "Epoch 3/100\n",
      "1/1 [==============================] - 1s 571ms/step - loss: 5.7643 - mse: 5.7643\n",
      "Epoch 4/100\n",
      "1/1 [==============================] - 1s 535ms/step - loss: 0.1818 - mse: 0.1818\n",
      "Epoch 5/100\n",
      "1/1 [==============================] - 1s 529ms/step - loss: 0.3363 - mse: 0.3363\n",
      "Epoch 6/100\n",
      "1/1 [==============================] - 1s 529ms/step - loss: 0.3484 - mse: 0.3484\n",
      "Epoch 7/100\n",
      "1/1 [==============================] - 1s 570ms/step - loss: 0.0519 - mse: 0.0519\n",
      "Epoch 8/100\n",
      "1/1 [==============================] - 1s 528ms/step - loss: 0.1721 - mse: 0.1721\n",
      "Epoch 9/100\n",
      "1/1 [==============================] - 1s 531ms/step - loss: 0.2421 - mse: 0.2421\n",
      "Epoch 10/100\n",
      "1/1 [==============================] - 1s 527ms/step - loss: 0.1043 - mse: 0.1043\n",
      "Epoch 11/100\n",
      "1/1 [==============================] - 1s 545ms/step - loss: 0.0502 - mse: 0.0502\n",
      "Epoch 12/100\n",
      "1/1 [==============================] - 1s 547ms/step - loss: 0.1342 - mse: 0.1342\n",
      "Epoch 13/100\n",
      "1/1 [==============================] - 1s 536ms/step - loss: 0.1683 - mse: 0.1683\n",
      "Epoch 14/100\n",
      "1/1 [==============================] - 1s 527ms/step - loss: 0.1002 - mse: 0.1002\n",
      "Epoch 15/100\n",
      "1/1 [==============================] - 1s 542ms/step - loss: 0.0472 - mse: 0.0472\n",
      "Epoch 16/100\n",
      "1/1 [==============================] - 1s 536ms/step - loss: 0.0743 - mse: 0.0743\n",
      "Epoch 17/100\n",
      "1/1 [==============================] - 1s 528ms/step - loss: 0.1165 - mse: 0.1165\n",
      "Epoch 18/100\n",
      "1/1 [==============================] - 1s 522ms/step - loss: 0.1044 - mse: 0.1044\n",
      "Epoch 19/100\n",
      "1/1 [==============================] - 1s 522ms/step - loss: 0.0613 - mse: 0.0613\n",
      "Epoch 20/100\n",
      "1/1 [==============================] - 1s 531ms/step - loss: 0.0476 - mse: 0.0476\n",
      "Epoch 21/100\n",
      "1/1 [==============================] - 1s 557ms/step - loss: 0.0711 - mse: 0.0711\n",
      "Epoch 22/100\n",
      "1/1 [==============================] - 1s 536ms/step - loss: 0.0888 - mse: 0.0888\n",
      "Epoch 23/100\n",
      "1/1 [==============================] - 1s 526ms/step - loss: 0.0752 - mse: 0.0752\n",
      "Epoch 24/100\n",
      "1/1 [==============================] - 1s 523ms/step - loss: 0.0514 - mse: 0.0514\n",
      "Epoch 25/100\n",
      "1/1 [==============================] - 1s 518ms/step - loss: 0.0479 - mse: 0.0479\n",
      "Epoch 26/100\n",
      "1/1 [==============================] - 1s 524ms/step - loss: 0.0629 - mse: 0.0629\n",
      "Epoch 27/100\n",
      "1/1 [==============================] - 1s 525ms/step - loss: 0.0710 - mse: 0.0710\n",
      "Epoch 28/100\n",
      "1/1 [==============================] - 1s 531ms/step - loss: 0.0608 - mse: 0.0608\n",
      "Epoch 29/100\n",
      "1/1 [==============================] - 1s 528ms/step - loss: 0.0472 - mse: 0.0472\n",
      "Epoch 30/100\n",
      "1/1 [==============================] - 1s 548ms/step - loss: 0.0470 - mse: 0.0470\n",
      "Epoch 31/100\n",
      "1/1 [==============================] - 1s 526ms/step - loss: 0.0564 - mse: 0.0564\n",
      "Epoch 32/100\n",
      "1/1 [==============================] - 1s 526ms/step - loss: 0.0597 - mse: 0.0597\n",
      "Epoch 33/100\n",
      "1/1 [==============================] - 1s 530ms/step - loss: 0.0522 - mse: 0.0522\n",
      "Epoch 34/100\n",
      "1/1 [==============================] - 1s 536ms/step - loss: 0.0445 - mse: 0.0445\n",
      "Epoch 35/100\n",
      "1/1 [==============================] - 1s 539ms/step - loss: 0.0459 - mse: 0.0459\n",
      "Epoch 36/100\n",
      "1/1 [==============================] - 1s 528ms/step - loss: 0.0516 - mse: 0.0516\n",
      "Epoch 37/100\n",
      "1/1 [==============================] - 1s 532ms/step - loss: 0.0519 - mse: 0.0519\n",
      "Epoch 38/100\n",
      "1/1 [==============================] - 1s 551ms/step - loss: 0.0462 - mse: 0.0462\n",
      "Epoch 39/100\n",
      "1/1 [==============================] - 1s 526ms/step - loss: 0.0424 - mse: 0.0424\n",
      "Epoch 40/100\n",
      "1/1 [==============================] - 1s 520ms/step - loss: 0.0446 - mse: 0.0446\n",
      "Epoch 41/100\n",
      "1/1 [==============================] - 1s 553ms/step - loss: 0.0475 - mse: 0.0475\n",
      "Epoch 42/100\n",
      "1/1 [==============================] - 1s 522ms/step - loss: 0.0459 - mse: 0.0459\n",
      "Epoch 43/100\n",
      "1/1 [==============================] - 1s 519ms/step - loss: 0.0418 - mse: 0.0418\n",
      "Epoch 44/100\n",
      "1/1 [==============================] - 1s 519ms/step - loss: 0.0408 - mse: 0.0408\n",
      "Epoch 45/100\n",
      "1/1 [==============================] - 1s 520ms/step - loss: 0.0429 - mse: 0.0429\n",
      "Epoch 46/100\n",
      "1/1 [==============================] - 1s 522ms/step - loss: 0.0434 - mse: 0.0434\n",
      "Epoch 47/100\n",
      "1/1 [==============================] - 1s 523ms/step - loss: 0.0408 - mse: 0.0408\n",
      "Epoch 48/100\n",
      "1/1 [==============================] - 1s 519ms/step - loss: 0.0386 - mse: 0.0386\n",
      "Epoch 49/100\n",
      "1/1 [==============================] - 1s 522ms/step - loss: 0.0392 - mse: 0.0392\n",
      "Epoch 50/100\n",
      "1/1 [==============================] - 1s 522ms/step - loss: 0.0401 - mse: 0.0401\n",
      "Epoch 51/100\n",
      "1/1 [==============================] - 1s 521ms/step - loss: 0.0386 - mse: 0.0386\n",
      "Epoch 52/100\n",
      "1/1 [==============================] - 1s 520ms/step - loss: 0.0365 - mse: 0.0365\n",
      "Epoch 53/100\n",
      "1/1 [==============================] - 1s 520ms/step - loss: 0.0362 - mse: 0.0362\n",
      "Epoch 54/100\n",
      "1/1 [==============================] - 1s 518ms/step - loss: 0.0367 - mse: 0.0367\n",
      "Epoch 55/100\n",
      "1/1 [==============================] - 1s 522ms/step - loss: 0.0356 - mse: 0.0356\n",
      "Epoch 56/100\n",
      "1/1 [==============================] - 1s 514ms/step - loss: 0.0337 - mse: 0.0337\n",
      "Epoch 57/100\n",
      "1/1 [==============================] - 1s 522ms/step - loss: 0.0331 - mse: 0.0331\n",
      "Epoch 58/100\n",
      "1/1 [==============================] - 1s 519ms/step - loss: 0.0331 - mse: 0.0331\n",
      "Epoch 59/100\n",
      "1/1 [==============================] - 1s 517ms/step - loss: 0.0319 - mse: 0.0319\n",
      "Epoch 60/100\n",
      "1/1 [==============================] - 1s 519ms/step - loss: 0.0303 - mse: 0.0303\n",
      "Epoch 61/100\n",
      "1/1 [==============================] - 1s 527ms/step - loss: 0.0296 - mse: 0.0296\n",
      "Epoch 62/100\n",
      "1/1 [==============================] - 1s 521ms/step - loss: 0.0292 - mse: 0.0292\n",
      "Epoch 63/100\n",
      "1/1 [==============================] - 1s 528ms/step - loss: 0.0277 - mse: 0.0277\n",
      "Epoch 64/100\n",
      "1/1 [==============================] - 1s 526ms/step - loss: 0.0262 - mse: 0.0262\n",
      "Epoch 65/100\n",
      "1/1 [==============================] - 1s 527ms/step - loss: 0.0255 - mse: 0.0255\n",
      "Epoch 66/100\n",
      "1/1 [==============================] - 1s 542ms/step - loss: 0.0244 - mse: 0.0244\n",
      "Epoch 67/100\n",
      "1/1 [==============================] - 1s 520ms/step - loss: 0.0227 - mse: 0.0227\n",
      "Epoch 68/100\n",
      "1/1 [==============================] - 1s 518ms/step - loss: 0.0216 - mse: 0.0216\n",
      "Epoch 69/100\n",
      "1/1 [==============================] - 1s 520ms/step - loss: 0.0206 - mse: 0.0206\n",
      "Epoch 70/100\n",
      "1/1 [==============================] - 1s 521ms/step - loss: 0.0188 - mse: 0.0188\n",
      "Epoch 71/100\n",
      "1/1 [==============================] - 1s 538ms/step - loss: 0.0174 - mse: 0.0174\n",
      "Epoch 72/100\n",
      "1/1 [==============================] - 1s 522ms/step - loss: 0.0163 - mse: 0.0163\n",
      "Epoch 73/100\n",
      "1/1 [==============================] - 1s 524ms/step - loss: 0.0146 - mse: 0.0146\n",
      "Epoch 74/100\n",
      "1/1 [==============================] - 1s 527ms/step - loss: 0.0131 - mse: 0.0131\n",
      "Epoch 75/100\n",
      "1/1 [==============================] - 1s 527ms/step - loss: 0.0119 - mse: 0.0119\n",
      "Epoch 76/100\n",
      "1/1 [==============================] - 1s 520ms/step - loss: 0.0103 - mse: 0.0103\n",
      "Epoch 77/100\n",
      "1/1 [==============================] - 1s 522ms/step - loss: 0.0089 - mse: 0.0089\n",
      "Epoch 78/100\n",
      "1/1 [==============================] - 1s 530ms/step - loss: 0.0077 - mse: 0.0077\n",
      "Epoch 79/100\n",
      "1/1 [==============================] - 1s 522ms/step - loss: 0.0062 - mse: 0.0062\n",
      "Epoch 80/100\n",
      "1/1 [==============================] - 1s 521ms/step - loss: 0.0052 - mse: 0.0052\n",
      "Epoch 81/100\n",
      "1/1 [==============================] - 1s 531ms/step - loss: 0.0040 - mse: 0.0040\n",
      "Epoch 82/100\n",
      "1/1 [==============================] - 1s 521ms/step - loss: 0.0030 - mse: 0.0030\n",
      "Epoch 83/100\n",
      "1/1 [==============================] - 1s 522ms/step - loss: 0.0024 - mse: 0.0024\n",
      "Epoch 84/100\n",
      "1/1 [==============================] - 1s 525ms/step - loss: 0.0016 - mse: 0.0016\n",
      "Epoch 85/100\n",
      "1/1 [==============================] - 1s 523ms/step - loss: 0.0013 - mse: 0.0013\n",
      "Epoch 86/100\n",
      "1/1 [==============================] - 1s 522ms/step - loss: 8.8621e-04 - mse: 8.8621e-04\n",
      "Epoch 87/100\n",
      "1/1 [==============================] - 1s 523ms/step - loss: 7.9121e-04 - mse: 7.9121e-04\n",
      "Epoch 88/100\n",
      "1/1 [==============================] - 1s 518ms/step - loss: 7.8555e-04 - mse: 7.8555e-04\n",
      "Epoch 89/100\n",
      "1/1 [==============================] - 1s 524ms/step - loss: 8.5968e-04 - mse: 8.5968e-04\n",
      "Epoch 90/100\n",
      "1/1 [==============================] - 1s 541ms/step - loss: 0.0011 - mse: 0.0011\n",
      "Epoch 91/100\n",
      "1/1 [==============================] - 1s 526ms/step - loss: 0.0012 - mse: 0.0012\n",
      "Epoch 92/100\n",
      "1/1 [==============================] - 1s 526ms/step - loss: 0.0014 - mse: 0.0014\n",
      "Epoch 93/100\n",
      "1/1 [==============================] - 1s 524ms/step - loss: 0.0014 - mse: 0.0014\n",
      "Epoch 94/100\n",
      "1/1 [==============================] - 1s 519ms/step - loss: 0.0015 - mse: 0.0015\n",
      "Epoch 95/100\n",
      "1/1 [==============================] - 1s 522ms/step - loss: 0.0014 - mse: 0.0014\n",
      "Epoch 96/100\n",
      "1/1 [==============================] - 1s 521ms/step - loss: 0.0014 - mse: 0.0014\n",
      "Epoch 97/100\n",
      "1/1 [==============================] - 1s 521ms/step - loss: 0.0012 - mse: 0.0012\n",
      "Epoch 98/100\n",
      "1/1 [==============================] - 1s 523ms/step - loss: 0.0010 - mse: 0.0010\n",
      "Epoch 99/100\n",
      "1/1 [==============================] - 1s 519ms/step - loss: 7.6229e-04 - mse: 7.6229e-04\n",
      "Epoch 100/100\n",
      "1/1 [==============================] - 1s 519ms/step - loss: 6.0522e-04 - mse: 6.0522e-04\n"
     ]
    },
    {
     "data": {
      "text/plain": [
       "<keras.callbacks.History at 0x29ad6fa30>"
      ]
     },
     "execution_count": 25,
     "metadata": {},
     "output_type": "execute_result"
    }
   ],
   "source": [
    "multiRNN_model.fit(train_seq_X, train_Y, epochs=100)"
   ]
  },
  {
   "cell_type": "code",
   "execution_count": 26,
   "id": "8a0f694c",
   "metadata": {},
   "outputs": [
    {
     "name": "stdout",
     "output_type": "stream",
     "text": [
      "WARNING:tensorflow:5 out of the last 10 calls to <function Model.make_predict_function.<locals>.predict_function at 0x2d0c9d670> triggered tf.function retracing. Tracing is expensive and the excessive number of tracings could be due to (1) creating @tf.function repeatedly in a loop, (2) passing tensors with different shapes, (3) passing Python objects instead of tensors. For (1), please define your @tf.function outside of the loop. For (2), @tf.function has reduce_retracing=True option that can avoid unnecessary retracing. For (3), please refer to https://www.tensorflow.org/guide/function#controlling_retracing and https://www.tensorflow.org/api_docs/python/tf/function for  more details.\n",
      "1/1 [==============================] - 0s 309ms/step\n",
      "예측값: [2.465 2.509 2.548 2.582]\n",
      "실제값: [2.6 2.7 2.8 2.9]\n"
     ]
    },
    {
     "name": "stderr",
     "output_type": "stream",
     "text": [
      "2023-02-28 10:50:01.292774: I tensorflow/core/grappler/optimizers/custom_graph_optimizer_registry.cc:113] Plugin optimizer for device_type GPU is enabled.\n"
     ]
    }
   ],
   "source": [
    "result = multiRNN_model.predict(test_seq_X)\n",
    "result = result.flatten()\n",
    "print(f'예측값: {np.round(result,3)}')\n",
    "print(f'실제값: {test_Y}')"
   ]
  },
  {
   "cell_type": "markdown",
   "id": "9bb3dda9",
   "metadata": {},
   "source": [
    "#### 3) LSTM모델"
   ]
  },
  {
   "cell_type": "code",
   "execution_count": 18,
   "id": "3c2b86fd",
   "metadata": {},
   "outputs": [
    {
     "name": "stdout",
     "output_type": "stream",
     "text": [
      "Model: \"sequential_4\"\n",
      "_________________________________________________________________\n",
      " Layer (type)                Output Shape              Param #   \n",
      "=================================================================\n",
      " lstm (LSTM)                 (None, 256)               264192    \n",
      "                                                                 \n",
      " dense_4 (Dense)             (None, 1)                 257       \n",
      "                                                                 \n",
      "=================================================================\n",
      "Total params: 264,449\n",
      "Trainable params: 264,449\n",
      "Non-trainable params: 0\n",
      "_________________________________________________________________\n"
     ]
    }
   ],
   "source": [
    "LSTM_model = Sequential([\n",
    "    LSTM(256, return_sequences=False, input_shape=(16,1)),\n",
    "    Dense(1)\n",
    "])\n",
    "\n",
    "LSTM_model.compile(loss='mse', metrics='mse', optimizer='adam')\n",
    "LSTM_model.summary()"
   ]
  },
  {
   "cell_type": "code",
   "execution_count": 19,
   "id": "326007d4",
   "metadata": {},
   "outputs": [
    {
     "name": "stdout",
     "output_type": "stream",
     "text": [
      "Epoch 1/100\n"
     ]
    },
    {
     "name": "stderr",
     "output_type": "stream",
     "text": [
      "2023-02-28 10:45:53.909236: I tensorflow/core/grappler/optimizers/custom_graph_optimizer_registry.cc:113] Plugin optimizer for device_type GPU is enabled.\n",
      "2023-02-28 10:45:54.059941: I tensorflow/core/grappler/optimizers/custom_graph_optimizer_registry.cc:113] Plugin optimizer for device_type GPU is enabled.\n",
      "2023-02-28 10:45:54.913449: I tensorflow/core/grappler/optimizers/custom_graph_optimizer_registry.cc:113] Plugin optimizer for device_type GPU is enabled.\n"
     ]
    },
    {
     "name": "stdout",
     "output_type": "stream",
     "text": [
      "1/1 [==============================] - 2s 2s/step - loss: 4.1838 - mse: 4.1838\n",
      "Epoch 2/100\n",
      "1/1 [==============================] - 0s 24ms/step - loss: 3.0914 - mse: 3.0914\n",
      "Epoch 3/100\n",
      "1/1 [==============================] - 0s 14ms/step - loss: 2.1523 - mse: 2.1523\n",
      "Epoch 4/100\n",
      "1/1 [==============================] - 0s 15ms/step - loss: 1.3166 - mse: 1.3166\n",
      "Epoch 5/100\n",
      "1/1 [==============================] - 0s 19ms/step - loss: 0.5907 - mse: 0.5907\n",
      "Epoch 6/100\n",
      "1/1 [==============================] - 0s 14ms/step - loss: 0.0890 - mse: 0.0890\n",
      "Epoch 7/100\n",
      "1/1 [==============================] - 0s 14ms/step - loss: 0.1688 - mse: 0.1688\n",
      "Epoch 8/100\n",
      "1/1 [==============================] - 0s 14ms/step - loss: 0.5403 - mse: 0.5403\n",
      "Epoch 9/100\n",
      "1/1 [==============================] - 0s 14ms/step - loss: 0.3525 - mse: 0.3525\n",
      "Epoch 10/100\n",
      "1/1 [==============================] - 0s 14ms/step - loss: 0.0922 - mse: 0.0922\n",
      "Epoch 11/100\n",
      "1/1 [==============================] - 0s 14ms/step - loss: 0.0079 - mse: 0.0079\n",
      "Epoch 12/100\n",
      "1/1 [==============================] - 0s 13ms/step - loss: 0.0471 - mse: 0.0471\n",
      "Epoch 13/100\n",
      "1/1 [==============================] - 0s 14ms/step - loss: 0.1193 - mse: 0.1193\n",
      "Epoch 14/100\n",
      "1/1 [==============================] - 0s 12ms/step - loss: 0.1762 - mse: 0.1762\n",
      "Epoch 15/100\n",
      "1/1 [==============================] - 0s 12ms/step - loss: 0.2021 - mse: 0.2021\n",
      "Epoch 16/100\n",
      "1/1 [==============================] - 0s 13ms/step - loss: 0.1965 - mse: 0.1965\n",
      "Epoch 17/100\n",
      "1/1 [==============================] - 0s 28ms/step - loss: 0.1656 - mse: 0.1656\n",
      "Epoch 18/100\n",
      "1/1 [==============================] - 0s 14ms/step - loss: 0.1188 - mse: 0.1188\n",
      "Epoch 19/100\n",
      "1/1 [==============================] - 0s 12ms/step - loss: 0.0675 - mse: 0.0675\n",
      "Epoch 20/100\n",
      "1/1 [==============================] - 0s 13ms/step - loss: 0.0248 - mse: 0.0248\n",
      "Epoch 21/100\n",
      "1/1 [==============================] - 0s 12ms/step - loss: 0.0035 - mse: 0.0035\n",
      "Epoch 22/100\n",
      "1/1 [==============================] - 0s 12ms/step - loss: 0.0102 - mse: 0.0102\n",
      "Epoch 23/100\n",
      "1/1 [==============================] - 0s 18ms/step - loss: 0.0379 - mse: 0.0379\n",
      "Epoch 24/100\n",
      "1/1 [==============================] - 0s 13ms/step - loss: 0.0651 - mse: 0.0651\n",
      "Epoch 25/100\n",
      "1/1 [==============================] - 0s 26ms/step - loss: 0.0712 - mse: 0.0712\n",
      "Epoch 26/100\n",
      "1/1 [==============================] - 0s 16ms/step - loss: 0.0541 - mse: 0.0541\n",
      "Epoch 27/100\n",
      "1/1 [==============================] - 0s 12ms/step - loss: 0.0281 - mse: 0.0281\n",
      "Epoch 28/100\n",
      "1/1 [==============================] - 0s 13ms/step - loss: 0.0083 - mse: 0.0083\n",
      "Epoch 29/100\n",
      "1/1 [==============================] - 0s 12ms/step - loss: 0.0014 - mse: 0.0014\n",
      "Epoch 30/100\n",
      "1/1 [==============================] - 0s 12ms/step - loss: 0.0053 - mse: 0.0053\n",
      "Epoch 31/100\n",
      "1/1 [==============================] - 0s 13ms/step - loss: 0.0143 - mse: 0.0143\n",
      "Epoch 32/100\n",
      "1/1 [==============================] - 0s 13ms/step - loss: 0.0230 - mse: 0.0230\n",
      "Epoch 33/100\n",
      "1/1 [==============================] - 0s 13ms/step - loss: 0.0278 - mse: 0.0278\n",
      "Epoch 34/100\n",
      "1/1 [==============================] - 0s 12ms/step - loss: 0.0274 - mse: 0.0274\n",
      "Epoch 35/100\n",
      "1/1 [==============================] - 0s 13ms/step - loss: 0.0224 - mse: 0.0224\n",
      "Epoch 36/100\n",
      "1/1 [==============================] - 0s 12ms/step - loss: 0.0148 - mse: 0.0148\n",
      "Epoch 37/100\n",
      "1/1 [==============================] - 0s 12ms/step - loss: 0.0072 - mse: 0.0072\n",
      "Epoch 38/100\n",
      "1/1 [==============================] - 0s 13ms/step - loss: 0.0020 - mse: 0.0020\n",
      "Epoch 39/100\n",
      "1/1 [==============================] - 0s 12ms/step - loss: 9.0537e-04 - mse: 9.0537e-04\n",
      "Epoch 40/100\n",
      "1/1 [==============================] - 0s 15ms/step - loss: 0.0034 - mse: 0.0034\n",
      "Epoch 41/100\n",
      "1/1 [==============================] - 0s 13ms/step - loss: 0.0077 - mse: 0.0077\n",
      "Epoch 42/100\n",
      "1/1 [==============================] - 0s 18ms/step - loss: 0.0108 - mse: 0.0108\n",
      "Epoch 43/100\n",
      "1/1 [==============================] - 0s 21ms/step - loss: 0.0112 - mse: 0.0112\n",
      "Epoch 44/100\n",
      "1/1 [==============================] - 0s 14ms/step - loss: 0.0087 - mse: 0.0087\n",
      "Epoch 45/100\n",
      "1/1 [==============================] - 0s 13ms/step - loss: 0.0050 - mse: 0.0050\n",
      "Epoch 46/100\n",
      "1/1 [==============================] - 0s 13ms/step - loss: 0.0019 - mse: 0.0019\n",
      "Epoch 47/100\n",
      "1/1 [==============================] - 0s 13ms/step - loss: 5.9283e-04 - mse: 5.9283e-04\n",
      "Epoch 48/100\n",
      "1/1 [==============================] - 0s 13ms/step - loss: 0.0011 - mse: 0.0011\n",
      "Epoch 49/100\n",
      "1/1 [==============================] - 0s 19ms/step - loss: 0.0027 - mse: 0.0027\n",
      "Epoch 50/100\n",
      "1/1 [==============================] - 0s 21ms/step - loss: 0.0042 - mse: 0.0042\n",
      "Epoch 51/100\n",
      "1/1 [==============================] - 0s 12ms/step - loss: 0.0049 - mse: 0.0049\n",
      "Epoch 52/100\n",
      "1/1 [==============================] - 0s 14ms/step - loss: 0.0046 - mse: 0.0046\n",
      "Epoch 53/100\n",
      "1/1 [==============================] - 0s 12ms/step - loss: 0.0034 - mse: 0.0034\n",
      "Epoch 54/100\n",
      "1/1 [==============================] - 0s 12ms/step - loss: 0.0020 - mse: 0.0020\n",
      "Epoch 55/100\n",
      "1/1 [==============================] - 0s 13ms/step - loss: 8.3701e-04 - mse: 8.3701e-04\n",
      "Epoch 56/100\n",
      "1/1 [==============================] - 0s 11ms/step - loss: 4.3163e-04 - mse: 4.3163e-04\n",
      "Epoch 57/100\n",
      "1/1 [==============================] - 0s 11ms/step - loss: 7.7153e-04 - mse: 7.7153e-04\n",
      "Epoch 58/100\n",
      "1/1 [==============================] - 0s 13ms/step - loss: 0.0015 - mse: 0.0015\n",
      "Epoch 59/100\n",
      "1/1 [==============================] - 0s 14ms/step - loss: 0.0021 - mse: 0.0021\n",
      "Epoch 60/100\n",
      "1/1 [==============================] - 0s 12ms/step - loss: 0.0022 - mse: 0.0022\n",
      "Epoch 61/100\n",
      "1/1 [==============================] - 0s 14ms/step - loss: 0.0018 - mse: 0.0018\n",
      "Epoch 62/100\n",
      "1/1 [==============================] - 0s 13ms/step - loss: 0.0012 - mse: 0.0012\n",
      "Epoch 63/100\n",
      "1/1 [==============================] - 0s 11ms/step - loss: 6.0192e-04 - mse: 6.0192e-04\n",
      "Epoch 64/100\n",
      "1/1 [==============================] - 0s 16ms/step - loss: 3.5530e-04 - mse: 3.5530e-04\n",
      "Epoch 65/100\n",
      "1/1 [==============================] - 0s 12ms/step - loss: 4.6445e-04 - mse: 4.6445e-04\n",
      "Epoch 66/100\n",
      "1/1 [==============================] - 0s 12ms/step - loss: 7.6963e-04 - mse: 7.6963e-04\n",
      "Epoch 67/100\n",
      "1/1 [==============================] - 0s 11ms/step - loss: 0.0010 - mse: 0.0010\n",
      "Epoch 68/100\n",
      "1/1 [==============================] - 0s 14ms/step - loss: 0.0011 - mse: 0.0011\n",
      "Epoch 69/100\n",
      "1/1 [==============================] - 0s 23ms/step - loss: 9.9927e-04 - mse: 9.9927e-04\n",
      "Epoch 70/100\n",
      "1/1 [==============================] - 0s 13ms/step - loss: 7.2157e-04 - mse: 7.2157e-04\n",
      "Epoch 71/100\n",
      "1/1 [==============================] - 0s 16ms/step - loss: 4.4907e-04 - mse: 4.4907e-04\n",
      "Epoch 72/100\n",
      "1/1 [==============================] - 0s 12ms/step - loss: 3.0428e-04 - mse: 3.0428e-04\n",
      "Epoch 73/100\n",
      "1/1 [==============================] - 0s 13ms/step - loss: 3.2538e-04 - mse: 3.2538e-04\n",
      "Epoch 74/100\n",
      "1/1 [==============================] - 0s 12ms/step - loss: 4.5603e-04 - mse: 4.5603e-04\n",
      "Epoch 75/100\n",
      "1/1 [==============================] - 0s 12ms/step - loss: 5.8875e-04 - mse: 5.8875e-04\n",
      "Epoch 76/100\n",
      "1/1 [==============================] - 0s 19ms/step - loss: 6.3304e-04 - mse: 6.3304e-04\n",
      "Epoch 77/100\n",
      "1/1 [==============================] - 0s 20ms/step - loss: 5.6521e-04 - mse: 5.6521e-04\n",
      "Epoch 78/100\n",
      "1/1 [==============================] - 0s 14ms/step - loss: 4.3134e-04 - mse: 4.3134e-04\n",
      "Epoch 79/100\n",
      "1/1 [==============================] - 0s 13ms/step - loss: 3.0816e-04 - mse: 3.0816e-04\n",
      "Epoch 80/100\n",
      "1/1 [==============================] - 0s 12ms/step - loss: 2.5286e-04 - mse: 2.5286e-04\n",
      "Epoch 81/100\n",
      "1/1 [==============================] - 0s 12ms/step - loss: 2.7399e-04 - mse: 2.7399e-04\n",
      "Epoch 82/100\n",
      "1/1 [==============================] - 0s 18ms/step - loss: 3.3602e-04 - mse: 3.3602e-04\n",
      "Epoch 83/100\n",
      "1/1 [==============================] - 0s 15ms/step - loss: 3.8783e-04 - mse: 3.8783e-04\n",
      "Epoch 84/100\n",
      "1/1 [==============================] - 0s 13ms/step - loss: 3.9411e-04 - mse: 3.9411e-04\n",
      "Epoch 85/100\n",
      "1/1 [==============================] - 0s 15ms/step - loss: 3.5212e-04 - mse: 3.5212e-04\n",
      "Epoch 86/100\n",
      "1/1 [==============================] - 0s 13ms/step - loss: 2.8755e-04 - mse: 2.8755e-04\n",
      "Epoch 87/100\n",
      "1/1 [==============================] - 0s 13ms/step - loss: 2.3519e-04 - mse: 2.3519e-04\n",
      "Epoch 88/100\n",
      "1/1 [==============================] - 0s 12ms/step - loss: 2.1748e-04 - mse: 2.1748e-04\n",
      "Epoch 89/100\n",
      "1/1 [==============================] - 0s 12ms/step - loss: 2.3318e-04 - mse: 2.3318e-04\n",
      "Epoch 90/100\n",
      "1/1 [==============================] - 0s 12ms/step - loss: 2.6170e-04 - mse: 2.6170e-04\n",
      "Epoch 91/100\n",
      "1/1 [==============================] - 0s 12ms/step - loss: 2.7847e-04 - mse: 2.7847e-04\n",
      "Epoch 92/100\n",
      "1/1 [==============================] - 0s 13ms/step - loss: 2.7058e-04 - mse: 2.7058e-04\n",
      "Epoch 93/100\n",
      "1/1 [==============================] - 0s 14ms/step - loss: 2.4274e-04 - mse: 2.4274e-04\n",
      "Epoch 94/100\n",
      "1/1 [==============================] - 0s 13ms/step - loss: 2.1136e-04 - mse: 2.1136e-04\n",
      "Epoch 95/100\n",
      "1/1 [==============================] - 0s 13ms/step - loss: 1.9230e-04 - mse: 1.9230e-04\n",
      "Epoch 96/100\n",
      "1/1 [==============================] - 0s 12ms/step - loss: 1.9116e-04 - mse: 1.9116e-04\n",
      "Epoch 97/100\n",
      "1/1 [==============================] - 0s 12ms/step - loss: 2.0174e-04 - mse: 2.0174e-04\n",
      "Epoch 98/100\n",
      "1/1 [==============================] - 0s 12ms/step - loss: 2.1197e-04 - mse: 2.1197e-04\n",
      "Epoch 99/100\n",
      "1/1 [==============================] - 0s 11ms/step - loss: 2.1237e-04 - mse: 2.1237e-04\n",
      "Epoch 100/100\n",
      "1/1 [==============================] - 0s 12ms/step - loss: 2.0138e-04 - mse: 2.0138e-04\n"
     ]
    },
    {
     "data": {
      "text/plain": [
       "<keras.callbacks.History at 0x2905b22b0>"
      ]
     },
     "execution_count": 19,
     "metadata": {},
     "output_type": "execute_result"
    }
   ],
   "source": [
    "LSTM_model.fit(train_seq_X, train_Y, epochs=100)"
   ]
  },
  {
   "cell_type": "code",
   "execution_count": 20,
   "id": "4bd50394",
   "metadata": {},
   "outputs": [
    {
     "name": "stderr",
     "output_type": "stream",
     "text": [
      "2023-02-28 10:45:58.800218: I tensorflow/core/grappler/optimizers/custom_graph_optimizer_registry.cc:113] Plugin optimizer for device_type GPU is enabled.\n",
      "2023-02-28 10:45:58.849293: I tensorflow/core/grappler/optimizers/custom_graph_optimizer_registry.cc:113] Plugin optimizer for device_type GPU is enabled.\n"
     ]
    },
    {
     "name": "stdout",
     "output_type": "stream",
     "text": [
      "1/1 [==============================] - 0s 338ms/step\n",
      "예측값: [2.575 2.66  2.743 2.824]\n",
      "실제값: [2.6 2.7 2.8 2.9]\n"
     ]
    }
   ],
   "source": [
    "result = LSTM_model.predict(test_seq_X)\n",
    "result = result.flatten()\n",
    "print(f'예측값: {np.round(result,3)}')\n",
    "print(f'실제값: {test_Y}')"
   ]
  },
  {
   "cell_type": "markdown",
   "id": "45a53c48",
   "metadata": {},
   "source": [
    "#### 4) GRU 모델"
   ]
  },
  {
   "cell_type": "code",
   "execution_count": 21,
   "id": "026cfffc",
   "metadata": {},
   "outputs": [
    {
     "name": "stdout",
     "output_type": "stream",
     "text": [
      "Model: \"sequential_5\"\n",
      "_________________________________________________________________\n",
      " Layer (type)                Output Shape              Param #   \n",
      "=================================================================\n",
      " gru (GRU)                   (None, 256)               198912    \n",
      "                                                                 \n",
      " dense_5 (Dense)             (None, 1)                 257       \n",
      "                                                                 \n",
      "=================================================================\n",
      "Total params: 199,169\n",
      "Trainable params: 199,169\n",
      "Non-trainable params: 0\n",
      "_________________________________________________________________\n"
     ]
    }
   ],
   "source": [
    "GRU_model = Sequential([\n",
    "    GRU(256, return_sequences=False, input_shape=(16,1)),\n",
    "    Dense(1)\n",
    "])\n",
    "\n",
    "GRU_model.compile(loss='mse', metrics='mse', optimizer='adam')\n",
    "GRU_model.summary()"
   ]
  },
  {
   "cell_type": "code",
   "execution_count": 22,
   "id": "29e7f95f",
   "metadata": {},
   "outputs": [
    {
     "name": "stdout",
     "output_type": "stream",
     "text": [
      "Epoch 1/100\n"
     ]
    },
    {
     "name": "stderr",
     "output_type": "stream",
     "text": [
      "2023-02-28 10:47:22.426706: I tensorflow/core/grappler/optimizers/custom_graph_optimizer_registry.cc:113] Plugin optimizer for device_type GPU is enabled.\n",
      "2023-02-28 10:47:22.576788: I tensorflow/core/grappler/optimizers/custom_graph_optimizer_registry.cc:113] Plugin optimizer for device_type GPU is enabled.\n",
      "2023-02-28 10:47:22.971073: I tensorflow/core/grappler/optimizers/custom_graph_optimizer_registry.cc:113] Plugin optimizer for device_type GPU is enabled.\n"
     ]
    },
    {
     "name": "stdout",
     "output_type": "stream",
     "text": [
      "1/1 [==============================] - 2s 2s/step - loss: 4.0107 - mse: 4.0107\n",
      "Epoch 2/100\n",
      "1/1 [==============================] - 0s 48ms/step - loss: 3.0181 - mse: 3.0181\n",
      "Epoch 3/100\n",
      "1/1 [==============================] - 0s 14ms/step - loss: 2.1671 - mse: 2.1671\n",
      "Epoch 4/100\n",
      "1/1 [==============================] - 0s 13ms/step - loss: 1.4429 - mse: 1.4429\n",
      "Epoch 5/100\n",
      "1/1 [==============================] - 0s 13ms/step - loss: 0.8422 - mse: 0.8422\n",
      "Epoch 6/100\n",
      "1/1 [==============================] - 0s 13ms/step - loss: 0.3766 - mse: 0.3766\n",
      "Epoch 7/100\n",
      "1/1 [==============================] - 0s 15ms/step - loss: 0.0792 - mse: 0.0792\n",
      "Epoch 8/100\n",
      "1/1 [==============================] - 0s 13ms/step - loss: 0.0074 - mse: 0.0074\n",
      "Epoch 9/100\n",
      "1/1 [==============================] - 0s 13ms/step - loss: 0.1801 - mse: 0.1801\n",
      "Epoch 10/100\n",
      "1/1 [==============================] - 0s 16ms/step - loss: 0.3644 - mse: 0.3644\n",
      "Epoch 11/100\n",
      "1/1 [==============================] - 0s 12ms/step - loss: 0.3646 - mse: 0.3646\n",
      "Epoch 12/100\n",
      "1/1 [==============================] - 0s 26ms/step - loss: 0.2478 - mse: 0.2478\n",
      "Epoch 13/100\n",
      "1/1 [==============================] - 0s 20ms/step - loss: 0.1224 - mse: 0.1224\n",
      "Epoch 14/100\n",
      "1/1 [==============================] - 0s 13ms/step - loss: 0.0396 - mse: 0.0396\n",
      "Epoch 15/100\n",
      "1/1 [==============================] - 0s 13ms/step - loss: 0.0041 - mse: 0.0041\n",
      "Epoch 16/100\n",
      "1/1 [==============================] - 0s 14ms/step - loss: 0.0024 - mse: 0.0024\n",
      "Epoch 17/100\n",
      "1/1 [==============================] - 0s 12ms/step - loss: 0.0189 - mse: 0.0189\n",
      "Epoch 18/100\n",
      "1/1 [==============================] - 0s 14ms/step - loss: 0.0418 - mse: 0.0418\n",
      "Epoch 19/100\n",
      "1/1 [==============================] - 0s 12ms/step - loss: 0.0633 - mse: 0.0633\n",
      "Epoch 20/100\n",
      "1/1 [==============================] - 0s 14ms/step - loss: 0.0790 - mse: 0.0790\n",
      "Epoch 21/100\n",
      "1/1 [==============================] - 0s 12ms/step - loss: 0.0871 - mse: 0.0871\n",
      "Epoch 22/100\n",
      "1/1 [==============================] - 0s 13ms/step - loss: 0.0875 - mse: 0.0875\n",
      "Epoch 23/100\n",
      "1/1 [==============================] - 0s 12ms/step - loss: 0.0812 - mse: 0.0812\n",
      "Epoch 24/100\n",
      "1/1 [==============================] - 0s 12ms/step - loss: 0.0698 - mse: 0.0698\n",
      "Epoch 25/100\n",
      "1/1 [==============================] - 0s 12ms/step - loss: 0.0553 - mse: 0.0553\n",
      "Epoch 26/100\n",
      "1/1 [==============================] - 0s 12ms/step - loss: 0.0397 - mse: 0.0397\n",
      "Epoch 27/100\n",
      "1/1 [==============================] - 0s 12ms/step - loss: 0.0250 - mse: 0.0250\n",
      "Epoch 28/100\n",
      "1/1 [==============================] - 0s 12ms/step - loss: 0.0128 - mse: 0.0128\n",
      "Epoch 29/100\n",
      "1/1 [==============================] - 0s 12ms/step - loss: 0.0044 - mse: 0.0044\n",
      "Epoch 30/100\n",
      "1/1 [==============================] - 0s 12ms/step - loss: 4.2657e-04 - mse: 4.2657e-04\n",
      "Epoch 31/100\n",
      "1/1 [==============================] - 0s 12ms/step - loss: 5.9148e-04 - mse: 5.9148e-04\n",
      "Epoch 32/100\n",
      "1/1 [==============================] - 0s 12ms/step - loss: 0.0040 - mse: 0.0040\n",
      "Epoch 33/100\n",
      "1/1 [==============================] - 0s 12ms/step - loss: 0.0092 - mse: 0.0092\n",
      "Epoch 34/100\n",
      "1/1 [==============================] - 0s 12ms/step - loss: 0.0144 - mse: 0.0144\n",
      "Epoch 35/100\n",
      "1/1 [==============================] - 0s 12ms/step - loss: 0.0180 - mse: 0.0180\n",
      "Epoch 36/100\n",
      "1/1 [==============================] - 0s 12ms/step - loss: 0.0192 - mse: 0.0192\n",
      "Epoch 37/100\n",
      "1/1 [==============================] - 0s 12ms/step - loss: 0.0178 - mse: 0.0178\n",
      "Epoch 38/100\n",
      "1/1 [==============================] - 0s 12ms/step - loss: 0.0145 - mse: 0.0145\n",
      "Epoch 39/100\n",
      "1/1 [==============================] - 0s 20ms/step - loss: 0.0103 - mse: 0.0103\n",
      "Epoch 40/100\n",
      "1/1 [==============================] - 0s 31ms/step - loss: 0.0062 - mse: 0.0062\n",
      "Epoch 41/100\n",
      "1/1 [==============================] - 0s 13ms/step - loss: 0.0029 - mse: 0.0029\n",
      "Epoch 42/100\n",
      "1/1 [==============================] - 0s 15ms/step - loss: 8.2241e-04 - mse: 8.2241e-04\n",
      "Epoch 43/100\n",
      "1/1 [==============================] - 0s 13ms/step - loss: 5.0853e-05 - mse: 5.0853e-05\n",
      "Epoch 44/100\n",
      "1/1 [==============================] - 0s 12ms/step - loss: 3.4352e-04 - mse: 3.4352e-04\n",
      "Epoch 45/100\n",
      "1/1 [==============================] - 0s 14ms/step - loss: 0.0013 - mse: 0.0013\n",
      "Epoch 46/100\n",
      "1/1 [==============================] - 0s 12ms/step - loss: 0.0026 - mse: 0.0026\n",
      "Epoch 47/100\n",
      "1/1 [==============================] - 0s 13ms/step - loss: 0.0038 - mse: 0.0038\n",
      "Epoch 48/100\n",
      "1/1 [==============================] - 0s 12ms/step - loss: 0.0046 - mse: 0.0046\n",
      "Epoch 49/100\n",
      "1/1 [==============================] - 0s 12ms/step - loss: 0.0049 - mse: 0.0049\n",
      "Epoch 50/100\n",
      "1/1 [==============================] - 0s 12ms/step - loss: 0.0047 - mse: 0.0047\n",
      "Epoch 51/100\n",
      "1/1 [==============================] - 0s 12ms/step - loss: 0.0041 - mse: 0.0041\n",
      "Epoch 52/100\n",
      "1/1 [==============================] - 0s 12ms/step - loss: 0.0032 - mse: 0.0032\n",
      "Epoch 53/100\n",
      "1/1 [==============================] - 0s 12ms/step - loss: 0.0022 - mse: 0.0022\n",
      "Epoch 54/100\n",
      "1/1 [==============================] - 0s 12ms/step - loss: 0.0012 - mse: 0.0012\n",
      "Epoch 55/100\n",
      "1/1 [==============================] - 0s 13ms/step - loss: 5.2452e-04 - mse: 5.2452e-04\n",
      "Epoch 56/100\n",
      "1/1 [==============================] - 0s 13ms/step - loss: 1.2893e-04 - mse: 1.2893e-04\n",
      "Epoch 57/100\n",
      "1/1 [==============================] - 0s 12ms/step - loss: 4.7956e-05 - mse: 4.7956e-05\n",
      "Epoch 58/100\n",
      "1/1 [==============================] - 0s 12ms/step - loss: 2.2383e-04 - mse: 2.2383e-04\n",
      "Epoch 59/100\n",
      "1/1 [==============================] - 0s 12ms/step - loss: 5.5230e-04 - mse: 5.5230e-04\n",
      "Epoch 60/100\n",
      "1/1 [==============================] - 0s 13ms/step - loss: 9.1145e-04 - mse: 9.1145e-04\n",
      "Epoch 61/100\n",
      "1/1 [==============================] - 0s 12ms/step - loss: 0.0012 - mse: 0.0012\n",
      "Epoch 62/100\n",
      "1/1 [==============================] - 0s 12ms/step - loss: 0.0013 - mse: 0.0013\n",
      "Epoch 63/100\n",
      "1/1 [==============================] - 0s 12ms/step - loss: 0.0013 - mse: 0.0013\n",
      "Epoch 64/100\n",
      "1/1 [==============================] - 0s 18ms/step - loss: 0.0011 - mse: 0.0011\n",
      "Epoch 65/100\n",
      "1/1 [==============================] - 0s 24ms/step - loss: 8.1750e-04 - mse: 8.1750e-04\n",
      "Epoch 66/100\n",
      "1/1 [==============================] - 0s 16ms/step - loss: 5.2188e-04 - mse: 5.2188e-04\n",
      "Epoch 67/100\n",
      "1/1 [==============================] - 0s 13ms/step - loss: 2.7109e-04 - mse: 2.7109e-04\n",
      "Epoch 68/100\n",
      "1/1 [==============================] - 0s 16ms/step - loss: 1.0683e-04 - mse: 1.0683e-04\n",
      "Epoch 69/100\n",
      "1/1 [==============================] - 0s 14ms/step - loss: 4.3098e-05 - mse: 4.3098e-05\n",
      "Epoch 70/100\n",
      "1/1 [==============================] - 0s 13ms/step - loss: 6.8061e-05 - mse: 6.8061e-05\n",
      "Epoch 71/100\n",
      "1/1 [==============================] - 0s 12ms/step - loss: 1.5181e-04 - mse: 1.5181e-04\n",
      "Epoch 72/100\n",
      "1/1 [==============================] - 0s 13ms/step - loss: 2.5681e-04 - mse: 2.5681e-04\n",
      "Epoch 73/100\n",
      "1/1 [==============================] - 0s 13ms/step - loss: 3.4809e-04 - mse: 3.4809e-04\n",
      "Epoch 74/100\n",
      "1/1 [==============================] - 0s 12ms/step - loss: 4.0081e-04 - mse: 4.0081e-04\n",
      "Epoch 75/100\n",
      "1/1 [==============================] - 0s 12ms/step - loss: 4.0423e-04 - mse: 4.0423e-04\n",
      "Epoch 76/100\n",
      "1/1 [==============================] - 0s 12ms/step - loss: 3.6165e-04 - mse: 3.6165e-04\n",
      "Epoch 77/100\n",
      "1/1 [==============================] - 0s 13ms/step - loss: 2.8730e-04 - mse: 2.8730e-04\n",
      "Epoch 78/100\n",
      "1/1 [==============================] - 0s 12ms/step - loss: 2.0109e-04 - mse: 2.0109e-04\n",
      "Epoch 79/100\n",
      "1/1 [==============================] - 0s 13ms/step - loss: 1.2292e-04 - mse: 1.2292e-04\n",
      "Epoch 80/100\n",
      "1/1 [==============================] - 0s 13ms/step - loss: 6.7789e-05 - mse: 6.7789e-05\n",
      "Epoch 81/100\n",
      "1/1 [==============================] - 0s 13ms/step - loss: 4.2788e-05 - mse: 4.2788e-05\n",
      "Epoch 82/100\n",
      "1/1 [==============================] - 0s 13ms/step - loss: 4.6485e-05 - mse: 4.6485e-05\n",
      "Epoch 83/100\n",
      "1/1 [==============================] - 0s 12ms/step - loss: 7.0542e-05 - mse: 7.0542e-05\n",
      "Epoch 84/100\n",
      "1/1 [==============================] - 0s 12ms/step - loss: 1.0290e-04 - mse: 1.0290e-04\n",
      "Epoch 85/100\n",
      "1/1 [==============================] - 0s 12ms/step - loss: 1.3153e-04 - mse: 1.3153e-04\n",
      "Epoch 86/100\n",
      "1/1 [==============================] - 0s 12ms/step - loss: 1.4759e-04 - mse: 1.4759e-04\n",
      "Epoch 87/100\n",
      "1/1 [==============================] - 0s 12ms/step - loss: 1.4730e-04 - mse: 1.4730e-04\n",
      "Epoch 88/100\n",
      "1/1 [==============================] - 0s 12ms/step - loss: 1.3212e-04 - mse: 1.3212e-04\n",
      "Epoch 89/100\n",
      "1/1 [==============================] - 0s 12ms/step - loss: 1.0744e-04 - mse: 1.0744e-04\n",
      "Epoch 90/100\n",
      "1/1 [==============================] - 0s 12ms/step - loss: 8.0460e-05 - mse: 8.0460e-05\n",
      "Epoch 91/100\n",
      "1/1 [==============================] - 0s 12ms/step - loss: 5.7819e-05 - mse: 5.7819e-05\n",
      "Epoch 92/100\n",
      "1/1 [==============================] - 0s 13ms/step - loss: 4.3898e-05 - mse: 4.3898e-05\n",
      "Epoch 93/100\n",
      "1/1 [==============================] - 0s 24ms/step - loss: 3.9991e-05 - mse: 3.9991e-05\n",
      "Epoch 94/100\n",
      "1/1 [==============================] - 0s 17ms/step - loss: 4.4492e-05 - mse: 4.4492e-05\n",
      "Epoch 95/100\n",
      "1/1 [==============================] - 0s 13ms/step - loss: 5.3841e-05 - mse: 5.3841e-05\n",
      "Epoch 96/100\n",
      "1/1 [==============================] - 0s 13ms/step - loss: 6.3857e-05 - mse: 6.3857e-05\n",
      "Epoch 97/100\n",
      "1/1 [==============================] - 0s 12ms/step - loss: 7.0975e-05 - mse: 7.0975e-05\n",
      "Epoch 98/100\n",
      "1/1 [==============================] - 0s 12ms/step - loss: 7.3138e-05 - mse: 7.3138e-05\n",
      "Epoch 99/100\n",
      "1/1 [==============================] - 0s 12ms/step - loss: 7.0083e-05 - mse: 7.0083e-05\n",
      "Epoch 100/100\n",
      "1/1 [==============================] - 0s 12ms/step - loss: 6.3109e-05 - mse: 6.3109e-05\n"
     ]
    },
    {
     "data": {
      "text/plain": [
       "<keras.callbacks.History at 0x29089bd60>"
      ]
     },
     "execution_count": 22,
     "metadata": {},
     "output_type": "execute_result"
    }
   ],
   "source": [
    "GRU_model.fit(train_seq_X, train_Y, epochs=100)"
   ]
  },
  {
   "cell_type": "code",
   "execution_count": 23,
   "id": "b4b101f3",
   "metadata": {},
   "outputs": [
    {
     "name": "stdout",
     "output_type": "stream",
     "text": [
      "1/1 [==============================] - 0s 311ms/step\n",
      "예측값: [2.567 2.66  2.752 2.843]\n",
      "실제값: [2.6 2.7 2.8 2.9]\n"
     ]
    },
    {
     "name": "stderr",
     "output_type": "stream",
     "text": [
      "2023-02-28 10:47:39.017984: I tensorflow/core/grappler/optimizers/custom_graph_optimizer_registry.cc:113] Plugin optimizer for device_type GPU is enabled.\n",
      "2023-02-28 10:47:39.063097: I tensorflow/core/grappler/optimizers/custom_graph_optimizer_registry.cc:113] Plugin optimizer for device_type GPU is enabled.\n"
     ]
    }
   ],
   "source": [
    "result = GRU_model.predict(test_seq_X)\n",
    "result = result.flatten()\n",
    "print(f'예측값: {np.round(result,3)}')\n",
    "print(f'실제값: {test_Y}')"
   ]
  },
  {
   "cell_type": "markdown",
   "id": "33fbafad",
   "metadata": {},
   "source": [
    "# [quiz] Sign곡선(비선형 시퀀스) 예측\n",
    "- Sign곡선에서 일부를 잘라 만든 시퀀스를 보고, 이 시퀀스 다음에 나타날 값을 예측하는 순환 신경망 모델 만들기\n",
    "\n",
    "- 단순 RNN, LSTM, GRU 모델을 각각 구현하고 예측 성능을 비교하라"
   ]
  },
  {
   "cell_type": "markdown",
   "id": "7f9811aa",
   "metadata": {},
   "source": [
    "#### 데이터 준비"
   ]
  },
  {
   "cell_type": "code",
   "execution_count": 3,
   "id": "88004814",
   "metadata": {},
   "outputs": [],
   "source": [
    "import numpy as np\n",
    "import matplotlib.pyplot as plt\n",
    "\n",
    "size, seq_len = 100, 10\n",
    "# 비어있는 넘파이 배열을 생성한다.\n",
    "seq_X = np.empty(shape=(size, seq_len, 1))\n",
    "Y = np.empty(shape=(size,))"
   ]
  },
  {
   "cell_type": "code",
   "execution_count": 4,
   "id": "8114e61e",
   "metadata": {},
   "outputs": [],
   "source": [
    "# sine 곡선에서 잘라낼 구간 설정\n",
    "interval = np.linspace(0.0, 2.5, seq_len+1)"
   ]
  },
  {
   "cell_type": "code",
   "execution_count": 5,
   "id": "7761c12e",
   "metadata": {},
   "outputs": [],
   "source": [
    "shift = np.random.randn(size) # 시퀀스 추출에 사용할 구간을 옮겨 놓는 값\n",
    "# 구간의 마지막 값이 정답 레이블\n",
    "for i in range(size):\n",
    "    seq_X[i,:,:] = np.sin(shift[i] + interval[:-1]).reshape(seq_len, 1)\n",
    "    Y[i] = np.sin(shift[i] + interval[-1])"
   ]
  },
  {
   "cell_type": "code",
   "execution_count": 6,
   "id": "05c97895",
   "metadata": {
    "collapsed": true
   },
   "outputs": [
    {
     "data": {
      "image/png": "[encoded data removed]",
      "text/plain": [
       "<Figure size 432x288 with 1 Axes>"
      ]
     },
     "metadata": {
      "needs_background": "light"
     },
     "output_type": "display_data"
    },
    {
     "data": {
      "image/png": "[encoded data removed]",
      "text/plain": [
       "<Figure size 432x288 with 1 Axes>"
      ]
     },
     "metadata": {
      "needs_background": "light"
     },
     "output_type": "display_data"
    },
    {
     "data": {
      "image/png": "[encoded data removed]",
      "text/plain": [
       "<Figure size 432x288 with 1 Axes>"
      ]
     },
     "metadata": {
      "needs_background": "light"
     },
     "output_type": "display_data"
    },
    {
     "data": {
      "image/png": "[encoded data removed]",
      "text/plain": [
       "<Figure size 432x288 with 1 Axes>"
      ]
     },
     "metadata": {
      "needs_background": "light"
     },
     "output_type": "display_data"
    }
   ],
   "source": [
    "# 생성된 시퀀스 데이터 가운데 몇 개 확인\n",
    "for i in [1, 3, 5, 9]:\n",
    "    plt.scatter(interval[:-1], seq_X[i, :,:])\n",
    "    plt.scatter(interval[-1], Y[i])\n",
    "    plt.show()"
   ]
  },
  {
   "cell_type": "code",
   "execution_count": 7,
   "id": "a96213cc",
   "metadata": {},
   "outputs": [],
   "source": [
    "#  데이터 분할\n",
    "train_X = seq_X[:80]\n",
    "train_y = Y[:80]\n",
    "test_X = seq_X[80:]\n",
    "test_y = Y[80:]"
   ]
  },
  {
   "cell_type": "markdown",
   "id": "af952351",
   "metadata": {},
   "source": [
    "* SimpleRNN 모델"
   ]
  },
  {
   "cell_type": "code",
   "execution_count": null,
   "id": "6323ec3a",
   "metadata": {},
   "outputs": [],
   "source": []
  },
  {
   "cell_type": "markdown",
   "id": "19f0d918",
   "metadata": {},
   "source": [
    "* LSTM 모델"
   ]
  },
  {
   "cell_type": "code",
   "execution_count": null,
   "id": "e48f44b7",
   "metadata": {},
   "outputs": [],
   "source": []
  },
  {
   "cell_type": "code",
   "execution_count": null,
   "id": "9ef9ef39",
   "metadata": {},
   "outputs": [],
   "source": []
  },
  {
   "cell_type": "markdown",
   "id": "be591ddc",
   "metadata": {},
   "source": [
    "* GRU 모델"
   ]
  },
  {
   "cell_type": "code",
   "execution_count": null,
   "id": "c151d1c5",
   "metadata": {},
   "outputs": [],
   "source": []
  },
  {
   "cell_type": "code",
   "execution_count": null,
   "id": "bd620767",
   "metadata": {},
   "outputs": [],
   "source": []
  },
  {
   "cell_type": "code",
   "execution_count": null,
   "id": "e9ac5e3e",
   "metadata": {},
   "outputs": [],
   "source": []
  },
  {
   "cell_type": "code",
   "execution_count": null,
   "id": "cd2809ce",
   "metadata": {},
   "outputs": [],
   "source": []
  }
 ],
 "metadata": {
  "kernelspec": {
   "display_name": "tensorflow",
   "language": "python",
   "name": "python3"
  },
  "language_info": {
   "codemirror_mode": {
    "name": "ipython",
    "version": 3
   },
   "file_extension": ".py",
   "mimetype": "text/x-python",
   "name": "python",
   "nbconvert_exporter": "python",
   "pygments_lexer": "ipython3",
   "version": "3.8.16"
  },
  "vscode": {
   "interpreter": {
    "hash": "04fd9c361be45f4292b225cf55355a67dfa13b4c14ac86b9ffe9743e2c71714e"
   }
  }
 },
 "nbformat": 4,
 "nbformat_minor": 5
}
