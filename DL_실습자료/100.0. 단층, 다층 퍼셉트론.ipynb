{
 "cells": [
  {
   "cell_type": "markdown",
   "metadata": {},
   "source": [
    "# And/Or 연산을 수행하는 퍼셉트론"
   ]
  },
  {
   "cell_type": "code",
   "execution_count": 3,
   "metadata": {},
   "outputs": [],
   "source": [
    "def perceptron(x1, x2, b):\n",
    "    z = w1 * x1 + w2 * x2 + b\n",
    "    if z <= 0:\n",
    "        return -1\n",
    "    else:\n",
    "        return 0"
   ]
  },
  {
   "cell_type": "code",
   "execution_count": 4,
   "metadata": {},
   "outputs": [
    {
     "name": "stdout",
     "output_type": "stream",
     "text": [
      "AND Gate\n",
      "(1, 1) : 0\n",
      "(1, 0) : 0\n",
      "(0, 1) : 0\n",
      "(0, 0) : 0\n"
     ]
    }
   ],
   "source": [
    "print(\"AND Gate\")\n",
    "w1 = float(input(\"Enter the weight for x1: \"))\n",
    "w2 = float(input('Enter the weight for x2: '))\n",
    "bias = float(input(\"Enter the bias\"))\n",
    "\n",
    "for xs in [(1, 1), (1, 0), (0, 1), (0, 0)]:\n",
    "    result = perceptron(xs[0], xs[1], bias)\n",
    "    print(xs,':', result)"
   ]
  },
  {
   "cell_type": "code",
   "execution_count": 5,
   "metadata": {},
   "outputs": [
    {
     "name": "stdout",
     "output_type": "stream",
     "text": [
      "OR Gate\n",
      "(1, 1) : 0\n",
      "(1, 0) : 0\n",
      "(0, 1) : 0\n",
      "(0, 0) : 0\n"
     ]
    }
   ],
   "source": [
    "print(\"OR Gate\")\n",
    "w1 = float(input(\"Enter the weight for x1: \"))\n",
    "w2 = float(input('Enter the weight for x2: '))\n",
    "bias = float(input(\"Enter the bias\"))\n",
    "\n",
    "for xs in [(1, 1), (1, 0), (0, 1), (0, 0)]:\n",
    "    result = perceptron(xs[0], xs[1], bias)\n",
    "    print(xs,':', result)"
   ]
  },
  {
   "cell_type": "markdown",
   "metadata": {},
   "source": [
    "# 단층 퍼셉트론 연습"
   ]
  },
  {
   "cell_type": "code",
   "execution_count": 6,
   "metadata": {},
   "outputs": [],
   "source": [
    "import numpy as np\n",
    "import pandas as pd"
   ]
  },
  {
   "cell_type": "code",
   "execution_count": 7,
   "metadata": {},
   "outputs": [],
   "source": [
    "from sklearn.datasets import load_iris\n",
    "from sklearn.linear_model import Perceptron\n",
    "from sklearn.model_selection import train_test_split\n",
    "from sklearn.metrics import accuracy_score"
   ]
  },
  {
   "cell_type": "code",
   "execution_count": 8,
   "metadata": {},
   "outputs": [],
   "source": [
    "iris = load_iris()\n",
    "\n",
    "X = iris.data\n",
    "y = iris.target\n",
    "\n",
    "X_train, X_test, y_train, y_test = train_test_split(X, y, test_size=0.3,\n",
    "                                                    random_state=0)"
   ]
  },
  {
   "cell_type": "code",
   "execution_count": 9,
   "metadata": {},
   "outputs": [
    {
     "data": {
      "text/plain": [
       "0.8"
      ]
     },
     "execution_count": 9,
     "metadata": {},
     "output_type": "execute_result"
    }
   ],
   "source": [
    "clf = Perceptron(max_iter=1000, eta0=0.1, tol=0.001)\n",
    "clf.fit(X_train, y_train)\n",
    "y_pred = clf.predict(X_test)\n",
    "accuracy_score(y_test, y_pred)\n"
   ]
  },
  {
   "cell_type": "code",
   "execution_count": 10,
   "metadata": {},
   "outputs": [
    {
     "data": {
      "text/plain": [
       "array([[16,  0,  0],\n",
       "       [ 2,  9,  7],\n",
       "       [ 0,  0, 11]])"
      ]
     },
     "execution_count": 10,
     "metadata": {},
     "output_type": "execute_result"
    }
   ],
   "source": [
    "from sklearn.metrics import confusion_matrix\n",
    "confusion_matrix(y_test, y_pred)"
   ]
  },
  {
   "cell_type": "markdown",
   "metadata": {},
   "source": [
    "# 다층 퍼셉트론 연습"
   ]
  },
  {
   "cell_type": "code",
   "execution_count": null,
   "metadata": {},
   "outputs": [],
   "source": []
  },
  {
   "cell_type": "markdown",
   "metadata": {},
   "source": [
    "#심층 신경망"
   ]
  },
  {
   "cell_type": "code",
   "execution_count": 11,
   "metadata": {},
   "outputs": [],
   "source": [
    "#Keras 설치"
   ]
  },
  {
   "cell_type": "code",
   "execution_count": 12,
   "metadata": {},
   "outputs": [],
   "source": [
    "#!pip install --upgrade tensorflow"
   ]
  },
  {
   "cell_type": "code",
   "execution_count": 13,
   "metadata": {},
   "outputs": [],
   "source": [
    "#!pip install upgrade keras"
   ]
  },
  {
   "cell_type": "code",
   "execution_count": 14,
   "metadata": {},
   "outputs": [],
   "source": [
    "import keras"
   ]
  },
  {
   "cell_type": "code",
   "execution_count": 15,
   "metadata": {},
   "outputs": [
    {
     "data": {
      "text/plain": [
       "'2.9.0'"
      ]
     },
     "execution_count": 15,
     "metadata": {},
     "output_type": "execute_result"
    }
   ],
   "source": [
    "keras.__version__"
   ]
  },
  {
   "cell_type": "markdown",
   "metadata": {},
   "source": [
    "### [실습 1] Keras를 활용한 심층신경망 모델 구현(붓꽃 분류)"
   ]
  },
  {
   "cell_type": "code",
   "execution_count": null,
   "metadata": {},
   "outputs": [],
   "source": [
    "#!pip install scikit-learn\n",
    "#pip install pandas\n",
    "#pip install matplotlib\n",
    "#!pip install numpy"
   ]
  },
  {
   "cell_type": "code",
   "execution_count": 18,
   "metadata": {},
   "outputs": [],
   "source": [
    "#1) 데이터 전처리 및 분할\n",
    "from sklearn.datasets import load_iris\n",
    "\n",
    "iris = load_iris()\n",
    "X, y = iris.data, iris.target"
   ]
  },
  {
   "cell_type": "code",
   "execution_count": 19,
   "metadata": {},
   "outputs": [
    {
     "data": {
      "text/plain": [
       "array([0, 0, 0, 0, 0, 0, 0, 0, 0, 0, 0, 0, 0, 0, 0, 0, 0, 0, 0, 0, 0, 0,\n",
       "       0, 0, 0, 0, 0, 0, 0, 0, 0, 0, 0, 0, 0, 0, 0, 0, 0, 0, 0, 0, 0, 0,\n",
       "       0, 0, 0, 0, 0, 0, 1, 1, 1, 1, 1, 1, 1, 1, 1, 1, 1, 1, 1, 1, 1, 1,\n",
       "       1, 1, 1, 1, 1, 1, 1, 1, 1, 1, 1, 1, 1, 1, 1, 1, 1, 1, 1, 1, 1, 1,\n",
       "       1, 1, 1, 1, 1, 1, 1, 1, 1, 1, 1, 1, 2, 2, 2, 2, 2, 2, 2, 2, 2, 2,\n",
       "       2, 2, 2, 2, 2, 2, 2, 2, 2, 2, 2, 2, 2, 2, 2, 2, 2, 2, 2, 2, 2, 2,\n",
       "       2, 2, 2, 2, 2, 2, 2, 2, 2, 2, 2, 2, 2, 2, 2, 2, 2, 2])"
      ]
     },
     "execution_count": 19,
     "metadata": {},
     "output_type": "execute_result"
    }
   ],
   "source": [
    "y"
   ]
  },
  {
   "cell_type": "code",
   "execution_count": 20,
   "metadata": {},
   "outputs": [],
   "source": [
    "from tensorflow.keras.utils import to_categorical\n",
    "\n",
    "y = to_categorical(y, 3)\n",
    "\n",
    "from sklearn.model_selection import train_test_split\n",
    "\n",
    "X_train, X_test, y_train, y_test = train_test_split(X, y, test_size=0.3, random_state=0)"
   ]
  },
  {
   "cell_type": "code",
   "execution_count": 21,
   "metadata": {},
   "outputs": [
    {
     "name": "stdout",
     "output_type": "stream",
     "text": [
      "Metal device set to: Apple M1\n",
      "\n",
      "systemMemory: 8.00 GB\n",
      "maxCacheSize: 2.67 GB\n",
      "\n"
     ]
    },
    {
     "name": "stderr",
     "output_type": "stream",
     "text": [
      "2023-02-20 22:02:27.636654: I tensorflow/core/common_runtime/pluggable_device/pluggable_device_factory.cc:305] Could not identify NUMA node of platform GPU ID 0, defaulting to 0. Your kernel may not have been built with NUMA support.\n",
      "2023-02-20 22:02:27.637121: I tensorflow/core/common_runtime/pluggable_device/pluggable_device_factory.cc:271] Created TensorFlow device (/job:localhost/replica:0/task:0/device:GPU:0 with 0 MB memory) -> physical PluggableDevice (device: 0, name: METAL, pci bus id: <undefined>)\n"
     ]
    }
   ],
   "source": [
    "#2) 인공 신경망 모형 구성\n",
    "from keras.models import Sequential\n",
    "from keras.layers import Dense\n",
    "\n",
    "model = Sequential()\n",
    "model.add(Dense(units=8, input_dim=4, activation='relu'))\n",
    "model.add(Dense(units=6, activation='relu'))\n",
    "model.add(Dense(units=3, activation='softmax'))"
   ]
  },
  {
   "cell_type": "code",
   "execution_count": 22,
   "metadata": {},
   "outputs": [],
   "source": [
    "# 3) 모형의 학습과정 설정\n",
    "model.compile(loss='categorical_crossentropy', \n",
    "              optimizer='adam', \n",
    "              metrics='accuracy')"
   ]
  },
  {
   "cell_type": "code",
   "execution_count": 23,
   "metadata": {},
   "outputs": [
    {
     "name": "stdout",
     "output_type": "stream",
     "text": [
      "Epoch 1/100\n"
     ]
    },
    {
     "name": "stderr",
     "output_type": "stream",
     "text": [
      "2023-02-20 22:02:27.895500: W tensorflow/core/platform/profile_utils/cpu_utils.cc:128] Failed to get CPU frequency: 0 Hz\n",
      "2023-02-20 22:02:28.092436: I tensorflow/core/grappler/optimizers/custom_graph_optimizer_registry.cc:113] Plugin optimizer for device_type GPU is enabled.\n"
     ]
    },
    {
     "name": "stdout",
     "output_type": "stream",
     "text": [
      "11/11 [==============================] - 0s 13ms/step - loss: 4.8235 - accuracy: 0.3048\n",
      "Epoch 2/100\n",
      "11/11 [==============================] - 0s 9ms/step - loss: 4.1389 - accuracy: 0.3048\n",
      "Epoch 3/100\n",
      "11/11 [==============================] - 0s 11ms/step - loss: 3.6789 - accuracy: 0.3048\n",
      "Epoch 4/100\n",
      "11/11 [==============================] - 0s 9ms/step - loss: 3.3326 - accuracy: 0.3048\n",
      "Epoch 5/100\n",
      "11/11 [==============================] - 0s 9ms/step - loss: 3.0362 - accuracy: 0.3048\n",
      "Epoch 6/100\n",
      "11/11 [==============================] - 0s 9ms/step - loss: 2.7839 - accuracy: 0.3048\n",
      "Epoch 7/100\n",
      "11/11 [==============================] - 0s 9ms/step - loss: 2.5674 - accuracy: 0.3048\n",
      "Epoch 8/100\n",
      "11/11 [==============================] - 0s 9ms/step - loss: 2.4024 - accuracy: 0.3048\n",
      "Epoch 9/100\n",
      "11/11 [==============================] - 0s 10ms/step - loss: 2.2545 - accuracy: 0.3048\n",
      "Epoch 10/100\n",
      "11/11 [==============================] - 0s 9ms/step - loss: 2.1150 - accuracy: 0.3048\n",
      "Epoch 11/100\n",
      "11/11 [==============================] - 0s 9ms/step - loss: 1.9851 - accuracy: 0.3048\n",
      "Epoch 12/100\n",
      "11/11 [==============================] - 0s 9ms/step - loss: 1.8628 - accuracy: 0.3048\n",
      "Epoch 13/100\n",
      "11/11 [==============================] - 0s 9ms/step - loss: 1.7484 - accuracy: 0.3048\n",
      "Epoch 14/100\n",
      "11/11 [==============================] - 0s 9ms/step - loss: 1.6437 - accuracy: 0.3048\n",
      "Epoch 15/100\n",
      "11/11 [==============================] - 0s 9ms/step - loss: 1.5242 - accuracy: 0.3048\n",
      "Epoch 16/100\n",
      "11/11 [==============================] - 0s 9ms/step - loss: 1.4357 - accuracy: 0.3048\n",
      "Epoch 17/100\n",
      "11/11 [==============================] - 0s 11ms/step - loss: 1.3309 - accuracy: 0.3048\n",
      "Epoch 18/100\n",
      "11/11 [==============================] - 0s 11ms/step - loss: 1.2410 - accuracy: 0.3048\n",
      "Epoch 19/100\n",
      "11/11 [==============================] - 0s 9ms/step - loss: 1.1595 - accuracy: 0.3048\n",
      "Epoch 20/100\n",
      "11/11 [==============================] - 0s 9ms/step - loss: 1.0771 - accuracy: 0.3238\n",
      "Epoch 21/100\n",
      "11/11 [==============================] - 0s 9ms/step - loss: 1.0030 - accuracy: 0.3905\n",
      "Epoch 22/100\n",
      "11/11 [==============================] - 0s 9ms/step - loss: 0.9367 - accuracy: 0.4571\n",
      "Epoch 23/100\n",
      "11/11 [==============================] - 0s 9ms/step - loss: 0.8793 - accuracy: 0.5143\n",
      "Epoch 24/100\n",
      "11/11 [==============================] - 0s 12ms/step - loss: 0.8205 - accuracy: 0.6476\n",
      "Epoch 25/100\n",
      "11/11 [==============================] - 0s 12ms/step - loss: 0.7741 - accuracy: 0.7524\n",
      "Epoch 26/100\n",
      "11/11 [==============================] - 0s 10ms/step - loss: 0.7335 - accuracy: 0.7238\n",
      "Epoch 27/100\n",
      "11/11 [==============================] - 0s 10ms/step - loss: 0.6979 - accuracy: 0.7143\n",
      "Epoch 28/100\n",
      "11/11 [==============================] - 0s 11ms/step - loss: 0.6674 - accuracy: 0.7143\n",
      "Epoch 29/100\n",
      "11/11 [==============================] - 0s 10ms/step - loss: 0.6425 - accuracy: 0.7143\n",
      "Epoch 30/100\n",
      "11/11 [==============================] - 0s 9ms/step - loss: 0.6189 - accuracy: 0.7143\n",
      "Epoch 31/100\n",
      "11/11 [==============================] - 0s 9ms/step - loss: 0.5985 - accuracy: 0.7143\n",
      "Epoch 32/100\n",
      "11/11 [==============================] - 0s 12ms/step - loss: 0.5830 - accuracy: 0.7048\n",
      "Epoch 33/100\n",
      "11/11 [==============================] - 0s 9ms/step - loss: 0.5673 - accuracy: 0.7048\n",
      "Epoch 34/100\n",
      "11/11 [==============================] - 0s 14ms/step - loss: 0.5527 - accuracy: 0.7143\n",
      "Epoch 35/100\n",
      "11/11 [==============================] - 0s 9ms/step - loss: 0.5405 - accuracy: 0.7143\n",
      "Epoch 36/100\n",
      "11/11 [==============================] - 0s 9ms/step - loss: 0.5279 - accuracy: 0.7238\n",
      "Epoch 37/100\n",
      "11/11 [==============================] - 0s 10ms/step - loss: 0.5170 - accuracy: 0.7238\n",
      "Epoch 38/100\n",
      "11/11 [==============================] - 0s 11ms/step - loss: 0.5069 - accuracy: 0.7238\n",
      "Epoch 39/100\n",
      "11/11 [==============================] - 0s 9ms/step - loss: 0.4978 - accuracy: 0.7238\n",
      "Epoch 40/100\n",
      "11/11 [==============================] - 0s 9ms/step - loss: 0.4894 - accuracy: 0.7238\n",
      "Epoch 41/100\n",
      "11/11 [==============================] - 0s 9ms/step - loss: 0.4812 - accuracy: 0.7238\n",
      "Epoch 42/100\n",
      "11/11 [==============================] - 0s 9ms/step - loss: 0.4734 - accuracy: 0.7238\n",
      "Epoch 43/100\n",
      "11/11 [==============================] - 0s 10ms/step - loss: 0.4664 - accuracy: 0.7429\n",
      "Epoch 44/100\n",
      "11/11 [==============================] - 0s 11ms/step - loss: 0.4597 - accuracy: 0.7429\n",
      "Epoch 45/100\n",
      "11/11 [==============================] - 0s 9ms/step - loss: 0.4536 - accuracy: 0.7429\n",
      "Epoch 46/100\n",
      "11/11 [==============================] - 0s 9ms/step - loss: 0.4471 - accuracy: 0.7524\n",
      "Epoch 47/100\n",
      "11/11 [==============================] - 0s 9ms/step - loss: 0.4412 - accuracy: 0.7524\n",
      "Epoch 48/100\n",
      "11/11 [==============================] - 0s 9ms/step - loss: 0.4358 - accuracy: 0.7810\n",
      "Epoch 49/100\n",
      "11/11 [==============================] - 0s 9ms/step - loss: 0.4316 - accuracy: 0.8000\n",
      "Epoch 50/100\n",
      "11/11 [==============================] - 0s 9ms/step - loss: 0.4252 - accuracy: 0.7905\n",
      "Epoch 51/100\n",
      "11/11 [==============================] - 0s 9ms/step - loss: 0.4212 - accuracy: 0.8095\n",
      "Epoch 52/100\n",
      "11/11 [==============================] - 0s 9ms/step - loss: 0.4163 - accuracy: 0.8095\n",
      "Epoch 53/100\n",
      "11/11 [==============================] - 0s 10ms/step - loss: 0.4124 - accuracy: 0.8190\n",
      "Epoch 54/100\n",
      "11/11 [==============================] - 0s 9ms/step - loss: 0.4069 - accuracy: 0.8381\n",
      "Epoch 55/100\n",
      "11/11 [==============================] - 0s 9ms/step - loss: 0.4023 - accuracy: 0.8571\n",
      "Epoch 56/100\n",
      "11/11 [==============================] - 0s 9ms/step - loss: 0.3980 - accuracy: 0.8381\n",
      "Epoch 57/100\n",
      "11/11 [==============================] - 0s 9ms/step - loss: 0.3941 - accuracy: 0.8286\n",
      "Epoch 58/100\n",
      "11/11 [==============================] - 0s 9ms/step - loss: 0.3900 - accuracy: 0.8476\n",
      "Epoch 59/100\n",
      "11/11 [==============================] - 0s 9ms/step - loss: 0.3864 - accuracy: 0.8857\n",
      "Epoch 60/100\n",
      "11/11 [==============================] - 0s 9ms/step - loss: 0.3826 - accuracy: 0.8857\n",
      "Epoch 61/100\n",
      "11/11 [==============================] - 0s 9ms/step - loss: 0.3790 - accuracy: 0.8857\n",
      "Epoch 62/100\n",
      "11/11 [==============================] - 0s 9ms/step - loss: 0.3751 - accuracy: 0.8857\n",
      "Epoch 63/100\n",
      "11/11 [==============================] - 0s 9ms/step - loss: 0.3711 - accuracy: 0.8857\n",
      "Epoch 64/100\n",
      "11/11 [==============================] - 0s 9ms/step - loss: 0.3682 - accuracy: 0.8857\n",
      "Epoch 65/100\n",
      "11/11 [==============================] - 0s 9ms/step - loss: 0.3646 - accuracy: 0.8857\n",
      "Epoch 66/100\n",
      "11/11 [==============================] - 0s 9ms/step - loss: 0.3613 - accuracy: 0.9143\n",
      "Epoch 67/100\n",
      "11/11 [==============================] - 0s 9ms/step - loss: 0.3574 - accuracy: 0.9048\n",
      "Epoch 68/100\n",
      "11/11 [==============================] - 0s 9ms/step - loss: 0.3545 - accuracy: 0.9143\n",
      "Epoch 69/100\n",
      "11/11 [==============================] - 0s 9ms/step - loss: 0.3508 - accuracy: 0.9143\n",
      "Epoch 70/100\n",
      "11/11 [==============================] - 0s 9ms/step - loss: 0.3493 - accuracy: 0.9048\n",
      "Epoch 71/100\n",
      "11/11 [==============================] - 0s 10ms/step - loss: 0.3455 - accuracy: 0.9238\n",
      "Epoch 72/100\n",
      "11/11 [==============================] - 0s 9ms/step - loss: 0.3416 - accuracy: 0.9333\n",
      "Epoch 73/100\n",
      "11/11 [==============================] - 0s 9ms/step - loss: 0.3378 - accuracy: 0.9333\n",
      "Epoch 74/100\n",
      "11/11 [==============================] - 0s 9ms/step - loss: 0.3345 - accuracy: 0.9333\n",
      "Epoch 75/100\n",
      "11/11 [==============================] - 0s 9ms/step - loss: 0.3331 - accuracy: 0.9238\n",
      "Epoch 76/100\n",
      "11/11 [==============================] - 0s 9ms/step - loss: 0.3289 - accuracy: 0.9333\n",
      "Epoch 77/100\n",
      "11/11 [==============================] - 0s 9ms/step - loss: 0.3266 - accuracy: 0.9333\n",
      "Epoch 78/100\n",
      "11/11 [==============================] - 0s 9ms/step - loss: 0.3228 - accuracy: 0.9333\n",
      "Epoch 79/100\n",
      "11/11 [==============================] - 0s 8ms/step - loss: 0.3199 - accuracy: 0.9333\n",
      "Epoch 80/100\n",
      "11/11 [==============================] - 0s 9ms/step - loss: 0.3169 - accuracy: 0.9333\n",
      "Epoch 81/100\n",
      "11/11 [==============================] - 0s 9ms/step - loss: 0.3140 - accuracy: 0.9333\n",
      "Epoch 82/100\n",
      "11/11 [==============================] - 0s 9ms/step - loss: 0.3112 - accuracy: 0.9333\n",
      "Epoch 83/100\n",
      "11/11 [==============================] - 0s 9ms/step - loss: 0.3079 - accuracy: 0.9333\n",
      "Epoch 84/100\n",
      "11/11 [==============================] - 0s 9ms/step - loss: 0.3061 - accuracy: 0.9429\n",
      "Epoch 85/100\n",
      "11/11 [==============================] - 0s 9ms/step - loss: 0.3025 - accuracy: 0.9429\n",
      "Epoch 86/100\n",
      "11/11 [==============================] - 0s 9ms/step - loss: 0.2993 - accuracy: 0.9333\n",
      "Epoch 87/100\n",
      "11/11 [==============================] - 0s 11ms/step - loss: 0.2971 - accuracy: 0.9429\n",
      "Epoch 88/100\n",
      "11/11 [==============================] - 0s 11ms/step - loss: 0.2943 - accuracy: 0.9333\n",
      "Epoch 89/100\n",
      "11/11 [==============================] - 0s 10ms/step - loss: 0.2919 - accuracy: 0.9333\n",
      "Epoch 90/100\n",
      "11/11 [==============================] - 0s 9ms/step - loss: 0.2892 - accuracy: 0.9429\n",
      "Epoch 91/100\n",
      "11/11 [==============================] - 0s 9ms/step - loss: 0.2857 - accuracy: 0.9524\n",
      "Epoch 92/100\n",
      "11/11 [==============================] - 0s 9ms/step - loss: 0.2839 - accuracy: 0.9333\n",
      "Epoch 93/100\n",
      "11/11 [==============================] - 0s 9ms/step - loss: 0.2834 - accuracy: 0.9714\n",
      "Epoch 94/100\n",
      "11/11 [==============================] - 0s 10ms/step - loss: 0.2784 - accuracy: 0.9524\n",
      "Epoch 95/100\n",
      "11/11 [==============================] - 0s 10ms/step - loss: 0.2748 - accuracy: 0.9524\n",
      "Epoch 96/100\n",
      "11/11 [==============================] - 0s 10ms/step - loss: 0.2746 - accuracy: 0.9429\n",
      "Epoch 97/100\n",
      "11/11 [==============================] - 0s 10ms/step - loss: 0.2706 - accuracy: 0.9619\n",
      "Epoch 98/100\n",
      "11/11 [==============================] - 0s 10ms/step - loss: 0.2667 - accuracy: 0.9714\n",
      "Epoch 99/100\n",
      "11/11 [==============================] - 0s 9ms/step - loss: 0.2642 - accuracy: 0.9524\n",
      "Epoch 100/100\n",
      "11/11 [==============================] - 0s 9ms/step - loss: 0.2619 - accuracy: 0.9524\n"
     ]
    }
   ],
   "source": [
    "# 4)모델 학습\n",
    "hist = model.fit(X_train, y_train, epochs=100, batch_size=10, verbose=True)"
   ]
  },
  {
   "cell_type": "code",
   "execution_count": 24,
   "metadata": {},
   "outputs": [
    {
     "data": {
      "text/html": [
       "<div>\n",
       "<style scoped>\n",
       "    .dataframe tbody tr th:only-of-type {\n",
       "        vertical-align: middle;\n",
       "    }\n",
       "\n",
       "    .dataframe tbody tr th {\n",
       "        vertical-align: top;\n",
       "    }\n",
       "\n",
       "    .dataframe thead th {\n",
       "        text-align: right;\n",
       "    }\n",
       "</style>\n",
       "<table border=\"1\" class=\"dataframe\">\n",
       "  <thead>\n",
       "    <tr style=\"text-align: right;\">\n",
       "      <th></th>\n",
       "      <th>loss</th>\n",
       "      <th>accuracy</th>\n",
       "    </tr>\n",
       "  </thead>\n",
       "  <tbody>\n",
       "    <tr>\n",
       "      <th>0</th>\n",
       "      <td>4.823546</td>\n",
       "      <td>0.304762</td>\n",
       "    </tr>\n",
       "    <tr>\n",
       "      <th>1</th>\n",
       "      <td>4.138853</td>\n",
       "      <td>0.304762</td>\n",
       "    </tr>\n",
       "    <tr>\n",
       "      <th>2</th>\n",
       "      <td>3.678896</td>\n",
       "      <td>0.304762</td>\n",
       "    </tr>\n",
       "    <tr>\n",
       "      <th>3</th>\n",
       "      <td>3.332598</td>\n",
       "      <td>0.304762</td>\n",
       "    </tr>\n",
       "    <tr>\n",
       "      <th>4</th>\n",
       "      <td>3.036233</td>\n",
       "      <td>0.304762</td>\n",
       "    </tr>\n",
       "    <tr>\n",
       "      <th>...</th>\n",
       "      <td>...</td>\n",
       "      <td>...</td>\n",
       "    </tr>\n",
       "    <tr>\n",
       "      <th>95</th>\n",
       "      <td>0.274620</td>\n",
       "      <td>0.942857</td>\n",
       "    </tr>\n",
       "    <tr>\n",
       "      <th>96</th>\n",
       "      <td>0.270634</td>\n",
       "      <td>0.961905</td>\n",
       "    </tr>\n",
       "    <tr>\n",
       "      <th>97</th>\n",
       "      <td>0.266749</td>\n",
       "      <td>0.971429</td>\n",
       "    </tr>\n",
       "    <tr>\n",
       "      <th>98</th>\n",
       "      <td>0.264208</td>\n",
       "      <td>0.952381</td>\n",
       "    </tr>\n",
       "    <tr>\n",
       "      <th>99</th>\n",
       "      <td>0.261869</td>\n",
       "      <td>0.952381</td>\n",
       "    </tr>\n",
       "  </tbody>\n",
       "</table>\n",
       "<p>100 rows × 2 columns</p>\n",
       "</div>"
      ],
      "text/plain": [
       "        loss  accuracy\n",
       "0   4.823546  0.304762\n",
       "1   4.138853  0.304762\n",
       "2   3.678896  0.304762\n",
       "3   3.332598  0.304762\n",
       "4   3.036233  0.304762\n",
       "..       ...       ...\n",
       "95  0.274620  0.942857\n",
       "96  0.270634  0.961905\n",
       "97  0.266749  0.971429\n",
       "98  0.264208  0.952381\n",
       "99  0.261869  0.952381\n",
       "\n",
       "[100 rows x 2 columns]"
      ]
     },
     "execution_count": 24,
     "metadata": {},
     "output_type": "execute_result"
    }
   ],
   "source": [
    "# epoch별 손실함수 값, 평가지표 시각화\n",
    "import pandas as pd\n",
    "\n",
    "pd.DataFrame(hist.history)"
   ]
  },
  {
   "cell_type": "code",
   "execution_count": 25,
   "metadata": {},
   "outputs": [
    {
     "data": {
      "image/png": "[encoded data removed]",
      "text/plain": [
       "<Figure size 500x500 with 1 Axes>"
      ]
     },
     "metadata": {},
     "output_type": "display_data"
    }
   ],
   "source": [
    "import matplotlib.pyplot as plt\n",
    "\n",
    "plt.figure(figsize=(5, 5))\n",
    "plt.plot(range(1, 101), hist.history['loss'], label='loss')\n",
    "plt.plot(range(1, 101), hist.history['accuracy'], label='accuracy')\n",
    "plt.xlabel('epoch')\n",
    "plt.legend()\n",
    "plt.show()"
   ]
  },
  {
   "cell_type": "code",
   "execution_count": 26,
   "metadata": {},
   "outputs": [
    {
     "name": "stdout",
     "output_type": "stream",
     "text": [
      "2/2 [==============================] - 0s 24ms/step - loss: 0.3096 - accuracy: 0.9333\n",
      "loss=0.310\n",
      "accuracy = 0.933\n"
     ]
    },
    {
     "name": "stderr",
     "output_type": "stream",
     "text": [
      "2023-02-20 22:02:39.434647: I tensorflow/core/grappler/optimizers/custom_graph_optimizer_registry.cc:113] Plugin optimizer for device_type GPU is enabled.\n"
     ]
    }
   ],
   "source": [
    "# 5) 모형의 성능평가\n",
    "loss, acc = model.evaluate(X_test, y_test)\n",
    "\n",
    "print(f'loss={loss:.3f}')\n",
    "print(f'accuracy = {acc:.3f}')"
   ]
  },
  {
   "cell_type": "code",
   "execution_count": 27,
   "metadata": {},
   "outputs": [],
   "source": [
    "import numpy as np\n",
    "np.set_printoptions(suppress=True)"
   ]
  },
  {
   "cell_type": "code",
   "execution_count": 28,
   "metadata": {},
   "outputs": [
    {
     "name": "stdout",
     "output_type": "stream",
     "text": [
      "2/2 [==============================] - 0s 10ms/step\n"
     ]
    },
    {
     "name": "stderr",
     "output_type": "stream",
     "text": [
      "2023-02-20 22:02:39.591756: I tensorflow/core/grappler/optimizers/custom_graph_optimizer_registry.cc:113] Plugin optimizer for device_type GPU is enabled.\n"
     ]
    },
    {
     "data": {
      "text/plain": [
       "array([[0.00010143, 0.18598962, 0.813909  ],\n",
       "       [0.01167113, 0.6318953 , 0.35643363],\n",
       "       [0.9874226 , 0.01254835, 0.00002902],\n",
       "       [0.00001305, 0.13730992, 0.8626771 ],\n",
       "       [0.97904223, 0.02084547, 0.00011225],\n",
       "       [0.00001211, 0.11032507, 0.88966286],\n",
       "       [0.979924  , 0.01997873, 0.00009732],\n",
       "       [0.00533418, 0.6543295 , 0.34033635],\n",
       "       [0.00286194, 0.5757917 , 0.42134637],\n",
       "       [0.02310174, 0.73553324, 0.241365  ],\n",
       "       [0.00004684, 0.14861073, 0.8513423 ],\n",
       "       [0.00926776, 0.69323707, 0.29749516],\n",
       "       [0.00267622, 0.5056249 , 0.49169898],\n",
       "       [0.0038607 , 0.58425677, 0.41188255],\n",
       "       [0.00254292, 0.50553304, 0.4919241 ],\n",
       "       [0.98076105, 0.01914532, 0.00009363],\n",
       "       [0.00411941, 0.5529731 , 0.44290748],\n",
       "       [0.00305341, 0.45805588, 0.5388907 ],\n",
       "       [0.9721296 , 0.02765239, 0.00021813],\n",
       "       [0.9847719 , 0.01518304, 0.00004508],\n",
       "       [0.00029392, 0.24860941, 0.75109667],\n",
       "       [0.0034002 , 0.50088185, 0.4957179 ],\n",
       "       [0.95793205, 0.04168717, 0.00038086],\n",
       "       [0.9664701 , 0.03316721, 0.0003627 ],\n",
       "       [0.00103806, 0.4087799 , 0.59018207],\n",
       "       [0.9793052 , 0.02058279, 0.0001119 ],\n",
       "       [0.9736397 , 0.02622137, 0.00013895],\n",
       "       [0.01151275, 0.6837738 , 0.3047135 ],\n",
       "       [0.05484835, 0.69598025, 0.24917148],\n",
       "       [0.9755576 , 0.02429857, 0.00014391],\n",
       "       [0.00016516, 0.26133698, 0.73849785],\n",
       "       [0.00281543, 0.46201542, 0.5351692 ],\n",
       "       [0.981126  , 0.0187904 , 0.00008351],\n",
       "       [0.00094339, 0.40037897, 0.5986776 ],\n",
       "       [0.00003595, 0.15209211, 0.8478719 ],\n",
       "       [0.01216414, 0.5946852 , 0.39315066],\n",
       "       [0.9846299 , 0.01532581, 0.00004426],\n",
       "       [0.00028717, 0.26655623, 0.7331566 ],\n",
       "       [0.01186571, 0.66770816, 0.32042614],\n",
       "       [0.01511403, 0.66329056, 0.3215954 ],\n",
       "       [0.00014549, 0.27228746, 0.72756714],\n",
       "       [0.97542816, 0.02440008, 0.00017176],\n",
       "       [0.00068007, 0.43644503, 0.562875  ],\n",
       "       [0.97617644, 0.02368968, 0.00013394],\n",
       "       [0.98372513, 0.0162189 , 0.00005592]], dtype=float32)"
      ]
     },
     "execution_count": 28,
     "metadata": {},
     "output_type": "execute_result"
    }
   ],
   "source": [
    "y_pred = model.predict(X_test)\n",
    "y_pred"
   ]
  },
  {
   "cell_type": "code",
   "execution_count": 29,
   "metadata": {},
   "outputs": [
    {
     "data": {
      "text/plain": [
       "array([2, 1, 0, 2, 0, 2, 0, 1, 1, 1, 2, 1, 1, 1, 1, 0, 1, 2, 0, 0, 2, 1,\n",
       "       0, 0, 2, 0, 0, 1, 1, 0, 2, 2, 0, 2, 2, 1, 0, 2, 1, 1, 2, 0, 2, 0,\n",
       "       0])"
      ]
     },
     "execution_count": 29,
     "metadata": {},
     "output_type": "execute_result"
    }
   ],
   "source": [
    "# 클래스 이름을 알기위한 추가 코딩이 필요\n",
    "y_pred_class = np.argmax(y_pred, axis=1)\n",
    "y_pred_class"
   ]
  },
  {
   "cell_type": "code",
   "execution_count": 30,
   "metadata": {},
   "outputs": [
    {
     "data": {
      "text/plain": [
       "array([2, 1, 0, 2, 0, 2, 0, 1, 1, 1, 2, 1, 1, 1, 1, 0, 1, 1, 0, 0, 2, 1,\n",
       "       0, 0, 2, 0, 0, 1, 1, 0, 2, 1, 0, 2, 2, 1, 0, 1, 1, 1, 2, 0, 2, 0,\n",
       "       0])"
      ]
     },
     "execution_count": 30,
     "metadata": {},
     "output_type": "execute_result"
    }
   ],
   "source": [
    "y_test_class = np.argmax(y_test, axis=1)\n",
    "y_test_class\n"
   ]
  },
  {
   "cell_type": "code",
   "execution_count": 31,
   "metadata": {},
   "outputs": [
    {
     "data": {
      "text/plain": [
       "0.9333333333333333"
      ]
     },
     "execution_count": 31,
     "metadata": {},
     "output_type": "execute_result"
    }
   ],
   "source": [
    "from sklearn.metrics import accuracy_score\n",
    "accuracy_score(y_test_class, y_pred_class)"
   ]
  },
  {
   "cell_type": "code",
   "execution_count": 32,
   "metadata": {},
   "outputs": [],
   "source": [
    "#6)  임의 데이터에 대해 모형의 출력을 확인한다.\n",
    "\n"
   ]
  }
 ],
 "metadata": {
  "kernelspec": {
   "display_name": "Python 3",
   "language": "python",
   "name": "python3"
  },
  "language_info": {
   "codemirror_mode": {
    "name": "ipython",
    "version": 3
   },
   "file_extension": ".py",
   "mimetype": "text/x-python",
   "name": "python",
   "nbconvert_exporter": "python",
   "pygments_lexer": "ipython3",
   "version": "3.8.16"
  },
  "vscode": {
   "interpreter": {
    "hash": "e592085e0ea884be7a824ec54fef8eaaa227af28c8d01c9fb677e491774d9210"
   }
  }
 },
 "nbformat": 4,
 "nbformat_minor": 4
}
