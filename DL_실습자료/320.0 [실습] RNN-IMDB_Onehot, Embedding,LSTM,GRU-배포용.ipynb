{
 "cells": [
  {
   "cell_type": "markdown",
   "metadata": {
    "id": "MusV5YYT6kQF"
   },
   "source": [
    "# 순환 신경망으로 IMDB 리뷰 분류하기"
   ]
  },
  {
   "cell_type": "raw",
   "metadata": {},
   "source": [
    "25000개의 긍정 리뷰와 25000개의 부정 리뷰.\n",
    "훈련, 테스트 각 50000개씩\n",
    "리뷰 텍스트(단어 시퀀스)가 숫자 시퀀스로 변환되어 케라스 데이터셋으로 제공됨\n",
    "# 참고 싸이트: \n",
    "print(\"https://www.tensorflow.org/tutorials/keras/text_classification\")"
   ]
  },
  {
   "cell_type": "markdown",
   "metadata": {},
   "source": [
    "* 필요한 라이브러리 임포트"
   ]
  },
  {
   "cell_type": "code",
   "execution_count": null,
   "metadata": {},
   "outputs": [],
   "source": [
    "import pandas as pd\n",
    "import numpy as np\n",
    "\n",
    "import tensorflow as tf\n",
    "from tensorflow import keras\n"
   ]
  },
  {
   "cell_type": "markdown",
   "metadata": {
    "id": "S1A-DDIQ6kQQ"
   },
   "source": [
    "## IMDB 리뷰 데이터셋"
   ]
  },
  {
   "cell_type": "code",
   "execution_count": null,
   "metadata": {},
   "outputs": [],
   "source": []
  },
  {
   "cell_type": "code",
   "execution_count": null,
   "metadata": {},
   "outputs": [],
   "source": []
  },
  {
   "cell_type": "code",
   "execution_count": null,
   "metadata": {},
   "outputs": [],
   "source": []
  },
  {
   "cell_type": "code",
   "execution_count": null,
   "metadata": {},
   "outputs": [],
   "source": []
  },
  {
   "cell_type": "code",
   "execution_count": null,
   "metadata": {
    "colab": {
     "base_uri": "https://localhost:8080/"
    },
    "execution": {
     "iopub.execute_input": "2020-10-12T01:18:41.979392Z",
     "iopub.status.busy": "2020-10-12T01:18:41.978299Z",
     "iopub.status.idle": "2020-10-12T01:18:52.473300Z",
     "shell.execute_reply": "2020-10-12T01:18:52.471703Z"
    },
    "id": "sZoZm1ZO6kQR",
    "outputId": "c340dd55-629f-4615-db76-9c06bc46e2c2"
   },
   "outputs": [],
   "source": []
  },
  {
   "cell_type": "code",
   "execution_count": null,
   "metadata": {
    "colab": {
     "base_uri": "https://localhost:8080/"
    },
    "execution": {
     "iopub.execute_input": "2020-10-12T01:18:52.481400Z",
     "iopub.status.busy": "2020-10-12T01:18:52.479645Z",
     "iopub.status.idle": "2020-10-12T01:18:52.485658Z",
     "shell.execute_reply": "2020-10-12T01:18:52.486465Z"
    },
    "id": "HTFjz6k06kQR",
    "outputId": "1d4929d7-0a93-4bb8-cf03-682ada3d6ac9"
   },
   "outputs": [],
   "source": [
    "# 훈련세트, 테스트 세트 크기 확인\n"
   ]
  },
  {
   "cell_type": "code",
   "execution_count": null,
   "metadata": {
    "colab": {
     "base_uri": "https://localhost:8080/"
    },
    "execution": {
     "iopub.execute_input": "2020-10-12T01:18:52.493608Z",
     "iopub.status.busy": "2020-10-12T01:18:52.492625Z",
     "iopub.status.idle": "2020-10-12T01:18:52.496804Z",
     "shell.execute_reply": "2020-10-12T01:18:52.497722Z"
    },
    "id": "4jMLURzw6kQS",
    "outputId": "ffb635f3-a3bd-42ed-b6da-fecaa0ede408"
   },
   "outputs": [],
   "source": [
    "# 첫 번째 리뷰의 길이 출력\n"
   ]
  },
  {
   "cell_type": "code",
   "execution_count": null,
   "metadata": {
    "colab": {
     "base_uri": "https://localhost:8080/"
    },
    "execution": {
     "iopub.execute_input": "2020-10-12T01:18:52.504933Z",
     "iopub.status.busy": "2020-10-12T01:18:52.503811Z",
     "iopub.status.idle": "2020-10-12T01:18:52.508252Z",
     "shell.execute_reply": "2020-10-12T01:18:52.509172Z"
    },
    "id": "xdO834PL6kQT",
    "outputId": "28ba2580-b6b8-49b0-e07e-4df8026a5626"
   },
   "outputs": [],
   "source": [
    "# 두 번째 리뷰의 길이 출력\n"
   ]
  },
  {
   "cell_type": "code",
   "execution_count": null,
   "metadata": {},
   "outputs": [],
   "source": [
    "# 첫 번째 리뷰에 담긴 내용과 레이블 확인\n"
   ]
  },
  {
   "cell_type": "code",
   "execution_count": null,
   "metadata": {
    "colab": {
     "base_uri": "https://localhost:8080/"
    },
    "execution": {
     "iopub.execute_input": "2020-10-12T01:18:52.528598Z",
     "iopub.status.busy": "2020-10-12T01:18:52.527510Z",
     "iopub.status.idle": "2020-10-12T01:18:52.532011Z",
     "shell.execute_reply": "2020-10-12T01:18:52.532936Z"
    },
    "id": "In8Qzltz6kQT",
    "outputId": "78b5ddc6-d634-4755-9435-25cc8f2c9462"
   },
   "outputs": [],
   "source": [
    "# 타겟 데이터 확인 긍정:1  부정: 0\n"
   ]
  },
  {
   "cell_type": "code",
   "execution_count": null,
   "metadata": {
    "execution": {
     "iopub.execute_input": "2020-10-12T01:18:52.541031Z",
     "iopub.status.busy": "2020-10-12T01:18:52.539873Z",
     "iopub.status.idle": "2020-10-12T01:18:52.812559Z",
     "shell.execute_reply": "2020-10-12T01:18:52.810985Z"
    },
    "id": "0-zjNgBw6kQU"
   },
   "outputs": [],
   "source": [
    "# 훈련 세트와 검증 세트 분리\n"
   ]
  },
  {
   "cell_type": "code",
   "execution_count": null,
   "metadata": {
    "execution": {
     "iopub.execute_input": "2020-10-12T01:18:52.833360Z",
     "iopub.status.busy": "2020-10-12T01:18:52.831841Z",
     "iopub.status.idle": "2020-10-12T01:18:52.834920Z",
     "shell.execute_reply": "2020-10-12T01:18:52.836117Z"
    },
    "id": "sRVvgntx6kQU"
   },
   "outputs": [],
   "source": [
    "# 훈련 세트의 각 리뷰별 단어 길이 확인 및 평균 , 중간값 확인\n"
   ]
  },
  {
   "cell_type": "code",
   "execution_count": null,
   "metadata": {
    "colab": {
     "base_uri": "https://localhost:8080/"
    },
    "execution": {
     "iopub.execute_input": "2020-10-12T01:18:52.843759Z",
     "iopub.status.busy": "2020-10-12T01:18:52.842297Z",
     "iopub.status.idle": "2020-10-12T01:18:52.847506Z",
     "shell.execute_reply": "2020-10-12T01:18:52.848361Z"
    },
    "id": "p76m_61w6kQU",
    "outputId": "04b533f6-45ef-4514-d87d-b484a89afde6"
   },
   "outputs": [],
   "source": []
  },
  {
   "cell_type": "code",
   "execution_count": null,
   "metadata": {
    "colab": {
     "base_uri": "https://localhost:8080/",
     "height": 279
    },
    "execution": {
     "iopub.execute_input": "2020-10-12T01:18:52.874891Z",
     "iopub.status.busy": "2020-10-12T01:18:52.873857Z",
     "iopub.status.idle": "2020-10-12T01:18:53.042560Z",
     "shell.execute_reply": "2020-10-12T01:18:53.040898Z"
    },
    "id": "TVDrsRYF6kQV",
    "outputId": "2610932c-ac31-480b-8a6c-fd5ac2793a34",
    "scrolled": true
   },
   "outputs": [],
   "source": [
    "# 리뷰 길이 데이터의 분포 확인\n"
   ]
  },
  {
   "cell_type": "raw",
   "metadata": {},
   "source": [
    "리뷰는 대부분 짧으므로 중간값(178.0)보다 훨씬 짧은 100개의 단어만 사용함\n",
    "100개의 단어보다 짧은 리뷰는 패딩을 수행하여 시퀀스 길이를 맞춤"
   ]
  },
  {
   "cell_type": "markdown",
   "metadata": {},
   "source": [
    "### 리뷰의 길이를 일정하게 조정 - pad_sequence()"
   ]
  },
  {
   "cell_type": "raw",
   "metadata": {},
   "source": [
    "pad_sequence() 함수 작동 방식\n",
    "# 기준값보다 긴 경우 :max_len보다 긴 시퀀스의 앞부분을 자름. 일반적으로 시퀀스의 뒷부분의 정보가 더 유용하리라 기대하기 때문.\n",
    "뒷부분을 자르려면 'post'로 변환\n",
    "# 기준값보다 짧은 경우: 앞부분을 채움"
   ]
  },
  {
   "cell_type": "code",
   "execution_count": null,
   "metadata": {},
   "outputs": [],
   "source": []
  },
  {
   "cell_type": "code",
   "execution_count": null,
   "metadata": {},
   "outputs": [],
   "source": []
  },
  {
   "cell_type": "markdown",
   "metadata": {
    "id": "9xab0nu_6kQX"
   },
   "source": [
    "# 순환 신경망 만들기"
   ]
  },
  {
   "cell_type": "markdown",
   "metadata": {},
   "source": [
    "## Model1 : One-Hot Encoding을 사용하여 RNN 입력 시퀀스 구성한 경우"
   ]
  },
  {
   "cell_type": "code",
   "execution_count": null,
   "metadata": {
    "execution": {
     "iopub.execute_input": "2020-10-12T01:18:56.004523Z",
     "iopub.status.busy": "2020-10-12T01:18:56.002786Z",
     "iopub.status.idle": "2020-10-12T01:18:57.766487Z",
     "shell.execute_reply": "2020-10-12T01:18:57.764928Z"
    },
    "id": "oXIWyOuw6kQY"
   },
   "outputs": [],
   "source": [
    "# One-Hot Encoding\n"
   ]
  },
  {
   "cell_type": "code",
   "execution_count": null,
   "metadata": {
    "colab": {
     "base_uri": "https://localhost:8080/"
    },
    "execution": {
     "iopub.execute_input": "2020-10-12T01:18:57.798946Z",
     "iopub.status.busy": "2020-10-12T01:18:57.797788Z",
     "iopub.status.idle": "2020-10-12T01:18:57.802480Z",
     "shell.execute_reply": "2020-10-12T01:18:57.803390Z"
    },
    "id": "CP3ivii46kQZ",
    "outputId": "6a669f1a-41fe-486a-e0e1-bd812d2b7aeb"
   },
   "outputs": [],
   "source": [
    "#원핫 인코딩이 잘 된 상태\n"
   ]
  },
  {
   "cell_type": "code",
   "execution_count": null,
   "metadata": {
    "execution": {
     "iopub.execute_input": "2020-10-12T01:18:57.810383Z",
     "iopub.status.busy": "2020-10-12T01:18:57.809293Z",
     "iopub.status.idle": "2020-10-12T01:18:58.247989Z",
     "shell.execute_reply": "2020-10-12T01:18:58.248931Z"
    },
    "id": "vgijH6m26kQZ"
   },
   "outputs": [],
   "source": []
  },
  {
   "cell_type": "code",
   "execution_count": null,
   "metadata": {},
   "outputs": [],
   "source": []
  },
  {
   "cell_type": "markdown",
   "metadata": {
    "id": "K_U_lVie6kQa"
   },
   "source": [
    "## Model2. 단어 임베딩을 사용하여 RNN 입력 시퀀스 구성한 경우\n",
    "- 각각의 단어(토큰)를 고정된 크기의 실수 벡터로 변환\n",
    "- keras.layers.Embedding 클래스 활용"
   ]
  },
  {
   "cell_type": "code",
   "execution_count": null,
   "metadata": {},
   "outputs": [],
   "source": []
  },
  {
   "cell_type": "markdown",
   "metadata": {},
   "source": [
    "# LSTM RNN으로 IMDB  텍스트 분류"
   ]
  },
  {
   "cell_type": "code",
   "execution_count": null,
   "metadata": {},
   "outputs": [],
   "source": []
  },
  {
   "cell_type": "code",
   "execution_count": null,
   "metadata": {},
   "outputs": [],
   "source": []
  },
  {
   "cell_type": "markdown",
   "metadata": {},
   "source": [
    "## RNN 순환층에 DropOut 적용하기"
   ]
  },
  {
   "cell_type": "code",
   "execution_count": null,
   "metadata": {},
   "outputs": [],
   "source": []
  },
  {
   "cell_type": "markdown",
   "metadata": {},
   "source": [
    "## 2개의 RNN층이 연결된 모델 구현하기"
   ]
  },
  {
   "cell_type": "code",
   "execution_count": null,
   "metadata": {},
   "outputs": [],
   "source": []
  },
  {
   "cell_type": "markdown",
   "metadata": {},
   "source": [
    "# GRU 모델 구현하기"
   ]
  },
  {
   "cell_type": "code",
   "execution_count": null,
   "metadata": {},
   "outputs": [],
   "source": []
  },
  {
   "cell_type": "code",
   "execution_count": null,
   "metadata": {},
   "outputs": [],
   "source": []
  }
 ],
 "metadata": {
  "accelerator": "GPU",
  "colab": {
   "name": "9-2.ipynb",
   "provenance": []
  },
  "kernelspec": {
   "display_name": "Python 3",
   "language": "python",
   "name": "python3"
  },
  "language_info": {
   "codemirror_mode": {
    "name": "ipython",
    "version": 3
   },
   "file_extension": ".py",
   "mimetype": "text/x-python",
   "name": "python",
   "nbconvert_exporter": "python",
   "pygments_lexer": "ipython3",
   "version": "3.8.8"
  }
 },
 "nbformat": 4,
 "nbformat_minor": 1
}
