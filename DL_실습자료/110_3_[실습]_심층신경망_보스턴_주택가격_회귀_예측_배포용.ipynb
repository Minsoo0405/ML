{
  "cells": [
    {
      "cell_type": "markdown",
      "metadata": {
        "id": "PI6prA8Ug1Vd"
      },
      "source": [
        "# Keras를 활용한 심층 신경망 실습 - 보스턴 주택가격 회귀 계측"
      ]
    },
    {
      "cell_type": "code",
      "execution_count": 1,
      "metadata": {
        "id": "k2F6VtQ5g1Vf"
      },
      "outputs": [],
      "source": [
        "import numpy as np\n",
        "import pandas as pd\n",
        "import random\n",
        "import tensorflow as tf\n",
        "from tensorflow import keras"
      ]
    },
    {
      "cell_type": "code",
      "source": [
        "import warnings\n",
        "warnings.filterwarnings(action='ignore')"
      ],
      "metadata": {
        "id": "ybaLKmtNiUYC"
      },
      "execution_count": 2,
      "outputs": []
    },
    {
      "cell_type": "code",
      "source": [
        "# 랜덤 씨드 고정\n",
        "SEED =12\n",
        "random.seed(SEED)\n",
        "np.random.seed(SEED)\n",
        "tf.random.set_seed(SEED)"
      ],
      "metadata": {
        "id": "tzaSm0XbhVtL"
      },
      "execution_count": 3,
      "outputs": []
    },
    {
      "cell_type": "code",
      "execution_count": 4,
      "metadata": {
        "id": "Rze7S3Yxg1Vg"
      },
      "outputs": [],
      "source": [
        "# 데이터 수집 및 전처리\n",
        "from sklearn.datasets import fetch_openml\n",
        "\n",
        "boston = fetch_openml('boston')\n",
        "\n",
        "X = boston.data\n",
        "y = boston.target\n",
        "\n",
        "# 딥러닝 모델 성능 개선을 위한 피처 스케일링 (MinMaxScaler)\n",
        "from sklearn.preprocessing import MinMaxScaler\n",
        "\n",
        "scaler = MinMaxScaler()\n",
        "X_scaled = scaler.fit_transform(X)\n",
        "\n",
        "# 학습-검증 데이터셋 분할\n",
        "from sklearn.model_selection import train_test_split\n",
        "\n",
        "X_train, X_test, y_train, y_test = train_test_split(X_scaled, y, test_size=0.2,\n",
        "                                                    shuffle=True,\n",
        "                                                    random_state=SEED)"
      ]
    },
    {
      "cell_type": "code",
      "execution_count": 4,
      "metadata": {
        "id": "bJrg0C9tg1Vh"
      },
      "outputs": [],
      "source": []
    },
    {
      "cell_type": "code",
      "execution_count": 5,
      "metadata": {
        "id": "EbDpKfqkg1Vh"
      },
      "outputs": [],
      "source": [
        "# 모델 구조 구현(심층 신경망)\n",
        "from keras.models import Sequential\n",
        "from keras.layers import Dense\n",
        "\n",
        "model = Sequential()\n",
        "model.add(Dense(128, activation='relu', input_shape=(13, )))\n",
        "model.add(Dense(64, activation='relu'))\n",
        "model.add(Dense(32, activation='relu'))\n",
        "model.add(Dense(16, activation='relu'))\n",
        "model.add(Dense(1, activation='linear'))"
      ]
    },
    {
      "cell_type": "code",
      "execution_count": 6,
      "metadata": {
        "colab": {
          "base_uri": "https://localhost:8080/"
        },
        "id": "GpJH1JeHg1Vh",
        "outputId": "b1d93170-35ce-4477-84bd-c90405640427"
      },
      "outputs": [
        {
          "output_type": "stream",
          "name": "stdout",
          "text": [
            "Model: \"sequential\"\n",
            "_________________________________________________________________\n",
            " Layer (type)                Output Shape              Param #   \n",
            "=================================================================\n",
            " dense (Dense)               (None, 128)               1792      \n",
            "                                                                 \n",
            " dense_1 (Dense)             (None, 64)                8256      \n",
            "                                                                 \n",
            " dense_2 (Dense)             (None, 32)                2080      \n",
            "                                                                 \n",
            " dense_3 (Dense)             (None, 16)                528       \n",
            "                                                                 \n",
            " dense_4 (Dense)             (None, 1)                 17        \n",
            "                                                                 \n",
            "=================================================================\n",
            "Total params: 12,673\n",
            "Trainable params: 12,673\n",
            "Non-trainable params: 0\n",
            "_________________________________________________________________\n"
          ]
        }
      ],
      "source": [
        "# 모델 구조 요약\n",
        "model.summary()"
      ]
    },
    {
      "cell_type": "code",
      "source": [
        "# 모델 구조 시각화\n",
        "from keras.utils import plot_model\n",
        "\n",
        "plot_model(model, show_shapes=True, show_layer_names=True)"
      ],
      "metadata": {
        "colab": {
          "base_uri": "https://localhost:8080/",
          "height": 644
        },
        "id": "yWuHfgDOlWqe",
        "outputId": "fd491e1e-3e46-40d2-bd81-1c371c144369"
      },
      "execution_count": 7,
      "outputs": [
        {
          "output_type": "execute_result",
          "data": {
            "image/png": "[encoded data removed]",
            "text/plain": [
              "<IPython.core.display.Image object>"
            ]
          },
          "metadata": {},
          "execution_count": 7
        }
      ]
    },
    {
      "cell_type": "code",
      "source": [
        "# 모델 컴파일\n",
        "model.compile(loss='mse', optimizer='adam', metrics='mae')"
      ],
      "metadata": {
        "id": "wlb_tpjjmSLp"
      },
      "execution_count": 8,
      "outputs": []
    },
    {
      "cell_type": "code",
      "execution_count": 9,
      "metadata": {
        "colab": {
          "base_uri": "https://localhost:8080/"
        },
        "id": "VfO1l2EDg1Vi",
        "outputId": "c39a7d17-739c-42fd-e4bc-127ca27da089"
      },
      "outputs": [
        {
          "output_type": "stream",
          "name": "stdout",
          "text": [
            "Epoch 1/100\n",
            "13/13 - 3s - loss: 578.5416 - mae: 22.2026 - 3s/epoch - 231ms/step\n",
            "Epoch 2/100\n",
            "13/13 - 0s - loss: 544.7877 - mae: 21.3829 - 66ms/epoch - 5ms/step\n",
            "Epoch 3/100\n",
            "13/13 - 0s - loss: 451.0475 - mae: 18.8580 - 80ms/epoch - 6ms/step\n",
            "Epoch 4/100\n",
            "13/13 - 0s - loss: 254.8266 - mae: 12.9359 - 74ms/epoch - 6ms/step\n",
            "Epoch 5/100\n",
            "13/13 - 0s - loss: 148.1736 - mae: 9.5937 - 63ms/epoch - 5ms/step\n",
            "Epoch 6/100\n",
            "13/13 - 0s - loss: 122.2141 - mae: 8.4566 - 66ms/epoch - 5ms/step\n",
            "Epoch 7/100\n",
            "13/13 - 0s - loss: 98.2031 - mae: 7.4437 - 82ms/epoch - 6ms/step\n",
            "Epoch 8/100\n",
            "13/13 - 0s - loss: 80.0207 - mae: 6.6454 - 72ms/epoch - 6ms/step\n",
            "Epoch 9/100\n",
            "13/13 - 0s - loss: 66.7759 - mae: 5.8692 - 55ms/epoch - 4ms/step\n",
            "Epoch 10/100\n",
            "13/13 - 0s - loss: 57.7495 - mae: 5.4840 - 53ms/epoch - 4ms/step\n",
            "Epoch 11/100\n",
            "13/13 - 0s - loss: 51.7621 - mae: 4.9936 - 53ms/epoch - 4ms/step\n",
            "Epoch 12/100\n",
            "13/13 - 0s - loss: 48.5243 - mae: 4.9350 - 94ms/epoch - 7ms/step\n",
            "Epoch 13/100\n",
            "13/13 - 0s - loss: 44.5870 - mae: 4.6364 - 90ms/epoch - 7ms/step\n",
            "Epoch 14/100\n",
            "13/13 - 0s - loss: 41.7224 - mae: 4.5143 - 52ms/epoch - 4ms/step\n",
            "Epoch 15/100\n",
            "13/13 - 0s - loss: 38.7738 - mae: 4.4110 - 54ms/epoch - 4ms/step\n",
            "Epoch 16/100\n",
            "13/13 - 0s - loss: 36.0525 - mae: 4.1453 - 75ms/epoch - 6ms/step\n",
            "Epoch 17/100\n",
            "13/13 - 0s - loss: 33.3934 - mae: 4.1236 - 61ms/epoch - 5ms/step\n",
            "Epoch 18/100\n",
            "13/13 - 0s - loss: 31.0987 - mae: 3.8175 - 72ms/epoch - 6ms/step\n",
            "Epoch 19/100\n",
            "13/13 - 0s - loss: 28.2663 - mae: 3.7169 - 73ms/epoch - 6ms/step\n",
            "Epoch 20/100\n",
            "13/13 - 0s - loss: 26.2718 - mae: 3.4785 - 48ms/epoch - 4ms/step\n",
            "Epoch 21/100\n",
            "13/13 - 0s - loss: 24.2321 - mae: 3.3938 - 56ms/epoch - 4ms/step\n",
            "Epoch 22/100\n",
            "13/13 - 0s - loss: 23.0110 - mae: 3.2356 - 57ms/epoch - 4ms/step\n",
            "Epoch 23/100\n",
            "13/13 - 0s - loss: 21.7085 - mae: 3.1078 - 53ms/epoch - 4ms/step\n",
            "Epoch 24/100\n",
            "13/13 - 0s - loss: 20.8796 - mae: 3.1280 - 57ms/epoch - 4ms/step\n",
            "Epoch 25/100\n",
            "13/13 - 0s - loss: 20.4835 - mae: 3.0253 - 57ms/epoch - 4ms/step\n",
            "Epoch 26/100\n",
            "13/13 - 0s - loss: 20.0104 - mae: 3.0298 - 31ms/epoch - 2ms/step\n",
            "Epoch 27/100\n",
            "13/13 - 0s - loss: 19.7833 - mae: 2.9790 - 32ms/epoch - 2ms/step\n",
            "Epoch 28/100\n",
            "13/13 - 0s - loss: 19.3112 - mae: 2.9414 - 29ms/epoch - 2ms/step\n",
            "Epoch 29/100\n",
            "13/13 - 0s - loss: 18.9642 - mae: 2.9703 - 36ms/epoch - 3ms/step\n",
            "Epoch 30/100\n",
            "13/13 - 0s - loss: 18.9006 - mae: 2.9805 - 33ms/epoch - 3ms/step\n",
            "Epoch 31/100\n",
            "13/13 - 0s - loss: 18.3802 - mae: 2.8719 - 28ms/epoch - 2ms/step\n",
            "Epoch 32/100\n",
            "13/13 - 0s - loss: 17.9536 - mae: 2.8718 - 29ms/epoch - 2ms/step\n",
            "Epoch 33/100\n",
            "13/13 - 0s - loss: 18.0596 - mae: 2.8762 - 38ms/epoch - 3ms/step\n",
            "Epoch 34/100\n",
            "13/13 - 0s - loss: 17.4620 - mae: 2.8051 - 34ms/epoch - 3ms/step\n",
            "Epoch 35/100\n",
            "13/13 - 0s - loss: 17.7610 - mae: 2.9430 - 29ms/epoch - 2ms/step\n",
            "Epoch 36/100\n",
            "13/13 - 0s - loss: 17.3423 - mae: 2.8974 - 34ms/epoch - 3ms/step\n",
            "Epoch 37/100\n",
            "13/13 - 0s - loss: 16.8392 - mae: 2.7609 - 30ms/epoch - 2ms/step\n",
            "Epoch 38/100\n",
            "13/13 - 0s - loss: 17.3442 - mae: 2.8290 - 29ms/epoch - 2ms/step\n",
            "Epoch 39/100\n",
            "13/13 - 0s - loss: 16.9497 - mae: 2.8936 - 28ms/epoch - 2ms/step\n",
            "Epoch 40/100\n",
            "13/13 - 0s - loss: 16.7513 - mae: 2.8431 - 29ms/epoch - 2ms/step\n",
            "Epoch 41/100\n",
            "13/13 - 0s - loss: 15.9160 - mae: 2.6499 - 53ms/epoch - 4ms/step\n",
            "Epoch 42/100\n",
            "13/13 - 0s - loss: 15.6330 - mae: 2.7215 - 33ms/epoch - 3ms/step\n",
            "Epoch 43/100\n",
            "13/13 - 0s - loss: 15.9136 - mae: 2.6740 - 29ms/epoch - 2ms/step\n",
            "Epoch 44/100\n",
            "13/13 - 0s - loss: 16.0033 - mae: 2.7603 - 42ms/epoch - 3ms/step\n",
            "Epoch 45/100\n",
            "13/13 - 0s - loss: 15.9389 - mae: 2.7490 - 35ms/epoch - 3ms/step\n",
            "Epoch 46/100\n",
            "13/13 - 0s - loss: 16.3866 - mae: 2.7605 - 35ms/epoch - 3ms/step\n",
            "Epoch 47/100\n",
            "13/13 - 0s - loss: 15.3264 - mae: 2.5910 - 31ms/epoch - 2ms/step\n",
            "Epoch 48/100\n",
            "13/13 - 0s - loss: 15.1932 - mae: 2.6496 - 29ms/epoch - 2ms/step\n",
            "Epoch 49/100\n",
            "13/13 - 0s - loss: 14.5175 - mae: 2.5475 - 29ms/epoch - 2ms/step\n",
            "Epoch 50/100\n",
            "13/13 - 0s - loss: 14.4061 - mae: 2.5510 - 36ms/epoch - 3ms/step\n",
            "Epoch 51/100\n",
            "13/13 - 0s - loss: 14.6777 - mae: 2.5942 - 29ms/epoch - 2ms/step\n",
            "Epoch 52/100\n",
            "13/13 - 0s - loss: 14.0673 - mae: 2.4840 - 30ms/epoch - 2ms/step\n",
            "Epoch 53/100\n",
            "13/13 - 0s - loss: 14.1804 - mae: 2.5092 - 30ms/epoch - 2ms/step\n",
            "Epoch 54/100\n",
            "13/13 - 0s - loss: 13.8972 - mae: 2.4819 - 35ms/epoch - 3ms/step\n",
            "Epoch 55/100\n",
            "13/13 - 0s - loss: 14.5254 - mae: 2.5072 - 30ms/epoch - 2ms/step\n",
            "Epoch 56/100\n",
            "13/13 - 0s - loss: 14.5653 - mae: 2.6130 - 31ms/epoch - 2ms/step\n",
            "Epoch 57/100\n",
            "13/13 - 0s - loss: 14.0693 - mae: 2.5893 - 31ms/epoch - 2ms/step\n",
            "Epoch 58/100\n",
            "13/13 - 0s - loss: 14.8693 - mae: 2.5662 - 32ms/epoch - 2ms/step\n",
            "Epoch 59/100\n",
            "13/13 - 0s - loss: 13.1926 - mae: 2.4368 - 42ms/epoch - 3ms/step\n",
            "Epoch 60/100\n",
            "13/13 - 0s - loss: 13.1195 - mae: 2.4012 - 42ms/epoch - 3ms/step\n",
            "Epoch 61/100\n",
            "13/13 - 0s - loss: 12.8106 - mae: 2.4025 - 34ms/epoch - 3ms/step\n",
            "Epoch 62/100\n",
            "13/13 - 0s - loss: 13.0028 - mae: 2.4713 - 34ms/epoch - 3ms/step\n",
            "Epoch 63/100\n",
            "13/13 - 0s - loss: 12.7843 - mae: 2.4321 - 32ms/epoch - 2ms/step\n",
            "Epoch 64/100\n",
            "13/13 - 0s - loss: 12.6325 - mae: 2.3916 - 30ms/epoch - 2ms/step\n",
            "Epoch 65/100\n",
            "13/13 - 0s - loss: 12.3314 - mae: 2.3399 - 30ms/epoch - 2ms/step\n",
            "Epoch 66/100\n",
            "13/13 - 0s - loss: 12.4592 - mae: 2.3996 - 34ms/epoch - 3ms/step\n",
            "Epoch 67/100\n",
            "13/13 - 0s - loss: 12.6324 - mae: 2.4452 - 30ms/epoch - 2ms/step\n",
            "Epoch 68/100\n",
            "13/13 - 0s - loss: 12.3541 - mae: 2.4298 - 37ms/epoch - 3ms/step\n",
            "Epoch 69/100\n",
            "13/13 - 0s - loss: 11.9714 - mae: 2.3235 - 33ms/epoch - 3ms/step\n",
            "Epoch 70/100\n",
            "13/13 - 0s - loss: 11.7138 - mae: 2.2845 - 36ms/epoch - 3ms/step\n",
            "Epoch 71/100\n",
            "13/13 - 0s - loss: 11.6737 - mae: 2.2930 - 33ms/epoch - 3ms/step\n",
            "Epoch 72/100\n",
            "13/13 - 0s - loss: 11.4271 - mae: 2.2812 - 31ms/epoch - 2ms/step\n",
            "Epoch 73/100\n",
            "13/13 - 0s - loss: 11.6205 - mae: 2.3184 - 29ms/epoch - 2ms/step\n",
            "Epoch 74/100\n",
            "13/13 - 0s - loss: 11.3661 - mae: 2.2694 - 39ms/epoch - 3ms/step\n",
            "Epoch 75/100\n",
            "13/13 - 0s - loss: 11.3484 - mae: 2.2891 - 31ms/epoch - 2ms/step\n",
            "Epoch 76/100\n",
            "13/13 - 0s - loss: 11.4680 - mae: 2.3156 - 30ms/epoch - 2ms/step\n",
            "Epoch 77/100\n",
            "13/13 - 0s - loss: 11.6228 - mae: 2.3535 - 33ms/epoch - 3ms/step\n",
            "Epoch 78/100\n",
            "13/13 - 0s - loss: 11.2073 - mae: 2.2715 - 35ms/epoch - 3ms/step\n",
            "Epoch 79/100\n",
            "13/13 - 0s - loss: 11.1448 - mae: 2.2912 - 33ms/epoch - 3ms/step\n",
            "Epoch 80/100\n",
            "13/13 - 0s - loss: 12.1503 - mae: 2.4109 - 38ms/epoch - 3ms/step\n",
            "Epoch 81/100\n",
            "13/13 - 0s - loss: 12.1151 - mae: 2.4126 - 36ms/epoch - 3ms/step\n",
            "Epoch 82/100\n",
            "13/13 - 0s - loss: 10.9277 - mae: 2.2691 - 34ms/epoch - 3ms/step\n",
            "Epoch 83/100\n",
            "13/13 - 0s - loss: 10.8514 - mae: 2.2752 - 76ms/epoch - 6ms/step\n",
            "Epoch 84/100\n",
            "13/13 - 0s - loss: 10.5236 - mae: 2.2240 - 34ms/epoch - 3ms/step\n",
            "Epoch 85/100\n",
            "13/13 - 0s - loss: 10.6074 - mae: 2.2083 - 35ms/epoch - 3ms/step\n",
            "Epoch 86/100\n",
            "13/13 - 0s - loss: 10.3577 - mae: 2.1977 - 33ms/epoch - 3ms/step\n",
            "Epoch 87/100\n",
            "13/13 - 0s - loss: 10.3479 - mae: 2.2204 - 35ms/epoch - 3ms/step\n",
            "Epoch 88/100\n",
            "13/13 - 0s - loss: 10.1492 - mae: 2.1831 - 38ms/epoch - 3ms/step\n",
            "Epoch 89/100\n",
            "13/13 - 0s - loss: 10.8367 - mae: 2.2489 - 42ms/epoch - 3ms/step\n",
            "Epoch 90/100\n",
            "13/13 - 0s - loss: 10.9600 - mae: 2.3210 - 33ms/epoch - 3ms/step\n",
            "Epoch 91/100\n",
            "13/13 - 0s - loss: 10.1213 - mae: 2.1979 - 35ms/epoch - 3ms/step\n",
            "Epoch 92/100\n",
            "13/13 - 0s - loss: 9.9814 - mae: 2.1852 - 47ms/epoch - 4ms/step\n",
            "Epoch 93/100\n",
            "13/13 - 0s - loss: 9.8165 - mae: 2.1662 - 45ms/epoch - 3ms/step\n",
            "Epoch 94/100\n",
            "13/13 - 0s - loss: 9.8374 - mae: 2.1573 - 41ms/epoch - 3ms/step\n",
            "Epoch 95/100\n",
            "13/13 - 0s - loss: 9.6341 - mae: 2.1292 - 40ms/epoch - 3ms/step\n",
            "Epoch 96/100\n",
            "13/13 - 0s - loss: 11.0780 - mae: 2.2770 - 35ms/epoch - 3ms/step\n",
            "Epoch 97/100\n",
            "13/13 - 0s - loss: 9.8541 - mae: 2.1413 - 39ms/epoch - 3ms/step\n",
            "Epoch 98/100\n",
            "13/13 - 0s - loss: 9.7119 - mae: 2.1591 - 42ms/epoch - 3ms/step\n",
            "Epoch 99/100\n",
            "13/13 - 0s - loss: 9.3435 - mae: 2.1269 - 31ms/epoch - 2ms/step\n",
            "Epoch 100/100\n",
            "13/13 - 0s - loss: 9.3866 - mae: 2.0916 - 34ms/epoch - 3ms/step\n"
          ]
        }
      ],
      "source": [
        "# 모델 학습\n",
        "# batch size 기본값: 32 => 404/32 =13\n",
        "hist = model.fit(X_train, y_train, epochs=100, batch_size=32, verbose=2)"
      ]
    },
    {
      "cell_type": "code",
      "execution_count": 15,
      "metadata": {
        "id": "6TjwVlFwg1Vi"
      },
      "outputs": [],
      "source": [
        "# 모델 성능 평가\n",
        "df = pd.DataFrame(hist.history)"
      ]
    },
    {
      "cell_type": "code",
      "execution_count": 18,
      "metadata": {
        "colab": {
          "base_uri": "https://localhost:8080/",
          "height": 281
        },
        "id": "N-AP7iOJg1Vi",
        "outputId": "296208b9-a48a-40f1-d82c-02e9a91c548f"
      },
      "outputs": [
        {
          "output_type": "display_data",
          "data": {
            "text/plain": [
              "<Figure size 432x288 with 1 Axes>"
            ],
            "image/png": "[encoded data removed]"
          },
          "metadata": {
            "needs_background": "light"
          }
        }
      ],
      "source": [
        "# 모델 학습 과정 시각화\n",
        "import matplotlib.pyplot as plt\n",
        "plt.plot(df.loss, label='loss')\n",
        "plt.plot(df.mae, label='mae')\n",
        "plt.xlabel('number of epochs')\n",
        "plt.legend()\n",
        "plt.grid()"
      ]
    },
    {
      "cell_type": "code",
      "source": [
        "# 모델 검증, 예측\n",
        "y_pred = model.predict(X_test)\n",
        "len(y_pred)\n",
        "\n",
        "# r2_score로 성능평가\n",
        "from sklearn.metrics import r2_score\n",
        "r2 = r2_score(y_test, y_pred)\n",
        "r2"
      ],
      "metadata": {
        "colab": {
          "base_uri": "https://localhost:8080/"
        },
        "id": "Z4lieLmKrRng",
        "outputId": "44793c69-e9a0-4e2c-9d3a-6832af38db0e"
      },
      "execution_count": 21,
      "outputs": [
        {
          "output_type": "stream",
          "name": "stdout",
          "text": [
            "4/4 [==============================] - 0s 7ms/step\n"
          ]
        },
        {
          "output_type": "execute_result",
          "data": {
            "text/plain": [
              "0.8465739976453618"
            ]
          },
          "metadata": {},
          "execution_count": 21
        }
      ]
    },
    {
      "cell_type": "code",
      "execution_count": 12,
      "metadata": {
        "id": "dyUA3APng1Vi"
      },
      "outputs": [],
      "source": [
        "# 훈련 데이터의 손실함수값과 검증 데이터의 손실함수값을 에포크별로 비교하여 시각화\n",
        "\n"
      ]
    },
    {
      "cell_type": "code",
      "execution_count": 12,
      "metadata": {
        "id": "atnWTXl-g1Vi"
      },
      "outputs": [],
      "source": []
    },
    {
      "cell_type": "code",
      "execution_count": 12,
      "metadata": {
        "id": "trPVDUgSg1Vi"
      },
      "outputs": [],
      "source": []
    },
    {
      "cell_type": "code",
      "execution_count": 12,
      "metadata": {
        "id": "2uWH05fVg1Vj"
      },
      "outputs": [],
      "source": []
    }
  ],
  "metadata": {
    "kernelspec": {
      "display_name": "Python 3",
      "language": "python",
      "name": "python3"
    },
    "language_info": {
      "codemirror_mode": {
        "name": "ipython",
        "version": 3
      },
      "file_extension": ".py",
      "mimetype": "text/x-python",
      "name": "python",
      "nbconvert_exporter": "python",
      "pygments_lexer": "ipython3",
      "version": "3.8.8"
    },
    "colab": {
      "provenance": []
    }
  },
  "nbformat": 4,
  "nbformat_minor": 0
}