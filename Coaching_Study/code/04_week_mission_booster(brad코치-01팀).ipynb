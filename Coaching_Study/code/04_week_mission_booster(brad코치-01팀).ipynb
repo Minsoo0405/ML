{
 "cells": [
  {
   "cell_type": "markdown",
   "metadata": {},
   "source": [
    "# 4주차 미션 - 새로운 데이터셋에 분류 모델 적용하기"
   ]
  },
  {
   "cell_type": "markdown",
   "metadata": {},
   "source": [
    "----"
   ]
  },
  {
   "cell_type": "markdown",
   "metadata": {},
   "source": [
    "## 📌 주제1 - Mobile Price Classification(Kaggle Data)\n",
    "- 데이터 링크: https://www.kaggle.com/datasets/iabhishekofficial/mobile-price-classification"
   ]
  },
  {
   "cell_type": "code",
   "execution_count": null,
   "metadata": {},
   "outputs": [],
   "source": [
    "import numpy as np\n",
    "import pandas as pd\n",
    "import matplotlib.pyplot as plt\n",
    "import seaborn as sns"
   ]
  },
  {
   "cell_type": "markdown",
   "metadata": {},
   "source": [
    "### 미션 1) 데이터 로드와 피처엔지니어링 🔍📊\n",
    "- 데이터셋을 탐색하여 기본적인 통계, 분포, 결측치 등을 확인합니다.\n",
    "- 필요에 따라 결측치 처리, 이상치 제거, 데이터 형식 변환 등의 전처리 작업을 수행합니다.\n",
    "- 피처 엔지니어링을 통해 데이터의 특성에 맞게 피처를 선택, 생성, 변환합니다. 예를 들어, 범주형 데이터의 경우 One-hot encoding을 적용할 수 있습니다.\n",
    "\n",
    "|컬럼명|설명|컬럼명|설명|\n",
    "|--|--|--|--|\n",
    "|'battery_power'|Total energy a battery can store in one time measured in mAh|'px_height'|Pixel Resolution Height|\n",
    "|'blue'|Has bluetooth or not|'px_width'|Pixel Resolution Width|\n",
    "|'clock_speed'|speed at which microprocessor executes instructions|'ram'|Random Access Memory in Mega Bytes|\n",
    "|'dual_sim'|Has dual sim support or not|'sc_h'|Screen Height of mobile in cm|\n",
    "|'fc'|Front Camera mega pixels|'sc_w'|Screen Width of mobile in cm|\n",
    "|'four_g'|Has 4G or not|'talk_time'|longest time that a single battery charge will last when you are|\n",
    "|'int_memory'|Internal Memory in Gigabytes|'three_g'|Has 3G or not|\n",
    "|'m_dep'|Mobile Depth in cm|'touch_screen'|Has touch screen or not|\n",
    "|'mobile_wt'|Weight of mobile phone|'wifi'|Has wifi or not|\n",
    "|'n_cores'|Number of cores of processor|'price_range'|This is the target variable with value of 0(low cost), 1(medium cost), 2(high cost) and 3(very high cost).|\n",
    "|'pc'|Primary Camera mega pixels| | |"
   ]
  },
  {
   "cell_type": "markdown",
   "metadata": {},
   "source": [
    "#### 1. 데이터 불러오기"
   ]
  },
  {
   "cell_type": "code",
   "execution_count": null,
   "metadata": {},
   "outputs": [],
   "source": [
    "train_df = pd.read_csv(\"../data/archive/train.csv\")\n",
    "train_df.shape"
   ]
  },
  {
   "cell_type": "markdown",
   "metadata": {},
   "source": [
    "#### 2. 데이터 확인하기"
   ]
  },
  {
   "cell_type": "code",
   "execution_count": null,
   "metadata": {},
   "outputs": [],
   "source": [
    "# 컬럼 확인\n",
    "train_df.columns"
   ]
  },
  {
   "cell_type": "code",
   "execution_count": null,
   "metadata": {},
   "outputs": [],
   "source": [
    "# 데이터 타입과 결측치 확인\n",
    "train_df.info()"
   ]
  },
  {
   "cell_type": "code",
   "execution_count": null,
   "metadata": {},
   "outputs": [],
   "source": [
    "train_df.describe()"
   ]
  },
  {
   "cell_type": "code",
   "execution_count": null,
   "metadata": {},
   "outputs": [],
   "source": [
    "# 컬럼별 hist\n",
    "train_df.hist(figsize=(20,15))\n",
    "plt.show()"
   ]
  },
  {
   "cell_type": "code",
   "execution_count": null,
   "metadata": {},
   "outputs": [],
   "source": [
    "# 컬럼별 countplot\n",
    "plt.figure(figsize=(18,30))\n",
    "for i, column in enumerate(train_df.columns[:-1]):\n",
    "    plt.subplot(10, 2, i+1)\n",
    "    sns.countplot(x=column, data=train_df, palette='viridis')\n",
    "    plt.title(column)\n",
    "    plt.xlabel('')\n",
    "    plt.ylabel('Count')\n",
    "\n",
    "plt.tight_layout()\n",
    "plt.show()"
   ]
  },
  {
   "cell_type": "code",
   "execution_count": null,
   "metadata": {},
   "outputs": [],
   "source": [
    "# 컬럼별 상관관계\n",
    "plt.figure(figsize= (15, 8), facecolor='lightblue')\n",
    "sns.heatmap(train_df.corr(), annot=True , fmt=\".2f\")"
   ]
  },
  {
   "cell_type": "markdown",
   "metadata": {},
   "source": [
    "### 미션 2) 모델 선택 🧠\n",
    "- 분류 문제에 적합한 머신러닝 알고리즘을 선택합니다. 예를 들어, 로지스틱 회귀, 결정 트리, 랜덤 포레스트, 서포트 벡터 머신(SVM), 그라디언트 부스팅 등이 있습니다. 베이스라인 모델 생성하여 성능의 기준점을 설정합니다.\n",
    "\n",
    "### 미션 3) 모델 훈련 🤖\n",
    "- 데이터셋을 훈련 세트와 테스트 세트로 분할합니다. 일반적으로 데이터의 70-80%를 훈련용으로, 나머지를 테스트용으로 사용합니다. 모델에 학습 데이터셋과 정답을 학습시키고 예측 데이터셋으로 예측을 진행합니다.\n",
    "\n",
    "### 미션 4) 하이퍼파라미터 튜닝 ⚙️\n",
    "- 그리드 서치, 랜덤 서치 등을 활용하여 모델의 하이퍼파라미터를 조정하여 모델의 성능을 최적화합니다. 이 때, 모델의 일반화 성능을 평가하기 위해 교차 검증을 수행합니다.\n",
    "(참고) xgboost, lightGBM, catBoost는 하이퍼파라미터 튜닝 기능을 제공합니다.\n",
    "\n",
    "### 미션 5) 모델 평가 및 선택 🎯\n",
    "- 학습된 모델을 테스트 데이터 또는 새로운 데이터에 적용하여 성능을 평가합니다. 이때 사용할 평가 지표는 태스크에 따라 다를 수 있습니다. 정확도(Accuracy), 정밀도(Precision), 재현율(Recall), F1-score 등을 고려합니다."
   ]
  },
  {
   "cell_type": "code",
   "execution_count": null,
   "metadata": {},
   "outputs": [],
   "source": [
    "# train, test 데이터셋 분리\n",
    "from sklearn.model_selection import train_test_split\n",
    "\n",
    "# 모델 선정\n",
    "from sklearn.tree import DecisionTreeClassifier\n",
    "from sklearn.svm import SVC\n",
    "from sklearn.ensemble import RandomForestClassifier\n",
    "from sklearn.linear_model import LogisticRegression\n",
    "\n",
    "# 스케일링\n",
    "from sklearn.preprocessing import StandardScaler\n",
    "\n",
    "# 하이퍼 파라미터 튜닝\n",
    "from sklearn.model_selection import GridSearchCV\n",
    "from sklearn.model_selection import RandomizedSearchCV\n",
    "\n",
    "# 모델 평가\n",
    "from sklearn.metrics import accuracy_score"
   ]
  },
  {
   "cell_type": "markdown",
   "metadata": {},
   "source": [
    "#### 1.결정트리"
   ]
  },
  {
   "cell_type": "markdown",
   "metadata": {},
   "source": [
    "##### 1.1 스케일링 x"
   ]
  },
  {
   "cell_type": "code",
   "execution_count": null,
   "metadata": {},
   "outputs": [],
   "source": [
    "# 독립변수, 종속변수 분류\n",
    "X = train_df.drop(\"price_range\", axis=1)\n",
    "y = train_df[\"price_range\"].values.ravel()\n",
    "\n",
    "# train, test 데이터셋 분리\n",
    "X_train, X_test, y_train, y_test = train_test_split(X, y, test_size=0.2, random_state=42)\n",
    "\n",
    "# 모델 선정\n",
    "clf = DecisionTreeClassifier(random_state=42)\n",
    "\n",
    "# 하이퍼 파라미터 튜닝\n",
    "param_grid = {\"max_depth\":range(3,12),\n",
    "              \"max_features\": [0.3, 0.5, 0.7, 0.9, 1]}\n",
    "\n",
    "max_depth = np.random.randint(3, 20, 10)\n",
    "max_features = np.random.uniform(0.7, 1.0, 100)\n",
    "param_distributions = {\"max_depth\" :max_depth,\n",
    "           \"max_features\": max_features,\n",
    "           \"min_samples_split\" : list(range(2, 7))}\n",
    "\n",
    "model = GridSearchCV(clf, param_grid=param_grid, n_jobs=-1, cv=5, verbose=0)\n",
    "\n",
    "model2 = RandomizedSearchCV(clf, \n",
    "                            param_distributions,\n",
    "                            n_iter=1000,\n",
    "                            scoring=\"accuracy\",\n",
    "                            n_jobs=-1,\n",
    "                            cv=5,\n",
    "                            random_state=42)\n",
    "\n",
    "# 모델 훈련 - model: GridSearch, model2: RandomSearchCV\n",
    "model.fit(X_train, y_train)\n",
    "model2.fit(X_train, y_train)\n",
    "\n",
    "# 모델 예측\n",
    "y_pred = model.predict(X_test)\n",
    "y_pred2 = model2.predict(X_test)\n",
    "\n",
    "# 모델 평가\n",
    "score = accuracy_score(y_test , y_pred)\n",
    "score2 = accuracy_score(y_test , y_pred2)\n",
    "\n",
    "print(\"< DecisionTreeClassifier> \")\n",
    "print(\"---\" * 50)\n",
    "print(f\"GridSearchCV 최적의 파라미터 : {model.best_params_}\")\n",
    "print(f\"GridSearchCV 최고 정확도 : {round(model.best_score_, 3)}\")\n",
    "print(f\"GridSearchCV accuracy_score : {round(score, 3)}\")\n",
    "print(\"---\" * 50)\n",
    "print(f\"RandomSearchCV 최적의 파라미터 : {model2.best_params_}\")\n",
    "print(f\"RandomSearchCV 최고 정확도 : {round(model2.best_score_, 3)}\")\n",
    "print(f\"RandomSearchCV accuracy_score : {round(score2, 3)}\")"
   ]
  },
  {
   "cell_type": "markdown",
   "metadata": {},
   "source": [
    "##### 1.2 스케일링 o"
   ]
  },
  {
   "cell_type": "code",
   "execution_count": null,
   "metadata": {},
   "outputs": [],
   "source": [
    "# 독립변수, 종속변수 분류\n",
    "X = train_df.drop(\"price_range\", axis=1)\n",
    "y = train_df[\"price_range\"].values.ravel()\n",
    "\n",
    "# 스케일링\n",
    "Scaler = StandardScaler()\n",
    "X_norm = Scaler.fit_transform(X)\n",
    "\n",
    "# train, test 데이터셋 분리\n",
    "X_train, X_test, y_train, y_test = train_test_split(X_norm, y, test_size=0.2, random_state=42)\n",
    "\n",
    "# 모델 선정\n",
    "clf_scal = DecisionTreeClassifier(random_state=42)\n",
    "\n",
    "# 하이퍼 파라미터 튜닝\n",
    "param_grid = {\"max_depth\":range(3,12),\n",
    "              \"max_features\": [0.3, 0.5, 0.7, 0.9, 1]}\n",
    "\n",
    "max_depth = np.random.randint(3, 20, 10)\n",
    "max_features = np.random.uniform(0.7, 1.0, 100)\n",
    "param_distributions = {\"max_depth\" :max_depth,\n",
    "           \"max_features\": max_features,\n",
    "           \"min_samples_split\" : list(range(2, 7))}\n",
    "\n",
    "model_clf = GridSearchCV(clf_scal, param_grid=param_grid, n_jobs=-1, cv=5, verbose=0)\n",
    "\n",
    "model_clf2 = RandomizedSearchCV(clf_scal, \n",
    "                            param_distributions,\n",
    "                            n_iter=1000,\n",
    "                            scoring=\"accuracy\",\n",
    "                            n_jobs=-1,\n",
    "                            cv=5,\n",
    "                            random_state=42)\n",
    "\n",
    "# 모델 훈련 - model: GridSearch, model2: RandomSearchCV\n",
    "model_clf.fit(X_train, y_train)\n",
    "model_clf2.fit(X_train, y_train)\n",
    "\n",
    "# 모델 예측\n",
    "y_pred = model_clf.predict(X_test)\n",
    "y_pred2 = model_clf2.predict(X_test)\n",
    "\n",
    "# 모델 평가\n",
    "score_clf = accuracy_score(y_test , y_pred)\n",
    "score_clf2 = accuracy_score(y_test , y_pred2)\n",
    "\n",
    "print(\"< DecisionTreeClassifier > \")\n",
    "print(\"---\" * 50)\n",
    "print(f\"GridSearchCV 최적의 파라미터 : {model_clf.best_params_}\")\n",
    "print(f\"GridSearchCV 최고 정확도 : {round(model_clf.best_score_, 3)}\")\n",
    "print(f\"GridSearchCV accuracy_score : {round(score_clf, 3)}\")\n",
    "print(\"---\" * 50)\n",
    "print(f\"RandomSearchCV 최적의 파라미터 : {model_clf2.best_params_}\")\n",
    "print(f\"RandomSearchCV 최고 정확도 : {round(model_clf2.best_score_, 3)}\")\n",
    "print(f\"RandomSearchCV accuracy_score : {round(score_clf2, 3)}\")"
   ]
  },
  {
   "cell_type": "markdown",
   "metadata": {},
   "source": [
    "#### 2.서포트 벡터 머신(SVM)"
   ]
  },
  {
   "cell_type": "code",
   "execution_count": null,
   "metadata": {},
   "outputs": [],
   "source": [
    "# 모델 선정\n",
    "clf_svm = SVC(random_state=42)\n",
    "\n",
    "# 하이퍼 파라미터 선정\n",
    "param_svm = {'C': [0.1, 1, 10, 100],\n",
    "                  'gamma': [0.01, 0.1, 1, 10],\n",
    "                  'kernel': ['linear', 'rbf', 'poly']}\n",
    "\n",
    "model_svm = GridSearchCV(clf_svm, param_grid=param_svm, n_jobs=-1, cv=5, verbose=0)\n",
    "model_svm2 = RandomizedSearchCV(clf_svm, \n",
    "                                param_distributions=param_svm, \n",
    "                                n_iter=100, \n",
    "                                scoring=\"accuracy\", \n",
    "                                n_jobs=-1, \n",
    "                                cv=5, \n",
    "                                random_state=42)\n",
    "\n",
    "# 모델 훈련\n",
    "model_svm.fit(X_train, y_train)\n",
    "model_svm2.fit(X_train, y_train)\n",
    "\n",
    "# 모델 예측\n",
    "y_pred_svm = model_svm.predict(X_test)\n",
    "y_pred_svm2 = model_svm2.predict(X_test)\n",
    "\n",
    "# 모델 평가\n",
    "score_svm = accuracy_score(y_test, y_pred_svm)\n",
    "score_svm2 = accuracy_score(y_test, y_pred_svm)\n",
    "\n",
    "print(\"< Support Vector Machine (SVM) >\")\n",
    "print(\"---\" * 50)\n",
    "print(f\"GridSearchCV 최적의 파라미터 : {model_svm.best_params_}\")\n",
    "print(f\"GridSearchCV 최고 정확도 : {round(model_svm.best_score_, 3)}\")\n",
    "print(f\"GridSearchCV accuracy_score : {round(score_svm, 3)}\")\n",
    "print(\"---\" * 50)\n",
    "print(f\"RandomizedSearchCV 최적의 파라미터 : {model_svm2.best_params_}\")\n",
    "print(f\"RandomizedSearchCV 최고 정확도 : {round(model_svm2.best_score_, 3)}\")\n",
    "print(f\"RandomizedSearchCV accuracy_score : {round(score_svm2, 3)}\")"
   ]
  },
  {
   "cell_type": "markdown",
   "metadata": {},
   "source": [
    "#### 3.랜덤 포레스트"
   ]
  },
  {
   "cell_type": "code",
   "execution_count": null,
   "metadata": {},
   "outputs": [],
   "source": [
    "# 모델 선정\n",
    "clf_rf = RandomForestClassifier(random_state=42)\n",
    "\n",
    "# 하이퍼 파라미터 선정\n",
    "param_rf = {'n_estimators': [50, 100, 200],\n",
    "                 'max_depth': [3, 6, 9],\n",
    "                 'max_features': [0.3, 0.5, 0.7, 0.9, 1]}\n",
    "\n",
    "model_rf = GridSearchCV(clf_rf, param_grid=param_rf, n_jobs=-1, cv=5, verbose=0)\n",
    "model_rf2 = RandomizedSearchCV(clf_rf, \n",
    "                              param_distributions=param_rf, \n",
    "                              n_iter=150, \n",
    "                              scoring=\"accuracy\", \n",
    "                              n_jobs=-1, \n",
    "                              cv=5, \n",
    "                              random_state=42)\n",
    "\n",
    "# 모델 훈련\n",
    "model_rf.fit(X_train, y_train)\n",
    "model_rf2.fit(X_train, y_train)\n",
    "\n",
    "# 모델 예측\n",
    "y_pred_rf = model_rf.predict(X_test)\n",
    "y_pred_rf2 = model_rf2.predict(X_test)\n",
    "\n",
    "# 모델 평가 \n",
    "score_rf = accuracy_score(y_test, y_pred_rf)\n",
    "score_rf2 = accuracy_score(y_test, y_pred_rf2)\n",
    "\n",
    "\n",
    "print(\"< Random Forest >\")\n",
    "print(\"---\" * 50)\n",
    "print(f\"GridSearchCV 최적의 파라미터 : {model_rf.best_params_}\")\n",
    "print(f\"GridSearchCV 최고 정확도 : {round(model_rf.best_score_, 3)}\")\n",
    "print(f\"GridSearchCV accuracy_score : {round(score_rf, 3)}\")\n",
    "print(\"---\" * 50)\n",
    "print(f\"RandomizedSearchCV 최적의 파라미터 : {model_rf2.best_params_}\")\n",
    "print(f\"RandomizedSearchCV 최고 정확도 : {round(model_rf2.best_score_, 3)}\")\n",
    "print(f\"RandomizedSearchCV accuracy_score : {round(score_rf2, 3)}\")"
   ]
  },
  {
   "cell_type": "markdown",
   "metadata": {},
   "source": [
    "#### 4.로지스틱 회귀"
   ]
  },
  {
   "cell_type": "code",
   "execution_count": null,
   "metadata": {},
   "outputs": [],
   "source": [
    "# 모델 선정\n",
    "clf_lr = LogisticRegression(random_state=42)\n",
    "\n",
    "# 하이퍼 파라미터 선정\n",
    "param_lr = {'C': [0.1, 1, 10, 100],\n",
    "                 'penalty': ['l1', 'l2']}\n",
    "\n",
    "model_lr = GridSearchCV(clf_lr, param_grid=param_lr, n_jobs=-1, cv=5, verbose=0)\n",
    "model_lr2 = RandomizedSearchCV(clf_lr,\n",
    "                               param_distributions=param_lr, \n",
    "                               n_iter=100, \n",
    "                               scoring=\"accuracy\", \n",
    "                               n_jobs=-1, \n",
    "                               cv=5, \n",
    "                               random_state=42)\n",
    "\n",
    "# 모델 훈련\n",
    "model_lr.fit(X_train, y_train)\n",
    "model_lr2.fit(X_train, y_train)\n",
    "\n",
    "# 모델 예측\n",
    "y_pred_lr = model_lr.predict(X_test)\n",
    "y_pred_lr2 = model_lr2.predict(X_test)\n",
    "\n",
    "# 모델 평가 \n",
    "score_lr = accuracy_score(y_test, y_pred_lr)\n",
    "score_lr2 = accuracy_score(y_test, y_pred_lr2)\n",
    "\n",
    "print(\"< Logistic Regression >\")\n",
    "print(\"---\" * 50)\n",
    "print(f\"GridSearchCV 최적의 파라미터 : {model_lr.best_params_}\")\n",
    "print(f\"GridSearchCV 최고 정확도 : {round(model_lr.best_score_, 3)}\")\n",
    "print(f\"GridSearchCV accuracy_score : {round(score_lr, 3)}\")\n",
    "print(\"---\" * 50)\n",
    "print(f\"RandomizedSearchCV 최적의 파라미터 : {model_lr2.best_params_}\")\n",
    "print(f\"RandomizedSearchCV 최고 정확도 : {round(model_lr2.best_score_, 3)}\")\n",
    "print(f\"RandomizedSearchCV accuracy_score : {round(score_lr2, 3)}\")"
   ]
  },
  {
   "cell_type": "markdown",
   "metadata": {},
   "source": [
    "#### 5.결론"
   ]
  },
  {
   "cell_type": "code",
   "execution_count": null,
   "metadata": {},
   "outputs": [],
   "source": [
    "idx = [\"DecisionTreeClassifier Scaler X\",\n",
    "        \"DecisionTreeClassifier Scaler O\", \n",
    "        \"Support Vector Machine\", \n",
    "        \"Random Forest\", \n",
    "        \"Logistic Regression\"]\n",
    "\n",
    "point = {\n",
    "    \"GridSearchCV 최적의 파라미터\" : [model.best_params_, model_clf.best_params_, model_svm, model_rf, model_lr],\n",
    "    \"GridSearchCV 최고 정확도\" : [round(model.best_score_, 3), round(model_clf.best_score_, 3), round(model_svm.best_score_, 3), round(model_rf.best_score_, 3) round(model_lr.best_score_, 3)],\n",
    "    \"GridSearchCV accuracy_score\" : [round(score, 3), round(score_clf, 3), round(score_svm, 3), round(score_rf, 3), round(score_lr, 3)],\n",
    "    \"RandomizedSearchCV 최적의 파라미터\" : [model2.best_params_, model_clf2.best_params_, model_svm2.best_params_, model_rf2.best_params_, model_lr2.best_params_, ],\n",
    "    \"RandomizedSearchCV 최고 정확도\" : [round(model2.best_score_, 3), round(model_clf2.best_score_, 3), round(model_svm2.best_score_, 3), round(model_rf2.best_score_, 3), round(model_lr2.best_score_, 3), ],\n",
    "    \"RandomizedSearchCV accuracy_score\" : [round(score2, 3), round(score_clf2, 3), round(score_svm2, 3), round(score_rf2, 3), round(score_lr2, 3), ]\n",
    "}\n",
    "\n",
    "df = pd.DataFrame(data=point, index=idx)\n",
    "df"
   ]
  },
  {
   "cell_type": "markdown",
   "metadata": {},
   "source": [
    "------"
   ]
  },
  {
   "cell_type": "markdown",
   "metadata": {},
   "source": [
    "----"
   ]
  },
  {
   "cell_type": "markdown",
   "metadata": {},
   "source": [
    "## 📌 주제 2 - "
   ]
  },
  {
   "cell_type": "markdown",
   "metadata": {},
   "source": [
    "### 미션 1) 데이터 로드와 피처엔지니어링"
   ]
  },
  {
   "cell_type": "code",
   "execution_count": null,
   "metadata": {},
   "outputs": [],
   "source": [
    "df =pd.read_csv('/content/drive/MyDrive/archive/credit_score.csv')"
   ]
  },
  {
   "cell_type": "code",
   "execution_count": null,
   "metadata": {},
   "outputs": [],
   "source": [
    "df.columns"
   ]
  },
  {
   "cell_type": "code",
   "execution_count": null,
   "metadata": {},
   "outputs": [],
   "source": [
    "df.info()"
   ]
  },
  {
   "cell_type": "code",
   "execution_count": null,
   "metadata": {},
   "outputs": [],
   "source": [
    "set(df[\"CAT_GAMBLING\"])"
   ]
  },
  {
   "cell_type": "code",
   "execution_count": null,
   "metadata": {},
   "outputs": [],
   "source": [
    "# 3진 데이터 라벨\n",
    "from sklearn.preprocessing import LabelEncoder\n",
    "label_encoder = LabelEncoder()\n",
    "df[\"CAT_GAMBLING\"] = label_encoder.fit_transform(df[\"CAT_GAMBLING\"])\n",
    "set(df[\"CAT_GAMBLING\"])"
   ]
  },
  {
   "cell_type": "code",
   "execution_count": null,
   "metadata": {},
   "outputs": [],
   "source": [
    "feature_list=df.columns[0:-1].tolist()\n",
    "cols=feature_list[1:]"
   ]
  },
  {
   "cell_type": "code",
   "execution_count": null,
   "metadata": {},
   "outputs": [],
   "source": [
    "df.columns[0::]"
   ]
  },
  {
   "cell_type": "code",
   "execution_count": null,
   "metadata": {},
   "outputs": [],
   "source": [
    "list(df.columns[0::])"
   ]
  },
  {
   "cell_type": "code",
   "execution_count": null,
   "metadata": {},
   "outputs": [],
   "source": [
    "df['DEFAULT'].value_counts()"
   ]
  },
  {
   "cell_type": "code",
   "execution_count": null,
   "metadata": {},
   "outputs": [],
   "source": [
    "df['CREDIT_SCORE'].value_counts()"
   ]
  },
  {
   "cell_type": "code",
   "execution_count": null,
   "metadata": {},
   "outputs": [],
   "source": [
    "df.groupby(['CREDIT_SCORE'])['DEFAULT'].mean()"
   ]
  },
  {
   "cell_type": "code",
   "execution_count": null,
   "metadata": {},
   "outputs": [],
   "source": [
    "sns.countplot(data=df,x='CREDIT_SCORE',hue='DEFAULT')"
   ]
  },
  {
   "cell_type": "code",
   "execution_count": null,
   "metadata": {},
   "outputs": [],
   "source": [
    "#DEFAULT==0 이면 채무를 이행한것"
   ]
  },
  {
   "cell_type": "code",
   "execution_count": null,
   "metadata": {},
   "outputs": [],
   "source": [
    "g=sns.PairGrid(df,hue='DEFAULT')\n",
    "g.map(plt.scatter)"
   ]
  },
  {
   "cell_type": "code",
   "execution_count": null,
   "metadata": {},
   "outputs": [],
   "source": [
    "feature_list=df.columns[1:-2].tolist()\n",
    "feature_list"
   ]
  },
  {
   "cell_type": "code",
   "execution_count": null,
   "metadata": {},
   "outputs": [],
   "source": [
    "split_count=int(df.shape[0]*0.8)\n",
    "train=df[:split_count].copy()\n",
    "\n",
    "test=df[split_count:].copy()"
   ]
  },
  {
   "cell_type": "code",
   "execution_count": null,
   "metadata": {},
   "outputs": [],
   "source": [
    "from sklearn.tree import DecisionTreeClassifier\n",
    "model=DecisionTreeClassifier()\n",
    "\n",
    "x_train=train[feature_list]\n",
    "y_train=train['DEFAULT']\n",
    "print(y_train.shape)\n",
    "model.fit(x_train,y_train)\n",
    "\n",
    "from sklearn.tree import plot_tree\n",
    "plt.figure(figsize=(20,20))\n",
    "sns.barplot(x=model.feature_importances_,y=feature_list)\n"
   ]
  },
  {
   "cell_type": "code",
   "execution_count": null,
   "metadata": {},
   "outputs": [],
   "source": [
    "sns.distplot(df['R_GROCERIES_INCOME'])"
   ]
  },
  {
   "cell_type": "code",
   "execution_count": null,
   "metadata": {},
   "outputs": [],
   "source": [
    "df['R_GROCERIES_INCOME_log']=np.log(df['R_GROCERIES_INCOME']+1)\n",
    "sns.distplot(df['R_GROCERIES_INCOME_log'])"
   ]
  },
  {
   "cell_type": "code",
   "execution_count": null,
   "metadata": {},
   "outputs": [],
   "source": [
    "# 여기에 상관계수를 구하고 heatmap 으로 시각화 해주세요.\n",
    "\n",
    "df_subset = df[feature_list]\n",
    "\n",
    "correlation_matrix = df_subset.corr()\n",
    "\n",
    "plt.figure(figsize=(80, 80))\n",
    "sns.heatmap(correlation_matrix, annot=True, cmap=\"coolwarm\", fmt=\".2f\", linewidths=0.5)\n",
    "\n",
    "plt.show()"
   ]
  },
  {
   "cell_type": "code",
   "execution_count": null,
   "metadata": {},
   "outputs": [],
   "source": [
    "correlation = correlation_matrix['R_GROCERIES_INCOME'].sort_values(ascending=False)"
   ]
  },
  {
   "cell_type": "code",
   "execution_count": null,
   "metadata": {},
   "outputs": [],
   "source": [
    "from itertools import combinations\n",
    "numeric_columns = df.select_dtypes(include='number').columns\n",
    "\n",
    "# All combinations of numeric variables\n",
    "variable_combinations = list(combinations(numeric_columns, 2))\n",
    "\n",
    "# Calculate correlations and sort\n",
    "correlation_list = []\n",
    "for var1, var2 in variable_combinations:\n",
    "    correlation = df[var1].corr(df[var2])\n",
    "    correlation_list.append(((var1, var2), correlation))\n",
    "\n",
    "correlation_list.sort(key=lambda x: abs(x[1]), reverse=True)\n",
    "\n",
    "# Print the results\n",
    "for (var1, var2), correlation in correlation_list:\n",
    "  if correlation>0.7:\n",
    "    print(f\"({var1}, {var2}): {correlation}\")"
   ]
  },
  {
   "cell_type": "code",
   "execution_count": null,
   "metadata": {},
   "outputs": [],
   "source": [
    "X=df[feature_list]\n",
    "y=df['DEFAULT']"
   ]
  },
  {
   "cell_type": "code",
   "execution_count": null,
   "metadata": {},
   "outputs": [],
   "source": [
    "from sklearn.model_selection import train_test_split\n",
    "\n",
    "X_train, X_test, y_train, y_test = train_test_split(X, y, test_size=0.2, random_state=42)"
   ]
  },
  {
   "cell_type": "markdown",
   "metadata": {},
   "source": [
    "### 미션 2) 모델 선택"
   ]
  },
  {
   "cell_type": "code",
   "execution_count": null,
   "metadata": {},
   "outputs": [],
   "source": [
    "from sklearn.tree import DecisionTreeClassifier\n",
    "from sklearn.ensemble import RandomForestClassifier,GradientBoostingClassifier\n",
    "\n",
    "models=[DecisionTreeClassifier(random_state=42),\n",
    "       RandomForestClassifier(random_state=42),\n",
    "       GradientBoostingClassifier(random_state=42)]"
   ]
  },
  {
   "cell_type": "markdown",
   "metadata": {},
   "source": [
    "### 미션 3) 모델 훈련"
   ]
  },
  {
   "cell_type": "code",
   "execution_count": null,
   "metadata": {},
   "outputs": [],
   "source": [
    "from sklearn.model_selection import RandomizedSearchCV\n",
    "param_distributions={'max_depth':max_depth,'max_features':max_features}\n",
    "result=[]\n",
    "for model in models:\n",
    "  if model.__class__.__name__ != 'DecisionTreeClassifier':\n",
    "        param_distributions[\"n_estimators\"] = np.random.randint(100, 1000, 10)\n",
    "\n",
    "  clf=RandomizedSearchCV(model,\n",
    "                    param_distributions,\n",
    "                    n_iter=10,\n",
    "                    scoring='accuracy',\n",
    "                    n_jobs=-1,\n",
    "                    cv=5,\n",
    "                    verbose=2)\n",
    "  clf.fit(X_train,y_train)\n",
    "  result.append([model.__class__.__name__,clf.best_params_,\n",
    "                 clf.best_score_,clf.score(X_test, y_test),clf.cv_results_])"
   ]
  },
  {
   "cell_type": "code",
   "execution_count": null,
   "metadata": {},
   "outputs": [],
   "source": [
    "pd.DataFrame(result)"
   ]
  },
  {
   "cell_type": "code",
   "execution_count": null,
   "metadata": {},
   "outputs": [],
   "source": [
    "#전처리 전 스코어max_features=np.random.uniform(0.3,1.0,10)\n",
    "pd.DataFrame(result, columns=[\"model\", \"best_params\", \"train_score\", \"test_score\", \"cv_result\"])"
   ]
  },
  {
   "cell_type": "markdown",
   "metadata": {},
   "source": [
    "### 미션 4) 하이퍼파라미터 튜닝"
   ]
  },
  {
   "cell_type": "code",
   "execution_count": null,
   "metadata": {},
   "outputs": [],
   "source": [
    "max_features=np.random.uniform(0.5,1.0,10)"
   ]
  },
  {
   "cell_type": "code",
   "execution_count": null,
   "metadata": {},
   "outputs": [],
   "source": [
    "from sklearn.model_selection import RandomizedSearchCV\n",
    "param_distributions={'max_depth':max_depth,'max_features':max_features}\n",
    "result=[]\n",
    "for model in models:\n",
    "  if model.__class__.__name__ != 'DecisionTreeClassifier':\n",
    "        param_distributions[\"n_estimators\"] = np.random.randint(100, 1000, 10)\n",
    "\n",
    "  clf=RandomizedSearchCV(model,\n",
    "                    param_distributions,\n",
    "                    n_iter=50,\n",
    "                    scoring='accuracy',\n",
    "                    n_jobs=-1,\n",
    "                    cv=5,\n",
    "                    verbose=2)\n",
    "  clf.fit(X_train,y_train)\n",
    "  result.append([model.__class__.__name__,clf.best_params_,\n",
    "                 clf.best_score_,clf.score(X_test, y_test),clf.cv_results_])\n"
   ]
  },
  {
   "cell_type": "code",
   "execution_count": null,
   "metadata": {},
   "outputs": [],
   "source": [
    "pd.DataFrame(result, columns=[\"model\", \"best_params\", \"train_score\", \"test_score\", \"cv_result\"])"
   ]
  },
  {
   "cell_type": "code",
   "execution_count": null,
   "metadata": {},
   "outputs": [],
   "source": [
    "from sklearn.tree import DecisionTreeClassifier\n",
    "model=DecisionTreeClassifier()\n",
    "split_count=int(df.shape[0]*0.8)\n",
    "train=df[:split_count].copy()\n",
    "\n",
    "test=df[split_count:].copy()\n",
    "x_train=train[feature_list]\n",
    "y_train=train['DEFAULT']\n",
    "print(y_train.shape)\n",
    "model.fit(x_train,y_train)\n",
    "\n",
    "from sklearn.tree import plot_tree\n",
    "plt.figure(figsize=(20,20))\n",
    "sns.barplot(x=model.feature_importances_,y=feature_list)\n"
   ]
  },
  {
   "cell_type": "code",
   "execution_count": null,
   "metadata": {},
   "outputs": [],
   "source": [
    "plt.figure(figsize=(20,20))\n",
    "sns.countplot(data=df,x='R_DEBT_INCOME',hue='DEFAULT')"
   ]
  },
  {
   "cell_type": "code",
   "execution_count": null,
   "metadata": {},
   "outputs": [],
   "source": [
    "from sklearn.tree import plot_tree\n",
    "\n",
    "plt.figure(figsize=(20,20))\n",
    "tree=plot_tree(model,feature_names=feature_list,filled=True,fontsize=10)"
   ]
  },
  {
   "cell_type": "code",
   "execution_count": null,
   "metadata": {},
   "outputs": [],
   "source": [
    "\n",
    "from sklearn.decomposition import PCA\n",
    "from sklearn.ensemble import RandomForestClassifier\n",
    "\n",
    "# Principal Component Analysis (PCA)\n",
    "pca = PCA(n_components=84)\n",
    "X_pca = pca.fit_transform(X_train)\n",
    "\n",
    "print(\"\\nSelected features using PCA:\")\n",
    "print(X_pca)"
   ]
  },
  {
   "cell_type": "code",
   "execution_count": null,
   "metadata": {},
   "outputs": [],
   "source": [
    "from sklearn.model_selection import RandomizedSearchCV\n",
    "max_depth=np.random.randint(2,20,10)\n",
    "max_features=np.random.uniform(0.3,1.0,10)\n",
    "param_distributions={'max_depth':max_depth,'max_features':max_features}\n",
    "result=[]\n",
    "for model in models:\n",
    "  if model.__class__.__name__ != 'DecisionTreeClassifier':\n",
    "        param_distributions[\"n_estimators\"] = np.random.randint(100, 1000, 10)\n",
    "\n",
    "  clf=RandomizedSearchCV(model,\n",
    "                    param_distributions,\n",
    "                    n_iter=50,\n",
    "                    scoring='accuracy',\n",
    "                    n_jobs=-1,\n",
    "                    cv=5,\n",
    "                    verbose=2)\n",
    "  clf.fit(X_pca,y_train)\n",
    "  result.append([model.__class__.__name__,clf.best_params_,\n",
    "                 clf.best_score_,clf.score(X_test, y_test),clf.cv_results_])\n",
    "\n",
    "pd.DataFrame(result, columns=[\"model\", \"best_params\", \"train_score\", \"test_score\", \"cv_result\"])"
   ]
  },
  {
   "cell_type": "markdown",
   "metadata": {},
   "source": [
    "### 미션 5) 모델 평가 및 선택"
   ]
  },
  {
   "cell_type": "markdown",
   "metadata": {},
   "source": [
    "GradientBoostingClassifier\taccuracy 0.73\n",
    "피처 엔지니어링에 좀더 시간을 할애해주지 못한 점이 아쉽습니다..시간도 시간이지만 어떤 방식으로 변수를 조작해줄지에 대한 고민을 많이 못했습니다.\n",
    "\n",
    "데이터 처리를 통해 모델의 성능 확인 비교에 필요한 기준 지표를 확보하기위해\n",
    "먼저 raw data셋에 decision tree 모델에 학습시키기 위해 최소로 전처리 된 상태에서 학습을 진행하였으나 데이터셋의 변수 종류가 많고 하이퍼 파라미터 세팅만 1000iter로 늘려서 Gridsearch로 코랩의 한정된 자원으로만 학습하다보니 많은 시간이 소요되었습니다."
   ]
  },
  {
   "cell_type": "markdown",
   "metadata": {},
   "source": [
    "----"
   ]
  },
  {
   "cell_type": "markdown",
   "metadata": {},
   "source": [
    "---- "
   ]
  },
  {
   "cell_type": "markdown",
   "metadata": {},
   "source": [
    "## 📌 주제 3 - "
   ]
  },
  {
   "cell_type": "markdown",
   "metadata": {},
   "source": [
    "### 미션 1) 데이터셋 탐색 및 통계, 분포, 결측치 등 확인"
   ]
  },
  {
   "cell_type": "code",
   "execution_count": null,
   "metadata": {},
   "outputs": [],
   "source": [
    "df = pd.read_csv(\"/content/drive/MyDrive/Colab Notebooks/train.csv\")\n",
    "df.shape"
   ]
  },
  {
   "cell_type": "code",
   "execution_count": null,
   "metadata": {},
   "outputs": [],
   "source": [
    "df.head()"
   ]
  },
  {
   "cell_type": "code",
   "execution_count": null,
   "metadata": {},
   "outputs": [],
   "source": [
    "df.info()"
   ]
  },
  {
   "cell_type": "code",
   "execution_count": null,
   "metadata": {},
   "outputs": [],
   "source": [
    "df.isnull().sum().plot.barh(figsize=(10, 9))\n",
    "#Name, Monthly_Inhand_Salary, Type_of_Loan, Num_of_Delayed_Payment, Num_Credit_Inquiries, Credit_History_Age, Amount_invested_monthly, Monthly_Balance가 결측치 존재"
   ]
  },
  {
   "cell_type": "code",
   "execution_count": null,
   "metadata": {},
   "outputs": [],
   "source": [
    "df[[\"Name\",\"Monthly_Inhand_Salary\",\"Type_of_Loan\",\"Num_of_Delayed_Payment\",\"Num_Credit_Inquiries\",\"Credit_History_Age\",\"Amount_invested_monthly\",\"Monthly_Balance\"]]"
   ]
  },
  {
   "cell_type": "code",
   "execution_count": null,
   "metadata": {},
   "outputs": [],
   "source": [
    "df[\"Num_of_Delayed_Payment\"] = pd.to_numeric(df[\"Num_of_Delayed_Payment\"], errors=\"coerce\")\n",
    "#\"Num_of_Delayed_Payment\"수치형 전환"
   ]
  },
  {
   "cell_type": "code",
   "execution_count": null,
   "metadata": {},
   "outputs": [],
   "source": [
    "#결측치 처리\n",
    "df.groupby([\"Credit_Score\"])[\"Monthly_Inhand_Salary\",\"Num_of_Delayed_Payment\",\"Num_Credit_Inquiries\"].agg([\"mean\", \"median\"])\n",
    "#각 항목의 결측치를 평균값 or 중앙값으로 대체하기 위해 평균값, 중앙값 계산"
   ]
  },
  {
   "cell_type": "code",
   "execution_count": null,
   "metadata": {},
   "outputs": [],
   "source": [
    "df.loc[(df[\"Credit_Score\"] == \"Good\") & (df[\"Monthly_Inhand_Salary\"].isnull()), \"Monthly_Inhand_Salary\"] = 5389.246647\n",
    "df.loc[(df[\"Credit_Score\"] == \"Poor\") & (df[\"Monthly_Inhand_Salary\"].isnull()), \"Monthly_Inhand_Salary\"] = 3375.311674\n",
    "df.loc[(df[\"Credit_Score\"] == \"Standard\") & (df[\"Monthly_Inhand_Salary\"].isnull()), \"Monthly_Inhand_Salary\"] = 4242.037051"
   ]
  },
  {
   "cell_type": "code",
   "execution_count": null,
   "metadata": {},
   "outputs": [],
   "source": [
    "df.loc[(df[\"Credit_Score\"] == \"Good\") & (df[\"Num_of_Delayed_Payment\"].isnull()), \"Num_of_Delayed_Payment\"] = 26.305002\n",
    "df.loc[(df[\"Credit_Score\"] == \"Poor\") & (df[\"Num_of_Delayed_Payment\"].isnull()), \"Num_of_Delayed_Payment\"] = 32.032983\n",
    "df.loc[(df[\"Credit_Score\"] == \"Standard\") & (df[\"Num_of_Delayed_Payment\"].isnull()), \"Num_of_Delayed_Payment\"] = 32.070773"
   ]
  },
  {
   "cell_type": "code",
   "execution_count": null,
   "metadata": {},
   "outputs": [],
   "source": [
    "df.loc[(df[\"Credit_Score\"] == \"Good\") & (df[\"Num_Credit_Inquiries\"].isnull()), \"Num_Credit_Inquiries\"] = 24.483045\n",
    "df.loc[(df[\"Credit_Score\"] == \"Poor\") & (df[\"Num_Credit_Inquiries\"].isnull()), \"Num_Credit_Inquiries\"] = 30.794915\n",
    "df.loc[(df[\"Credit_Score\"] == \"Standard\") & (df[\"Num_Credit_Inquiries\"].isnull()), \"Num_Credit_Inquiries\"] = 27.192685"
   ]
  },
  {
   "cell_type": "code",
   "execution_count": null,
   "metadata": {},
   "outputs": [],
   "source": [
    "df.describe()"
   ]
  },
  {
   "cell_type": "code",
   "execution_count": null,
   "metadata": {},
   "outputs": [],
   "source": [
    "df.describe(include=\"object\")"
   ]
  },
  {
   "cell_type": "code",
   "execution_count": null,
   "metadata": {},
   "outputs": [],
   "source": [
    "feature_columns = df.columns[0:-1].tolist()\n",
    "feature_columns"
   ]
  },
  {
   "cell_type": "code",
   "execution_count": null,
   "metadata": {},
   "outputs": [],
   "source": [
    "df[\"Credit_Score\"].value_counts()"
   ]
  },
  {
   "cell_type": "code",
   "execution_count": null,
   "metadata": {},
   "outputs": [],
   "source": [
    "h = df.hist(figsize=(12, 12))"
   ]
  },
  {
   "cell_type": "code",
   "execution_count": null,
   "metadata": {},
   "outputs": [],
   "source": [
    "#상관계수 확인\n",
    "df_corr.style.background_gradient()"
   ]
  },
  {
   "cell_type": "code",
   "execution_count": null,
   "metadata": {},
   "outputs": [],
   "source": [
    "plt.figure(figsize=(15, 8))\n",
    "sns.heatmap(df_corr, annot=True, vmax=1, vmin=-1, cmap=\"coolwarm\")"
   ]
  },
  {
   "cell_type": "markdown",
   "metadata": {},
   "source": [
    "### 미션 2) 모델 선택"
   ]
  },
  {
   "cell_type": "code",
   "execution_count": null,
   "metadata": {},
   "outputs": [],
   "source": [
    "df.columns"
   ]
  },
  {
   "cell_type": "code",
   "execution_count": null,
   "metadata": {},
   "outputs": [],
   "source": [
    "X = df[['Annual_Income', 'Monthly_Inhand_Salary', 'Num_Bank_Accounts',\n",
    "       'Num_Credit_Card', 'Interest_Rate', 'Num_of_Loan', 'Delay_from_due_date', 'Num_of_Delayed_Payment', 'Changed_Credit_Limit',\n",
    "       'Num_Credit_Inquiries', 'Credit_Mix', 'Outstanding_Debt',\n",
    "       'Credit_Utilization_Ratio', 'Amount_invested_monthly', 'Monthly_Balance']]\n",
    "X.shape"
   ]
  },
  {
   "cell_type": "code",
   "execution_count": null,
   "metadata": {},
   "outputs": [],
   "source": [
    "y = df['Credit_Score']\n",
    "y.shape"
   ]
  },
  {
   "cell_type": "code",
   "execution_count": null,
   "metadata": {},
   "outputs": [],
   "source": [
    "from sklearn.model_selection import train_test_split\n",
    "\n",
    "X_train, X_test, y_train, y_test = train_test_split(\n",
    "    X, y, test_size=0.2, random_state=42)"
   ]
  },
  {
   "cell_type": "code",
   "execution_count": null,
   "metadata": {},
   "outputs": [],
   "source": [
    "X_train.shape, y_train.shape"
   ]
  },
  {
   "cell_type": "code",
   "execution_count": null,
   "metadata": {},
   "outputs": [],
   "source": [
    "X_test.shape, y_test.shape"
   ]
  },
  {
   "cell_type": "code",
   "execution_count": null,
   "metadata": {},
   "outputs": [],
   "source": [
    "for col in X_train.columns:\n",
    "    if X_train[col].dtype == 'object':\n",
    "        X_train[col] = pd.to_numeric(X_train[col], errors='coerce')"
   ]
  },
  {
   "cell_type": "code",
   "execution_count": null,
   "metadata": {},
   "outputs": [],
   "source": [
    "from sklearn.tree import DecisionTreeClassifier\n",
    "model = DecisionTreeClassifier(max_depth=11, random_state=42)\n",
    "model"
   ]
  },
  {
   "cell_type": "markdown",
   "metadata": {},
   "source": [
    "### 미션 3) 모델 훈련"
   ]
  },
  {
   "cell_type": "markdown",
   "metadata": {},
   "source": [
    "### 미션 4) 하이퍼파라미터 튜닝"
   ]
  },
  {
   "cell_type": "markdown",
   "metadata": {},
   "source": [
    "### 미션 5) 모델 평가 및 선택"
   ]
  },
  {
   "cell_type": "markdown",
   "metadata": {},
   "source": [
    "-----"
   ]
  },
  {
   "cell_type": "markdown",
   "metadata": {},
   "source": [
    "----- "
   ]
  }
 ],
 "metadata": {
  "language_info": {
   "name": "python"
  }
 },
 "nbformat": 4,
 "nbformat_minor": 2
}
