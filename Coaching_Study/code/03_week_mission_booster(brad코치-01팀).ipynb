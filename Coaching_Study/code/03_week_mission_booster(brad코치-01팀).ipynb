{
  "cells": [
    {
      "cell_type": "markdown",
      "metadata": {
        "id": "pUCxoebIMLih"
      },
      "source": [
        "## 3주차 미션 소개 -  피처 엔지니어링(Feature Engineering)\n",
        "\n",
        "* 피처 엔지니어링(Feature Engineering)은 머신러닝 모델을 훈련시키기 위해 입력 데이터로 사용되는 피처(또는 변수)들을 가공하거나 새로운 피처를 만들어내는 과정을 말합니다. 피처 엔지니어링은 머신러닝 성능을 향상시키고 모델의 일반화 성능을 향상시키는 데 핵심적인 역할을 합니다. 현실 세계의 데이터는 종종 불완전하고 노이즈가 많습니다. 결측값, 이상치, 오류 등이 있을 수 있습니다. 종속 변수와의 관계를 강화하고 모델이 더 나은 예측을 할 수 있도록 도와줍니다. 예를 들어, 특정 도메인 지식을 활용하여 새로운 피처를 생성하거나 기존 피처를 변형시켜 모델이 패턴을 더 잘 파악하도록 할 수 있습니다. 불필요한 피처를 제거하거나 피처를 효과적으로 변형함으로써 모델의 계산 효율성을 높일 수 있습니다. 이는 모델을 더 빠르게 훈련시키고 실행시킬 수 있습니다.\n",
        "\n",
        "* 미션 데이터셋 소개\n",
        "\n",
        "    * 해당 Kaggle 데이터셋( https://www.kaggle.com/blastchar/telco-customer-churn )은 통신사 고객 이탈(Churn)에 대한 정보를 담고 있습니다. IBM에서 제공한 이 데이터셋은 고객 유지에 필요한 행동을 예측하는 데 사용될 수 있으며, 고객 데이터를 분석하여 고객 유지 프로그램을 개발하는 데 도움이 됩니다.\n",
        "    * 해당 데이터셋은 다음의 정보로 구성되어 있습니다.\n",
        "        * 고객 인구 통계 정보(Demographic info): 고객의 성별, 연령대, 배우자 및 부양 가족의 유무(Gender, SeniorCitizen, Partner, Dependents) 등에 관한 정보가 포함되어 있습니다.\n",
        "        * 고객 이탈(Churn) 정보: 서비스를 중단 여부에 대한 정보가 포함되어 있습니다.\n",
        "        * 서비스 가입 정보(Services subscribed): 고객들이 가입한 서비스들, 예를 들어 전화, 다중 라인, 인터넷, 온라인 보안, 온라인 백업, 장치 보호, 기술 지원, 스트리밍 TV 및 영화( honeService, MultipleLine, InternetService, OnlineSecurity, OnlineBackup, DeviceProtection, TechSupport, StreamingTV, StreamingMovies) 등에 대한 정보가 있습니다.\n",
        "        * 고객 계정 정보(Customer account info): 고객이 얼마나 오래 서비스를 이용했는지, 계약 유형, 결제 방법, 무페이퍼 청구 여부, 월별 요금, 총 요금 (CustomerID, Contract, PaperlessBilling, PaymentMethod, MonthlyCharges, TotalCharges, Tenure)등의 정보가 담겨 있습니다."
      ]
    },
    {
      "cell_type": "markdown",
      "metadata": {},
      "source": [
        "# 📌 문제풀이 1️⃣"
      ]
    },
    {
      "cell_type": "code",
      "execution_count": null,
      "metadata": {
        "id": "ghxs96nLMLil"
      },
      "outputs": [],
      "source": [
        "import pandas as pd\n",
        "import numpy as np\n",
        "import seaborn as sns\n",
        "import matplotlib.pyplot as plt"
      ]
    },
    {
      "cell_type": "code",
      "execution_count": null,
      "metadata": {
        "id": "FORQdahnMLim"
      },
      "outputs": [],
      "source": [
        "# 미션 수행을 위해 데이터셋을 로드합니다.\n",
        "df = pd.read_csv(\"https://bit.ly/telco-csv\", index_col=\"customerID\")\n",
        "df.shape"
      ]
    },
    {
      "cell_type": "code",
      "execution_count": null,
      "metadata": {
        "id": "u-0eqU1TMLin"
      },
      "outputs": [],
      "source": [
        "df.head()"
      ]
    },
    {
      "cell_type": "code",
      "execution_count": null,
      "metadata": {
        "id": "VwrbmX6RMLin"
      },
      "outputs": [],
      "source": [
        "# TotalCharges 가 수치 타입이 아니기 때문에 수치 연산을 위해 숫자 형태로 변경합니다.\n",
        "df[\"TotalCharges\"] = pd.to_numeric(df[\"TotalCharges\"], errors=\"coerce\")"
      ]
    },
    {
      "cell_type": "code",
      "execution_count": null,
      "metadata": {
        "id": "ZoWmOqD1MLin"
      },
      "outputs": [],
      "source": [
        "df = df.dropna()"
      ]
    },
    {
      "cell_type": "markdown",
      "metadata": {
        "id": "KADfXTnrMLio"
      },
      "source": [
        "## 미션 1) - 수치형 변수를 범주형 변수로 만들기"
      ]
    },
    {
      "cell_type": "code",
      "execution_count": null,
      "metadata": {
        "id": "kuSHLM56MLio",
        "scrolled": false
      },
      "outputs": [],
      "source": [
        "df['MonthlyCharges_group']= np.where(df.MonthlyCharges < 30,'0-30',\n",
        "                                    np.where(df.MonthlyCharges < 70,'30-70',\n",
        "                                    np.where(df.MonthlyCharges < 99,'70-99',\n",
        "                                     '99-plus')))\n",
        "df['MonthlyCharges_group'].reset_index_index()\n",
        "\n"
      ]
    },
    {
      "cell_type": "code",
      "execution_count": null,
      "metadata": {
        "id": "d96thDubMLip"
      },
      "outputs": [],
      "source": [
        "sns.countplot(x=\"MonthlyCharges\",data=df)\n"
      ]
    },
    {
      "cell_type": "code",
      "execution_count": null,
      "metadata": {},
      "outputs": [],
      "source": [
        "sns.countplot(x=\"MonthlyCharges_group\",data=df)"
      ]
    },
    {
      "cell_type": "markdown",
      "metadata": {
        "id": "0qlbFTGzMLip"
      },
      "source": [
        "## 미션 2) - One-Hot-Encoding 하기"
      ]
    },
    {
      "cell_type": "code",
      "execution_count": null,
      "metadata": {
        "id": "if3izWPJMLip",
        "scrolled": true
      },
      "outputs": [],
      "source": [
        "df['gender_Female'] = df['gender'] =='Female'\n",
        "df['gender_Male']= df['gender'] =='Male'\n",
        "df.head()\n",
        "\n"
      ]
    },
    {
      "cell_type": "markdown",
      "metadata": {
        "id": "k1QQcQRgMLiq"
      },
      "source": [
        "## 미션 3) - 여러 피처 엔지니어링 기법을 적용하고 통신사 고객 이탈여부에 대한 모델의 성능을 Accuracy로 평가해 주세요.\n"
      ]
    },
    {
      "cell_type": "code",
      "execution_count": null,
      "metadata": {
        "id": "HOkfi0mvMLiq"
      },
      "outputs": [],
      "source": [
        "# X = df_ohe\n",
        "# y = df[\"Churn\"]"
      ]
    },
    {
      "cell_type": "code",
      "execution_count": null,
      "metadata": {
        "id": "i4SwocwBMLiq"
      },
      "outputs": [],
      "source": [
        "# from sklearn.model_selection import _______________\n",
        "\n",
        "# X_train, X_test, y_train, y_test = _______________(\n",
        "#     X, y, test_size=0.2, stratify=y, random_state=42)"
      ]
    },
    {
      "cell_type": "code",
      "execution_count": null,
      "metadata": {
        "id": "pi6XwA8nMLiq"
      },
      "outputs": [],
      "source": [
        "# # 여기에 모델을 구현해 주세요.\n",
        "# model = _______________"
      ]
    },
    {
      "cell_type": "markdown",
      "metadata": {},
      "source": [
        "----"
      ]
    },
    {
      "cell_type": "markdown",
      "metadata": {},
      "source": [
        "# 📌 문제풀이 2️⃣"
      ]
    },
    {
      "cell_type": "code",
      "execution_count": null,
      "metadata": {},
      "outputs": [],
      "source": [
        "import pandas as pd\n",
        "import numpy as np\n",
        "import seaborn as sns\n",
        "import matplotlib.pyplot as plt"
      ]
    },
    {
      "cell_type": "code",
      "execution_count": null,
      "metadata": {},
      "outputs": [],
      "source": [
        "\n",
        "# 미션 수행을 위해 데이터셋을 로드합니다.\n",
        "df = pd.read_csv(\"https://bit.ly/telco-csv\", index_col=\"customerID\")\n",
        "df.shape"
      ]
    },
    {
      "cell_type": "code",
      "execution_count": null,
      "metadata": {},
      "outputs": [],
      "source": [
        "df.head()"
      ]
    },
    {
      "cell_type": "code",
      "execution_count": null,
      "metadata": {},
      "outputs": [],
      "source": [
        "# TotalCharges 가 수치 타입이 아니기 때문에 수치 연산을 위해 숫자 형태로 변경합니다.\n",
        "df[\"TotalCharges\"] = pd.to_numeric(df[\"TotalCharges\"], errors=\"coerce\")"
      ]
    },
    {
      "cell_type": "code",
      "execution_count": null,
      "metadata": {},
      "outputs": [],
      "source": [
        "df"
      ]
    },
    {
      "cell_type": "markdown",
      "metadata": {},
      "source": [
        "## 미션 1) - 수치형 변수를 범주형 변수로 만들기"
      ]
    },
    {
      "cell_type": "code",
      "execution_count": null,
      "metadata": {},
      "outputs": [],
      "source": [
        "# 바이너리 변수에 대한 인코딩\n",
        "df[\"gender\"] = (df[\"gender\"] == \"Male\").astype(int)\n",
        "df[\"Partner\"] = (df[\"Partner\"] == \"Yes\").astype(int)\n",
        "df[\"Dependents\"] = (df[\"Dependents\"] == \"Yes\").astype(int)\n",
        "df[\"PhoneService\"] = (df[\"PhoneService\"] == \"Yes\").astype(int)\n",
        "df[\"PaperlessBilling\"] = (df[\"PaperlessBilling\"] == \"Yes\").astype(int)"
      ]
    },
    {
      "cell_type": "code",
      "execution_count": null,
      "metadata": {},
      "outputs": [],
      "source": [
        "#replace를 이용하여 일일히 변경시켜주려다가 ValueError: Length of values (2) does not match length of index (7032)에러로 패스;\n",
        "#범주의 값들이 0 ~ 9까지로만으로도 충분하다면sklearn 라이브러리의 LabelEncoder 함수를 이용하는방법 채택\n",
        "flist=df.columns.tolist()\n",
        "for f in flist:\n",
        "  li=list(set(list(df[f])))\n",
        "  print(f,len(li),li)\n"
      ]
    },
    {
      "cell_type": "code",
      "execution_count": null,
      "metadata": {},
      "outputs": [],
      "source": [
        "from sklearn.preprocessing import LabelEncoder\n",
        "label_encoder = LabelEncoder()\n",
        "\n",
        "# 각 열을 인코딩하여 데이터프레임에 추가\n",
        "for column in flist:\n",
        "    # if df[column].dtype == 'object':  # 문자열 열만 처리\n",
        "    df[column] = label_encoder.fit_transform(df[column])\n"
      ]
    },
    {
      "cell_type": "code",
      "execution_count": null,
      "metadata": {},
      "outputs": [],
      "source": [
        "df['MonthlyCharges'].describe()"
      ]
    },
    {
      "cell_type": "code",
      "execution_count": null,
      "metadata": {},
      "outputs": [],
      "source": [
        "sns.distplot(df['MonthlyCharges'])"
      ]
    },
    {
      "cell_type": "code",
      "execution_count": null,
      "metadata": {},
      "outputs": [],
      "source": [
        "sns.countplot(data=df,x='MonthlyCharges')"
      ]
    },
    {
      "cell_type": "code",
      "execution_count": null,
      "metadata": {},
      "outputs": [],
      "source": [
        "# 1/4씩 마다 나누기\n",
        "df['Charges_low']=df['MonthlyCharges']<200\n",
        "df['Charges_middle']=(df['MonthlyCharges']>=201)&(df['MonthlyCharges']<721)\n",
        "df['Charges_high']=(df['MonthlyCharges']>=721)&(df['MonthlyCharges']<1090)\n",
        "df['Charges_vip']=(df['MonthlyCharges']>=1090)"
      ]
    },
    {
      "cell_type": "code",
      "execution_count": null,
      "metadata": {},
      "outputs": [],
      "source": [
        "#MonthlyChares에 따라 금액 차순대로 사람수에 맞춰4등분\n",
        "df.shape"
      ]
    },
    {
      "cell_type": "code",
      "execution_count": null,
      "metadata": {},
      "outputs": [],
      "source": [
        "df_sorted=df.sort_values(by='MonthlyCharges')"
      ]
    },
    {
      "cell_type": "code",
      "execution_count": null,
      "metadata": {},
      "outputs": [],
      "source": [
        "df_sorted['MonthlyCharges'][-1]"
      ]
    },
    {
      "cell_type": "code",
      "execution_count": null,
      "metadata": {},
      "outputs": [],
      "source": [
        "print(df_sorted['MonthlyCharges'][int(7032/4)],\n",
        "df_sorted['MonthlyCharges'][int(7032/4)*2],\n",
        "df_sorted['MonthlyCharges'][int(7032/4)*3])"
      ]
    },
    {
      "cell_type": "code",
      "execution_count": null,
      "metadata": {},
      "outputs": [],
      "source": [
        "df['Charges_low']=df['MonthlyCharges']<201\n",
        "df['Charges_middle']=(df['MonthlyCharges']>=201)&(df['MonthlyCharges']<721)\n",
        "df['Charges_high']=(df['MonthlyCharges']>=721)&(df['MonthlyCharges']<1090)\n",
        "df['Charges_vip']=(df['MonthlyCharges']>=1090)"
      ]
    },
    {
      "cell_type": "code",
      "execution_count": null,
      "metadata": {},
      "outputs": [],
      "source": [
        "sns.countplot(data=df,x='Charges_low',hue='Churn')\n",
        "sns.countplot(data=df,x='Charges_middle',hue='Churn')\n",
        "sns.countplot(data=df,x='Charges_high',hue='Churn')\n",
        "sns.countplot(data=df,x='Charges_vip',hue='Churn')\n",
        "sns.countplot(data=df.melt(value_vars=['Charges_low', 'Charges_middle', 'Charges_high', 'Charges_vip'], id_vars='MonthlyCharges'))"
      ]
    },
    {
      "cell_type": "code",
      "execution_count": null,
      "metadata": {},
      "outputs": [],
      "source": [
        "\n",
        "# 갯수 단위로 구간 나누기\n",
        "num_bins = 4\n",
        "for col in :\n",
        "    bins, bin_edges = pd.qcut(df[col], q=num_bins, retbins=True, duplicates='drop')\n",
        "    df[f'{col}_charges'] = pd.cut(df[col], bins=bin_edges)\n",
        "\n",
        "# 각 구간의 데이터 갯수 출력\n",
        "for col in df.columns:\n",
        "    if '_bin' in col:\n",
        "        print(f\"Data counts for {col}:\")\n",
        "        print(df[col].value_counts())\n",
        "        print()"
      ]
    },
    {
      "cell_type": "markdown",
      "metadata": {},
      "source": [
        "## 미션 2) - One-Hot_Encoding 하기"
      ]
    },
    {
      "cell_type": "code",
      "execution_count": null,
      "metadata": {},
      "outputs": [],
      "source": [
        "sns.barplot(x=model.feature_importances_,y=features)"
      ]
    },
    {
      "cell_type": "code",
      "execution_count": null,
      "metadata": {},
      "outputs": [],
      "source": [
        "# 여기에 one-hot-encoding 을 구현해 주세요.\n",
        "\n",
        "df['TotalCharges'].describe()"
      ]
    },
    {
      "cell_type": "code",
      "execution_count": null,
      "metadata": {},
      "outputs": [],
      "source": [
        "df['TotalCharges_low']=df['TotalCharges']<1380\n",
        "df['TotalCharges_middle']=(df['TotalCharges']>=1380)&(df['TotalCharges']<3064)\n",
        "df['TotalCharges_high']=(df['TotalCharges']>=3064)&(df['TotalCharges']<4782)\n",
        "df['TotalCharges_vip']=(df['TotalCharges']>=4782)"
      ]
    },
    {
      "cell_type": "code",
      "execution_count": null,
      "metadata": {},
      "outputs": [],
      "source": [
        "df['tenure'].describe()"
      ]
    },
    {
      "cell_type": "code",
      "execution_count": null,
      "metadata": {},
      "outputs": [],
      "source": [
        "def quarter_division(df,feature_name,range1,range2,range3):\n",
        "  df[f'{feature_name}_low']=df[f'{feature_name}']<range1\n",
        "  df[f'{feature_name}_middle']=(df[f'{feature_name}']>=range1)&(df[f'{feature_name}']<range2)\n",
        "  df[f'{feature_name}_high']=(df[f'{feature_name}']>=range2)&(df[f'{feature_name}']<range3)\n",
        "  df[f'{feature_name}_vip']=(df[f'{feature_name}']>=range3)\n",
        "  return df"
      ]
    },
    {
      "cell_type": "code",
      "execution_count": null,
      "metadata": {},
      "outputs": [],
      "source": [
        "quarter_division(df,'tenure',8,28,54)"
      ]
    },
    {
      "cell_type": "code",
      "execution_count": null,
      "metadata": {},
      "outputs": [],
      "source": [
        "df['TotalCharges'].describe()"
      ]
    },
    {
      "cell_type": "code",
      "execution_count": null,
      "metadata": {},
      "outputs": [],
      "source": [
        "quarter_division(df,'TotalCharges',1380,3064,4782)"
      ]
    },
    {
      "cell_type": "markdown",
      "metadata": {},
      "source": [
        "## 미션 3) 여러 피처 엔지니어링 기법을 적용하고 통신사 고객 이탈여부에 대한 모델의 성능을 Accuracy로 평가해 주세요."
      ]
    },
    {
      "cell_type": "code",
      "execution_count": null,
      "metadata": {},
      "outputs": [],
      "source": [
        "split_count=int(df.shape[0]*0.8)\n",
        "train=df[:split_count].copy()\n",
        "test=df[split_count:].copy()\n",
        "features=train.columns.tolist()"
      ]
    },
    {
      "cell_type": "code",
      "execution_count": null,
      "metadata": {},
      "outputs": [],
      "source": [
        "features.remove(\"Churn\")"
      ]
    },
    {
      "cell_type": "code",
      "execution_count": null,
      "metadata": {},
      "outputs": [],
      "source": [
        "features.remove('MonthlyCharges')\n",
        "features.remove('tenure')\n",
        "features.remove('TotalCharges')"
      ]
    },
    {
      "cell_type": "code",
      "execution_count": null,
      "metadata": {},
      "outputs": [],
      "source": [
        "features"
      ]
    },
    {
      "cell_type": "code",
      "execution_count": null,
      "metadata": {},
      "outputs": [],
      "source": [
        "label_name=\"Churn\"\n",
        "x_test=test[features]\n",
        "y_test=test[label_name]"
      ]
    },
    {
      "cell_type": "code",
      "execution_count": null,
      "metadata": {},
      "outputs": [],
      "source": [
        "from sklearn.tree import DecisionTreeClassifier\n",
        "model=DecisionTreeClassifier(random_state=42)"
      ]
    },
    {
      "cell_type": "code",
      "execution_count": null,
      "metadata": {},
      "outputs": [],
      "source": [
        "x_train=train[features]\n",
        "y_train=train[label_name]\n",
        "print(y_train.shape)\n",
        "model.fit(x_train,y_train)"
      ]
    },
    {
      "cell_type": "code",
      "execution_count": null,
      "metadata": {},
      "outputs": [],
      "source": [
        "model.score(x_test,y_test) #디폴트 0.74 MonthlyCharges 수치>범주0.735"
      ]
    },
    {
      "cell_type": "code",
      "execution_count": null,
      "metadata": {},
      "outputs": [],
      "source": [
        "sns.barplot(x=model.feature_importances_,y=features)"
      ]
    },
    {
      "cell_type": "code",
      "execution_count": null,
      "metadata": {},
      "outputs": [],
      "source": [
        "sns.distplot(df['Contract'])"
      ]
    },
    {
      "cell_type": "code",
      "execution_count": null,
      "metadata": {},
      "outputs": [],
      "source": [
        "df['Contract_log']=np.log(df['Contract']+1)\n",
        "sns.distplot(df['Contract_log'])"
      ]
    },
    {
      "cell_type": "code",
      "execution_count": null,
      "metadata": {},
      "outputs": [],
      "source": [
        "df['Contract'].describe()"
      ]
    },
    {
      "cell_type": "code",
      "execution_count": null,
      "metadata": {},
      "outputs": [],
      "source": [
        "g=sns.PairGrid(df,hue='Churn')\n",
        "g.map(plt.scatter)"
      ]
    },
    {
      "cell_type": "code",
      "execution_count": null,
      "metadata": {},
      "outputs": [],
      "source": [
        "MonthlyCharge_group=df[['Charges_low','Charges_middle','Charges_high',\"Charges_vip\"]]"
      ]
    },
    {
      "cell_type": "code",
      "execution_count": null,
      "metadata": {},
      "outputs": [],
      "source": [
        "sns.countplot(data=MonthlyCharge_group)"
      ]
    },
    {
      "cell_type": "code",
      "execution_count": null,
      "metadata": {},
      "outputs": [],
      "source": [
        "import pandas as pd\n",
        "import seaborn as sns\n",
        "import matplotlib.pyplot as plt\n",
        "\n",
        "# 예제 데이터프레임 생성\n",
        "# df = pd.DataFrame(...)  # 실제 데이터프레임이 있다면 이 부분을 사용하세요.\n",
        "\n",
        "# 새로운 컬럼 생성\n",
        "df['Charges_low'] = df['MonthlyCharges'] < 201\n",
        "df['Charges_middle'] = (df['MonthlyCharges'] >= 201) & (df['MonthlyCharges'] < 721)\n",
        "df['Charges_high'] = (df['MonthlyCharges'] >= 721) & (df['MonthlyCharges'] < 1090)\n",
        "df['Charges_vip'] = df['MonthlyCharges'] >= 1090\n",
        "\n",
        "df['MonthlyCharge_group']=df[['Charges_low','Charges_middle','Charges_high',\"Charges_vip\"]]"
      ]
    },
    {
      "cell_type": "code",
      "execution_count": null,
      "metadata": {},
      "outputs": [],
      "source": [
        "sns.lmplot(data=df,x='tenure',y='MonthlyCharges',hue='Churn')"
      ]
    },
    {
      "cell_type": "markdown",
      "metadata": {},
      "source": [
        "----"
      ]
    },
    {
      "cell_type": "markdown",
      "metadata": {},
      "source": [
        "# 📌 문제풀이 3️⃣"
      ]
    },
    {
      "cell_type": "code",
      "execution_count": null,
      "metadata": {},
      "outputs": [],
      "source": [
        "import pandas as pd\n",
        "import numpy as np\n",
        "import seaborn as sns\n",
        "import matplotlib.pyplot as plt"
      ]
    },
    {
      "cell_type": "code",
      "execution_count": null,
      "metadata": {},
      "outputs": [],
      "source": [
        "# 미션 수행을 위해 데이터셋을 로드합니다.\n",
        "df = pd.read_csv(\"https://bit.ly/telco-csv\", index_col=\"customerID\")\n",
        "df.shape"
      ]
    },
    {
      "cell_type": "code",
      "execution_count": null,
      "metadata": {},
      "outputs": [],
      "source": [
        "df.head()"
      ]
    },
    {
      "cell_type": "code",
      "execution_count": null,
      "metadata": {},
      "outputs": [],
      "source": [
        "# TotalCharges 가 수치 타입이 아니기 때문에 수치 연산을 위해 숫자 형태로 변경합니다.\n",
        "df[\"TotalCharges\"] = pd.to_numeric(df[\"TotalCharges\"], errors=\"coerce\")"
      ]
    },
    {
      "cell_type": "code",
      "execution_count": null,
      "metadata": {},
      "outputs": [],
      "source": [
        "df = df.dropna()"
      ]
    },
    {
      "cell_type": "markdown",
      "metadata": {},
      "source": [
        "## 미션 1) - 수치형 변수를 범주형 변수로 만들기"
      ]
    },
    {
      "cell_type": "code",
      "execution_count": null,
      "metadata": {},
      "outputs": [],
      "source": [
        "df[\"monthlycharges_group\"] = pd.cut(df[\"MonthlyCharges\"], bins=[0, 30, 70, 99, float(\"inf\")], labels=[\"0-30\", \"30-70\", \"70-99\", \"99Plus\"])\n",
        "df[[\"MonthlyCharges\", \"monthlycharges_group\"]].head()"
      ]
    },
    {
      "cell_type": "code",
      "execution_count": null,
      "metadata": {},
      "outputs": [],
      "source": [
        "# 여기에 구간화 전의 수치 변수에 대한 히스토그램과 구간화 이후 범주로 변환해준 변수에 대한 countplot을 시각화 해주세요.\n",
        "\n",
        "sns.countplot(data=df, x=\"MonthlyCharges\")"
      ]
    },
    {
      "cell_type": "code",
      "execution_count": null,
      "metadata": {},
      "outputs": [],
      "source": [
        "sns.countplot(data=df, x=\"monthlycharges_group\")"
      ]
    },
    {
      "cell_type": "markdown",
      "metadata": {},
      "source": [
        "## 미션 2) - One-Hot_Encoding 하기"
      ]
    },
    {
      "cell_type": "code",
      "execution_count": null,
      "metadata": {},
      "outputs": [],
      "source": []
    },
    {
      "cell_type": "markdown",
      "metadata": {},
      "source": [
        "## 미션 3) 여러 피처 엔지니어링 기법을 적용하고 통신사 고객 이탈여부에 대한 모델의 성능을 Accuracy로 평가해 주세요."
      ]
    },
    {
      "cell_type": "code",
      "execution_count": null,
      "metadata": {},
      "outputs": [],
      "source": []
    },
    {
      "cell_type": "markdown",
      "metadata": {},
      "source": [
        "----"
      ]
    },
    {
      "cell_type": "markdown",
      "metadata": {},
      "source": [
        "# 📌 문제풀이 4️⃣"
      ]
    },
    {
      "cell_type": "code",
      "execution_count": null,
      "metadata": {},
      "outputs": [],
      "source": [
        "# 미션 수행을 위해 데이터셋을 로드합니다.\n",
        "df = pd.read_csv(\"https://bit.ly/telco-csv\", index_col=False)\n",
        "df.shape"
      ]
    },
    {
      "cell_type": "code",
      "execution_count": null,
      "metadata": {},
      "outputs": [],
      "source": [
        "df.head()"
      ]
    },
    {
      "cell_type": "code",
      "execution_count": null,
      "metadata": {},
      "outputs": [],
      "source": [
        "# TotalCharges 가 수치 타입이 아니기 때문에 수치 연산을 위해 숫자 형태로 변경합니다.\n",
        "df[\"TotalCharges\"] = pd.to_numeric(df[\"TotalCharges\"], errors=\"coerce\")"
      ]
    },
    {
      "cell_type": "code",
      "execution_count": null,
      "metadata": {},
      "outputs": [],
      "source": [
        "df = df.dropna()"
      ]
    },
    {
      "cell_type": "code",
      "execution_count": null,
      "metadata": {},
      "outputs": [],
      "source": [
        "df.shape"
      ]
    },
    {
      "cell_type": "markdown",
      "metadata": {},
      "source": [
        "## 미션 1) - 수치형 변수를 범주형 변수로 만들기"
      ]
    },
    {
      "cell_type": "code",
      "execution_count": null,
      "metadata": {},
      "outputs": [],
      "source": [
        "df[\"MonthlyCharges\"].describe()"
      ]
    },
    {
      "cell_type": "code",
      "execution_count": null,
      "metadata": {},
      "outputs": [],
      "source": [
        "# 월별 지불 금액을 구간별로 범주화\n",
        "def make_group(x):\n",
        "    if x <= 30:\n",
        "        return \"0-30\"\n",
        "    elif (x > 30) & (x <= 70):\n",
        "        return \"30-70\"\n",
        "    elif (x > 70) & (x <= 99):\n",
        "        return \"70-99\"\n",
        "    else:\n",
        "        return \"99-\"\n",
        "\n",
        "df[\"monthlycharges_group\"] = df[\"MonthlyCharges\"].apply(lambda x: make_group(x))\n",
        "df[[\"MonthlyCharges\", \"monthlycharges_group\"]].head()"
      ]
    },
    {
      "cell_type": "code",
      "execution_count": null,
      "metadata": {},
      "outputs": [],
      "source": [
        "# 여기에 구간화 전의 수치 변수에 대한 히스토그램과 구간화 이후 범주로 변환해준 변수에 대한 countplot을 시각화 해주세요.\n",
        "\n",
        "fig, axes = plt.subplots(nrows=1, ncols=2, figsize=(12, 5))\n",
        "\n",
        "# 범주화 하기 전, 히스토그램\n",
        "axes[0].set_title(\"Histogram of MonthlyCharges before Categorization\")\n",
        "axes[0].hist(df[\"MonthlyCharges\"])\n",
        "axes[0].grid()\n",
        "\n",
        "# 범주화 한 후, 카운트 플롯\n",
        "axes[1].set_title(\"Countplot of MonthlyCharges after Categorization\")\n",
        "sns.countplot(x=df[\"monthlycharges_group\"], ax=axes[1])\n",
        "\n",
        "plt.tight_layout()\n",
        "\n",
        "plt.show()"
      ]
    },
    {
      "cell_type": "markdown",
      "metadata": {},
      "source": [
        "## 미션 2) - One-Hot_Encoding 하기"
      ]
    },
    {
      "cell_type": "code",
      "execution_count": null,
      "metadata": {},
      "outputs": [],
      "source": [
        "# 여기에 one-hot-encoding 을 구현해 주세요.\n",
        "\n",
        "# 원핫 인코더 함수 정의\n",
        "def categorized(x):\n",
        "    if (x == \"Yes\") | (x == \"Male\"):\n",
        "        return 1\n",
        "    elif (x == \"No\") | (x == \"Female\"):\n",
        "        return 0\n",
        "    \n",
        "df[\"categorized_gender\"] = df['gender'].apply(categorized)\n",
        "df[\"categorized_SeniorCitizen\"] = df['SeniorCitizen'].apply(categorized)\n",
        "df[\"categorized_Partner\"] = df['Partner'].apply(categorized)\n",
        "df[\"categorized_Dependents\"] = df['Dependents'].apply(categorized)\n",
        "df[\"categorized_PhoneService\"] = df['PhoneService'].apply(categorized)\n",
        "df[\"categorized_PaperlessBilling\"] = df['PaperlessBilling'].apply(categorized)\n",
        "df[\"categorized_MultipleLines\"]\n",
        "\n",
        "\n",
        "df[\"categorized_Churn\"] = df[\"Churn\"].apply(categorized)\n",
        "\n",
        "df"
      ]
    },
    {
      "cell_type": "code",
      "execution_count": null,
      "metadata": {},
      "outputs": [],
      "source": [
        "# 원핫인코더 객체 사용하려고 했으나, 실패...\n",
        "\n",
        "# 범주화 컬럼만 뽑기\n",
        "# encode_columns = [\"gender\", \"Partner\", \"Dependents\", \"PhoneService\", \"PaperlessBilling\"]\n",
        "\n",
        "# from sklearn.preprocessing import OneHotEncoder\n",
        "\n",
        "# encoder = OneHotEncoder()\n",
        "# encoder.fit_transform(df[encode_columns])"
      ]
    },
    {
      "cell_type": "markdown",
      "metadata": {},
      "source": [
        "## 미션 3) 여러 피처 엔지니어링 기법을 적용하고 통신사 고객 이탈여부에 대한 모델의 성능을 Accuracy로 평가해 주세요."
      ]
    },
    {
      "cell_type": "code",
      "execution_count": null,
      "metadata": {},
      "outputs": [],
      "source": [
        "df.info()"
      ]
    },
    {
      "cell_type": "code",
      "execution_count": null,
      "metadata": {},
      "outputs": [],
      "source": [
        "use_columns = [\"SeniorCitizen\",\"tenure\",\"MonthlyCharges\",\"TotalCharges\",\n",
        "               \"categorized_gender\",\"categorized_Partner\",\"categorized_Dependents\",\n",
        "               \"categorized_PhoneService\",\"categorized_PaperlessBilling\"]"
      ]
    },
    {
      "cell_type": "code",
      "execution_count": null,
      "metadata": {},
      "outputs": [],
      "source": [
        "X = df[use_columns]\n",
        "y = df[\"Churn\"]"
      ]
    },
    {
      "cell_type": "code",
      "execution_count": null,
      "metadata": {},
      "outputs": [],
      "source": [
        "from sklearn.model_selection import train_test_split\n",
        "\n",
        "X_train, X_test, y_train, y_test = train_test_split(X, y, \n",
        "                                                    test_size=0.2, \n",
        "                                                    stratify=y, \n",
        "                                                    random_state=42)"
      ]
    },
    {
      "cell_type": "code",
      "execution_count": null,
      "metadata": {},
      "outputs": [],
      "source": [
        "# 여기에 모델을 구현해 주세요.\n",
        "from sklearn.tree import DecisionTreeClassifier\n",
        "model = DecisionTreeClassifier()\n",
        "model"
      ]
    },
    {
      "cell_type": "code",
      "execution_count": null,
      "metadata": {},
      "outputs": [],
      "source": [
        "# 위에서 만든 모델로 학습과 예측을 진행해 주세요.\n",
        "model.fit(X_train, y_train)"
      ]
    },
    {
      "cell_type": "code",
      "execution_count": null,
      "metadata": {},
      "outputs": [],
      "source": [
        "# 학습 결과와 원래 정답과의 Accuracy(정확도)를 구해주세요.\n",
        "y_pred = model.predict(X_test)\n",
        "y_pred"
      ]
    },
    {
      "cell_type": "code",
      "execution_count": null,
      "metadata": {},
      "outputs": [],
      "source": [
        "from sklearn.metrics import accuracy_score\n",
        "print(f\"accuracy = {round(accuracy_score(y_test, y_pred) * 100, 2)}\")"
      ]
    },
    {
      "cell_type": "markdown",
      "metadata": {},
      "source": [
        "----"
      ]
    },
    {
      "cell_type": "markdown",
      "metadata": {},
      "source": [
        "# 📌 문제풀이 5️⃣"
      ]
    },
    {
      "cell_type": "markdown",
      "metadata": {},
      "source": [
        "## 미션 1) - 수치형 변수를 범주형 변수로 만들기"
      ]
    },
    {
      "cell_type": "markdown",
      "metadata": {},
      "source": [
        "## 미션 2) - One-Hot_Encoding 하기"
      ]
    },
    {
      "cell_type": "markdown",
      "metadata": {},
      "source": [
        "## 미션 3) 여러 피처 엔지니어링 기법을 적용하고 통신사 고객 이탈여부에 대한 모델의 성능을 Accuracy로 평가해 주세요."
      ]
    },
    {
      "cell_type": "markdown",
      "metadata": {},
      "source": [
        "-----"
      ]
    },
    {
      "cell_type": "markdown",
      "metadata": {},
      "source": [
        "# 📌 문제풀이 6️⃣"
      ]
    },
    {
      "cell_type": "markdown",
      "metadata": {},
      "source": [
        "## 미션 1) - 수치형 변수를 범주형 변수로 만들기"
      ]
    },
    {
      "cell_type": "markdown",
      "metadata": {},
      "source": [
        "## 미션 2) - One-Hot_Encoding 하기"
      ]
    },
    {
      "cell_type": "markdown",
      "metadata": {},
      "source": [
        "## 미션 3) 여러 피처 엔지니어링 기법을 적용하고 통신사 고객 이탈여부에 대한 모델의 성능을 Accuracy로 평가해 주세요."
      ]
    }
  ],
  "metadata": {
    "colab": {
      "provenance": []
    },
    "kernelspec": {
      "display_name": "Python 3 (ipykernel)",
      "language": "python",
      "name": "python3"
    },
    "language_info": {
      "codemirror_mode": {
        "name": "ipython",
        "version": 3
      },
      "file_extension": ".py",
      "mimetype": "text/x-python",
      "name": "python",
      "nbconvert_exporter": "python",
      "pygments_lexer": "ipython3",
      "version": "3.11.4"
    },
    "toc": {
      "base_numbering": 1,
      "nav_menu": {},
      "number_sections": false,
      "sideBar": false,
      "skip_h1_title": false,
      "title_cell": "Table of Contents",
      "title_sidebar": "Contents",
      "toc_cell": false,
      "toc_position": {},
      "toc_section_display": true,
      "toc_window_display": false
    },
    "varInspector": {
      "cols": {
        "lenName": 16,
        "lenType": 16,
        "lenVar": 40
      },
      "kernels_config": {
        "python": {
          "delete_cmd_postfix": "",
          "delete_cmd_prefix": "del ",
          "library": "var_list.py",
          "varRefreshCmd": "print(var_dic_list())"
        },
        "r": {
          "delete_cmd_postfix": ") ",
          "delete_cmd_prefix": "rm(",
          "library": "var_list.r",
          "varRefreshCmd": "cat(var_dic_list()) "
        }
      },
      "types_to_exclude": [
        "module",
        "function",
        "builtin_function_or_method",
        "instance",
        "_Feature"
      ],
      "window_display": false
    }
  },
  "nbformat": 4,
  "nbformat_minor": 0
}
