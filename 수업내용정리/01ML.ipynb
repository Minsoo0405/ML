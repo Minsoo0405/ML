{
 "cells": [
  {
   "attachments": {},
   "cell_type": "markdown",
   "metadata": {},
   "source": [
    "## 인공지능\n",
    "\n",
    "1. 지금부터라도 통계학을 봐야한다.\n",
    "\n",
    "    - 정의 : 인공지능의 기본은 통계학과 확률론에 근거하여 판정과 분류를 하는\n",
    "    - 특징: \n",
    "\n",
    "2. 인공지능 > 머신러닝 > 딥러닝\n",
    "    - 인공지능\n",
    "    - 머신러닝 : 주어진 데이터를 기반으로 학습하여 패턴을 파악하고 이를 이용해 예측하거나 분류 수행하는 것\n",
    "    - 딥러닝: 머신러닝 알고리즘 중에 인공 신경망 구조를 기반으로 학습하는 방법\n",
    "\n",
    "3. 의의\n",
    "    - 머신러닝은 \n",
    "    - 규칙을 찾을 수 있는, 만들 수 있는 알고리즘을 만드는 것\n",
    "    - 데이터로부터 학습하도록 컴퓨터를 프로그래밍하는 분야\n",
    "    - 과거 경험에서 학습을 통해 얻은 지식을 미래의 결정에 이용하는 컴퓨터 과학의 한 분야\n",
    "    - 기존의 통계학 정방형 테이블형 숫자에 강함. 최근은 이미지, 텍스트 등"
   ]
  },
  {
   "attachments": {},
   "cell_type": "markdown",
   "metadata": {},
   "source": [
    "## 머신러닝 학습방법\n",
    "\n",
    "1. 머신러닝 구분\n",
    "    1.1. 학습의 의미\n",
    "        : 선을 긋는 것, 설명할 수 있는 선을 긋는 것\n",
    "        - 기존의 학습데이터에 나타나지 않은 상황까지도 일반화하여 처리할 수 있게 됨.\n",
    "    1.2. 지도 학습(Supervised Learning)\n",
    "        - 정답(레이블, label)에 근거한 학습 데이터에서 모델을 학습하여 데이터를 설멍혀는 하나의 함수(가설)를 유추하고 학습하지않은 미래 데이터에 대해 예측을 만드는 머신러닝의 한 방법\n",
    "        -\n",
    "        - 이미 정답이 있는 데이터를 컴퓨터에 학습시키는 방법\n",
    "        - 학습데이터가 입력, 출력(대상), 벡터 쌍으로 제공됨.\n",
    "        - 유추된 함수 중 연속적인 값을 출력하는 것을 회귀 분석이라고 하고, 이산적인 값을 출력하는 것을 분류(Classification)라고 함.\n",
    "        - ex) 집값에 영향을 끼치는 요소\n",
    "            지하철역 거리, 학교 수, 연식, 평수\n",
    "            h1(1000, 2, 20, 20) -> 3억\n",
    "             : 독립변수,속성, feature   : 종속변수, label,종속값, target\n",
    "        1.2.1 지도학습 종류\n",
    "            - 분류: 어떤 카테고리(종류)중 하나를 예측함.\n",
    "            - 회귀 : 연속적인 값을 예측함 ex) 주택의 면적을 고려하여 주택 가격을 예측\n",
    "        1.2.2. 지도학습의 특징\n",
    "            - 데이터에 특성(맛, 모양)과 레이블(과일이름)이 모두 포함되어 있다.\n",
    "        1.2.3. 지도학습 알고리즘 종류\n",
    "            - k-최근접 이웃\n",
    "            - 선형 회귀\n",
    "            - 로지스틱 회귀\n",
    "            - 서포트 벡터머신\n",
    "            - 결정 트리와 랜덤 포레스트\n",
    "            - 신경망\n",
    "                -> 데이터나 목적에 따라 \n",
    "\n",
    "    1.3. 비지도 학습\n",
    "        : 레이블의 갯수가 정해져 있지않음\n",
    "        1.3.1. 비지도학습 기대효과\n",
    "        1.3.2. 비지도 학습 종류 \n",
    "            - 군집화\n",
    "            - 시각화와 차원축소: 하나의 관측 샘플에 있는 많은 특성(고차원)의 수를 줄임(저차원)으로써 알고리즘의 성능을 개선하거나 시각화에 도움을 줌.\n",
    "            - 연관 규칙 학습\n",
    "\n",
    "    1.4. 관련 용어 및 배경 지식\n",
    "        1.4.1. 관련 용어\n",
    "            - 모델\n",
    "            - 파라미터\n",
    "            - 하이퍼파리미터 : 주어진 데이터로부터 구하는 것이 아니라, 외부의 사용자(개발자)가 직접 인력함.\n",
    "            - 최적의 파라미터를 구하고, 하이퍼 파라미터 튜닝을 통해 모델의 성능을 높임.\n",
    "        1.4.2. 배경 지식\n",
    "            - 통계학\n",
    "            - 선형 대수\n",
    "            - 벡터 \n",
    "            - 미분\n",
    "\n",
    "    1.5. 머신러닝 시스템 구축 과정\n",
    "        - 문제 정의 : 목적 정의\n",
    "        - 데이터 수집 : 원시 데이터 수집 (웹크롤링, 인하우스 데이터, ...)\n",
    "        - 데이터 이해\n",
    "        - 데이터 준비 : 데이터 정제, 필요 데이터 추출 및 추가, 머신러닝 필요데이터를 준비\n",
    "        - 모델링 : 다양한 모델링 기법 적용 및 선택, 모델 훈련, 모델 상세 조정, 튜닝\n",
    "        - 모델링 평가: 모델링 결과 평가, 솔루션 제시\n",
    "        1.5.2 머신러닝 전단계: 탐색적 데이터 분석\n",
    "            -\n",
    "        1.5.3 머신러닝 프로젝트: 베이스라인 모델\n",
    "            - 특성 선택 및 스케일(=범위) 조정\n",
    "\n",
    "    1.6. 머신 러닝 개발환경\n",
    "        : csikit-learn, numpy, pandas, scipy(지구환경 계열), matplotlib, seaborn, ...\n",
    "        - numpy : 동일한 자료형이 들어가야함. -> 벡터연산이 쉬움. 메모리 저장이 연속적으로 가능해서 찾기도 쉽고, 연산도 빠르다. \n",
    "        - pandas : 다양한 자료형이 들어갈 수 있음 -> \n",
    "        \n",
    "    1.7. Scikit-Learn 기초\n",
    "        : 머신러닝 알고리즘을 구현한 오픈소스 라이브러리 중 가장 유명한 라이브러리 중 하나\n",
    "        - 데이터 수집 및 탐색\n",
    "        - 데이터 전처리\n",
    "        - 훈련데이터 / 테스트 분리\n",
    "        1.7.1. 모듈 소개\n",
    "        1.7.2. 데이터 표현방식\n",
    "            - 특성 행렬(Feature Matrix)\n",
    "                표본(sample)\n",
    "                특성(feature)\n",
    "                학습의 결과를 결정하는데 영향을 미치는 입력 데이터\n",
    "                행의 개수(n_samples), 열의 개수(m_features)\n",
    "                관례적으로 특성 행렬은 X에 저장\n",
    "                2차원의 배열 구조를 사용 : 주로 Numpy 2차원 배열 \n",
    "            - 대상 벡터(Target Vector)\n",
    "                연속적인 수치값, 이산 클래스/레이블을 가짐\n"
   ]
  },
  {
   "cell_type": "code",
   "execution_count": 1,
   "metadata": {},
   "outputs": [
    {
     "name": "stdout",
     "output_type": "stream",
     "text": [
      "Requirement already satisfied: scikit-learn in /Users/kimminsoo/opt/anaconda3/lib/python3.9/site-packages (1.1.1)\n",
      "Requirement already satisfied: scipy>=1.3.2 in /Users/kimminsoo/opt/anaconda3/lib/python3.9/site-packages (from scikit-learn) (1.9.1)\n",
      "Requirement already satisfied: threadpoolctl>=2.0.0 in /Users/kimminsoo/opt/anaconda3/lib/python3.9/site-packages (from scikit-learn) (2.2.0)\n",
      "Requirement already satisfied: numpy>=1.17.3 in /Users/kimminsoo/opt/anaconda3/lib/python3.9/site-packages (from scikit-learn) (1.21.5)\n",
      "Requirement already satisfied: joblib>=1.0.0 in /Users/kimminsoo/opt/anaconda3/lib/python3.9/site-packages (from scikit-learn) (1.1.0)\n",
      "Note: you may need to restart the kernel to use updated packages.\n"
     ]
    }
   ],
   "source": [
    "pip install scikit-learn"
   ]
  },
  {
   "attachments": {},
   "cell_type": "markdown",
   "metadata": {},
   "source": [
    "## 머신러닝: 데이터 분할\n",
    "\n",
    "    1. 사과 50장, 포도 50장에서 20장을 테스트 사이즈로 만들어야함 \n",
    "    2. 컴퓨터는 사과 10장, 포도 10장을 선택하는 방법을 하지를 못함\n",
    "    3. shuffle : 재현을 할 수 있도록 \n",
    "    4. random_state난수시드넘버를 정해야 함."
   ]
  },
  {
   "attachments": {},
   "cell_type": "markdown",
   "metadata": {},
   "source": [
    "## 테스트와 검증\n",
    "\n",
    "    1. 테스트 데이터 세트를 미리분리시켜 놓고 학습이 끝난 모델을 검증\n",
    "        - 일반화 오차(외부 샘플 오차): 시스템이 가지고 있지 않은 외부의 새로운 샘플에 대한 오류\n",
    "        - 테스트 세트에서 모델을 평가함으로써 이 오차에 대한 추정값으로, 이전에 본 적이 없는 새로운 샘플에 모델이 얼마나 잘 작동할지 예측\n",
    "        - 훈련 오차가 낮지만 일반화 오차가 높다면 이는 모델이 훈련 데이터에 과대적합되었다는 뜻 => 테스트 재반복해야함.\n",
    "        - 하이퍼파라미터 튜닝과 모델 선택\n",
    "            1) 홀드아웃 검증: 테스트용 자료를 뺴서 검증할때 사용\n",
    "            2) 교차 검증: 전체 데이터에서 K개 그룹으로 나눈 후, 반복횟수를 정하고 테스트데이터를 각 K개 그룹마다 테스트 모델로 선정하여 반복수대로 테스트를 진행?\n",
    "\n",
    "    2. 머신러닝 도전과제\n",
    "        - \"나쁜 데이터\"\n",
    "        - \"나쁜 알고리즘\"\n",
    "\n",
    "    3. 머신러닝 관련 라이브러리\n",
    "        - 스탯츠모델(Statsmodels)\n",
    "            다양한 통계 검정 및 추정, 회구 분석, 시계열 분석 기능을 제공하는 통계 분석기능 \n",
    "\n",
    "    4. 정리\n",
    "        - 머신러닝 데이터는 행렬 벡터방식이므로 누락데이터를 정리하고 진행해야함. "
   ]
  },
  {
   "attachments": {},
   "cell_type": "markdown",
   "metadata": {},
   "source": [
    "## 데이터 전처리 개요\n",
    "\n",
    "    1. 데이터 전처리 개요\n",
    "        - 결손값: Null, Nan은 허용되지 않음\n",
    "    2. 데이터 인코딩 -> 라벨 인코딩\n",
    "        - 라벨 인코딩(Label Encoding)\n",
    "        - 원-핫 인코딩(One-Hot encoding)"
   ]
  },
  {
   "cell_type": "code",
   "execution_count": 8,
   "metadata": {},
   "outputs": [
    {
     "data": {
      "text/html": [
       "<style>#sk-container-id-1 {color: black;background-color: white;}#sk-container-id-1 pre{padding: 0;}#sk-container-id-1 div.sk-toggleable {background-color: white;}#sk-container-id-1 label.sk-toggleable__label {cursor: pointer;display: block;width: 100%;margin-bottom: 0;padding: 0.3em;box-sizing: border-box;text-align: center;}#sk-container-id-1 label.sk-toggleable__label-arrow:before {content: \"▸\";float: left;margin-right: 0.25em;color: #696969;}#sk-container-id-1 label.sk-toggleable__label-arrow:hover:before {color: black;}#sk-container-id-1 div.sk-estimator:hover label.sk-toggleable__label-arrow:before {color: black;}#sk-container-id-1 div.sk-toggleable__content {max-height: 0;max-width: 0;overflow: hidden;text-align: left;background-color: #f0f8ff;}#sk-container-id-1 div.sk-toggleable__content pre {margin: 0.2em;color: black;border-radius: 0.25em;background-color: #f0f8ff;}#sk-container-id-1 input.sk-toggleable__control:checked~div.sk-toggleable__content {max-height: 200px;max-width: 100%;overflow: auto;}#sk-container-id-1 input.sk-toggleable__control:checked~label.sk-toggleable__label-arrow:before {content: \"▾\";}#sk-container-id-1 div.sk-estimator input.sk-toggleable__control:checked~label.sk-toggleable__label {background-color: #d4ebff;}#sk-container-id-1 div.sk-label input.sk-toggleable__control:checked~label.sk-toggleable__label {background-color: #d4ebff;}#sk-container-id-1 input.sk-hidden--visually {border: 0;clip: rect(1px 1px 1px 1px);clip: rect(1px, 1px, 1px, 1px);height: 1px;margin: -1px;overflow: hidden;padding: 0;position: absolute;width: 1px;}#sk-container-id-1 div.sk-estimator {font-family: monospace;background-color: #f0f8ff;border: 1px dotted black;border-radius: 0.25em;box-sizing: border-box;margin-bottom: 0.5em;}#sk-container-id-1 div.sk-estimator:hover {background-color: #d4ebff;}#sk-container-id-1 div.sk-parallel-item::after {content: \"\";width: 100%;border-bottom: 1px solid gray;flex-grow: 1;}#sk-container-id-1 div.sk-label:hover label.sk-toggleable__label {background-color: #d4ebff;}#sk-container-id-1 div.sk-serial::before {content: \"\";position: absolute;border-left: 1px solid gray;box-sizing: border-box;top: 0;bottom: 0;left: 50%;z-index: 0;}#sk-container-id-1 div.sk-serial {display: flex;flex-direction: column;align-items: center;background-color: white;padding-right: 0.2em;padding-left: 0.2em;position: relative;}#sk-container-id-1 div.sk-item {position: relative;z-index: 1;}#sk-container-id-1 div.sk-parallel {display: flex;align-items: stretch;justify-content: center;background-color: white;position: relative;}#sk-container-id-1 div.sk-item::before, #sk-container-id-1 div.sk-parallel-item::before {content: \"\";position: absolute;border-left: 1px solid gray;box-sizing: border-box;top: 0;bottom: 0;left: 50%;z-index: -1;}#sk-container-id-1 div.sk-parallel-item {display: flex;flex-direction: column;z-index: 1;position: relative;background-color: white;}#sk-container-id-1 div.sk-parallel-item:first-child::after {align-self: flex-end;width: 50%;}#sk-container-id-1 div.sk-parallel-item:last-child::after {align-self: flex-start;width: 50%;}#sk-container-id-1 div.sk-parallel-item:only-child::after {width: 0;}#sk-container-id-1 div.sk-dashed-wrapped {border: 1px dashed gray;margin: 0 0.4em 0.5em 0.4em;box-sizing: border-box;padding-bottom: 0.4em;background-color: white;}#sk-container-id-1 div.sk-label label {font-family: monospace;font-weight: bold;display: inline-block;line-height: 1.2em;}#sk-container-id-1 div.sk-label-container {text-align: center;}#sk-container-id-1 div.sk-container {/* jupyter's `normalize.less` sets `[hidden] { display: none; }` but bootstrap.min.css set `[hidden] { display: none !important; }` so we also need the `!important` here to be able to override the default hidden behavior on the sphinx rendered scikit-learn.org. See: https://github.com/scikit-learn/scikit-learn/issues/21755 */display: inline-block !important;position: relative;}#sk-container-id-1 div.sk-text-repr-fallback {display: none;}</style><div id=\"sk-container-id-1\" class=\"sk-top-container\"><div class=\"sk-text-repr-fallback\"><pre>LabelEncoder()</pre><b>In a Jupyter environment, please rerun this cell to show the HTML representation or trust the notebook. <br />On GitHub, the HTML representation is unable to render, please try loading this page with nbviewer.org.</b></div><div class=\"sk-container\" hidden><div class=\"sk-item\"><div class=\"sk-estimator sk-toggleable\"><input class=\"sk-toggleable__control sk-hidden--visually\" id=\"sk-estimator-id-1\" type=\"checkbox\" checked><label for=\"sk-estimator-id-1\" class=\"sk-toggleable__label sk-toggleable__label-arrow\">LabelEncoder</label><div class=\"sk-toggleable__content\"><pre>LabelEncoder()</pre></div></div></div></div></div>"
      ],
      "text/plain": [
       "LabelEncoder()"
      ]
     },
     "execution_count": 8,
     "metadata": {},
     "output_type": "execute_result"
    }
   ],
   "source": [
    "from sklearn.preprocessing import LabelEncoder\n",
    "\n",
    "items = ['TV', '냉장고', '전자렌지', '컴퓨터', '선풍기', '선풍기', '믹서', '믹서']\n",
    "\n",
    "encoder = LabelEncoder()\n",
    "encoder.fit(items)"
   ]
  },
  {
   "cell_type": "code",
   "execution_count": 9,
   "metadata": {},
   "outputs": [
    {
     "data": {
      "text/plain": [
       "array([0, 1, 4, 5, 3, 3, 2, 2])"
      ]
     },
     "execution_count": 9,
     "metadata": {},
     "output_type": "execute_result"
    }
   ],
   "source": [
    "# ASII코드에서 UNI코드로 변환되면 영어, 한글 각각 abc, 가나다순으로 정렬\n",
    "labels = encoder.transform(items)\n",
    "labels"
   ]
  },
  {
   "cell_type": "code",
   "execution_count": 10,
   "metadata": {},
   "outputs": [
    {
     "data": {
      "text/plain": [
       "array(['TV', '냉장고', '믹서', '선풍기', '전자렌지', '컴퓨터'], dtype='<U4')"
      ]
     },
     "execution_count": 10,
     "metadata": {},
     "output_type": "execute_result"
    }
   ],
   "source": [
    "# 라벨 인코딩 규칙\n",
    "encoder.classes_"
   ]
  },
  {
   "cell_type": "code",
   "execution_count": 12,
   "metadata": {},
   "outputs": [
    {
     "data": {
      "text/plain": [
       "array(['TV', '냉장고', '전자렌지', '컴퓨터', '선풍기', '선풍기', '믹서', '믹서'], dtype='<U4')"
      ]
     },
     "execution_count": 12,
     "metadata": {},
     "output_type": "execute_result"
    }
   ],
   "source": [
    "# 원본 값 확인\n",
    "encoder.inverse_transform(labels)"
   ]
  },
  {
   "cell_type": "code",
   "execution_count": null,
   "metadata": {},
   "outputs": [],
   "source": []
  }
 ],
 "metadata": {
  "kernelspec": {
   "display_name": "base",
   "language": "python",
   "name": "python3"
  },
  "language_info": {
   "codemirror_mode": {
    "name": "ipython",
    "version": 3
   },
   "file_extension": ".py",
   "mimetype": "text/x-python",
   "name": "python",
   "nbconvert_exporter": "python",
   "pygments_lexer": "ipython3",
   "version": "3.9.13"
  },
  "orig_nbformat": 4,
  "vscode": {
   "interpreter": {
    "hash": "29022363fef606f9f23df6f4a22f2b4728bceb42fab3e5e3f1a324182233d5f0"
   }
  }
 },
 "nbformat": 4,
 "nbformat_minor": 2
}
