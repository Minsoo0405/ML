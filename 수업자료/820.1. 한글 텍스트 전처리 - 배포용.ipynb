{
 "cells": [
  {
   "cell_type": "markdown",
   "id": "f4cdea98",
   "metadata": {},
   "source": [
    "# 한글 텍스트 전처리"
   ]
  },
  {
   "cell_type": "code",
   "execution_count": 1,
   "id": "6dbc20d9",
   "metadata": {},
   "outputs": [
    {
     "data": {
      "text/plain": [
       "'0.5.2'"
      ]
     },
     "execution_count": 1,
     "metadata": {},
     "output_type": "execute_result"
    }
   ],
   "source": [
    "import warnings\n",
    "warnings.simplefilter(\"ignore\")\n",
    "\n",
    "import konlpy\n",
    "konlpy.__version__"
   ]
  },
  {
   "cell_type": "markdown",
   "id": "1f1645ea",
   "metadata": {},
   "source": [
    "### 필요한 모듈 임포트"
   ]
  },
  {
   "cell_type": "code",
   "execution_count": null,
   "id": "8c303030",
   "metadata": {},
   "outputs": [],
   "source": []
  },
  {
   "cell_type": "markdown",
   "id": "da1f31b8",
   "metadata": {},
   "source": [
    "###  한국어 말뭉치"
   ]
  },
  {
   "cell_type": "code",
   "execution_count": null,
   "id": "24a39fb6",
   "metadata": {},
   "outputs": [],
   "source": []
  },
  {
   "cell_type": "code",
   "execution_count": null,
   "id": "5c52c882",
   "metadata": {},
   "outputs": [],
   "source": []
  },
  {
   "cell_type": "code",
   "execution_count": null,
   "id": "70c1c20f",
   "metadata": {},
   "outputs": [],
   "source": []
  },
  {
   "cell_type": "markdown",
   "id": "c27fa813",
   "metadata": {},
   "source": [
    "###  문장 분리"
   ]
  },
  {
   "cell_type": "code",
   "execution_count": null,
   "id": "01a459bf",
   "metadata": {},
   "outputs": [],
   "source": []
  },
  {
   "cell_type": "code",
   "execution_count": null,
   "id": "0f336769",
   "metadata": {},
   "outputs": [],
   "source": []
  },
  {
   "cell_type": "markdown",
   "id": "ca42ba7e",
   "metadata": {},
   "source": [
    "### 형태소 분석(tagging)\n",
    "- POS: Part of Speech, 품사\n",
    "- 형태소: 의미를 갖는 최소단위\n",
    "- 텍스트를 형태소 단위로 쪼개어 품사를 태깅한 후, 원하는 품사만을 선택하기 위해 수행"
   ]
  },
  {
   "cell_type": "raw",
   "id": "c97701ed",
   "metadata": {},
   "source": [
    "KoNLPy는 다음과 같은 다양한 형태소 분석, 태깅 라이브러리를 파이썬에서 쉽게 사용할 수 있도록 모아놓았다.\n",
    "\n",
    "Hannanum: 한나눔. KAIST Semantic Web Research Center 개발.\n",
    "\n",
    "http://semanticweb.kaist.ac.kr/hannanum/\n",
    "\n",
    "Kkma: 꼬꼬마. 서울대학교 IDS(Intelligent Data Systems) 연구실 개발.\n",
    "\n",
    "http://kkma.snu.ac.kr/\n",
    "\n",
    "Komoran: 코모란. Shineware에서 개발.\n",
    "\n",
    "https://github.com/shin285/KOMORAN\n",
    "\n",
    "Mecab: 메카브. 일본어용 형태소 분석기를 한국어를 사용할 수 있도록 수정.\n",
    "\n",
    "https://bitbucket.org/eunjeon/mecab-ko\n",
    "\n",
    "Open Korean Text: 오픈 소스 한국어 분석기. 과거 트위터 형태소 분석기.\n",
    "\n",
    "https://github.com/open-korean-text/open-korean-text"
   ]
  },
  {
   "cell_type": "code",
   "execution_count": null,
   "id": "5abb52bc",
   "metadata": {},
   "outputs": [],
   "source": [
    "## 형태소 분석기 비교"
   ]
  },
  {
   "cell_type": "code",
   "execution_count": null,
   "id": "77f5febd",
   "metadata": {},
   "outputs": [],
   "source": []
  },
  {
   "cell_type": "markdown",
   "id": "1029f734",
   "metadata": {},
   "source": [
    "이 클래스들은 다음과 같은 메서드를 공통적으로 제공한다.\n",
    "\n",
    "nouns : 명사 추출\n",
    "\n",
    "morphs : 형태소 추출\n",
    "\n",
    "pos : 품사 부착"
   ]
  },
  {
   "cell_type": "code",
   "execution_count": null,
   "id": "e142ae5e",
   "metadata": {},
   "outputs": [],
   "source": []
  },
  {
   "cell_type": "code",
   "execution_count": null,
   "id": "b9cc36f6",
   "metadata": {},
   "outputs": [],
   "source": [
    "# morphs() method는 형태소 단위로 텍스트를 분리해줌\n",
    "# komoran은 빈줄이 있으면 에러가 남\n"
   ]
  },
  {
   "cell_type": "code",
   "execution_count": null,
   "id": "57d18c80",
   "metadata": {},
   "outputs": [],
   "source": [
    "# pos() method는 형태소 분리후, 형태소에 품사를 태그해줌\n",
    "\n"
   ]
  },
  {
   "cell_type": "markdown",
   "id": "d62a8974",
   "metadata": {},
   "source": [
    "#### 1. 명사 추출(특정 품사 추출) : 명사만 추출하려는 경우"
   ]
  },
  {
   "cell_type": "code",
   "execution_count": null,
   "id": "39759fd6",
   "metadata": {},
   "outputs": [],
   "source": []
  },
  {
   "cell_type": "code",
   "execution_count": null,
   "id": "f55e3448",
   "metadata": {},
   "outputs": [],
   "source": []
  },
  {
   "cell_type": "code",
   "execution_count": null,
   "id": "eac67682",
   "metadata": {},
   "outputs": [],
   "source": [
    "### 특정 품사(명사, 동사, 형용사)만 추출하려는 경우"
   ]
  },
  {
   "cell_type": "code",
   "execution_count": null,
   "id": "ebd928ea",
   "metadata": {},
   "outputs": [],
   "source": [
    "# tagset 확인 (Komoran 형태소 분석기 품사표:  https://docs.komoran.kr/firststep/postypes.html)\n",
    "print(komoran.tagset)"
   ]
  },
  {
   "cell_type": "code",
   "execution_count": null,
   "id": "00727f93",
   "metadata": {},
   "outputs": [],
   "source": [
    "import re \n",
    "# 품사 필터링 예시\n",
    "def pos_filter(pos_pattern, tagged_sentece):\n",
    "    "
   ]
  },
  {
   "cell_type": "markdown",
   "id": "a7774b2c",
   "metadata": {},
   "source": [
    "#### 2. 형태소 추출\n",
    "- 명사 뿐 아니라 모든 품사의 형태소를 알아내려면 morphs라는 명령을 사용한다."
   ]
  },
  {
   "cell_type": "code",
   "execution_count": null,
   "id": "a7e2e2b9",
   "metadata": {},
   "outputs": [],
   "source": []
  },
  {
   "cell_type": "code",
   "execution_count": null,
   "id": "a35acfb8",
   "metadata": {},
   "outputs": [],
   "source": []
  },
  {
   "cell_type": "markdown",
   "id": "9a56a8e6",
   "metadata": {},
   "source": [
    "#### 3. 품사 부착\n",
    "- pos 명령을 사용하면 품사 부착을 한다.\n",
    "\n",
    "- 한국어 품사 태그세트로는 “21세기 세종계획 품사 태그세트”를 비롯하여 다양한 품사 태그세트가 있다. 형태소 분석기마다 사용하는 품사 태그가 다르므로 각 형태소 분석기에 대한 문서를 참조한다.\n",
    "- 품사 태그 세트 확인: tagset 속성"
   ]
  },
  {
   "cell_type": "code",
   "execution_count": null,
   "id": "5e7b8d01",
   "metadata": {},
   "outputs": [],
   "source": []
  },
  {
   "cell_type": "code",
   "execution_count": null,
   "id": "6ecef3a1",
   "metadata": {},
   "outputs": [],
   "source": []
  },
  {
   "cell_type": "code",
   "execution_count": null,
   "id": "05d85ef3",
   "metadata": {},
   "outputs": [],
   "source": []
  },
  {
   "cell_type": "code",
   "execution_count": null,
   "id": "bbc220ce",
   "metadata": {},
   "outputs": [],
   "source": []
  },
  {
   "cell_type": "code",
   "execution_count": null,
   "id": "bc9ef06e",
   "metadata": {},
   "outputs": [],
   "source": []
  },
  {
   "cell_type": "code",
   "execution_count": null,
   "id": "3d112924",
   "metadata": {},
   "outputs": [],
   "source": []
  },
  {
   "cell_type": "code",
   "execution_count": null,
   "id": "48357332",
   "metadata": {},
   "outputs": [],
   "source": [
    "# 품사 태그 세트 확인\n",
    "okt.tagset"
   ]
  },
  {
   "cell_type": "code",
   "execution_count": null,
   "id": "95bf9d41",
   "metadata": {},
   "outputs": [],
   "source": [
    "tagsets = pd.DataFrame()\n",
    "N = 67\n",
    "tagsets[\"Hannanum-기호\"] = list(hannanum.tagset.keys()) + list(\"*\" * (N - len(hannanum.tagset)))\n",
    "tagsets[\"Hannanum-품사\"] = list(hannanum.tagset.values()) + list(\"*\" * (N - len(hannanum.tagset)))\n",
    "tagsets[\"Kkma-기호\"] = list(kkma.tagset.keys()) + list(\"*\" * (N - len(kkma.tagset)))\n",
    "tagsets[\"Kkma-품사\"] = list(kkma.tagset.values()) + list(\"*\" * (N - len(kkma.tagset)))\n",
    "tagsets[\"Komoran-기호\"] = list(komoran.tagset.keys()) + list(\"*\" * (N - len(komoran.tagset)))\n",
    "tagsets[\"Komoran-품사\"] = list(komoran.tagset.values()) + list(\"*\" * (N - len(komoran.tagset)))\n",
    "#tagsets[\"Mecab-기호\"] = list(mecab.tagset.keys()) + list(\"*\" * (N - len(mecab.tagset)))\n",
    "#tagsets[\"Mecab-품사\"] = list(mecab.tagset.values()) + list(\"*\" * (N - len(mecab.tagset)))\n",
    "tagsets[\"OKT-기호\"] = list(okt.tagset.keys()) + list(\"*\" * (N - len(okt.tagset)))\n",
    "tagsets[\"OKT-품사\"] = list(okt.tagset.values()) + list(\"*\" * (N - len(okt.tagset)))\n",
    "tagsets"
   ]
  },
  {
   "cell_type": "markdown",
   "id": "b67c55b4",
   "metadata": {},
   "source": [
    "### 사용자 사전 정의\n",
    " - 각 형태소 분석기에서 보유한 사전이 잡지 못하는 단어가 존재함\n",
    " - 이러한 단어가 분석에서 중요히 다루어야할 단어라면 사용자 사전에 추가하여 올바르게 분리되도록해야함"
   ]
  },
  {
   "cell_type": "code",
   "execution_count": null,
   "id": "cbaef5dc",
   "metadata": {},
   "outputs": [],
   "source": [
    "sample = '본 연구는 국내 최초의 공중보행로인 서울로 7017의 이용행태를 이용객이 자율적으로 서술한 블로그를 분석하여 이용현황을 파악하고, 서울로 7017의 이용행태 및 개선방안을 제시하는 것을 목적으로 하였다.'\n",
    "\n",
    "# 파라미터 없이 형태소 분석기 정의\n"
   ]
  },
  {
   "cell_type": "code",
   "execution_count": null,
   "id": "235fb53c",
   "metadata": {},
   "outputs": [],
   "source": [
    "# 사용자 사진을 포함하여 형태소 분석기 클래스 정의\n"
   ]
  },
  {
   "cell_type": "markdown",
   "id": "e145085e",
   "metadata": {},
   "source": [
    "### __불용어 제거__\n",
    "- 불용어: 분석에 포함시키지 않을 단어 (노이즈)\n",
    "- 품사 선택으로 어느정도 불용어 제거를 수행할 수 있음\n",
    "- 비정형 데이터의 특성상 형태소 분석기의 성능을 100% 신뢰할 수 없기 때문에, 필요에 따라 추가적으로 불용어 제거 작업을 해줌"
   ]
  },
  {
   "cell_type": "code",
   "execution_count": null,
   "id": "2d8df220",
   "metadata": {},
   "outputs": [],
   "source": []
  },
  {
   "cell_type": "code",
   "execution_count": null,
   "id": "d7479b1c",
   "metadata": {},
   "outputs": [],
   "source": []
  },
  {
   "cell_type": "markdown",
   "id": "b5c1f583",
   "metadata": {},
   "source": [
    "### 워드 클라우드"
   ]
  },
  {
   "cell_type": "code",
   "execution_count": null,
   "id": "9cd40049",
   "metadata": {},
   "outputs": [],
   "source": []
  },
  {
   "cell_type": "code",
   "execution_count": null,
   "id": "3f3e97ae",
   "metadata": {},
   "outputs": [],
   "source": []
  },
  {
   "cell_type": "code",
   "execution_count": null,
   "id": "bbc26612",
   "metadata": {},
   "outputs": [],
   "source": []
  }
 ],
 "metadata": {
  "kernelspec": {
   "display_name": "Python 3 (ipykernel)",
   "language": "python",
   "name": "python3"
  },
  "language_info": {
   "codemirror_mode": {
    "name": "ipython",
    "version": 3
   },
   "file_extension": ".py",
   "mimetype": "text/x-python",
   "name": "python",
   "nbconvert_exporter": "python",
   "pygments_lexer": "ipython3",
   "version": "3.9.12"
  }
 },
 "nbformat": 4,
 "nbformat_minor": 5
}
