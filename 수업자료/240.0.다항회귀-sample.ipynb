{
 "cells": [
  {
   "cell_type": "markdown",
   "metadata": {},
   "source": [
    "# 다항회귀"
   ]
  },
  {
   "cell_type": "markdown",
   "metadata": {},
   "source": [
    "## 다항식 특성으로 변환"
   ]
  },
  {
   "cell_type": "code",
   "execution_count": 4,
   "metadata": {},
   "outputs": [],
   "source": [
    "# sampel [[0,1][2, 3]] 변환 연습\n",
    "\n",
    "import numpy as np"
   ]
  },
  {
   "cell_type": "code",
   "execution_count": 22,
   "metadata": {},
   "outputs": [
    {
     "data": {
      "text/plain": [
       "array([[2, 3]])"
      ]
     },
     "execution_count": 22,
     "metadata": {},
     "output_type": "execute_result"
    }
   ],
   "source": [
    "\n",
    "X = np.array([2, 3])\n",
    "X = X.reshape(-1, 2)\n",
    "X"
   ]
  },
  {
   "cell_type": "code",
   "execution_count": 23,
   "metadata": {},
   "outputs": [
    {
     "data": {
      "text/plain": [
       "array([[1., 2., 3., 4., 6., 9.]])"
      ]
     },
     "execution_count": 23,
     "metadata": {},
     "output_type": "execute_result"
    }
   ],
   "source": [
    "from sklearn.preprocessing import PolynomialFeatures\n",
    "\n",
    "poly = PolynomialFeatures(degree=2)\n",
    "poly.fit(X)\n",
    "poly.transform(X)"
   ]
  },
  {
   "cell_type": "code",
   "execution_count": 24,
   "metadata": {},
   "outputs": [
    {
     "name": "stdout",
     "output_type": "stream",
     "text": [
      "['1' 'x0' 'x1' 'x0^2' 'x0 x1' 'x1^2']\n"
     ]
    }
   ],
   "source": [
    "print(poly.get_feature_names_out())"
   ]
  },
  {
   "cell_type": "markdown",
   "metadata": {},
   "source": [
    "## 사이킷런으로 다항 회귀 분석"
   ]
  },
  {
   "cell_type": "code",
   "execution_count": null,
   "metadata": {},
   "outputs": [],
   "source": [
    "#1) 데이터 준비: 데이터를 생성하여 탐색 및 확인"
   ]
  },
  {
   "cell_type": "code",
   "execution_count": 63,
   "metadata": {},
   "outputs": [
    {
     "data": {
      "image/png": "[encoded data removed]",
      "text/plain": [
       "<Figure size 432x288 with 1 Axes>"
      ]
     },
     "metadata": {
      "needs_background": "light"
     },
     "output_type": "display_data"
    }
   ],
   "source": [
    "import numpy as np\n",
    "import matplotlib.pyplot as plt\n",
    "\n",
    "np.random.seed(28)\n",
    "X = 6 * np.random.rand(100,1) - 3\n",
    "y = 0.5 * X ** 2 + X + 2 + np.random.randn(100, 1)\n",
    "\n",
    "plt.scatter(X, y, color='blue')\n",
    "plt.show()"
   ]
  },
  {
   "cell_type": "code",
   "execution_count": null,
   "metadata": {},
   "outputs": [],
   "source": [
    "from sklearn.model_selection import train_test_split\n",
    "\n",
    "xx = np.linspace(X.min()-0.1, X.max()+0.1).reshape(-1, 1)"
   ]
  },
  {
   "cell_type": "code",
   "execution_count": null,
   "metadata": {},
   "outputs": [],
   "source": [
    "# 2) 단순 선형 회귀 분석 및 시각화 : 비교 목적"
   ]
  },
  {
   "cell_type": "code",
   "execution_count": 64,
   "metadata": {},
   "outputs": [
    {
     "data": {
      "text/plain": [
       "<matplotlib.collections.PathCollection at 0x168e3a4c0>"
      ]
     },
     "execution_count": 64,
     "metadata": {},
     "output_type": "execute_result"
    },
    {
     "data": {
      "image/png": "[encoded data removed]",
      "text/plain": [
       "<Figure size 432x288 with 1 Axes>"
      ]
     },
     "metadata": {
      "needs_background": "light"
     },
     "output_type": "display_data"
    }
   ],
   "source": [
    "from sklearn.linear_model import LinearRegression\n",
    "\n",
    "X1_train = X\n",
    "y_train = y\n",
    "\n",
    "reg1 = LinearRegression()\n",
    "reg1.fit(X1_train, y_train)\n",
    "xx = np.linspace(X.min()-0.1, X.max()+0.1).reshape(-1, 1)\n",
    "yy = reg1.predict(xx)\n",
    "\n",
    "plt.plot(xx, yy)\n",
    "plt.scatter(X, y)"
   ]
  },
  {
   "cell_type": "code",
   "execution_count": 51,
   "metadata": {},
   "outputs": [],
   "source": [
    "# 3) 2차항 형태로 다항 회귀 수행"
   ]
  },
  {
   "cell_type": "code",
   "execution_count": 67,
   "metadata": {},
   "outputs": [],
   "source": [
    "from sklearn.preprocessing import PolynomialFeatures\n",
    "\n",
    "poly = PolynomialFeatures(degree=2)\n",
    "X2_train = poly.fit_transform(X)\n",
    "y_train = y"
   ]
  },
  {
   "cell_type": "code",
   "execution_count": 68,
   "metadata": {},
   "outputs": [
    {
     "data": {
      "text/plain": [
       "array([[ 1.00000000e+00,  1.37408245e+00,  1.88810259e+00],\n",
       "       [ 1.00000000e+00,  3.67437614e-01,  1.35010400e-01],\n",
       "       [ 1.00000000e+00, -2.25019745e+00,  5.06338855e+00],\n",
       "       [ 1.00000000e+00, -6.14445788e-01,  3.77543626e-01],\n",
       "       [ 1.00000000e+00,  1.68784924e+00,  2.84883505e+00],\n",
       "       [ 1.00000000e+00,  6.59578899e-02,  4.35044324e-03],\n",
       "       [ 1.00000000e+00, -1.90383985e+00,  3.62460617e+00],\n",
       "       [ 1.00000000e+00,  2.12107725e+00,  4.49896871e+00],\n",
       "       [ 1.00000000e+00,  2.73223136e+00,  7.46508818e+00],\n",
       "       [ 1.00000000e+00,  2.90528081e+00,  8.44065658e+00],\n",
       "       [ 1.00000000e+00, -1.84379416e+00,  3.39957689e+00],\n",
       "       [ 1.00000000e+00,  2.82477061e+00,  7.97932899e+00],\n",
       "       [ 1.00000000e+00, -1.59114987e+00,  2.53175792e+00],\n",
       "       [ 1.00000000e+00, -2.84187691e+00,  8.07626437e+00],\n",
       "       [ 1.00000000e+00,  2.67636206e+00,  7.16291387e+00],\n",
       "       [ 1.00000000e+00,  2.53034911e+00,  6.40266663e+00],\n",
       "       [ 1.00000000e+00, -1.23614539e+00,  1.52805543e+00],\n",
       "       [ 1.00000000e+00, -2.00235779e+00,  4.00943671e+00],\n",
       "       [ 1.00000000e+00, -6.27462961e-01,  3.93709767e-01],\n",
       "       [ 1.00000000e+00,  6.40184085e-02,  4.09835663e-03],\n",
       "       [ 1.00000000e+00, -1.15177663e+00,  1.32658940e+00],\n",
       "       [ 1.00000000e+00, -4.22586998e-01,  1.78579771e-01],\n",
       "       [ 1.00000000e+00,  1.98041643e+00,  3.92204925e+00],\n",
       "       [ 1.00000000e+00,  3.74361429e-01,  1.40146479e-01],\n",
       "       [ 1.00000000e+00,  1.98532986e+00,  3.94153466e+00],\n",
       "       [ 1.00000000e+00,  2.98157575e+00,  8.88979393e+00],\n",
       "       [ 1.00000000e+00, -1.00452717e+00,  1.00907483e+00],\n",
       "       [ 1.00000000e+00, -2.45395124e+00,  6.02187670e+00],\n",
       "       [ 1.00000000e+00,  1.64298935e+00,  2.69941401e+00],\n",
       "       [ 1.00000000e+00, -2.10369762e+00,  4.42554366e+00],\n",
       "       [ 1.00000000e+00,  1.35213036e+00,  1.82825650e+00],\n",
       "       [ 1.00000000e+00,  2.73087861e+00,  7.45769796e+00],\n",
       "       [ 1.00000000e+00, -2.56142535e+00,  6.56089983e+00],\n",
       "       [ 1.00000000e+00, -3.17023494e-01,  1.00503896e-01],\n",
       "       [ 1.00000000e+00,  2.04670841e+00,  4.18901530e+00],\n",
       "       [ 1.00000000e+00, -2.12676199e+00,  4.52311658e+00],\n",
       "       [ 1.00000000e+00,  1.59162922e+00,  2.53328356e+00],\n",
       "       [ 1.00000000e+00,  1.69070951e+00,  2.85849864e+00],\n",
       "       [ 1.00000000e+00,  1.05047127e+00,  1.10348989e+00],\n",
       "       [ 1.00000000e+00, -2.20978688e+00,  4.88315807e+00],\n",
       "       [ 1.00000000e+00, -2.76418091e+00,  7.64069609e+00],\n",
       "       [ 1.00000000e+00,  9.36138462e-01,  8.76355220e-01],\n",
       "       [ 1.00000000e+00, -1.49290432e+00,  2.22876330e+00],\n",
       "       [ 1.00000000e+00,  2.93051030e+00,  8.58789064e+00],\n",
       "       [ 1.00000000e+00,  2.00298268e-01,  4.01193960e-02],\n",
       "       [ 1.00000000e+00, -2.64494854e+00,  6.99575277e+00],\n",
       "       [ 1.00000000e+00,  1.19253188e+00,  1.42213230e+00],\n",
       "       [ 1.00000000e+00,  7.63048599e-01,  5.82243164e-01],\n",
       "       [ 1.00000000e+00,  2.37467123e+00,  5.63906346e+00],\n",
       "       [ 1.00000000e+00, -2.02845197e+00,  4.11461741e+00],\n",
       "       [ 1.00000000e+00,  6.62289470e-01,  4.38627343e-01],\n",
       "       [ 1.00000000e+00, -1.09808941e+00,  1.20580036e+00],\n",
       "       [ 1.00000000e+00,  1.57959402e+00,  2.49511727e+00],\n",
       "       [ 1.00000000e+00, -2.06230751e+00,  4.25311227e+00],\n",
       "       [ 1.00000000e+00,  2.57932545e+00,  6.65291978e+00],\n",
       "       [ 1.00000000e+00, -1.31368805e-02,  1.72577630e-04],\n",
       "       [ 1.00000000e+00,  1.99940382e+00,  3.99761563e+00],\n",
       "       [ 1.00000000e+00, -1.62018344e+00,  2.62499437e+00],\n",
       "       [ 1.00000000e+00, -2.35913993e+00,  5.56554122e+00],\n",
       "       [ 1.00000000e+00,  1.04220229e+00,  1.08618560e+00],\n",
       "       [ 1.00000000e+00,  4.73899513e-01,  2.24580748e-01],\n",
       "       [ 1.00000000e+00,  2.25509624e+00,  5.08545907e+00],\n",
       "       [ 1.00000000e+00,  2.98276585e+00,  8.89689209e+00],\n",
       "       [ 1.00000000e+00, -1.34816195e+00,  1.81754064e+00],\n",
       "       [ 1.00000000e+00,  1.45581758e+00,  2.11940481e+00],\n",
       "       [ 1.00000000e+00, -1.29160828e+00,  1.66825196e+00],\n",
       "       [ 1.00000000e+00,  1.35749202e+00,  1.84278459e+00],\n",
       "       [ 1.00000000e+00, -5.35779314e-02,  2.87059474e-03],\n",
       "       [ 1.00000000e+00,  2.20809655e+00,  4.87569039e+00],\n",
       "       [ 1.00000000e+00, -2.02642978e+00,  4.10641765e+00],\n",
       "       [ 1.00000000e+00,  2.82795060e+00,  7.99730458e+00],\n",
       "       [ 1.00000000e+00, -2.70668584e+00,  7.32614823e+00],\n",
       "       [ 1.00000000e+00,  1.20327546e+00,  1.44787183e+00],\n",
       "       [ 1.00000000e+00,  9.11669458e-01,  8.31141200e-01],\n",
       "       [ 1.00000000e+00, -2.72124546e+00,  7.40517685e+00],\n",
       "       [ 1.00000000e+00, -1.81619474e+00,  3.29856334e+00],\n",
       "       [ 1.00000000e+00, -1.01635796e+00,  1.03298351e+00],\n",
       "       [ 1.00000000e+00,  1.51586968e+00,  2.29786089e+00],\n",
       "       [ 1.00000000e+00, -8.09912510e-01,  6.55958273e-01],\n",
       "       [ 1.00000000e+00,  1.84626039e-01,  3.40867741e-02],\n",
       "       [ 1.00000000e+00, -8.74912093e-01,  7.65471170e-01],\n",
       "       [ 1.00000000e+00,  8.80443678e-02,  7.75181070e-03],\n",
       "       [ 1.00000000e+00, -1.42980377e+00,  2.04433882e+00],\n",
       "       [ 1.00000000e+00,  2.11043691e+00,  4.45394397e+00],\n",
       "       [ 1.00000000e+00,  7.39447564e-01,  5.46782701e-01],\n",
       "       [ 1.00000000e+00, -1.17318150e+00,  1.37635483e+00],\n",
       "       [ 1.00000000e+00,  1.65287135e+00,  2.73198368e+00],\n",
       "       [ 1.00000000e+00,  2.37331190e+00,  5.63260937e+00],\n",
       "       [ 1.00000000e+00,  1.42444621e+00,  2.02904701e+00],\n",
       "       [ 1.00000000e+00,  2.13331447e+00,  4.55103061e+00],\n",
       "       [ 1.00000000e+00,  1.92075200e+00,  3.68928825e+00],\n",
       "       [ 1.00000000e+00,  2.19132568e+00,  4.80190821e+00],\n",
       "       [ 1.00000000e+00, -7.07222291e-01,  5.00163369e-01],\n",
       "       [ 1.00000000e+00,  6.68442358e-01,  4.46815186e-01],\n",
       "       [ 1.00000000e+00, -5.06964285e-01,  2.57012786e-01],\n",
       "       [ 1.00000000e+00, -1.54719119e+00,  2.39380058e+00],\n",
       "       [ 1.00000000e+00, -2.63249367e+00,  6.93002295e+00],\n",
       "       [ 1.00000000e+00,  1.90509664e+00,  3.62939322e+00],\n",
       "       [ 1.00000000e+00, -6.98207363e-01,  4.87493521e-01],\n",
       "       [ 1.00000000e+00,  2.87304289e+00,  8.25437542e+00]])"
      ]
     },
     "execution_count": 68,
     "metadata": {},
     "output_type": "execute_result"
    }
   ],
   "source": [
    "X2_train"
   ]
  },
  {
   "cell_type": "code",
   "execution_count": 69,
   "metadata": {},
   "outputs": [
    {
     "data": {
      "text/plain": [
       "[<matplotlib.lines.Line2D at 0x168f5e5b0>]"
      ]
     },
     "execution_count": 69,
     "metadata": {},
     "output_type": "execute_result"
    },
    {
     "data": {
      "image/png": "[encoded data removed]",
      "text/plain": [
       "<Figure size 432x288 with 1 Axes>"
      ]
     },
     "metadata": {
      "needs_background": "light"
     },
     "output_type": "display_data"
    }
   ],
   "source": [
    "reg2 = LinearRegression()\n",
    "reg2.fit(X2_train, y_train)\n",
    "xx = np.arange(-3, 3, 0.01).reshape(-1, 1)\n",
    "xx2 = poly.transform(xx)\n",
    "yy = reg2.predict(xx2)\n",
    "\n",
    "plt.scatter(X, y)\n",
    "plt.plot(xx, yy)"
   ]
  },
  {
   "cell_type": "code",
   "execution_count": 70,
   "metadata": {},
   "outputs": [
    {
     "data": {
      "text/plain": [
       "(array([[0.        , 1.11284649, 0.43531499]]), array([2.17157426]))"
      ]
     },
     "execution_count": 70,
     "metadata": {},
     "output_type": "execute_result"
    }
   ],
   "source": [
    "# 구해진 2차식의 계수 확인\n",
    "reg2.coef_, reg2.intercept_"
   ]
  },
  {
   "cell_type": "code",
   "execution_count": 71,
   "metadata": {},
   "outputs": [],
   "source": [
    "# 4) 7차항 형태로 다항회귀 수행"
   ]
  },
  {
   "cell_type": "code",
   "execution_count": 72,
   "metadata": {},
   "outputs": [
    {
     "data": {
      "image/png": "[encoded data removed]",
      "text/plain": [
       "<Figure size 432x288 with 1 Axes>"
      ]
     },
     "metadata": {
      "needs_background": "light"
     },
     "output_type": "display_data"
    }
   ],
   "source": [
    "from sklearn.linear_model import LinearRegression\n",
    "from sklearn.preprocessing import PolynomialFeatures\n",
    "\n",
    "poly = PolynomialFeatures(degree=7)\n",
    "X7_train = poly.fit_transform(X)\n",
    "y_train = y\n",
    "\n",
    "reg7 = LinearRegression().fit(X7_train, y_train)\n",
    "\n",
    "xx = np.arange(-3, 3, 0.01).reshape(-1, 1)\n",
    "xx7 = poly.transform(xx)\n",
    "yy = reg7.predict(xx7)\n",
    "\n",
    "plt.scatter(X, y, c='b')\n",
    "plt.plot(xx, yy, c='m', linestyle='--', label='degree=7')\n",
    "plt.legend()\n",
    "plt.show()"
   ]
  },
  {
   "cell_type": "code",
   "execution_count": null,
   "metadata": {},
   "outputs": [],
   "source": []
  },
  {
   "cell_type": "code",
   "execution_count": null,
   "metadata": {},
   "outputs": [],
   "source": [
    "# 각 차수별 그래프와 원본 데이터 비교 시각화"
   ]
  },
  {
   "cell_type": "markdown",
   "metadata": {},
   "source": [
    "# pipeline 응용"
   ]
  },
  {
   "cell_type": "code",
   "execution_count": null,
   "metadata": {},
   "outputs": [],
   "source": [
    "# 데이터 변환과정과 머신러닝을 연결해줌"
   ]
  },
  {
   "cell_type": "code",
   "execution_count": null,
   "metadata": {},
   "outputs": [],
   "source": [
    "# 1) degree=2인 모델\n",
    "from sklearn.pipeline import make_pipeline\n",
    "\n",
    "reg = make_pipeline(PolynomialFeatures(degree=2), LinearRegression()).fit(X, y)\n",
    "xx = np.arange(-3, 3, 0.01)\n",
    "yy = reg.predict(xx[:, np.newaxis])\n",
    "\n",
    "plt.plot(xx, yy, color='r', linestyle='--', label='degree=2')\n",
    "plt.scatter(X, y, color='b', alpha=0.2)\n",
    "plt.legend()\n",
    "plt.show()"
   ]
  },
  {
   "cell_type": "code",
   "execution_count": null,
   "metadata": {},
   "outputs": [],
   "source": [
    "# 2) degree = [1, 3, 7]인 모델을 파이프라인으로 변환- 추정 통합\n",
    "\n",
    "from sklearn.linear_model import LinearRegression\n",
    "from sklearn.preprocessing import PolynomialFeatures\n",
    "\n",
    "degree = [1, 3, 7]\n",
    "colors = ['magenta', 'green', 'red']\n",
    "\n",
    "plt.scatter(X, y, color='b', alpha=0.2)\n",
    "for i, d in enumerate(degree): \n",
    "    reg = make_pipeline(PolynomialFeatures(degree=d), LinearRegression()).fit(X, y)\n",
    "    xx = np.arange(-3, 3, 0.01)\n",
    "    yy = reg.predict(xx[:, np.newaxis])\n",
    "\n",
    "    plt.plot(xx, yy, color=colors[i], linestyle='--', label='degree={}'.format(d))\n",
    "    plt.legend()\n",
    "plt.show()  "
   ]
  },
  {
   "cell_type": "raw",
   "metadata": {},
   "source": [
    "\"\"\"r2_scores =[]\n",
    "fig = plt.figure(figsize=(12, 10))\n",
    "for i, degree in enumerate([1, 3, 5, 10], start=1):\n",
    "    ax = fig.add_subplot(2, 2, i)\n",
    "    ax.scatter(X.ravel(), y, s=15)\n",
    "    y_pred = make_pipeline(PolynomialFeatures(degree), LinearRegression()).fit(X, y).predict(X_test)\n",
    "    #r2_score = r2_score(y, y_pred ) \n",
    "    ax.plot(X_test.ravel(), y_pred, label='degree={}'.format(degree))\n",
    "    ax.set_xlim(-0.1, 1)\n",
    "    ax.set_ylim(-2, 12)\n",
    "    ax.legend(loc='best')\"\"\""
   ]
  },
  {
   "cell_type": "code",
   "execution_count": null,
   "metadata": {
    "scrolled": true
   },
   "outputs": [],
   "source": [
    "# 1, 2, 3, 7 나란히 그리기\n",
    "from sklearn.linear_model import LinearRegression\n",
    "from sklearn.preprocessing import PolynomialFeatures\n",
    "\n",
    "degree = [1, 3, 7, 9]\n",
    "colors = ['magenta', 'green', 'red', 'lime']\n",
    "\n",
    "\n",
    "fig, ax = plt.subplots(2, 2, figsize=(16, 5))\n",
    "\n",
    "for i, d in enumerate(degree): \n",
    "    #ax = fig.add_subplots(2, 2, i)\n",
    "    \n",
    "    reg = make_pipeline(PolynomialFeatures(degree=d), LinearRegression()).fit(X, y)\n",
    "    xx = np.arange(-3, 3, 0.01)\n",
    "    yy = reg.predict(xx[:, np.newaxis])\n",
    "    ax[i].scatter(X, y, color='b', alpha=0.2)\n",
    "    ax[i].plot(xx, yy, color=colors[i], linestyle='--', label='degree={}'.format(d))\n",
    "    ax[i].legend()\n",
    "plt.show()  "
   ]
  },
  {
   "cell_type": "markdown",
   "metadata": {},
   "source": [
    "# pipeline 실습"
   ]
  },
  {
   "cell_type": "code",
   "execution_count": null,
   "metadata": {},
   "outputs": [],
   "source": [
    "#################\n",
    "##파이프라인 연습\n",
    "####################\n",
    "#다항식으로 데이터를 변환시키고 학습을 연결시키는 파이프라인 \n",
    "from sklearn.linear_model import LinearRegression\n",
    "from sklearn.pipeline import make_pipeline\n",
    "\n",
    "from sklearn.model_selection import train_test_split\n",
    "## 학습용, 검증용 데이터 분할\n",
    "\n",
    "X_train, X_test, y_train, y_test = train_test_split(X, y, test_size=0.3, random_state=1)\n",
    "# 시각화를 위한 xx 좌표계 미리 준비\n",
    "# y축 좌표계는 각 모델마다 만듦\n",
    "#xx = np.linspace(X.min()-0.1, X.max()+0.1).reshape(-1, 1)\n",
    "xx = np.arange(-3, 3, 0.01).reshape(-1, 1)\n",
    "degree=[1, 3, 5, 10]\n",
    "\n",
    "for d in degree:\n",
    "    reg = make_pipeline(PolynomialFeatures(degree=d), LinearRegression())\n",
    "    reg.fit(X_train, y_train)\n",
    "    y_pred = reg.predict(X_test)\n",
    "    yy = reg.predict(xx)\n",
    "    r2 = r2_score(y_test, y_pred)\n",
    "    plt.figure(figsize=(5,5))\n",
    "    plt.plot(xx, yy, label='degree={}'.format(d))\n",
    "    plt.scatter(X, y, s=5)\n",
    "    plt.legend()\n",
    "    \n",
    "    # 주석 표시 - 텍스트\n",
    "    plt.annotate('r2_score: {:.3f} '.format(r2),  #텍스트 입력\n",
    "                 xycoords= 'axes pixels',\n",
    "                 xy=(10, 230),            #텍스트 위치 기준점\n",
    "                 )\n",
    "    "
   ]
  },
  {
   "cell_type": "code",
   "execution_count": null,
   "metadata": {},
   "outputs": [],
   "source": []
  },
  {
   "cell_type": "markdown",
   "metadata": {},
   "source": [
    "# [실습 ]: 보스턴 집값 데이터셋을 활용한 다항회귀 실습 - 방의 갯수 VS 가격"
   ]
  },
  {
   "cell_type": "markdown",
   "metadata": {},
   "source": [
    "### 필요한 모듈 import"
   ]
  },
  {
   "cell_type": "code",
   "execution_count": null,
   "metadata": {},
   "outputs": [],
   "source": [
    "from sklearn.datasets import load_boston\n",
    "from sklearn.preprocessing import PolynomialFeatures\n",
    "from sklearn.linear_model import LinearRegression\n",
    "from sklearn.model_selection import train_test_split\n",
    "from sklearn.metrics import r2_score, mean_squared_error\n",
    "import matplotlib.pyplot as plt\n",
    "import pandas as pd\n",
    "import numpy as np\n",
    "%matplotlib inline"
   ]
  },
  {
   "cell_type": "markdown",
   "metadata": {},
   "source": [
    "#### 데이터 수집"
   ]
  },
  {
   "cell_type": "code",
   "execution_count": null,
   "metadata": {},
   "outputs": [],
   "source": [
    "boston = load_boston()"
   ]
  },
  {
   "cell_type": "markdown",
   "metadata": {},
   "source": [
    "#### 데이터 이해"
   ]
  },
  {
   "cell_type": "code",
   "execution_count": null,
   "metadata": {},
   "outputs": [],
   "source": [
    "#boston.DESCR\n",
    "print(boston.feature_names)"
   ]
  },
  {
   "cell_type": "markdown",
   "metadata": {},
   "source": [
    "#### 데이터 준비"
   ]
  },
  {
   "cell_type": "code",
   "execution_count": null,
   "metadata": {},
   "outputs": [],
   "source": [
    "# 독립변수, 종속변수를 데이터프레임으로 정리"
   ]
  },
  {
   "cell_type": "code",
   "execution_count": null,
   "metadata": {},
   "outputs": [],
   "source": [
    "boston.data"
   ]
  },
  {
   "cell_type": "code",
   "execution_count": null,
   "metadata": {},
   "outputs": [],
   "source": [
    "np.set_printoptions(suppress=True)\n",
    "boston.data[:5]"
   ]
  },
  {
   "cell_type": "code",
   "execution_count": null,
   "metadata": {},
   "outputs": [],
   "source": [
    "X = pd.DataFrame(boston.data, columns=boston.feature_names)['RM'].to_frame()\n",
    "y = boston.target"
   ]
  },
  {
   "cell_type": "code",
   "execution_count": null,
   "metadata": {},
   "outputs": [],
   "source": [
    "# 데이터프레임 확인\n",
    "print(X)\n",
    "print(X.values)"
   ]
  },
  {
   "cell_type": "code",
   "execution_count": null,
   "metadata": {},
   "outputs": [],
   "source": [
    "# 학습용, 검증용 데이터 분할\n"
   ]
  },
  {
   "cell_type": "markdown",
   "metadata": {},
   "source": [
    "#### 모델 구축"
   ]
  },
  {
   "cell_type": "code",
   "execution_count": null,
   "metadata": {},
   "outputs": [],
   "source": [
    "# 시각화를 위한 xx 좌표계 미리 준비\n",
    "# y축 좌표계는 각 모델마다 만듦\n",
    "xx = np.linspace(X.min()-1, X.max()+1)  # 방의 갯수 최대값, 최소값"
   ]
  },
  {
   "cell_type": "code",
   "execution_count": null,
   "metadata": {},
   "outputs": [],
   "source": []
  },
  {
   "cell_type": "code",
   "execution_count": null,
   "metadata": {},
   "outputs": [],
   "source": []
  },
  {
   "cell_type": "code",
   "execution_count": 14,
   "metadata": {},
   "outputs": [],
   "source": [
    "# 2차식의 다항회귀\n"
   ]
  },
  {
   "cell_type": "code",
   "execution_count": 15,
   "metadata": {},
   "outputs": [],
   "source": [
    "# 3차식의 다항회귀\n"
   ]
  },
  {
   "cell_type": "markdown",
   "metadata": {},
   "source": [
    "####  다항 회귀 시각화"
   ]
  },
  {
   "cell_type": "code",
   "execution_count": null,
   "metadata": {},
   "outputs": [],
   "source": [
    "\n"
   ]
  },
  {
   "cell_type": "markdown",
   "metadata": {},
   "source": [
    "#### 모델 성능 평가"
   ]
  },
  {
   "cell_type": "code",
   "execution_count": 16,
   "metadata": {},
   "outputs": [],
   "source": [
    "# 차수에 따른 r2(결정계수)를 시리즈로 만들어보자\n"
   ]
  },
  {
   "cell_type": "code",
   "execution_count": null,
   "metadata": {},
   "outputs": [],
   "source": []
  },
  {
   "cell_type": "markdown",
   "metadata": {},
   "source": [
    "#  당뇨병 데이터로 다항 회귀 실습"
   ]
  },
  {
   "cell_type": "markdown",
   "metadata": {},
   "source": [
    "- hint:\n",
    "- 1) 데이터셋:load_diabetes\n",
    "- 2) 체질량지수(bmi)를 가지고 단순 선형회귀, 2차, 3차 다항회귀를 수행하고, 가장 적합한 모델을 찾으시오\n",
    "- 3) 데이터 분할 비율: 0.3, random_state=1\n",
    "- 4) 차수별 시각화\n",
    "- 5) 차수별 결정계수 비교"
   ]
  },
  {
   "cell_type": "code",
   "execution_count": null,
   "metadata": {},
   "outputs": [],
   "source": []
  },
  {
   "cell_type": "code",
   "execution_count": null,
   "metadata": {},
   "outputs": [],
   "source": []
  },
  {
   "cell_type": "code",
   "execution_count": 17,
   "metadata": {},
   "outputs": [],
   "source": [
    "# 1) 데이터프레임으로 만들기\n"
   ]
  },
  {
   "cell_type": "code",
   "execution_count": null,
   "metadata": {},
   "outputs": [],
   "source": [
    "# 선형 모델 객체 생성\n"
   ]
  },
  {
   "cell_type": "code",
   "execution_count": null,
   "metadata": {},
   "outputs": [],
   "source": [
    "# 시각화를 위한 xx 좌표축 범위 확정\n",
    "\n"
   ]
  },
  {
   "cell_type": "code",
   "execution_count": 18,
   "metadata": {},
   "outputs": [],
   "source": [
    "# 차수별 모형 구축\n",
    "\n"
   ]
  },
  {
   "cell_type": "code",
   "execution_count": null,
   "metadata": {},
   "outputs": [],
   "source": [
    "# 차수별 시각화"
   ]
  },
  {
   "cell_type": "code",
   "execution_count": null,
   "metadata": {},
   "outputs": [],
   "source": [
    "# 차수에 따른 r2(결정계수)를 시리즈로 만들어보자\n"
   ]
  },
  {
   "cell_type": "code",
   "execution_count": null,
   "metadata": {},
   "outputs": [],
   "source": []
  },
  {
   "cell_type": "markdown",
   "metadata": {},
   "source": [
    "# 농어의 길이, 두께, 넓이 데이터를 활용하여 농어의 무게를 예측하는 선형회귀식을 완성하라\n"
   ]
  },
  {
   "cell_type": "markdown",
   "metadata": {},
   "source": [
    "* 1) 데이터셋: 입력변수(perch_full.csv), 종속변수(perch_weight)\n",
    "* 2) 단순선형회귀, 2차 다항회귀, 3차 다항회귀를 각각 수행하고, 가장 r2가 높은 모델을 찾으시오\n",
    "* 3) 데이터 분할 비율: 0.2, random_state=22"
   ]
  },
  {
   "cell_type": "code",
   "execution_count": null,
   "metadata": {},
   "outputs": [],
   "source": [
    "import pandas as pd\n",
    "df = pd.read_csv('./data/perch_full.csv')\n",
    "perch_weight = np.array([5.9, 32.0, 40.0, 51.5, 70.0, 100.0, 78.0, 80.0, 85.0, 85.0, 110.0,\n",
    "       115.0, 125.0, 130.0, 120.0, 120.0, 130.0, 135.0, 110.0, 130.0,\n",
    "       150.0, 145.0, 150.0, 170.0, 225.0, 145.0, 188.0, 180.0, 197.0,\n",
    "       218.0, 300.0, 260.0, 265.0, 250.0, 250.0, 300.0, 320.0, 514.0,\n",
    "       556.0, 840.0, 685.0, 700.0, 700.0, 690.0, 900.0, 650.0, 820.0,\n",
    "       850.0, 900.0, 1015.0, 820.0, 1100.0, 1000.0, 1100.0, 1000.0,\n",
    "       1000.0])"
   ]
  },
  {
   "cell_type": "code",
   "execution_count": null,
   "metadata": {},
   "outputs": [],
   "source": [
    "# X, y 데이터셋 준비"
   ]
  },
  {
   "cell_type": "code",
   "execution_count": null,
   "metadata": {},
   "outputs": [],
   "source": []
  },
  {
   "cell_type": "code",
   "execution_count": null,
   "metadata": {},
   "outputs": [],
   "source": []
  },
  {
   "cell_type": "code",
   "execution_count": null,
   "metadata": {},
   "outputs": [],
   "source": [
    "#데이터 분할"
   ]
  },
  {
   "cell_type": "code",
   "execution_count": null,
   "metadata": {},
   "outputs": [],
   "source": []
  },
  {
   "cell_type": "code",
   "execution_count": null,
   "metadata": {},
   "outputs": [],
   "source": [
    "# 단순 선형회귀"
   ]
  },
  {
   "cell_type": "code",
   "execution_count": null,
   "metadata": {},
   "outputs": [],
   "source": []
  },
  {
   "cell_type": "code",
   "execution_count": null,
   "metadata": {},
   "outputs": [],
   "source": [
    "#2차 다항회귀"
   ]
  },
  {
   "cell_type": "code",
   "execution_count": null,
   "metadata": {},
   "outputs": [],
   "source": [
    "# 2차 다항회귀를 파이프라인으로 구현\n",
    "\n",
    "# 3차 다항회귀\n",
    "\n",
    "# 5차 다항회귀"
   ]
  },
  {
   "cell_type": "code",
   "execution_count": null,
   "metadata": {},
   "outputs": [],
   "source": [
    "# 5차 다항회귀 Pipeline with make_pipeline\n",
    "from sklearn.pipeline import make_pipeline\n",
    "reg5_mp = make_pipeline(PolynomialFeatures(degree=5), \\\n",
    "                      LinearRegression())\n",
    "reg5_mp.fit(X_train, y_train)\n",
    "y_pred5_mp = reg5_mp.predict(X_test)\n",
    "print(reg5_mp[1].coef_, reg5_mp[1].intercept_)\n",
    "r2_score(y_test, y_pred5_mp)\n",
    "8:35\n",
    "# 5차 다항회귀 with Pipeline\n",
    "from sklearn.pipeline import Pipeline\n",
    "reg5_p = Pipeline([('poly', PolynomialFeatures()), \\\n",
    "                    ('lr', LinearRegression())])\n",
    "# parameter 설정, ('poly', PolynomialFeatures(degree=5)와 동일\n",
    "reg5_p.set_params(poly__degree=5)\n",
    "8:35\n",
    "reg5_p.fit(X_train, y_train)\n",
    "y_pred5_p = reg5_p.predict(X_test)\n",
    "#print(reg5.coef_, reg5.intercept_)\n",
    "r2_score(y_test, y_pred5_p)"
   ]
  },
  {
   "cell_type": "markdown",
   "metadata": {},
   "source": [
    "############## 여기까지 ##############"
   ]
  },
  {
   "cell_type": "code",
   "execution_count": null,
   "metadata": {},
   "outputs": [],
   "source": []
  }
 ],
 "metadata": {
  "kernelspec": {
   "display_name": "Python 3 (ipykernel)",
   "language": "python",
   "name": "python3"
  },
  "language_info": {
   "codemirror_mode": {
    "name": "ipython",
    "version": 3
   },
   "file_extension": ".py",
   "mimetype": "text/x-python",
   "name": "python",
   "nbconvert_exporter": "python",
   "pygments_lexer": "ipython3",
   "version": "3.9.12"
  }
 },
 "nbformat": 4,
 "nbformat_minor": 4
}
