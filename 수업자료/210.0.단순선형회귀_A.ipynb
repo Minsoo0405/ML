{
 "cells": [
  {
   "attachments": {},
   "cell_type": "markdown",
   "metadata": {},
   "source": [
    "₩# 단순 선형 회귀"
   ]
  },
  {
   "cell_type": "markdown",
   "metadata": {},
   "source": [
    "# < 사이킷런에서 최소제곱법으로 단순 선형회귀 수행 >"
   ]
  },
  {
   "cell_type": "markdown",
   "metadata": {},
   "source": [
    "### 필요한 모듈 import"
   ]
  },
  {
   "cell_type": "code",
   "execution_count": 1,
   "metadata": {},
   "outputs": [],
   "source": [
    "import pandas as pd"
   ]
  },
  {
   "cell_type": "code",
   "execution_count": 2,
   "metadata": {},
   "outputs": [
    {
     "name": "stdout",
     "output_type": "stream",
     "text": [
      "<built-in function getcwdb>\n"
     ]
    }
   ],
   "source": [
    "import os\n",
    "print(os.getcwdb)"
   ]
  },
  {
   "cell_type": "markdown",
   "metadata": {},
   "source": [
    "# 1. 맥주 데이터를 활용한 단순 선형 회귀 실습"
   ]
  },
  {
   "cell_type": "markdown",
   "metadata": {},
   "source": [
    "### 데이터 수집"
   ]
  },
  {
   "cell_type": "code",
   "execution_count": 3,
   "metadata": {},
   "outputs": [
    {
     "data": {
      "text/html": [
       "<div>\n",
       "<style scoped>\n",
       "    .dataframe tbody tr th:only-of-type {\n",
       "        vertical-align: middle;\n",
       "    }\n",
       "\n",
       "    .dataframe tbody tr th {\n",
       "        vertical-align: top;\n",
       "    }\n",
       "\n",
       "    .dataframe thead th {\n",
       "        text-align: right;\n",
       "    }\n",
       "</style>\n",
       "<table border=\"1\" class=\"dataframe\">\n",
       "  <thead>\n",
       "    <tr style=\"text-align: right;\">\n",
       "      <th></th>\n",
       "      <th>beer</th>\n",
       "      <th>temperature</th>\n",
       "    </tr>\n",
       "  </thead>\n",
       "  <tbody>\n",
       "    <tr>\n",
       "      <th>0</th>\n",
       "      <td>45.3</td>\n",
       "      <td>20.5</td>\n",
       "    </tr>\n",
       "    <tr>\n",
       "      <th>1</th>\n",
       "      <td>59.3</td>\n",
       "      <td>25.0</td>\n",
       "    </tr>\n",
       "    <tr>\n",
       "      <th>2</th>\n",
       "      <td>40.4</td>\n",
       "      <td>10.0</td>\n",
       "    </tr>\n",
       "    <tr>\n",
       "      <th>3</th>\n",
       "      <td>38.0</td>\n",
       "      <td>26.9</td>\n",
       "    </tr>\n",
       "    <tr>\n",
       "      <th>4</th>\n",
       "      <td>37.0</td>\n",
       "      <td>15.8</td>\n",
       "    </tr>\n",
       "    <tr>\n",
       "      <th>5</th>\n",
       "      <td>40.9</td>\n",
       "      <td>4.2</td>\n",
       "    </tr>\n",
       "    <tr>\n",
       "      <th>6</th>\n",
       "      <td>60.2</td>\n",
       "      <td>13.5</td>\n",
       "    </tr>\n",
       "    <tr>\n",
       "      <th>7</th>\n",
       "      <td>63.3</td>\n",
       "      <td>26.0</td>\n",
       "    </tr>\n",
       "    <tr>\n",
       "      <th>8</th>\n",
       "      <td>51.1</td>\n",
       "      <td>23.3</td>\n",
       "    </tr>\n",
       "    <tr>\n",
       "      <th>9</th>\n",
       "      <td>44.9</td>\n",
       "      <td>8.5</td>\n",
       "    </tr>\n",
       "    <tr>\n",
       "      <th>10</th>\n",
       "      <td>47.0</td>\n",
       "      <td>26.2</td>\n",
       "    </tr>\n",
       "    <tr>\n",
       "      <th>11</th>\n",
       "      <td>53.2</td>\n",
       "      <td>19.1</td>\n",
       "    </tr>\n",
       "    <tr>\n",
       "      <th>12</th>\n",
       "      <td>43.5</td>\n",
       "      <td>24.3</td>\n",
       "    </tr>\n",
       "    <tr>\n",
       "      <th>13</th>\n",
       "      <td>53.2</td>\n",
       "      <td>23.3</td>\n",
       "    </tr>\n",
       "    <tr>\n",
       "      <th>14</th>\n",
       "      <td>37.4</td>\n",
       "      <td>8.4</td>\n",
       "    </tr>\n",
       "    <tr>\n",
       "      <th>15</th>\n",
       "      <td>59.9</td>\n",
       "      <td>23.5</td>\n",
       "    </tr>\n",
       "    <tr>\n",
       "      <th>16</th>\n",
       "      <td>41.5</td>\n",
       "      <td>13.9</td>\n",
       "    </tr>\n",
       "    <tr>\n",
       "      <th>17</th>\n",
       "      <td>75.1</td>\n",
       "      <td>35.5</td>\n",
       "    </tr>\n",
       "    <tr>\n",
       "      <th>18</th>\n",
       "      <td>55.6</td>\n",
       "      <td>27.2</td>\n",
       "    </tr>\n",
       "    <tr>\n",
       "      <th>19</th>\n",
       "      <td>57.2</td>\n",
       "      <td>20.5</td>\n",
       "    </tr>\n",
       "    <tr>\n",
       "      <th>20</th>\n",
       "      <td>46.5</td>\n",
       "      <td>10.2</td>\n",
       "    </tr>\n",
       "    <tr>\n",
       "      <th>21</th>\n",
       "      <td>35.8</td>\n",
       "      <td>20.5</td>\n",
       "    </tr>\n",
       "    <tr>\n",
       "      <th>22</th>\n",
       "      <td>51.9</td>\n",
       "      <td>21.6</td>\n",
       "    </tr>\n",
       "    <tr>\n",
       "      <th>23</th>\n",
       "      <td>38.2</td>\n",
       "      <td>7.9</td>\n",
       "    </tr>\n",
       "    <tr>\n",
       "      <th>24</th>\n",
       "      <td>66.0</td>\n",
       "      <td>42.2</td>\n",
       "    </tr>\n",
       "    <tr>\n",
       "      <th>25</th>\n",
       "      <td>55.3</td>\n",
       "      <td>23.9</td>\n",
       "    </tr>\n",
       "    <tr>\n",
       "      <th>26</th>\n",
       "      <td>55.3</td>\n",
       "      <td>36.9</td>\n",
       "    </tr>\n",
       "    <tr>\n",
       "      <th>27</th>\n",
       "      <td>43.3</td>\n",
       "      <td>8.9</td>\n",
       "    </tr>\n",
       "    <tr>\n",
       "      <th>28</th>\n",
       "      <td>70.5</td>\n",
       "      <td>36.4</td>\n",
       "    </tr>\n",
       "    <tr>\n",
       "      <th>29</th>\n",
       "      <td>38.8</td>\n",
       "      <td>6.4</td>\n",
       "    </tr>\n",
       "  </tbody>\n",
       "</table>\n",
       "</div>"
      ],
      "text/plain": [
       "    beer  temperature\n",
       "0   45.3         20.5\n",
       "1   59.3         25.0\n",
       "2   40.4         10.0\n",
       "3   38.0         26.9\n",
       "4   37.0         15.8\n",
       "5   40.9          4.2\n",
       "6   60.2         13.5\n",
       "7   63.3         26.0\n",
       "8   51.1         23.3\n",
       "9   44.9          8.5\n",
       "10  47.0         26.2\n",
       "11  53.2         19.1\n",
       "12  43.5         24.3\n",
       "13  53.2         23.3\n",
       "14  37.4          8.4\n",
       "15  59.9         23.5\n",
       "16  41.5         13.9\n",
       "17  75.1         35.5\n",
       "18  55.6         27.2\n",
       "19  57.2         20.5\n",
       "20  46.5         10.2\n",
       "21  35.8         20.5\n",
       "22  51.9         21.6\n",
       "23  38.2          7.9\n",
       "24  66.0         42.2\n",
       "25  55.3         23.9\n",
       "26  55.3         36.9\n",
       "27  43.3          8.9\n",
       "28  70.5         36.4\n",
       "29  38.8          6.4"
      ]
     },
     "execution_count": 3,
     "metadata": {},
     "output_type": "execute_result"
    }
   ],
   "source": [
    "beer = pd.read_csv('/Users/kimminsoo/Desktop/ML/data/data_선형회귀/beer.csv')\n",
    "beer"
   ]
  },
  {
   "cell_type": "markdown",
   "metadata": {},
   "source": [
    "### 데이터 탐색"
   ]
  },
  {
   "cell_type": "code",
   "execution_count": 4,
   "metadata": {},
   "outputs": [
    {
     "data": {
      "image/png": "[encoded data removed]",
      "text/plain": [
       "<Figure size 500x500 with 1 Axes>"
      ]
     },
     "metadata": {},
     "output_type": "display_data"
    }
   ],
   "source": [
    "import matplotlib.pyplot as plt\n",
    "\n",
    "plt.figure(figsize=(5,5))\n",
    "plt.scatter(x=beer['temperature'], y=beer['beer'])\n",
    "plt.xlabel('temperature')\n",
    "plt.ylabel('beer')\n",
    "plt.grid()"
   ]
  },
  {
   "cell_type": "code",
   "execution_count": 5,
   "metadata": {},
   "outputs": [
    {
     "data": {
      "text/plain": [
       "0     20.5\n",
       "1     25.0\n",
       "2     10.0\n",
       "3     26.9\n",
       "4     15.8\n",
       "5      4.2\n",
       "6     13.5\n",
       "7     26.0\n",
       "8     23.3\n",
       "9      8.5\n",
       "10    26.2\n",
       "11    19.1\n",
       "12    24.3\n",
       "13    23.3\n",
       "14     8.4\n",
       "15    23.5\n",
       "16    13.9\n",
       "17    35.5\n",
       "18    27.2\n",
       "19    20.5\n",
       "20    10.2\n",
       "21    20.5\n",
       "22    21.6\n",
       "23     7.9\n",
       "24    42.2\n",
       "25    23.9\n",
       "26    36.9\n",
       "27     8.9\n",
       "28    36.4\n",
       "29     6.4\n",
       "Name: temperature, dtype: float64"
      ]
     },
     "execution_count": 5,
     "metadata": {},
     "output_type": "execute_result"
    }
   ],
   "source": [
    "# 독립 변수, 종속 변수 확인\n",
    "# 독립변수\n",
    "beer.temperature\n"
   ]
  },
  {
   "cell_type": "code",
   "execution_count": 6,
   "metadata": {},
   "outputs": [
    {
     "data": {
      "text/plain": [
       "0     45.3\n",
       "1     59.3\n",
       "2     40.4\n",
       "3     38.0\n",
       "4     37.0\n",
       "5     40.9\n",
       "6     60.2\n",
       "7     63.3\n",
       "8     51.1\n",
       "9     44.9\n",
       "10    47.0\n",
       "11    53.2\n",
       "12    43.5\n",
       "13    53.2\n",
       "14    37.4\n",
       "15    59.9\n",
       "16    41.5\n",
       "17    75.1\n",
       "18    55.6\n",
       "19    57.2\n",
       "20    46.5\n",
       "21    35.8\n",
       "22    51.9\n",
       "23    38.2\n",
       "24    66.0\n",
       "25    55.3\n",
       "26    55.3\n",
       "27    43.3\n",
       "28    70.5\n",
       "29    38.8\n",
       "Name: beer, dtype: float64"
      ]
     },
     "execution_count": 6,
     "metadata": {},
     "output_type": "execute_result"
    }
   ],
   "source": [
    "# 종속 변수 확인, 레코드 수 확인\n",
    "# 종속변수 확인\n",
    "beer.beer"
   ]
  },
  {
   "cell_type": "code",
   "execution_count": 7,
   "metadata": {},
   "outputs": [
    {
     "data": {
      "text/plain": [
       "30"
      ]
     },
     "execution_count": 7,
     "metadata": {},
     "output_type": "execute_result"
    }
   ],
   "source": [
    "# 레코드 수 확인\n",
    "len(beer)"
   ]
  },
  {
   "cell_type": "markdown",
   "metadata": {},
   "source": [
    "###  데이터 준비 - 학습용 / 검증용 데이터 분리"
   ]
  },
  {
   "cell_type": "code",
   "execution_count": 8,
   "metadata": {},
   "outputs": [],
   "source": [
    "import numpy as np\n",
    "# 전체 데이터 중 80%는 학습용, 20%는 검증용으로 분리\n",
    "\n",
    "\n",
    "#독립변수, 종속변수 데이터셋 준비\n",
    "## 독립변수를 2차원으로 변환\n",
    "x = np.array(beer.temperature).reshape((-1,1))\n",
    "\n",
    "## 종석변수 데이터셋 준비\n",
    "y = np.array(beer.beer)"
   ]
  },
  {
   "cell_type": "code",
   "execution_count": 9,
   "metadata": {},
   "outputs": [],
   "source": [
    "# 학습용 검증용 데이터셋 준비\n",
    "from sklearn.model_selection import train_test_split\n",
    "x_train, x_test, y_train, y_test = train_test_split(x, y, test_size=0.2, random_state=1)"
   ]
  },
  {
   "cell_type": "code",
   "execution_count": 10,
   "metadata": {},
   "outputs": [
    {
     "data": {
      "text/plain": [
       "(24, 6, 24, 6)"
      ]
     },
     "execution_count": 10,
     "metadata": {},
     "output_type": "execute_result"
    }
   ],
   "source": [
    "len(x_train), len(x_test), len(y_train), len(y_test)"
   ]
  },
  {
   "cell_type": "markdown",
   "metadata": {},
   "source": [
    "### 모델 구축"
   ]
  },
  {
   "cell_type": "code",
   "execution_count": 11,
   "metadata": {},
   "outputs": [],
   "source": [
    "\n",
    "#모델 클래스 선택 후 인스턴스 객체 생성\n",
    "\n",
    "from sklearn.linear_model import LinearRegression\n",
    "\n",
    "lr = LinearRegression()"
   ]
  },
  {
   "cell_type": "code",
   "execution_count": 12,
   "metadata": {},
   "outputs": [],
   "source": [
    "# 학습 수행\n",
    "reg = lr.fit(x_train, y_train)"
   ]
  },
  {
   "cell_type": "code",
   "execution_count": 13,
   "metadata": {},
   "outputs": [],
   "source": [
    "# 계수 및 절편 확인: _속성은 학습을 통해 결정되는 속성\n",
    "w1 = reg.coef_[0]\n",
    "w0 = reg.intercept_"
   ]
  },
  {
   "cell_type": "code",
   "execution_count": 14,
   "metadata": {},
   "outputs": [
    {
     "name": "stdout",
     "output_type": "stream",
     "text": [
      "y=0.70x + 36.07\n"
     ]
    }
   ],
   "source": [
    "#회귀식\n",
    "print(f'y={w1:.2f}x + {w0:.2f}')"
   ]
  },
  {
   "cell_type": "code",
   "execution_count": 15,
   "metadata": {},
   "outputs": [],
   "source": [
    "# 구축된 모델에서 예측 수행\n",
    "## 6개 테스트 데이터로 얻은 예측값\n",
    "y_pred = reg.predict(x_test)"
   ]
  },
  {
   "cell_type": "code",
   "execution_count": 16,
   "metadata": {},
   "outputs": [
    {
     "data": {
      "text/plain": [
       "array([75.1, 35.8, 47. , 57.2, 37.4, 46.5])"
      ]
     },
     "execution_count": 16,
     "metadata": {},
     "output_type": "execute_result"
    }
   ],
   "source": [
    "y_test"
   ]
  },
  {
   "cell_type": "markdown",
   "metadata": {},
   "source": [
    "### 모델 성능 평가"
   ]
  },
  {
   "cell_type": "code",
   "execution_count": 17,
   "metadata": {},
   "outputs": [],
   "source": [
    "from sklearn.metrics import mean_absolute_error, mean_squared_error, r2_score\n",
    "#MSE\n",
    "\n",
    "mse = mean_squared_error(y_test, y_pred)\n",
    "#RMSE\n",
    "\n",
    "rmse = np.sqrt(mse)"
   ]
  },
  {
   "cell_type": "code",
   "execution_count": 18,
   "metadata": {},
   "outputs": [
    {
     "name": "stdout",
     "output_type": "stream",
     "text": [
      "91.34656925529704 9.557539916489862 0.48456481297951504\n"
     ]
    }
   ],
   "source": [
    "#결정계수 R2\n",
    "r2 = r2_score(y_test, y_pred)\n",
    "\n",
    "# mse, rmse, r2\n",
    "## mse: 제곱의합, rmse: 제곱근(단위가 원래 단위로 바뀜)\n",
    "print(mse, rmse, r2)"
   ]
  },
  {
   "cell_type": "markdown",
   "metadata": {},
   "source": [
    "### 시각화"
   ]
  },
  {
   "cell_type": "code",
   "execution_count": 19,
   "metadata": {},
   "outputs": [
    {
     "data": {
      "image/png": "[encoded data removed]",
      "text/plain": [
       "<Figure size 500x500 with 1 Axes>"
      ]
     },
     "metadata": {},
     "output_type": "display_data"
    }
   ],
   "source": [
    "# y = 0.697056X + 36.06 시각화\n",
    "plt.figure(figsize=(5,5))\n",
    "plt.scatter(beer.temperature, beer.beer)\n",
    "plt.grid()\n",
    "\n",
    "# 수집한 데이터셋 시각화\n",
    "xx = np.arange(beer['temperature'].min()-1,\\\n",
    "               beer['temperature'].max()+1)\n",
    "yy = reg.predict(xx.reshape((-1,1)))\n",
    "plt.plot(xx, yy, linestyle='--', color='red')\n",
    "plt.xlabel('temperature')\n",
    "plt.ylabel('beer');\n"
   ]
  },
  {
   "cell_type": "markdown",
   "metadata": {},
   "source": [
    "# 응용1. 나이, 키의 관계를 회귀 분석"
   ]
  },
  {
   "cell_type": "code",
   "execution_count": 20,
   "metadata": {},
   "outputs": [],
   "source": [
    "# 필요한 모듈 import \n",
    "import pandas as pd\n",
    "import matplotlib.pyplot as plt\n",
    "import numpy as np"
   ]
  },
  {
   "cell_type": "markdown",
   "metadata": {},
   "source": [
    "#### 데이터 생성/수집"
   ]
  },
  {
   "cell_type": "code",
   "execution_count": 21,
   "metadata": {},
   "outputs": [
    {
     "data": {
      "text/html": [
       "<div>\n",
       "<style scoped>\n",
       "    .dataframe tbody tr th:only-of-type {\n",
       "        vertical-align: middle;\n",
       "    }\n",
       "\n",
       "    .dataframe tbody tr th {\n",
       "        vertical-align: top;\n",
       "    }\n",
       "\n",
       "    .dataframe thead th {\n",
       "        text-align: right;\n",
       "    }\n",
       "</style>\n",
       "<table border=\"1\" class=\"dataframe\">\n",
       "  <thead>\n",
       "    <tr style=\"text-align: right;\">\n",
       "      <th></th>\n",
       "      <th>age(X)</th>\n",
       "      <th>height(T)</th>\n",
       "    </tr>\n",
       "  </thead>\n",
       "  <tbody>\n",
       "    <tr>\n",
       "      <th>0</th>\n",
       "      <td>15.425550</td>\n",
       "      <td>170.910131</td>\n",
       "    </tr>\n",
       "    <tr>\n",
       "      <th>1</th>\n",
       "      <td>23.008112</td>\n",
       "      <td>160.675599</td>\n",
       "    </tr>\n",
       "    <tr>\n",
       "      <th>2</th>\n",
       "      <td>5.002859</td>\n",
       "      <td>129.002066</td>\n",
       "    </tr>\n",
       "    <tr>\n",
       "      <th>3</th>\n",
       "      <td>12.558314</td>\n",
       "      <td>159.701396</td>\n",
       "    </tr>\n",
       "    <tr>\n",
       "      <th>4</th>\n",
       "      <td>8.668897</td>\n",
       "      <td>155.460589</td>\n",
       "    </tr>\n",
       "    <tr>\n",
       "      <th>5</th>\n",
       "      <td>7.308465</td>\n",
       "      <td>140.561344</td>\n",
       "    </tr>\n",
       "    <tr>\n",
       "      <th>6</th>\n",
       "      <td>9.656505</td>\n",
       "      <td>153.654664</td>\n",
       "    </tr>\n",
       "    <tr>\n",
       "      <th>7</th>\n",
       "      <td>13.639018</td>\n",
       "      <td>159.429396</td>\n",
       "    </tr>\n",
       "    <tr>\n",
       "      <th>8</th>\n",
       "      <td>14.919187</td>\n",
       "      <td>164.704239</td>\n",
       "    </tr>\n",
       "    <tr>\n",
       "      <th>9</th>\n",
       "      <td>18.470418</td>\n",
       "      <td>169.645276</td>\n",
       "    </tr>\n",
       "    <tr>\n",
       "      <th>10</th>\n",
       "      <td>15.479863</td>\n",
       "      <td>160.712575</td>\n",
       "    </tr>\n",
       "    <tr>\n",
       "      <th>11</th>\n",
       "      <td>22.130488</td>\n",
       "      <td>173.287099</td>\n",
       "    </tr>\n",
       "    <tr>\n",
       "      <th>12</th>\n",
       "      <td>10.111306</td>\n",
       "      <td>159.311932</td>\n",
       "    </tr>\n",
       "    <tr>\n",
       "      <th>13</th>\n",
       "      <td>26.952936</td>\n",
       "      <td>171.517573</td>\n",
       "    </tr>\n",
       "    <tr>\n",
       "      <th>14</th>\n",
       "      <td>5.684690</td>\n",
       "      <td>138.957043</td>\n",
       "    </tr>\n",
       "    <tr>\n",
       "      <th>15</th>\n",
       "      <td>21.761688</td>\n",
       "      <td>165.874407</td>\n",
       "    </tr>\n",
       "  </tbody>\n",
       "</table>\n",
       "</div>"
      ],
      "text/plain": [
       "       age(X)   height(T)\n",
       "0   15.425550  170.910131\n",
       "1   23.008112  160.675599\n",
       "2    5.002859  129.002066\n",
       "3   12.558314  159.701396\n",
       "4    8.668897  155.460589\n",
       "5    7.308465  140.561344\n",
       "6    9.656505  153.654664\n",
       "7   13.639018  159.429396\n",
       "8   14.919187  164.704239\n",
       "9   18.470418  169.645276\n",
       "10  15.479863  160.712575\n",
       "11  22.130488  173.287099\n",
       "12  10.111306  159.311932\n",
       "13  26.952936  171.517573\n",
       "14   5.684690  138.957043\n",
       "15  21.761688  165.874407"
      ]
     },
     "execution_count": 21,
     "metadata": {},
     "output_type": "execute_result"
    }
   ],
   "source": [
    "age_height = pd.read_csv('/Users/kimminsoo/Desktop/ML/data/data_선형회귀/age_height.csv')\n",
    "age_height"
   ]
  },
  {
   "cell_type": "markdown",
   "metadata": {},
   "source": [
    "#### 데이터 탐색"
   ]
  },
  {
   "cell_type": "code",
   "execution_count": 22,
   "metadata": {},
   "outputs": [
    {
     "data": {
      "image/png": "[encoded data removed]",
      "text/plain": [
       "<Figure size 500x500 with 1 Axes>"
      ]
     },
     "metadata": {},
     "output_type": "display_data"
    }
   ],
   "source": [
    "# 데이터 분포 시각화\n",
    "plt.figure(figsize=(5,5))\n",
    "plt.scatter(x=age_height['age(X)'], y=age_height['height(T)'])\n",
    "plt.xlabel('age')\n",
    "plt.ylabel('height')\n",
    "plt.grid()"
   ]
  },
  {
   "cell_type": "code",
   "execution_count": 23,
   "metadata": {},
   "outputs": [
    {
     "data": {
      "text/plain": [
       "0     15.425550\n",
       "1     23.008112\n",
       "2      5.002859\n",
       "3     12.558314\n",
       "4      8.668897\n",
       "5      7.308465\n",
       "6      9.656505\n",
       "7     13.639018\n",
       "8     14.919187\n",
       "9     18.470418\n",
       "10    15.479863\n",
       "11    22.130488\n",
       "12    10.111306\n",
       "13    26.952936\n",
       "14     5.684690\n",
       "15    21.761688\n",
       "Name: age(X), dtype: float64"
      ]
     },
     "execution_count": 23,
     "metadata": {},
     "output_type": "execute_result"
    }
   ],
   "source": [
    "age_height['age(X)']"
   ]
  },
  {
   "cell_type": "code",
   "execution_count": 24,
   "metadata": {},
   "outputs": [
    {
     "data": {
      "text/plain": [
       "0     170.910131\n",
       "1     160.675599\n",
       "2     129.002066\n",
       "3     159.701396\n",
       "4     155.460589\n",
       "5     140.561344\n",
       "6     153.654664\n",
       "7     159.429396\n",
       "8     164.704239\n",
       "9     169.645276\n",
       "10    160.712575\n",
       "11    173.287099\n",
       "12    159.311932\n",
       "13    171.517573\n",
       "14    138.957043\n",
       "15    165.874407\n",
       "Name: height(T), dtype: float64"
      ]
     },
     "execution_count": 24,
     "metadata": {},
     "output_type": "execute_result"
    }
   ],
   "source": [
    "age_height['height(T)']"
   ]
  },
  {
   "cell_type": "code",
   "execution_count": 25,
   "metadata": {},
   "outputs": [
    {
     "data": {
      "text/plain": [
       "16"
      ]
     },
     "execution_count": 25,
     "metadata": {},
     "output_type": "execute_result"
    }
   ],
   "source": [
    "len(age_height)"
   ]
  },
  {
   "cell_type": "markdown",
   "metadata": {},
   "source": [
    "#### 데이터 준비 - 학습용 / 검증용 데이터 분리"
   ]
  },
  {
   "cell_type": "code",
   "execution_count": 26,
   "metadata": {},
   "outputs": [],
   "source": [
    "# 전체 데이터 중 80%는 학습용, 20%는 검증용으로 분리\n",
    "x = np.array(age_height['age(X)']).reshape(-1,1)\n",
    "y = np.array(age_height['height(T)'])"
   ]
  },
  {
   "cell_type": "code",
   "execution_count": 27,
   "metadata": {},
   "outputs": [
    {
     "data": {
      "text/plain": [
       "array([[ 9.65650528],\n",
       "       [15.47986286],\n",
       "       [ 8.66889727],\n",
       "       [23.00811234],\n",
       "       [ 5.68468983],\n",
       "       [15.42555012],\n",
       "       [21.76168775],\n",
       "       [18.47041835],\n",
       "       [14.91918686],\n",
       "       [10.11130624],\n",
       "       [22.13048751],\n",
       "       [ 7.30846487]])"
      ]
     },
     "execution_count": 27,
     "metadata": {},
     "output_type": "execute_result"
    }
   ],
   "source": [
    "#####모델 구축 및 예측\n",
    "\n",
    "from sklearn.model_selection import train_test_split\n",
    "x_train, x_test, y_train, y_test = train_test_split(x,y, test_size=0.2, random_state=1)\n",
    "x_train"
   ]
  },
  {
   "cell_type": "code",
   "execution_count": 28,
   "metadata": {},
   "outputs": [
    {
     "data": {
      "text/plain": [
       "(12, 4, 12, 4)"
      ]
     },
     "execution_count": 28,
     "metadata": {},
     "output_type": "execute_result"
    }
   ],
   "source": [
    "len(x_train), len(x_test), len(y_train), len(y_test)"
   ]
  },
  {
   "cell_type": "code",
   "execution_count": 29,
   "metadata": {},
   "outputs": [],
   "source": [
    "#모델 객체 생성  및 학습\n",
    "from sklearn.linear_model import LinearRegression\n",
    "lr = LinearRegression()\n",
    "\n",
    "# 학습 수행\n",
    "reg = lr.fit(x_train, y_train)\n",
    "\n",
    "# 계수 및 절편 확인\n",
    "w1 = reg.coef_[0]\n",
    "w0 = reg.intercept_\n",
    "\n",
    "# 구축된 모델에서 예측 수행\n",
    "y_pred = reg.predict(x_test)\n"
   ]
  },
  {
   "cell_type": "code",
   "execution_count": 30,
   "metadata": {},
   "outputs": [
    {
     "name": "stdout",
     "output_type": "stream",
     "text": [
      "mse= 83.49\n",
      "rmse = 9.14\n",
      "0.6627884107222466\n",
      "y = 1.44x + 138.78419382830361\n"
     ]
    }
   ],
   "source": [
    "#####모델 성능 평가\n",
    "from sklearn.metrics import mean_squared_error, mean_absolute_error, r2_score\n",
    "#MSE : metrcics 모듈의 mean_squared_error() 함수 사용\n",
    "#RMSE : numpy의 sqrt() 함수 사용\n",
    "\n",
    "\n",
    "# MSE\n",
    "mse = mean_squared_error(y_test, y_pred)\n",
    "print(f'mse= {mse:.2f}')\n",
    "\n",
    "#RMSE\n",
    "rmse = np.sqrt(mse)\n",
    "print(f'rmse = {rmse:.2f}')\n",
    "\n",
    "#결정계수 R2\n",
    "r2 = r2_score(y_test, y_pred)\n",
    "print(r2)\n",
    "\n",
    "#회귀식\n",
    "print(f'y = {reg.coef_[0]:.2f}x + {reg.intercept_}')\n",
    "\n",
    "## mse = 1.43"
   ]
  },
  {
   "cell_type": "code",
   "execution_count": 31,
   "metadata": {},
   "outputs": [
    {
     "data": {
      "text/plain": [
       "Text(0, 0.5, 'height')"
      ]
     },
     "execution_count": 31,
     "metadata": {},
     "output_type": "execute_result"
    },
    {
     "data": {
      "image/png": "[encoded data removed]",
      "text/plain": [
       "<Figure size 500x500 with 1 Axes>"
      ]
     },
     "metadata": {},
     "output_type": "display_data"
    }
   ],
   "source": [
    "#나이, 키 데이터 실제 데이터 및 회귀식 시각화\n",
    "plt.figure(figsize=(5,5))\n",
    "plt.scatter(age_height['age(X)'], age_height['height(T)'])\n",
    "plt.grid()\n",
    "\n",
    "#y = 0.697056X + 36.06 시각화\n",
    "xx = np.arange(age_height['age(X)'].min()-1, age_height['age(X)'].max()+1)\n",
    "yy= reg.predict(xx.reshape((-1,1)))\n",
    "plt.plot(xx, yy, ls='--', color='red')\n",
    "plt.xlabel('age')\n",
    "plt.ylabel('height')\n"
   ]
  },
  {
   "cell_type": "markdown",
   "metadata": {},
   "source": [
    "# < 스탯츠모델에서 단순선형회귀 수행>"
   ]
  },
  {
   "cell_type": "code",
   "execution_count": 32,
   "metadata": {},
   "outputs": [
    {
     "data": {
      "text/plain": [
       "array([[ 1. , 35.5],\n",
       "       [ 1. , 20.5],\n",
       "       [ 1. , 26.2],\n",
       "       [ 1. , 20.5],\n",
       "       [ 1. ,  8.4],\n",
       "       [ 1. , 10.2]])"
      ]
     },
     "execution_count": 32,
     "metadata": {},
     "output_type": "execute_result"
    }
   ],
   "source": [
    "#스탯츠모델 import\n",
    "import statsmodels.api as sm\n",
    "# 맥주 데이터 \n",
    "# 데이터 생성\n",
    "beer = pd.read_csv('/Users/kimminsoo/Desktop/ML/data/data_선형회귀/beer.csv')\n",
    "\n",
    "#독립변수, 종속변수 데이터셋 준비\n",
    "x = np.array(beer.temperature).reshape(-1,1)\n",
    "y= beer.beer\n",
    "\n",
    "x_train, x_test, y_train, y_test = train_test_split(x, y, test_size=0.2, random_state=1)\n",
    "x_train = sm.add_constant(x_train)\n",
    "x_test = sm.add_constant(x_test)\n",
    "\n",
    "x_test"
   ]
  },
  {
   "cell_type": "code",
   "execution_count": 33,
   "metadata": {},
   "outputs": [],
   "source": [
    "# 스탯츠모델\n",
    "lr = sm.OLS(y_train, x_train)\n",
    "reg = lr.fit()"
   ]
  },
  {
   "cell_type": "code",
   "execution_count": 34,
   "metadata": {},
   "outputs": [
    {
     "name": "stdout",
     "output_type": "stream",
     "text": [
      "                            OLS Regression Results                            \n",
      "==============================================================================\n",
      "Dep. Variable:                   beer   R-squared:                       0.507\n",
      "Model:                            OLS   Adj. R-squared:                  0.485\n",
      "Method:                 Least Squares   F-statistic:                     22.63\n",
      "Date:                Mon, 13 Feb 2023   Prob (F-statistic):           9.50e-05\n",
      "Time:                        21:03:10   Log-Likelihood:                -79.854\n",
      "No. Observations:                  24   AIC:                             163.7\n",
      "Df Residuals:                      22   BIC:                             166.1\n",
      "Df Model:                           1                                         \n",
      "Covariance Type:            nonrobust                                         \n",
      "==============================================================================\n",
      "                 coef    std err          t      P>|t|      [0.025      0.975]\n",
      "------------------------------------------------------------------------------\n",
      "const         36.0667      3.315     10.881      0.000      29.193      42.941\n",
      "x1             0.6971      0.147      4.757      0.000       0.393       1.001\n",
      "==============================================================================\n",
      "Omnibus:                        1.282   Durbin-Watson:                   1.668\n",
      "Prob(Omnibus):                  0.527   Jarque-Bera (JB):                0.363\n",
      "Skew:                          -0.241   Prob(JB):                        0.834\n",
      "Kurtosis:                       3.360   Cond. No.                         52.2\n",
      "==============================================================================\n",
      "\n",
      "Notes:\n",
      "[1] Standard Errors assume that the covariance matrix of the errors is correctly specified.\n"
     ]
    }
   ],
   "source": [
    "# 성능 평가\n",
    "reg.summary()\n",
    "print(reg.summary())\n"
   ]
  },
  {
   "cell_type": "markdown",
   "metadata": {},
   "source": [
    "# 응용2: 농어 무게 예측"
   ]
  },
  {
   "cell_type": "code",
   "execution_count": 35,
   "metadata": {},
   "outputs": [],
   "source": [
    "import numpy as np\n",
    "perch_length = np.array([8.4, 13.7, 15.0, 16.2, 17.4, 18.0, 18.7, 19.0, 19.6, 20.0, 21.0,\n",
    "       21.0, 21.0, 21.3, 22.0, 22.0, 22.0, 22.0, 22.0, 22.5, 22.5, 22.7,\n",
    "       23.0, 23.5, 24.0, 24.0, 24.6, 25.0, 25.6, 26.5, 27.3, 27.5, 27.5,\n",
    "       27.5, 28.0, 28.7, 30.0, 32.8, 34.5, 35.0, 36.5, 36.0, 37.0, 37.0,\n",
    "       39.0, 39.0, 39.0, 40.0, 40.0, 40.0, 40.0, 42.0, 43.0, 43.0, 43.5,\n",
    "       44.0])\n",
    "perch_weight = np.array([5.9, 32.0, 40.0, 51.5, 70.0, 100.0, 78.0, 80.0, 85.0, 85.0, 110.0,\n",
    "       115.0, 125.0, 130.0, 120.0, 120.0, 130.0, 135.0, 110.0, 130.0,\n",
    "       150.0, 145.0, 150.0, 170.0, 225.0, 145.0, 188.0, 180.0, 197.0,\n",
    "       218.0, 300.0, 260.0, 265.0, 250.0, 250.0, 300.0, 320.0, 514.0,\n",
    "       556.0, 840.0, 685.0, 700.0, 700.0, 690.0, 900.0, 650.0, 820.0,\n",
    "       850.0, 900.0, 1015.0, 820.0, 1100.0, 1000.0, 1100.0, 1000.0,\n",
    "       1000.0])"
   ]
  },
  {
   "cell_type": "code",
   "execution_count": 36,
   "metadata": {},
   "outputs": [
    {
     "data": {
      "image/png": "[encoded data removed]",
      "text/plain": [
       "<Figure size 500x500 with 1 Axes>"
      ]
     },
     "metadata": {},
     "output_type": "display_data"
    }
   ],
   "source": [
    "# 데이터 탐색\n",
    "\n",
    "plt.figure(figsize=(5,5))\n",
    "plt.scatter(x=perch_length, y=perch_weight)\n",
    "plt.xlabel('length')\n",
    "plt.ylabel('weight')\n",
    "plt.grid()"
   ]
  },
  {
   "cell_type": "code",
   "execution_count": 37,
   "metadata": {},
   "outputs": [
    {
     "data": {
      "text/plain": [
       "((56, 1), (56,))"
      ]
     },
     "execution_count": 37,
     "metadata": {},
     "output_type": "execute_result"
    }
   ],
   "source": [
    "# 데이터 준비- 학습용/검증용 데이터 분리\n",
    "x = perch_length.reshape(-1,1)\n",
    "y = perch_weight\n",
    "\n",
    "x.shape, y.shape"
   ]
  },
  {
   "cell_type": "code",
   "execution_count": 38,
   "metadata": {},
   "outputs": [],
   "source": [
    "# 모델 구축 및 예측\n",
    "from sklearn.model_selection import train_test_split\n",
    "x_train, x_test, y_train, y_test = train_test_split(x,y, test_size=0.2, random_state=1)"
   ]
  },
  {
   "cell_type": "code",
   "execution_count": 39,
   "metadata": {},
   "outputs": [
    {
     "data": {
      "text/plain": [
       "(44, 12, 44, 12)"
      ]
     },
     "execution_count": 39,
     "metadata": {},
     "output_type": "execute_result"
    }
   ],
   "source": [
    "len(x_train), len(x_test), len(y_train), len(y_test)"
   ]
  },
  {
   "cell_type": "code",
   "execution_count": 40,
   "metadata": {},
   "outputs": [],
   "source": [
    "# 모델 객체 생성 및 학습\n",
    "from sklearn.linear_model import LinearRegression\n",
    "lr = LinearRegression()\n",
    "\n",
    "# 학습 수행\n",
    "reg = lr.fit(x_train, y_train)\n"
   ]
  },
  {
   "cell_type": "code",
   "execution_count": 41,
   "metadata": {},
   "outputs": [
    {
     "name": "stdout",
     "output_type": "stream",
     "text": [
      "[35.63110638] -618.3317511711567\n"
     ]
    }
   ],
   "source": [
    "# 계수 및 절편 확인\n",
    "w1 = reg.coef_[0]\n",
    "w0 = reg.intercept_\n",
    "\n",
    "print(lr.coef_, lr.intercept_)"
   ]
  },
  {
   "cell_type": "code",
   "execution_count": 42,
   "metadata": {},
   "outputs": [],
   "source": [
    "# 구축된 모델에서 예측 수행\n",
    "y_pred = reg.predict(x_test)"
   ]
  },
  {
   "cell_type": "code",
   "execution_count": 43,
   "metadata": {},
   "outputs": [
    {
     "name": "stdout",
     "output_type": "stream",
     "text": [
      "mse = 14550.24\n",
      "rmse = 120.62\n",
      "0.880333023666755\n"
     ]
    }
   ],
   "source": [
    "# 모델 성능 평가\n",
    "from sklearn.metrics import mean_squared_error, mean_absolute_error, r2_score\n",
    "\n",
    "# MSE\n",
    "mse = mean_squared_error(y_test, y_pred)\n",
    "print(f'mse = {mse:.2f}')\n",
    "\n",
    "# RMSE\n",
    "rmse = np.sqrt(mse)\n",
    "print(f'rmse = {rmse:.2f}')\n",
    "\n",
    "# R2\n",
    "r2 = r2_score(y_test, y_pred)\n",
    "print(r2)"
   ]
  },
  {
   "cell_type": "code",
   "execution_count": 44,
   "metadata": {},
   "outputs": [
    {
     "ename": "TypeError",
     "evalue": "xlabel() missing 1 required positional argument: 'xlabel'",
     "output_type": "error",
     "traceback": [
      "\u001b[0;31m---------------------------------------------------------------------------\u001b[0m",
      "\u001b[0;31mTypeError\u001b[0m                                 Traceback (most recent call last)",
      "\u001b[1;32m/Users/kimminsoo/Desktop/ML/ML/수업자료/210.0.단순선형회귀_A.ipynb Cell 60\u001b[0m in \u001b[0;36m<cell line: 10>\u001b[0;34m()\u001b[0m\n\u001b[1;32m      <a href='vscode-notebook-cell:/Users/kimminsoo/Desktop/ML/ML/%EC%88%98%EC%97%85%EC%9E%90%EB%A3%8C/210.0.%EB%8B%A8%EC%88%9C%EC%84%A0%ED%98%95%ED%9A%8C%EA%B7%80_A.ipynb#Y113sZmlsZQ%3D%3D?line=6'>7</a>\u001b[0m y2 \u001b[39m=\u001b[39m \u001b[39m50\u001b[39m \u001b[39m*\u001b[39m reg\u001b[39m.\u001b[39mcoef_[\u001b[39m0\u001b[39m] \u001b[39m+\u001b[39m reg\u001b[39m.\u001b[39mintercept_\n\u001b[1;32m      <a href='vscode-notebook-cell:/Users/kimminsoo/Desktop/ML/ML/%EC%88%98%EC%97%85%EC%9E%90%EB%A3%8C/210.0.%EB%8B%A8%EC%88%9C%EC%84%A0%ED%98%95%ED%9A%8C%EA%B7%80_A.ipynb#Y113sZmlsZQ%3D%3D?line=8'>9</a>\u001b[0m plt\u001b[39m.\u001b[39mplot([\u001b[39m5\u001b[39m,\u001b[39m50\u001b[39m], [y1, y2], ls\u001b[39m=\u001b[39m\u001b[39m'\u001b[39m\u001b[39m--\u001b[39m\u001b[39m'\u001b[39m, c\u001b[39m=\u001b[39m\u001b[39m'\u001b[39m\u001b[39mr\u001b[39m\u001b[39m'\u001b[39m)\n\u001b[0;32m---> <a href='vscode-notebook-cell:/Users/kimminsoo/Desktop/ML/ML/%EC%88%98%EC%97%85%EC%9E%90%EB%A3%8C/210.0.%EB%8B%A8%EC%88%9C%EC%84%A0%ED%98%95%ED%9A%8C%EA%B7%80_A.ipynb#Y113sZmlsZQ%3D%3D?line=9'>10</a>\u001b[0m plt\u001b[39m.\u001b[39;49mxlabel()\n\u001b[1;32m     <a href='vscode-notebook-cell:/Users/kimminsoo/Desktop/ML/ML/%EC%88%98%EC%97%85%EC%9E%90%EB%A3%8C/210.0.%EB%8B%A8%EC%88%9C%EC%84%A0%ED%98%95%ED%9A%8C%EA%B7%80_A.ipynb#Y113sZmlsZQ%3D%3D?line=10'>11</a>\u001b[0m plt\u001b[39m.\u001b[39mylabel()\n",
      "\u001b[0;31mTypeError\u001b[0m: xlabel() missing 1 required positional argument: 'xlabel'"
     ]
    },
    {
     "data": {
      "image/png": "[encoded data removed]",
      "text/plain": [
       "<Figure size 640x480 with 1 Axes>"
      ]
     },
     "metadata": {},
     "output_type": "display_data"
    }
   ],
   "source": [
    "# 시각화\n",
    "import matplotlib.pyplot as plt\n",
    "\n",
    "plt.scatter(x_train.reshape(-1), y_train)\n",
    "xx = [5, 50]\n",
    "y1 = 5 * reg.coef_[0] + reg.intercept_\n",
    "y2 = 50 * reg.coef_[0] + reg.intercept_\n",
    "\n",
    "plt.plot([5,50], [y1, y2], ls='--', c='r')\n",
    "plt.xlabel()\n",
    "plt.ylabel();"
   ]
  },
  {
   "cell_type": "code",
   "execution_count": null,
   "metadata": {},
   "outputs": [],
   "source": [
    ")"
   ]
  },
  {
   "cell_type": "code",
   "execution_count": null,
   "metadata": {},
   "outputs": [],
   "source": [
    "# 스탯츠 모델\n",
    "import statsmodels.api as sm\n",
    "\n",
    "x = perch_length\n",
    "y = perch_weight\n",
    "\n",
    "x_train, x_test, y_train, y_test = train_test_split(x,y, test_size=0.2, random_state=1)\n",
    "x_train = sm.add_constant(x_train)\n",
    "x_test = sm.add_constant(x_test)"
   ]
  },
  {
   "cell_type": "code",
   "execution_count": null,
   "metadata": {},
   "outputs": [],
   "source": [
    "# 스탯츠모델\n",
    "lr = sm.OLS(y_train, x_train)\n",
    "reg = lr.fit()"
   ]
  },
  {
   "cell_type": "code",
   "execution_count": null,
   "metadata": {},
   "outputs": [
    {
     "name": "stdout",
     "output_type": "stream",
     "text": [
      "                            OLS Regression Results                            \n",
      "==============================================================================\n",
      "Dep. Variable:                      y   R-squared:                       0.923\n",
      "Model:                            OLS   Adj. R-squared:                  0.921\n",
      "Method:                 Least Squares   F-statistic:                     504.9\n",
      "Date:                Tue, 07 Feb 2023   Prob (F-statistic):           4.98e-25\n",
      "Time:                        14:59:13   Log-Likelihood:                -261.47\n",
      "No. Observations:                  44   AIC:                             526.9\n",
      "Df Residuals:                      42   BIC:                             530.5\n",
      "Df Model:                           1                                         \n",
      "Covariance Type:            nonrobust                                         \n",
      "==============================================================================\n",
      "                 coef    std err          t      P>|t|      [0.025      0.975]\n",
      "------------------------------------------------------------------------------\n",
      "const       -618.3318     45.075    -13.718      0.000    -709.298    -527.366\n",
      "x1            35.6311      1.586     22.469      0.000      32.431      38.831\n",
      "==============================================================================\n",
      "Omnibus:                       18.277   Durbin-Watson:                   2.127\n",
      "Prob(Omnibus):                  0.000   Jarque-Bera (JB):               23.668\n",
      "Skew:                           1.377   Prob(JB):                     7.25e-06\n",
      "Kurtosis:                       5.307   Cond. No.                         90.2\n",
      "==============================================================================\n",
      "\n",
      "Notes:\n",
      "[1] Standard Errors assume that the covariance matrix of the errors is correctly specified.\n"
     ]
    }
   ],
   "source": [
    "reg.summary()\n",
    "print(reg.summary())"
   ]
  },
  {
   "cell_type": "markdown",
   "metadata": {},
   "source": [
    "# 응용3: 보스턴 집값 선형 회귀"
   ]
  },
  {
   "cell_type": "code",
   "execution_count": null,
   "metadata": {},
   "outputs": [
    {
     "name": "stderr",
     "output_type": "stream",
     "text": [
      "/Users/kimminsoo/opt/anaconda3/lib/python3.9/site-packages/sklearn/datasets/_openml.py:292: UserWarning: Multiple active versions of the dataset matching the name boston exist. Versions may be fundamentally different, returning version 1.\n",
      "  warn(\n"
     ]
    },
    {
     "data": {
      "text/plain": [
       "{'data':         CRIM    ZN  INDUS CHAS    NOX     RM   AGE     DIS RAD    TAX  \\\n",
       " 0    0.00632  18.0   2.31    0  0.538  6.575  65.2  4.0900   1  296.0   \n",
       " 1    0.02731   0.0   7.07    0  0.469  6.421  78.9  4.9671   2  242.0   \n",
       " 2    0.02729   0.0   7.07    0  0.469  7.185  61.1  4.9671   2  242.0   \n",
       " 3    0.03237   0.0   2.18    0  0.458  6.998  45.8  6.0622   3  222.0   \n",
       " 4    0.06905   0.0   2.18    0  0.458  7.147  54.2  6.0622   3  222.0   \n",
       " ..       ...   ...    ...  ...    ...    ...   ...     ...  ..    ...   \n",
       " 501  0.06263   0.0  11.93    0  0.573  6.593  69.1  2.4786   1  273.0   \n",
       " 502  0.04527   0.0  11.93    0  0.573  6.120  76.7  2.2875   1  273.0   \n",
       " 503  0.06076   0.0  11.93    0  0.573  6.976  91.0  2.1675   1  273.0   \n",
       " 504  0.10959   0.0  11.93    0  0.573  6.794  89.3  2.3889   1  273.0   \n",
       " 505  0.04741   0.0  11.93    0  0.573  6.030  80.8  2.5050   1  273.0   \n",
       " \n",
       "      PTRATIO       B  LSTAT  \n",
       " 0       15.3  396.90   4.98  \n",
       " 1       17.8  396.90   9.14  \n",
       " 2       17.8  392.83   4.03  \n",
       " 3       18.7  394.63   2.94  \n",
       " 4       18.7  396.90   5.33  \n",
       " ..       ...     ...    ...  \n",
       " 501     21.0  391.99   9.67  \n",
       " 502     21.0  396.90   9.08  \n",
       " 503     21.0  396.90   5.64  \n",
       " 504     21.0  393.45   6.48  \n",
       " 505     21.0  396.90   7.88  \n",
       " \n",
       " [506 rows x 13 columns],\n",
       " 'target': 0      24.0\n",
       " 1      21.6\n",
       " 2      34.7\n",
       " 3      33.4\n",
       " 4      36.2\n",
       "        ... \n",
       " 501    22.4\n",
       " 502    20.6\n",
       " 503    23.9\n",
       " 504    22.0\n",
       " 505    11.9\n",
       " Name: MEDV, Length: 506, dtype: float64,\n",
       " 'frame':         CRIM    ZN  INDUS CHAS    NOX     RM   AGE     DIS RAD    TAX  \\\n",
       " 0    0.00632  18.0   2.31    0  0.538  6.575  65.2  4.0900   1  296.0   \n",
       " 1    0.02731   0.0   7.07    0  0.469  6.421  78.9  4.9671   2  242.0   \n",
       " 2    0.02729   0.0   7.07    0  0.469  7.185  61.1  4.9671   2  242.0   \n",
       " 3    0.03237   0.0   2.18    0  0.458  6.998  45.8  6.0622   3  222.0   \n",
       " 4    0.06905   0.0   2.18    0  0.458  7.147  54.2  6.0622   3  222.0   \n",
       " ..       ...   ...    ...  ...    ...    ...   ...     ...  ..    ...   \n",
       " 501  0.06263   0.0  11.93    0  0.573  6.593  69.1  2.4786   1  273.0   \n",
       " 502  0.04527   0.0  11.93    0  0.573  6.120  76.7  2.2875   1  273.0   \n",
       " 503  0.06076   0.0  11.93    0  0.573  6.976  91.0  2.1675   1  273.0   \n",
       " 504  0.10959   0.0  11.93    0  0.573  6.794  89.3  2.3889   1  273.0   \n",
       " 505  0.04741   0.0  11.93    0  0.573  6.030  80.8  2.5050   1  273.0   \n",
       " \n",
       "      PTRATIO       B  LSTAT  MEDV  \n",
       " 0       15.3  396.90   4.98  24.0  \n",
       " 1       17.8  396.90   9.14  21.6  \n",
       " 2       17.8  392.83   4.03  34.7  \n",
       " 3       18.7  394.63   2.94  33.4  \n",
       " 4       18.7  396.90   5.33  36.2  \n",
       " ..       ...     ...    ...   ...  \n",
       " 501     21.0  391.99   9.67  22.4  \n",
       " 502     21.0  396.90   9.08  20.6  \n",
       " 503     21.0  396.90   5.64  23.9  \n",
       " 504     21.0  393.45   6.48  22.0  \n",
       " 505     21.0  396.90   7.88  11.9  \n",
       " \n",
       " [506 rows x 14 columns],\n",
       " 'categories': None,\n",
       " 'feature_names': ['CRIM',\n",
       "  'ZN',\n",
       "  'INDUS',\n",
       "  'CHAS',\n",
       "  'NOX',\n",
       "  'RM',\n",
       "  'AGE',\n",
       "  'DIS',\n",
       "  'RAD',\n",
       "  'TAX',\n",
       "  'PTRATIO',\n",
       "  'B',\n",
       "  'LSTAT'],\n",
       " 'target_names': ['MEDV'],\n",
       " 'DESCR': \"**Author**:   \\n**Source**: Unknown - Date unknown  \\n**Please cite**:   \\n\\nThe Boston house-price data of Harrison, D. and Rubinfeld, D.L. 'Hedonic\\nprices and the demand for clean air', J. Environ. Economics & Management,\\nvol.5, 81-102, 1978.   Used in Belsley, Kuh & Welsch, 'Regression diagnostics\\n...', Wiley, 1980.   N.B. Various transformations are used in the table on\\npages 244-261 of the latter.\\nVariables in order:\\nCRIM     per capita crime rate by town\\nZN       proportion of residential land zoned for lots over 25,000 sq.ft.\\nINDUS    proportion of non-retail business acres per town\\nCHAS     Charles River dummy variable (= 1 if tract bounds river; 0 otherwise)\\nNOX      nitric oxides concentration (parts per 10 million)\\nRM       average number of rooms per dwelling\\nAGE      proportion of owner-occupied units built prior to 1940\\nDIS      weighted distances to five Boston employment centres\\nRAD      index of accessibility to radial highways\\nTAX      full-value property-tax rate per $10,000\\nPTRATIO  pupil-teacher ratio by town\\nB        1000(Bk - 0.63)^2 where Bk is the proportion of blacks by town\\nLSTAT    % lower status of the population\\nMEDV     Median value of owner-occupied homes in $1000's\\n\\n\\nInformation about the dataset\\nCLASSTYPE: numeric\\nCLASSINDEX: last\\n\\nDownloaded from openml.org.\",\n",
       " 'details': {'id': '531',\n",
       "  'name': 'boston',\n",
       "  'version': '1',\n",
       "  'description_version': '1',\n",
       "  'format': 'ARFF',\n",
       "  'creator': ['D. and Rubinfeld', \"D.L. 'Hedonic\"],\n",
       "  'collection_date': '1978',\n",
       "  'upload_date': '2014-09-29T00:08:07',\n",
       "  'language': 'English',\n",
       "  'licence': 'Public',\n",
       "  'url': 'https://api.openml.org/data/v1/download/52643/boston.arff',\n",
       "  'parquet_url': 'http://openml1.win.tue.nl/dataset531/dataset_531.pq',\n",
       "  'file_id': '52643',\n",
       "  'default_target_attribute': 'MEDV',\n",
       "  'tag': ['OpenML-Reg19', 'study_130'],\n",
       "  'visibility': 'public',\n",
       "  'minio_url': 'http://openml1.win.tue.nl/dataset531/dataset_531.pq',\n",
       "  'status': 'active',\n",
       "  'processing_date': '2020-11-20 20:16:37',\n",
       "  'md5_checksum': 'cdd361fb886627eaa80c92f90d0610cc'},\n",
       " 'url': 'https://www.openml.org/d/531'}"
      ]
     },
     "execution_count": 98,
     "metadata": {},
     "output_type": "execute_result"
    }
   ],
   "source": [
    "from sklearn import datasets\n",
    "boston = datasets.fetch_openml('boston')\n",
    "boston"
   ]
  },
  {
   "cell_type": "code",
   "execution_count": null,
   "metadata": {},
   "outputs": [
    {
     "name": "stdout",
     "output_type": "stream",
     "text": [
      "<class 'pandas.core.frame.DataFrame'>\n"
     ]
    }
   ],
   "source": [
    "print(type(boston.data))"
   ]
  },
  {
   "cell_type": "markdown",
   "metadata": {},
   "source": [
    "### 데이터 수집"
   ]
  },
  {
   "cell_type": "code",
   "execution_count": null,
   "metadata": {},
   "outputs": [],
   "source": [
    "# from sklearn.datasets import load_boston\n",
    "\n",
    "# boston = load_boston()"
   ]
  },
  {
   "cell_type": "markdown",
   "metadata": {},
   "source": [
    "### 데이터 탐색"
   ]
  },
  {
   "cell_type": "raw",
   "metadata": {},
   "source": [
    "# attribute의 의미\n",
    "CRIM: 지역별 범죄 발생률\n",
    " ZN: 25,000평방피트를 초과하는 거주 지역 비율\n",
    " INDUS: 비상업 지역의 넓이 비율\n",
    " CHAS: 찰스강의 더미변수(1은 강의 경계, 0은 경계 아님)\n",
    " NOX: 일산화질소 농도\n",
    " RM: 거주할 수 있는 방 개수\n",
    " AGE: 1940년 이전에 건축된 주택 비율\n",
    " DIS: 5개 주요 고용센터까지 가중 거리\n",
    " RAD: 고속도로 접근 용이도\n",
    "TAX: 10,000달러당 재산세 비율  \n",
    "PTRATIO: 지역의 교사와 학생 수 비율  \n",
    "B: 지역의 흑인 거주 비율  \n",
    "LSTAT: 하위 계층의 비율  \n",
    "PRICE(MEDV): 본인 소유 주택 가격의 중앙값\n"
   ]
  },
  {
   "cell_type": "code",
   "execution_count": null,
   "metadata": {},
   "outputs": [
    {
     "data": {
      "text/plain": [
       "['DESCR', 'data', 'data_module', 'feature_names', 'filename', 'target']"
      ]
     },
     "execution_count": 70,
     "metadata": {},
     "output_type": "execute_result"
    }
   ],
   "source": [
    "dir(boston)"
   ]
  },
  {
   "cell_type": "code",
   "execution_count": null,
   "metadata": {},
   "outputs": [
    {
     "name": "stdout",
     "output_type": "stream",
     "text": [
      ".. _boston_dataset:\n",
      "\n",
      "Boston house prices dataset\n",
      "---------------------------\n",
      "\n",
      "**Data Set Characteristics:**  \n",
      "\n",
      "    :Number of Instances: 506 \n",
      "\n",
      "    :Number of Attributes: 13 numeric/categorical predictive. Median Value (attribute 14) is usually the target.\n",
      "\n",
      "    :Attribute Information (in order):\n",
      "        - CRIM     per capita crime rate by town\n",
      "        - ZN       proportion of residential land zoned for lots over 25,000 sq.ft.\n",
      "        - INDUS    proportion of non-retail business acres per town\n",
      "        - CHAS     Charles River dummy variable (= 1 if tract bounds river; 0 otherwise)\n",
      "        - NOX      nitric oxides concentration (parts per 10 million)\n",
      "        - RM       average number of rooms per dwelling\n",
      "        - AGE      proportion of owner-occupied units built prior to 1940\n",
      "        - DIS      weighted distances to five Boston employment centres\n",
      "        - RAD      index of accessibility to radial highways\n",
      "        - TAX      full-value property-tax rate per $10,000\n",
      "        - PTRATIO  pupil-teacher ratio by town\n",
      "        - B        1000(Bk - 0.63)^2 where Bk is the proportion of black people by town\n",
      "        - LSTAT    % lower status of the population\n",
      "        - MEDV     Median value of owner-occupied homes in $1000's\n",
      "\n",
      "    :Missing Attribute Values: None\n",
      "\n",
      "    :Creator: Harrison, D. and Rubinfeld, D.L.\n",
      "\n",
      "This is a copy of UCI ML housing dataset.\n",
      "https://archive.ics.uci.edu/ml/machine-learning-databases/housing/\n",
      "\n",
      "\n",
      "This dataset was taken from the StatLib library which is maintained at Carnegie Mellon University.\n",
      "\n",
      "The Boston house-price data of Harrison, D. and Rubinfeld, D.L. 'Hedonic\n",
      "prices and the demand for clean air', J. Environ. Economics & Management,\n",
      "vol.5, 81-102, 1978.   Used in Belsley, Kuh & Welsch, 'Regression diagnostics\n",
      "...', Wiley, 1980.   N.B. Various transformations are used in the table on\n",
      "pages 244-261 of the latter.\n",
      "\n",
      "The Boston house-price data has been used in many machine learning papers that address regression\n",
      "problems.   \n",
      "     \n",
      ".. topic:: References\n",
      "\n",
      "   - Belsley, Kuh & Welsch, 'Regression diagnostics: Identifying Influential Data and Sources of Collinearity', Wiley, 1980. 244-261.\n",
      "   - Quinlan,R. (1993). Combining Instance-Based and Model-Based Learning. In Proceedings on the Tenth International Conference of Machine Learning, 236-243, University of Massachusetts, Amherst. Morgan Kaufmann.\n",
      "\n"
     ]
    }
   ],
   "source": [
    "print(boston.DESCR)"
   ]
  },
  {
   "cell_type": "code",
   "execution_count": null,
   "metadata": {},
   "outputs": [
    {
     "name": "stdout",
     "output_type": "stream",
     "text": [
      "[[6.3200e-03 1.8000e+01 2.3100e+00 ... 1.5300e+01 3.9690e+02 4.9800e+00]\n",
      " [2.7310e-02 0.0000e+00 7.0700e+00 ... 1.7800e+01 3.9690e+02 9.1400e+00]\n",
      " [2.7290e-02 0.0000e+00 7.0700e+00 ... 1.7800e+01 3.9283e+02 4.0300e+00]\n",
      " ...\n",
      " [6.0760e-02 0.0000e+00 1.1930e+01 ... 2.1000e+01 3.9690e+02 5.6400e+00]\n",
      " [1.0959e-01 0.0000e+00 1.1930e+01 ... 2.1000e+01 3.9345e+02 6.4800e+00]\n",
      " [4.7410e-02 0.0000e+00 1.1930e+01 ... 2.1000e+01 3.9690e+02 7.8800e+00]]\n"
     ]
    }
   ],
   "source": [
    "print(boston.data)"
   ]
  },
  {
   "cell_type": "code",
   "execution_count": null,
   "metadata": {},
   "outputs": [
    {
     "name": "stdout",
     "output_type": "stream",
     "text": [
      "[[6.3200e-03 1.8000e+01 2.3100e+00 0.0000e+00 5.3800e-01 6.5750e+00\n",
      "  6.5200e+01 4.0900e+00 1.0000e+00 2.9600e+02 1.5300e+01 3.9690e+02\n",
      "  4.9800e+00]\n",
      " [2.7310e-02 0.0000e+00 7.0700e+00 0.0000e+00 4.6900e-01 6.4210e+00\n",
      "  7.8900e+01 4.9671e+00 2.0000e+00 2.4200e+02 1.7800e+01 3.9690e+02\n",
      "  9.1400e+00]\n",
      " [2.7290e-02 0.0000e+00 7.0700e+00 0.0000e+00 4.6900e-01 7.1850e+00\n",
      "  6.1100e+01 4.9671e+00 2.0000e+00 2.4200e+02 1.7800e+01 3.9283e+02\n",
      "  4.0300e+00]\n",
      " [3.2370e-02 0.0000e+00 2.1800e+00 0.0000e+00 4.5800e-01 6.9980e+00\n",
      "  4.5800e+01 6.0622e+00 3.0000e+00 2.2200e+02 1.8700e+01 3.9463e+02\n",
      "  2.9400e+00]\n",
      " [6.9050e-02 0.0000e+00 2.1800e+00 0.0000e+00 4.5800e-01 7.1470e+00\n",
      "  5.4200e+01 6.0622e+00 3.0000e+00 2.2200e+02 1.8700e+01 3.9690e+02\n",
      "  5.3300e+00]]\n"
     ]
    }
   ],
   "source": [
    "print(boston.data[:5])"
   ]
  },
  {
   "cell_type": "code",
   "execution_count": null,
   "metadata": {},
   "outputs": [
    {
     "name": "stdout",
     "output_type": "stream",
     "text": [
      "[24.  21.6 34.7 33.4 36.2]\n"
     ]
    }
   ],
   "source": [
    "print(boston.target[:5])"
   ]
  },
  {
   "cell_type": "code",
   "execution_count": null,
   "metadata": {},
   "outputs": [
    {
     "name": "stdout",
     "output_type": "stream",
     "text": [
      "['CRIM', 'ZN', 'INDUS', 'CHAS', 'NOX', 'RM', 'AGE', 'DIS', 'RAD', 'TAX', 'PTRATIO', 'B', 'LSTAT']\n",
      "['MEDV']\n"
     ]
    }
   ],
   "source": [
    "print(boston.feature_names)\n",
    "print(boston.target_names)"
   ]
  },
  {
   "cell_type": "markdown",
   "metadata": {},
   "source": [
    "### 데이터 준비"
   ]
  },
  {
   "cell_type": "code",
   "execution_count": null,
   "metadata": {},
   "outputs": [],
   "source": [
    "# boston 데이터에서 독립변수(RM), 종속 변수를 각각 골라내고 데이터프레임으로 변환"
   ]
  },
  {
   "cell_type": "code",
   "execution_count": null,
   "metadata": {},
   "outputs": [
    {
     "ename": "AttributeError",
     "evalue": "RM",
     "output_type": "error",
     "traceback": [
      "\u001b[0;31m---------------------------------------------------------------------------\u001b[0m",
      "\u001b[0;31mKeyError\u001b[0m                                  Traceback (most recent call last)",
      "File \u001b[0;32m~/opt/anaconda3/lib/python3.9/site-packages/sklearn/utils/_bunch.py:35\u001b[0m, in \u001b[0;36mBunch.__getattr__\u001b[0;34m(self, key)\u001b[0m\n\u001b[1;32m     34\u001b[0m \u001b[39mtry\u001b[39;00m:\n\u001b[0;32m---> 35\u001b[0m     \u001b[39mreturn\u001b[39;00m \u001b[39mself\u001b[39;49m[key]\n\u001b[1;32m     36\u001b[0m \u001b[39mexcept\u001b[39;00m \u001b[39mKeyError\u001b[39;00m:\n",
      "\u001b[0;31mKeyError\u001b[0m: 'RM'",
      "\nDuring handling of the above exception, another exception occurred:\n",
      "\u001b[0;31mAttributeError\u001b[0m                            Traceback (most recent call last)",
      "\u001b[1;32m/Users/kimminsoo/Desktop/ML/ML/수업자료/210.0.단순선형회귀_A.ipynb Cell 80\u001b[0m in \u001b[0;36m<cell line: 3>\u001b[0;34m()\u001b[0m\n\u001b[1;32m      <a href='vscode-notebook-cell:/Users/kimminsoo/Desktop/ML/ML/%EC%88%98%EC%97%85%EC%9E%90%EB%A3%8C/210.0.%EB%8B%A8%EC%88%9C%EC%84%A0%ED%98%95%ED%9A%8C%EA%B7%80_A.ipynb#Y122sZmlsZQ%3D%3D?line=0'>1</a>\u001b[0m \u001b[39mimport\u001b[39;00m \u001b[39mpandas\u001b[39;00m \u001b[39mas\u001b[39;00m \u001b[39mpd\u001b[39;00m\n\u001b[0;32m----> <a href='vscode-notebook-cell:/Users/kimminsoo/Desktop/ML/ML/%EC%88%98%EC%97%85%EC%9E%90%EB%A3%8C/210.0.%EB%8B%A8%EC%88%9C%EC%84%A0%ED%98%95%ED%9A%8C%EA%B7%80_A.ipynb#Y122sZmlsZQ%3D%3D?line=2'>3</a>\u001b[0m x \u001b[39m=\u001b[39m boston\u001b[39m.\u001b[39;49mRM\n\u001b[1;32m      <a href='vscode-notebook-cell:/Users/kimminsoo/Desktop/ML/ML/%EC%88%98%EC%97%85%EC%9E%90%EB%A3%8C/210.0.%EB%8B%A8%EC%88%9C%EC%84%A0%ED%98%95%ED%9A%8C%EA%B7%80_A.ipynb#Y122sZmlsZQ%3D%3D?line=3'>4</a>\u001b[0m y \u001b[39m=\u001b[39m boston\u001b[39m.\u001b[39mtarget\n",
      "File \u001b[0;32m~/opt/anaconda3/lib/python3.9/site-packages/sklearn/utils/_bunch.py:37\u001b[0m, in \u001b[0;36mBunch.__getattr__\u001b[0;34m(self, key)\u001b[0m\n\u001b[1;32m     35\u001b[0m     \u001b[39mreturn\u001b[39;00m \u001b[39mself\u001b[39m[key]\n\u001b[1;32m     36\u001b[0m \u001b[39mexcept\u001b[39;00m \u001b[39mKeyError\u001b[39;00m:\n\u001b[0;32m---> 37\u001b[0m     \u001b[39mraise\u001b[39;00m \u001b[39mAttributeError\u001b[39;00m(key)\n",
      "\u001b[0;31mAttributeError\u001b[0m: RM"
     ]
    }
   ],
   "source": [
    "import pandas as pd\n",
    "\n",
    "x = boston.RM\n",
    "y = boston.target\n"
   ]
  },
  {
   "cell_type": "code",
   "execution_count": null,
   "metadata": {},
   "outputs": [],
   "source": []
  },
  {
   "cell_type": "code",
   "execution_count": null,
   "metadata": {},
   "outputs": [
    {
     "ename": "ValueError",
     "evalue": "x and y must be the same size",
     "output_type": "error",
     "traceback": [
      "\u001b[0;31m---------------------------------------------------------------------------\u001b[0m",
      "\u001b[0;31mValueError\u001b[0m                                Traceback (most recent call last)",
      "\u001b[1;32m/Users/kimminsoo/Desktop/ML/ML/수업자료/210.0.단순선형회귀_A.ipynb Cell 72\u001b[0m in \u001b[0;36m<cell line: 4>\u001b[0;34m()\u001b[0m\n\u001b[1;32m      <a href='vscode-notebook-cell:/Users/kimminsoo/Desktop/ML/ML/%EC%88%98%EC%97%85%EC%9E%90%EB%A3%8C/210.0.%EB%8B%A8%EC%88%9C%EC%84%A0%ED%98%95%ED%9A%8C%EA%B7%80_A.ipynb#Y124sZmlsZQ%3D%3D?line=0'>1</a>\u001b[0m \u001b[39m#데이터 탐색\u001b[39;00m\n\u001b[1;32m      <a href='vscode-notebook-cell:/Users/kimminsoo/Desktop/ML/ML/%EC%88%98%EC%97%85%EC%9E%90%EB%A3%8C/210.0.%EB%8B%A8%EC%88%9C%EC%84%A0%ED%98%95%ED%9A%8C%EA%B7%80_A.ipynb#Y124sZmlsZQ%3D%3D?line=1'>2</a>\u001b[0m \u001b[39m# RUM과 MEDV의 관계 시각화\u001b[39;00m\n\u001b[1;32m      <a href='vscode-notebook-cell:/Users/kimminsoo/Desktop/ML/ML/%EC%88%98%EC%97%85%EC%9E%90%EB%A3%8C/210.0.%EB%8B%A8%EC%88%9C%EC%84%A0%ED%98%95%ED%9A%8C%EA%B7%80_A.ipynb#Y124sZmlsZQ%3D%3D?line=2'>3</a>\u001b[0m plt\u001b[39m.\u001b[39mfigure(figsize\u001b[39m=\u001b[39m(\u001b[39m5\u001b[39m,\u001b[39m5\u001b[39m))\n\u001b[0;32m----> <a href='vscode-notebook-cell:/Users/kimminsoo/Desktop/ML/ML/%EC%88%98%EC%97%85%EC%9E%90%EB%A3%8C/210.0.%EB%8B%A8%EC%88%9C%EC%84%A0%ED%98%95%ED%9A%8C%EA%B7%80_A.ipynb#Y124sZmlsZQ%3D%3D?line=3'>4</a>\u001b[0m plt\u001b[39m.\u001b[39;49mscatter(x, y, s\u001b[39m=\u001b[39;49m\u001b[39m5\u001b[39;49m, c\u001b[39m=\u001b[39;49m\u001b[39m'\u001b[39;49m\u001b[39mred\u001b[39;49m\u001b[39m'\u001b[39;49m)\n\u001b[1;32m      <a href='vscode-notebook-cell:/Users/kimminsoo/Desktop/ML/ML/%EC%88%98%EC%97%85%EC%9E%90%EB%A3%8C/210.0.%EB%8B%A8%EC%88%9C%EC%84%A0%ED%98%95%ED%9A%8C%EA%B7%80_A.ipynb#Y124sZmlsZQ%3D%3D?line=4'>5</a>\u001b[0m plt\u001b[39m.\u001b[39mxlabel(\u001b[39m'\u001b[39m\u001b[39mroom\u001b[39m\u001b[39m'\u001b[39m)\n\u001b[1;32m      <a href='vscode-notebook-cell:/Users/kimminsoo/Desktop/ML/ML/%EC%88%98%EC%97%85%EC%9E%90%EB%A3%8C/210.0.%EB%8B%A8%EC%88%9C%EC%84%A0%ED%98%95%ED%9A%8C%EA%B7%80_A.ipynb#Y124sZmlsZQ%3D%3D?line=5'>6</a>\u001b[0m plt\u001b[39m.\u001b[39mylabel(\u001b[39m'\u001b[39m\u001b[39mprice\u001b[39m\u001b[39m'\u001b[39m)\n",
      "File \u001b[0;32m~/opt/anaconda3/lib/python3.9/site-packages/matplotlib/pyplot.py:2819\u001b[0m, in \u001b[0;36mscatter\u001b[0;34m(x, y, s, c, marker, cmap, norm, vmin, vmax, alpha, linewidths, edgecolors, plotnonfinite, data, **kwargs)\u001b[0m\n\u001b[1;32m   2814\u001b[0m \u001b[39m@_copy_docstring_and_deprecators\u001b[39m(Axes\u001b[39m.\u001b[39mscatter)\n\u001b[1;32m   2815\u001b[0m \u001b[39mdef\u001b[39;00m \u001b[39mscatter\u001b[39m(\n\u001b[1;32m   2816\u001b[0m         x, y, s\u001b[39m=\u001b[39m\u001b[39mNone\u001b[39;00m, c\u001b[39m=\u001b[39m\u001b[39mNone\u001b[39;00m, marker\u001b[39m=\u001b[39m\u001b[39mNone\u001b[39;00m, cmap\u001b[39m=\u001b[39m\u001b[39mNone\u001b[39;00m, norm\u001b[39m=\u001b[39m\u001b[39mNone\u001b[39;00m,\n\u001b[1;32m   2817\u001b[0m         vmin\u001b[39m=\u001b[39m\u001b[39mNone\u001b[39;00m, vmax\u001b[39m=\u001b[39m\u001b[39mNone\u001b[39;00m, alpha\u001b[39m=\u001b[39m\u001b[39mNone\u001b[39;00m, linewidths\u001b[39m=\u001b[39m\u001b[39mNone\u001b[39;00m, \u001b[39m*\u001b[39m,\n\u001b[1;32m   2818\u001b[0m         edgecolors\u001b[39m=\u001b[39m\u001b[39mNone\u001b[39;00m, plotnonfinite\u001b[39m=\u001b[39m\u001b[39mFalse\u001b[39;00m, data\u001b[39m=\u001b[39m\u001b[39mNone\u001b[39;00m, \u001b[39m*\u001b[39m\u001b[39m*\u001b[39mkwargs):\n\u001b[0;32m-> 2819\u001b[0m     __ret \u001b[39m=\u001b[39m gca()\u001b[39m.\u001b[39;49mscatter(\n\u001b[1;32m   2820\u001b[0m         x, y, s\u001b[39m=\u001b[39;49ms, c\u001b[39m=\u001b[39;49mc, marker\u001b[39m=\u001b[39;49mmarker, cmap\u001b[39m=\u001b[39;49mcmap, norm\u001b[39m=\u001b[39;49mnorm,\n\u001b[1;32m   2821\u001b[0m         vmin\u001b[39m=\u001b[39;49mvmin, vmax\u001b[39m=\u001b[39;49mvmax, alpha\u001b[39m=\u001b[39;49malpha, linewidths\u001b[39m=\u001b[39;49mlinewidths,\n\u001b[1;32m   2822\u001b[0m         edgecolors\u001b[39m=\u001b[39;49medgecolors, plotnonfinite\u001b[39m=\u001b[39;49mplotnonfinite,\n\u001b[1;32m   2823\u001b[0m         \u001b[39m*\u001b[39;49m\u001b[39m*\u001b[39;49m({\u001b[39m\"\u001b[39;49m\u001b[39mdata\u001b[39;49m\u001b[39m\"\u001b[39;49m: data} \u001b[39mif\u001b[39;49;00m data \u001b[39mis\u001b[39;49;00m \u001b[39mnot\u001b[39;49;00m \u001b[39mNone\u001b[39;49;00m \u001b[39melse\u001b[39;49;00m {}), \u001b[39m*\u001b[39;49m\u001b[39m*\u001b[39;49mkwargs)\n\u001b[1;32m   2824\u001b[0m     sci(__ret)\n\u001b[1;32m   2825\u001b[0m     \u001b[39mreturn\u001b[39;00m __ret\n",
      "File \u001b[0;32m~/opt/anaconda3/lib/python3.9/site-packages/matplotlib/__init__.py:1412\u001b[0m, in \u001b[0;36m_preprocess_data.<locals>.inner\u001b[0;34m(ax, data, *args, **kwargs)\u001b[0m\n\u001b[1;32m   1409\u001b[0m \u001b[39m@functools\u001b[39m\u001b[39m.\u001b[39mwraps(func)\n\u001b[1;32m   1410\u001b[0m \u001b[39mdef\u001b[39;00m \u001b[39minner\u001b[39m(ax, \u001b[39m*\u001b[39margs, data\u001b[39m=\u001b[39m\u001b[39mNone\u001b[39;00m, \u001b[39m*\u001b[39m\u001b[39m*\u001b[39mkwargs):\n\u001b[1;32m   1411\u001b[0m     \u001b[39mif\u001b[39;00m data \u001b[39mis\u001b[39;00m \u001b[39mNone\u001b[39;00m:\n\u001b[0;32m-> 1412\u001b[0m         \u001b[39mreturn\u001b[39;00m func(ax, \u001b[39m*\u001b[39;49m\u001b[39mmap\u001b[39;49m(sanitize_sequence, args), \u001b[39m*\u001b[39;49m\u001b[39m*\u001b[39;49mkwargs)\n\u001b[1;32m   1414\u001b[0m     bound \u001b[39m=\u001b[39m new_sig\u001b[39m.\u001b[39mbind(ax, \u001b[39m*\u001b[39margs, \u001b[39m*\u001b[39m\u001b[39m*\u001b[39mkwargs)\n\u001b[1;32m   1415\u001b[0m     auto_label \u001b[39m=\u001b[39m (bound\u001b[39m.\u001b[39marguments\u001b[39m.\u001b[39mget(label_namer)\n\u001b[1;32m   1416\u001b[0m                   \u001b[39mor\u001b[39;00m bound\u001b[39m.\u001b[39mkwargs\u001b[39m.\u001b[39mget(label_namer))\n",
      "File \u001b[0;32m~/opt/anaconda3/lib/python3.9/site-packages/matplotlib/axes/_axes.py:4362\u001b[0m, in \u001b[0;36mAxes.scatter\u001b[0;34m(self, x, y, s, c, marker, cmap, norm, vmin, vmax, alpha, linewidths, edgecolors, plotnonfinite, **kwargs)\u001b[0m\n\u001b[1;32m   4360\u001b[0m y \u001b[39m=\u001b[39m np\u001b[39m.\u001b[39mma\u001b[39m.\u001b[39mravel(y)\n\u001b[1;32m   4361\u001b[0m \u001b[39mif\u001b[39;00m x\u001b[39m.\u001b[39msize \u001b[39m!=\u001b[39m y\u001b[39m.\u001b[39msize:\n\u001b[0;32m-> 4362\u001b[0m     \u001b[39mraise\u001b[39;00m \u001b[39mValueError\u001b[39;00m(\u001b[39m\"\u001b[39m\u001b[39mx and y must be the same size\u001b[39m\u001b[39m\"\u001b[39m)\n\u001b[1;32m   4364\u001b[0m \u001b[39mif\u001b[39;00m s \u001b[39mis\u001b[39;00m \u001b[39mNone\u001b[39;00m:\n\u001b[1;32m   4365\u001b[0m     s \u001b[39m=\u001b[39m (\u001b[39m20\u001b[39m \u001b[39mif\u001b[39;00m rcParams[\u001b[39m'\u001b[39m\u001b[39m_internal.classic_mode\u001b[39m\u001b[39m'\u001b[39m] \u001b[39melse\u001b[39;00m\n\u001b[1;32m   4366\u001b[0m          rcParams[\u001b[39m'\u001b[39m\u001b[39mlines.markersize\u001b[39m\u001b[39m'\u001b[39m] \u001b[39m*\u001b[39m\u001b[39m*\u001b[39m \u001b[39m2.0\u001b[39m)\n",
      "\u001b[0;31mValueError\u001b[0m: x and y must be the same size"
     ]
    },
    {
     "data": {
      "image/png": "[encoded data removed]",
      "text/plain": [
       "<Figure size 500x500 with 1 Axes>"
      ]
     },
     "metadata": {},
     "output_type": "display_data"
    }
   ],
   "source": [
    "#데이터 탐색\n",
    "# RUM과 MEDV의 관계 시각화\n",
    "plt.figure(figsize=(5,5))\n",
    "plt.scatter(x, y, s=5, c='red')\n",
    "plt.xlabel('room')\n",
    "plt.ylabel('price')\n",
    "plt.grid()\n"
   ]
  },
  {
   "cell_type": "code",
   "execution_count": null,
   "metadata": {},
   "outputs": [],
   "source": []
  },
  {
   "cell_type": "markdown",
   "metadata": {},
   "source": [
    "### 학습용/ 검증용 데이터 분리"
   ]
  },
  {
   "cell_type": "code",
   "execution_count": null,
   "metadata": {},
   "outputs": [],
   "source": [
    "# 조건 : 학습 7, 검증 3\n",
    "# seed  = 1로 고정\n",
    "##### 5분 실습 / 결정 계수를 구하라\n",
    "\n",
    "from sklearn.model_selection import train_test_split\n",
    "\n",
    "x_train, x_test, y_train, y_test = train_test_split(x,y, size=0.3, random_state=1)\n"
   ]
  },
  {
   "cell_type": "code",
   "execution_count": null,
   "metadata": {},
   "outputs": [],
   "source": [
    "from sklearn.linear_model import LinearRegression\n",
    "lr = LinearRegression()\n",
    "reg = lr.fit(x_train, y_train)"
   ]
  },
  {
   "cell_type": "code",
   "execution_count": null,
   "metadata": {},
   "outputs": [],
   "source": [
    "x_train = np.array(x_train).reshape(-1,1)\n",
    "x_test = np.array(x_test).reshape(-1, 1)"
   ]
  },
  {
   "cell_type": "markdown",
   "metadata": {},
   "source": [
    "### 모델 구축"
   ]
  },
  {
   "cell_type": "code",
   "execution_count": null,
   "metadata": {},
   "outputs": [],
   "source": [
    "from sklearn.metrics import"
   ]
  },
  {
   "cell_type": "markdown",
   "metadata": {},
   "source": [
    "### 모델 평가"
   ]
  },
  {
   "cell_type": "code",
   "execution_count": null,
   "metadata": {},
   "outputs": [],
   "source": [
    "from sklearn.metrics import mean_squared_error, r2_score\n",
    "\n",
    "# MSE\n",
    "\n",
    "# RMSE\n",
    "\n",
    "# 결정계수 R2\n",
    "\n",
    "# 회귀계수 및 절편 확인"
   ]
  },
  {
   "cell_type": "markdown",
   "metadata": {},
   "source": [
    "### 시각화"
   ]
  },
  {
   "cell_type": "code",
   "execution_count": null,
   "metadata": {},
   "outputs": [],
   "source": [
    "plt.figure(figsize=(5,5))\n",
    "plt.scatter(x, y, s=5, c='r')\n",
    "xx = np.linspace(4, 9)\n",
    "yy = reg.predict(xx.reshape(-1, 1))\n",
    "plt.plot(xx, yy, ls='--', c='g')"
   ]
  },
  {
   "cell_type": "code",
   "execution_count": null,
   "metadata": {},
   "outputs": [],
   "source": [
    "\n"
   ]
  },
  {
   "cell_type": "code",
   "execution_count": null,
   "metadata": {},
   "outputs": [],
   "source": []
  }
 ],
 "metadata": {
  "kernelspec": {
   "display_name": "base",
   "language": "python",
   "name": "python3"
  },
  "language_info": {
   "codemirror_mode": {
    "name": "ipython",
    "version": 3
   },
   "file_extension": ".py",
   "mimetype": "text/x-python",
   "name": "python",
   "nbconvert_exporter": "python",
   "pygments_lexer": "ipython3",
   "version": "3.9.13"
  },
  "vscode": {
   "interpreter": {
    "hash": "29022363fef606f9f23df6f4a22f2b4728bceb42fab3e5e3f1a324182233d5f0"
   }
  }
 },
 "nbformat": 4,
 "nbformat_minor": 4
}
