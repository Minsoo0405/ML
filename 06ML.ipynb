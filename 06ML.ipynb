{
 "cells": [
  {
   "attachments": {},
   "cell_type": "markdown",
   "metadata": {},
   "source": [
    "# 1. 결정 트리(Decision Tree)"
   ]
  },
  {
   "attachments": {},
   "cell_type": "markdown",
   "metadata": {},
   "source": [
    "1-1. 분류의 개요\n",
    "    - 지도학습 -> 분류\n",
    "        - 학습데이터로 주어진 피처와 레ㅣ블(결정값, 클래스값)을 머신러닝 알고리즘으로 학습해 모델을 생성하고, 이렇게 생성된 모델에 새로운 데이터값이 주어졌을떄 미지의 레이블을 예측하는것\n",
    "        - 기존 데이터가 어떤 레이블에 속하는지 패턴을 알고리즘으로 학습\n",
    "    - 분류 알고리즘\n",
    "        - 나이브베이즈\n",
    "        - 로지스틱 회귀\n",
    "        - 결정트리\n",
    "        - SVM\n",
    "        - 최소 근접알고리즘\n",
    "        - 심층 연결기반의 신경망\n",
    "        - 앙상블\n",
    "\n",
    "1-2. 앙상블 : 서로 다른 또는 같은 알고리즘 결함\n",
    "    - 베깅: 랜덤 포레스트(뛰어난 예측 성능, 빠른시간, 유연성)\n",
    "    - 부스팅\n",
    "        : 크래디언트 부스팅(뛰어난 예측성능/수행시간이 길다, 튜닝어려움)\n",
    "        : XKBoost, LightGBM(예측 성능은 높이고 수행시간은 단축)\n",
    "    - 스태킹: 앙상블의 앙상블\n",
    "        - 분류에서 가장 각광을 받는 방법 중 하나\n",
    "        - 정형 데이터의 예측 분석 영역"
   ]
  },
  {
   "attachments": {},
   "cell_type": "markdown",
   "metadata": {},
   "source": [
    "2-1. 결정트리\n",
    "    2-1-1. 정의\n",
    "        - 직관적으로 이해하기 쉬운 머신러닝 알고리즘\n",
    "        - 주어진 설명 변수(연속형, 범주형)를 활용해 의사결정(rule)을 자동으로 찾아내 트리 기반의 분류 규칙을 생성한다\n",
    "    2-1-2. 모델 시각화 방법\n",
    "    2-1-4. 트리의 분할원리\n",
    "        - 순수도 또는 불순도에 의해 측정\n",
    "            - 순수도(Purity): 특정 범주의 개체들이 포함된 정도\n",
    "            - 불순도(Impurity): 얼마나 다양한 범주의 개체들이 포함되어 있는가를 계산 \n",
    "        - 분할 속성의 선택\n",
    "            - 부모 마디의 순수도에 비해서 자식 마디의 순수도가 증가하도록 자식 마디를 형성\n",
    "            - 마지막에 도달한 노드의 클래스 비율을 보고 예측을 만듦\n",
    "            - 결정트리는 끝까지 분할(greedy)을 하기 때문에 과적합이 생기기 쉽다."
   ]
  },
  {
   "attachments": {},
   "cell_type": "markdown",
   "metadata": {},
   "source": [
    "3-1. CART(Classification And Regresssion Tree)\n",
    "    - 정의\n",
    "        - 분류 및 회귀 양쪽 모두 사용 가능\n",
    "        - 불순도 알고리즘: Gini 지수\n",
    "        - 분리: 2지 분리(Binary Split)\n",
    "        "
   ]
  }
 ],
 "metadata": {
  "kernelspec": {
   "display_name": "base",
   "language": "python",
   "name": "python3"
  },
  "language_info": {
   "name": "python",
   "version": "3.9.13"
  },
  "orig_nbformat": 4,
  "vscode": {
   "interpreter": {
    "hash": "29022363fef606f9f23df6f4a22f2b4728bceb42fab3e5e3f1a324182233d5f0"
   }
  }
 },
 "nbformat": 4,
 "nbformat_minor": 2
}
