{
 "cells": [
  {
   "cell_type": "markdown",
   "metadata": {},
   "source": [
    "# GD & SGD 간 epoch과 batch_size로 인한 차이"
   ]
  },
  {
   "cell_type": "code",
   "execution_count": 13,
   "metadata": {},
   "outputs": [],
   "source": [
    "from sklearn.linear_model import LinearRegression\n",
    "from sklearn.linear_model import SGDRegressor"
   ]
  },
  {
   "cell_type": "code",
   "execution_count": 21,
   "metadata": {},
   "outputs": [],
   "source": [
    "import numpy as np\n",
    "from sklearn import linear_model"
   ]
  },
  {
   "cell_type": "code",
   "execution_count": 22,
   "metadata": {},
   "outputs": [
    {
     "ename": "TypeError",
     "evalue": "__init__() got an unexpected keyword argument 'epochs'",
     "output_type": "error",
     "traceback": [
      "\u001b[0;31m---------------------------------------------------------------------------\u001b[0m",
      "\u001b[0;31mTypeError\u001b[0m                                 Traceback (most recent call last)",
      "\u001b[1;32m/Users/kimminsoo/Desktop/Machine_Deep/Boostcourse/3week_course/6_SGD implementation issues.ipynb Cell 4\u001b[0m line \u001b[0;36m1\n\u001b[0;32m----> <a href='vscode-notebook-cell:/Users/kimminsoo/Desktop/Machine_Deep/Boostcourse/3week_course/6_SGD%20implementation%20issues.ipynb#W3sZmlsZQ%3D%3D?line=0'>1</a>\u001b[0m gd_lr \u001b[39m=\u001b[39m linear_model\u001b[39m.\u001b[39;49mLinearRegression(epochs\u001b[39m=\u001b[39;49m\u001b[39m10000\u001b[39;49m, batch_size\u001b[39m=\u001b[39;49m\u001b[39m1\u001b[39;49m, shuffle\u001b[39m=\u001b[39;49m\u001b[39mFalse\u001b[39;49;00m)\n\u001b[1;32m      <a href='vscode-notebook-cell:/Users/kimminsoo/Desktop/Machine_Deep/Boostcourse/3week_course/6_SGD%20implementation%20issues.ipynb#W3sZmlsZQ%3D%3D?line=1'>2</a>\u001b[0m fbgd_lr \u001b[39m=\u001b[39m linear_model\u001b[39m.\u001b[39mLinearRegression(epochs\u001b[39m=\u001b[39m\u001b[39m10000\u001b[39m, batch_size\u001b[39m=\u001b[39m\u001b[39mlen\u001b[39m(X), shuffle\u001b[39m=\u001b[39m\u001b[39mFalse\u001b[39;00m)\n\u001b[1;32m      <a href='vscode-notebook-cell:/Users/kimminsoo/Desktop/Machine_Deep/Boostcourse/3week_course/6_SGD%20implementation%20issues.ipynb#W3sZmlsZQ%3D%3D?line=2'>3</a>\u001b[0m sgd_lr \u001b[39m=\u001b[39m linear_model\u001b[39m.\u001b[39mLinearRegression(epochs\u001b[39m=\u001b[39m\u001b[39m10000\u001b[39m, batch_size\u001b[39m=\u001b[39m\u001b[39m1\u001b[39m, shuffle\u001b[39m=\u001b[39m\u001b[39mTrue\u001b[39;00m)\n",
      "\u001b[0;31mTypeError\u001b[0m: __init__() got an unexpected keyword argument 'epochs'"
     ]
    }
   ],
   "source": [
    "\n",
    "\n",
    "gd_lr = linear_model.LinearRegression(epochs=10000, batch_size=1, shuffle=False)\n",
    "fbgd_lr = linear_model.LinearRegression(epochs=10000, batch_size=len(X), shuffle=False)\n",
    "sgd_lr = linear_model.LinearRegression(epochs=10000, batch_size=1, shuffle=True)\n",
    "msgd_lr = linear_model.LinearRegression(epochs=10000, batch_size=100, shuffle=True)"
   ]
  },
  {
   "cell_type": "code",
   "execution_count": 17,
   "metadata": {},
   "outputs": [
    {
     "ename": "NameError",
     "evalue": "name 'epochs' is not defined",
     "output_type": "error",
     "traceback": [
      "\u001b[0;31m---------------------------------------------------------------------------\u001b[0m",
      "\u001b[0;31mNameError\u001b[0m                                 Traceback (most recent call last)",
      "\u001b[1;32m/Users/kimminsoo/Desktop/Machine_Deep/Boostcourse/3week_course/6_SGD implementation issues.ipynb Cell 4\u001b[0m line \u001b[0;36m1\n\u001b[0;32m----> <a href='vscode-notebook-cell:/Users/kimminsoo/Desktop/Machine_Deep/Boostcourse/3week_course/6_SGD%20implementation%20issues.ipynb#W0sZmlsZQ%3D%3D?line=0'>1</a>\u001b[0m \u001b[39mfor\u001b[39;00m epoch \u001b[39min\u001b[39;00m \u001b[39mrange\u001b[39m(epochs):\n\u001b[1;32m      <a href='vscode-notebook-cell:/Users/kimminsoo/Desktop/Machine_Deep/Boostcourse/3week_course/6_SGD%20implementation%20issues.ipynb#W0sZmlsZQ%3D%3D?line=1'>2</a>\u001b[0m     X_copy \u001b[39m=\u001b[39m np\u001b[39m.\u001b[39mcopy(X)\n\u001b[1;32m      <a href='vscode-notebook-cell:/Users/kimminsoo/Desktop/Machine_Deep/Boostcourse/3week_course/6_SGD%20implementation%20issues.ipynb#W0sZmlsZQ%3D%3D?line=2'>3</a>\u001b[0m     \u001b[39mif\u001b[39;00m is_SGD:\n",
      "\u001b[0;31mNameError\u001b[0m: name 'epochs' is not defined"
     ]
    }
   ],
   "source": [
    "for epoch in range(epochs):\n",
    "    X_copy = np.copy(X)\n",
    "    if is_SGD:\n",
    "        np.random.shuffle(X_copy)\n",
    "    batch = len(X_copy)\n",
    "    for batch_count in range(batch):\n",
    "        X_batch = np.copy(\n",
    "                    X_copy[batch_count * BATCH_SIZE : (batch_count+1) * BATCH_SIZE])\n",
    "    print(\"Number of epoch : %d\" % epoch)"
   ]
  }
 ],
 "metadata": {
  "kernelspec": {
   "display_name": "tensorflow",
   "language": "python",
   "name": "python3"
  },
  "language_info": {
   "codemirror_mode": {
    "name": "ipython",
    "version": 3
   },
   "file_extension": ".py",
   "mimetype": "text/x-python",
   "name": "python",
   "nbconvert_exporter": "python",
   "pygments_lexer": "ipython3",
   "version": "3.8.16"
  },
  "orig_nbformat": 4
 },
 "nbformat": 4,
 "nbformat_minor": 2
}
