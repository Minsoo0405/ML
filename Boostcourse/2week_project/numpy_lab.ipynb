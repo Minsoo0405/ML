{
 "cells": [
  {
   "cell_type": "code",
   "execution_count": 1,
   "metadata": {},
   "outputs": [],
   "source": [
    "import numpy as np"
   ]
  },
  {
   "cell_type": "markdown",
   "metadata": {},
   "source": [
    "### 1) n_size_ndarray_creation\n",
    "- 함수목적\n",
    "  - n의 제곱수로 2 dimentional array를 생성하는 ndarray.\n",
    "- Args\n",
    "    - n: 생성하고자 하는 ndarray의 row와 column의 개수\n",
    "    - dtype: 생성하려는 ndarray의 data type (np.int)\n",
    "- Returns\n",
    "  - row와 column의 길이가 n인 two dimentional ndarray로 X[0,0]은 0으로 순차적으로 X[n-1,n-1]은 n^2-1이 할당됨"
   ]
  },
  {
   "cell_type": "code",
   "execution_count": 2,
   "metadata": {},
   "outputs": [
    {
     "name": "stderr",
     "output_type": "stream",
     "text": [
      "/var/folders/cy/sw8s66dd02l8b9dj7pqk2ljm0000gn/T/ipykernel_18752/395555554.py:1: DeprecationWarning: `np.int` is a deprecated alias for the builtin `int`. To silence this warning, use `int` by itself. Doing this will not modify any behavior and is safe. When replacing `np.int`, you may wish to use e.g. `np.int64` or `np.int32` to specify the precision. If you wish to review your current use, check the release note link for additional information.\n",
      "Deprecated in NumPy 1.20; for more details and guidance: https://numpy.org/devdocs/release/1.20.0-notes.html#deprecations\n",
      "  def n_size_ndarray_creation(n, dtype=np.int):\n"
     ]
    }
   ],
   "source": [
    "def n_size_ndarray_creation(n, dtype=np.int):\n",
    "    return np.array(range(n ** 2), dtype=dtype).reshape(n,n)"
   ]
  },
  {
   "cell_type": "code",
   "execution_count": 3,
   "metadata": {},
   "outputs": [
    {
     "name": "stderr",
     "output_type": "stream",
     "text": [
      "/var/folders/cy/sw8s66dd02l8b9dj7pqk2ljm0000gn/T/ipykernel_18752/2041491501.py:1: DeprecationWarning: `np.int` is a deprecated alias for the builtin `int`. To silence this warning, use `int` by itself. Doing this will not modify any behavior and is safe. When replacing `np.int`, you may wish to use e.g. `np.int64` or `np.int32` to specify the precision. If you wish to review your current use, check the release note link for additional information.\n",
      "Deprecated in NumPy 1.20; for more details and guidance: https://numpy.org/devdocs/release/1.20.0-notes.html#deprecations\n",
      "  n_size_ndarray_creation(3, dtype=np.int)\n"
     ]
    },
    {
     "data": {
      "text/plain": [
       "array([[0, 1, 2],\n",
       "       [3, 4, 5],\n",
       "       [6, 7, 8]])"
      ]
     },
     "execution_count": 3,
     "metadata": {},
     "output_type": "execute_result"
    }
   ],
   "source": [
    "n_size_ndarray_creation(3, dtype=np.int)"
   ]
  },
  {
   "cell_type": "markdown",
   "metadata": {},
   "source": [
    "### 2) zero_or_one_or_empty_ndarray\n",
    "- 함수목적\n",
    "  - shape이 지정된 크기의 ndarray를 생성, 이때 행렬의 element는 type에 따라 0, 1 또는 empty로 생성됨.\n",
    "- Args\n",
    "  - shape: 생성할려는 ndarray의 shape\n",
    "  - type: 생성되는 element들의 값을 지정함0은 0, 1은 1, 99는 empty 타입으로 생성됨\n",
    "  - dtype: 생성하려는 ndarray의 data type (np.int)\n",
    "- Returns\n",
    "  - shape의 크기로 생성된 ndarray로 type에 따라 element의 내용이 변경됨"
   ]
  },
  {
   "cell_type": "code",
   "execution_count": 4,
   "metadata": {},
   "outputs": [
    {
     "name": "stderr",
     "output_type": "stream",
     "text": [
      "/var/folders/cy/sw8s66dd02l8b9dj7pqk2ljm0000gn/T/ipykernel_18752/1562518849.py:1: DeprecationWarning: `np.int` is a deprecated alias for the builtin `int`. To silence this warning, use `int` by itself. Doing this will not modify any behavior and is safe. When replacing `np.int`, you may wish to use e.g. `np.int64` or `np.int32` to specify the precision. If you wish to review your current use, check the release note link for additional information.\n",
      "Deprecated in NumPy 1.20; for more details and guidance: https://numpy.org/devdocs/release/1.20.0-notes.html#deprecations\n",
      "  def zero_or_one_or_empty_ndarray(shape, type=0, dtype=np.int):\n"
     ]
    }
   ],
   "source": [
    "def zero_or_one_or_empty_ndarray(shape, type=0, dtype=np.int):\n",
    "    if type == 0:\n",
    "        return np.zeros(shape=shape, dtype=dtype)\n",
    "    elif type == 1:\n",
    "        return np.ones(shape=shape, dtype=dtype)\n",
    "    elif type == 99:\n",
    "        return np.empty(shape=shape, dtype=dtype)\n"
   ]
  },
  {
   "cell_type": "code",
   "execution_count": 5,
   "metadata": {},
   "outputs": [
    {
     "data": {
      "text/plain": [
       "array([[0, 0, 0],\n",
       "       [0, 0, 0],\n",
       "       [0, 0, 0],\n",
       "       [0, 0, 0]])"
      ]
     },
     "execution_count": 5,
     "metadata": {},
     "output_type": "execute_result"
    }
   ],
   "source": [
    "zero_or_one_or_empty_ndarray(shape=(4,3), type=0)"
   ]
  },
  {
   "cell_type": "code",
   "execution_count": 6,
   "metadata": {},
   "outputs": [
    {
     "data": {
      "text/plain": [
       "array([[1, 1],\n",
       "       [1, 1]])"
      ]
     },
     "execution_count": 6,
     "metadata": {},
     "output_type": "execute_result"
    }
   ],
   "source": [
    "zero_or_one_or_empty_ndarray(shape=(2,2), type=1)"
   ]
  },
  {
   "cell_type": "code",
   "execution_count": 7,
   "metadata": {},
   "outputs": [
    {
     "data": {
      "text/plain": [
       "array([[ 4607825790175356063, -4611042647052049244,  4603322190547985583],\n",
       "       [-4611042647052049245,  4617283349392834113, -4613744806828471525],\n",
       "       [ 4603322190547985580, -4613744806828471527,  4606153024599475607]])"
      ]
     },
     "execution_count": 7,
     "metadata": {},
     "output_type": "execute_result"
    }
   ],
   "source": [
    "zero_or_one_or_empty_ndarray(shape=(3,3), type=99)"
   ]
  },
  {
   "cell_type": "markdown",
   "metadata": {},
   "source": [
    "### 3) change_shape_of_ndarray\n",
    "- 함수목적\n",
    "  - 입력된 ndarray X를 n_row의 값을 row의 개수로 지정한 matrix를 반환함.\n",
    "  - 이때 입력하는 X의 size는 2의 거듭제곱수로 전제함.\n",
    "  - 만약 n_row과 1일 때는 matrix가 아닌 vector로 반환함.\n",
    "- Args\n",
    "    - X: 입력하는 ndarray\n",
    "    - n_row: 생성할려는 matrix의 row의 개수\n",
    "- Returns\n",
    "  - row의 개수가 n_row인 Matrix 또는 Vector\n",
    "  - n_row가 1이면 Vector 값으로 반환함"
   ]
  },
  {
   "cell_type": "code",
   "execution_count": 12,
   "metadata": {},
   "outputs": [],
   "source": [
    "def change_shape_of_ndarray(X, n_row):\n",
    "    return X.flatten() if n_row == 1 else X.reshape(n_row, -1)"
   ]
  },
  {
   "cell_type": "code",
   "execution_count": 15,
   "metadata": {},
   "outputs": [
    {
     "name": "stderr",
     "output_type": "stream",
     "text": [
      "/var/folders/cy/sw8s66dd02l8b9dj7pqk2ljm0000gn/T/ipykernel_18752/406606901.py:1: DeprecationWarning: `np.int` is a deprecated alias for the builtin `int`. To silence this warning, use `int` by itself. Doing this will not modify any behavior and is safe. When replacing `np.int`, you may wish to use e.g. `np.int64` or `np.int32` to specify the precision. If you wish to review your current use, check the release note link for additional information.\n",
      "Deprecated in NumPy 1.20; for more details and guidance: https://numpy.org/devdocs/release/1.20.0-notes.html#deprecations\n",
      "  X = np.ones((32, 32), dtype=np.int)\n"
     ]
    },
    {
     "data": {
      "text/plain": [
       "array([1, 1, 1, ..., 1, 1, 1])"
      ]
     },
     "execution_count": 15,
     "metadata": {},
     "output_type": "execute_result"
    }
   ],
   "source": [
    "X = np.ones((32, 32), dtype=np.int)\n",
    "change_shape_of_ndarray(X, 1)"
   ]
  },
  {
   "cell_type": "markdown",
   "metadata": {},
   "source": [
    "### 4) concat_ndarray\n",
    "- 함수목적\n",
    "  - 입력된 ndarray X_1과 X_2를 axis로 입력된 축을 기준으로 통합하여 반환하는 함수\n",
    "  - X_1과 X_2는 matrix 또는 vector 임, 그러므로 vector 일 경우도 처리할 수 가 있어야 함\n",
    "  - axis를 기준으로 통합할 때, 통합이 불가능하면 False가 반환됨.\n",
    "  - 단 X_1과 X_2 Matrix, Vector 형태로 들어왔다면, Vector를 row가 1개인 Matrix로 변환하여 통합이 가능한지 확인할 것\n",
    "- Args\n",
    "  - X_1: 입력하는 ndarray\n",
    "  - X_2: 입력하는 ndarray\n",
    "  - axis: 통합의 기준이 되는 축 0 또는 1임\n",
    "- Returns\n",
    "  - X_1과 X_2과 통합된 matrix 타입의 ndarray"
   ]
  },
  {
   "cell_type": "code",
   "execution_count": 17,
   "metadata": {},
   "outputs": [],
   "source": [
    "def concat_ndarray(X_1, X_2, axis):\n",
    "    try:\n",
    "        if X_1.ndim == 1:\n",
    "            X_1 = X_1.reshape(1, -1)\n",
    "        if X_2.ndim == 1:\n",
    "            X_2 = X_2.reshape(1, -1)\n",
    "        return np.concatenate((X_1, X_2), axis=axis)\n",
    "    except ValueError as e:\n",
    "        return False"
   ]
  },
  {
   "cell_type": "code",
   "execution_count": 18,
   "metadata": {},
   "outputs": [
    {
     "data": {
      "text/plain": [
       "False"
      ]
     },
     "execution_count": 18,
     "metadata": {},
     "output_type": "execute_result"
    }
   ],
   "source": [
    "a = np.array([[1, 2], [3, 4]])\n",
    "b = np.array([[5, 6]])\n",
    "concat_ndarray(a, b, axis=1)"
   ]
  },
  {
   "cell_type": "markdown",
   "metadata": {},
   "source": [
    "### 5) normalize_ndarray\n",
    "- 함수목적\n",
    "  - 입력된 Matrix 또는 Vector를 ndarray X의 정규화된 값으로 변환하여 반환함\n",
    "  - 이때 정규화 변환 공식 `Z = (X - X의평균) / X의 표준편차`로 구성됨.\n",
    "  - X의 평균과 표준편차는 axis를 기준으로 axis 별로 산출됨.\n",
    "  - Matrix의 경우 axis가 0 또는 1일 경우, row 또는 column별로 Z value를 산출함.\n",
    "  - axis가 99일 경우 전체 값에 대한 normalize 값을 구함.\n",
    "- Args\n",
    "  - X: 입력하는 ndarray,\n",
    "  - axis: normalize를 구하는 기준이 되는 축으로 0, 1 또는 99임, 단 99는 axis 구분 없이 전체값으로 평균과 표준편차를 구함\n",
    "  - dtype: data type으로 np.float32로 구정\n",
    "- Returns\n",
    "  - 정규화된 ndarray"
   ]
  },
  {
   "cell_type": "code",
   "execution_count": 19,
   "metadata": {},
   "outputs": [],
   "source": [
    "def normalize_ndarray(X, axis=99, dtype=np.float32):\n",
    "    X = X.astype(np.float32)\n",
    "    n_row, n_column = X.shape\n",
    "    if axis == 99:\n",
    "        x_mean = np.mean(X)\n",
    "        x_std = np.std(X)\n",
    "        Z = (X - x_mean) / x_std\n",
    "    if axis == 0:\n",
    "        x_mean = np.mean(X, 0).reshape(1, -1)\n",
    "        x_std = np.std(X, 0).reshape(1, -1)\n",
    "        Z = (X - x_mean) / x_std\n",
    "    if axis == 1:\n",
    "        x_mean = np.mean(X, 1).reshape(n_row, -1)\n",
    "        x_std = np.std(X, 1).reshape(n_row, -1)\n",
    "        Z = (X - x_mean) / x_std\n",
    "\n",
    "    return Z"
   ]
  },
  {
   "cell_type": "code",
   "execution_count": 21,
   "metadata": {},
   "outputs": [
    {
     "data": {
      "text/plain": [
       "array([[-1.2247448,  0.       ,  1.2247448],\n",
       "       [-1.2247448,  0.       ,  1.2247448],\n",
       "       [-1.2247448,  0.       ,  1.2247448],\n",
       "       [-1.2247448,  0.       ,  1.2247448]], dtype=float32)"
      ]
     },
     "execution_count": 21,
     "metadata": {},
     "output_type": "execute_result"
    }
   ],
   "source": [
    "X = np.arange(12, dtype=np.float32).reshape(4, 3)\n",
    "\n",
    "normalize_ndarray(X, 1)"
   ]
  },
  {
   "cell_type": "markdown",
   "metadata": {},
   "source": [
    "### 6) save_ndarray\n",
    "- 함수목적\n",
    "  - 입력된 ndarray X를 argument filename으로 저장함\n",
    "- Args\n",
    "  - X: 입력하는 ndarray\n",
    "  - filename: 저장할려는 파일이름"
   ]
  },
  {
   "cell_type": "code",
   "execution_count": null,
   "metadata": {},
   "outputs": [],
   "source": [
    "def save_ndarray(X, filename=\"test.npy\"):\n",
    "    pass"
   ]
  },
  {
   "cell_type": "markdown",
   "metadata": {},
   "source": [
    "### 7) boolean_index\n",
    "- 함수목적\n",
    "  - 입력된 ndarray X를 String type의 condition 정보를 바탕으로 해당 컨디션에 해당하는 ndarray X의 index 번호를 반환함\n",
    "  - 단 이때, str type의 조건인 condition을 코드로 변환하기 위해서는 `eval(str(\"X\") + condition)`를 사용할 수 있음\n",
    "- Args\n",
    "    - X: 입력하는 ndarray\n",
    "    - condition: string type의 조건 (\">3\", \"== 5\", \"< 15\")\n",
    "- Returns\n",
    "  - 조건에 만족하는 ndarray X의 index"
   ]
  },
  {
   "cell_type": "code",
   "execution_count": 22,
   "metadata": {},
   "outputs": [],
   "source": [
    "def boolean_index(X, condition):\n",
    "    condition = eval(str(\"X\") + condition)\n",
    "    return np.where(condition)\n"
   ]
  },
  {
   "cell_type": "code",
   "execution_count": 23,
   "metadata": {},
   "outputs": [
    {
     "data": {
      "text/plain": [
       "(array([ 7,  8,  9, 10, 11, 12, 13, 14, 15, 16, 17, 18, 19, 20, 21, 22, 23,\n",
       "        24, 25, 26, 27, 28, 29, 30, 31]),)"
      ]
     },
     "execution_count": 23,
     "metadata": {},
     "output_type": "execute_result"
    }
   ],
   "source": [
    "X = np.arange(32, dtype=np.float32)\n",
    "\n",
    "boolean_index(X, \"> 6\")"
   ]
  },
  {
   "cell_type": "markdown",
   "metadata": {},
   "source": [
    "### 8) find_nearest_value\n",
    "- 함수목적\n",
    "  - 입력된 vector type의 ndarray X에서 target_value와 가장 차이가 작게나는 element를 찾아 리턴함\n",
    "  - 이때 X를 list로 변경하여 처리하는 것은 실패로 간주함.\n",
    "- Args\n",
    "    - X: 입력하는 vector type의 ndarray\n",
    "    - target_value : 가장 유사한 값의 기준값이 되는 값\n",
    "- Returns\n",
    "  - target_value와 가장 유사한 값"
   ]
  },
  {
   "cell_type": "code",
   "execution_count": 24,
   "metadata": {},
   "outputs": [],
   "source": [
    "def find_nearest_value(X, target_value):\n",
    "    return X[np.argmin(np.abs(X-target_value))]"
   ]
  },
  {
   "cell_type": "code",
   "execution_count": 25,
   "metadata": {},
   "outputs": [
    {
     "data": {
      "text/plain": [
       "0.292735377874071"
      ]
     },
     "execution_count": 25,
     "metadata": {},
     "output_type": "execute_result"
    }
   ],
   "source": [
    "X = np.random.uniform(0, 1, 100)\n",
    "target_value = 0.3\n",
    "find_nearest_value(X, target_value=target_value)"
   ]
  },
  {
   "cell_type": "markdown",
   "metadata": {},
   "source": [
    "### 9) get_n_largest_values\n",
    "- 함수목적\n",
    "  - 입력된 vector type의 ndarray X에서 큰 숫자 순서대로 n개의 값을 반환함.\n",
    "- Args\n",
    "  - X: vector type의 ndarray\n",
    "  - n: 반환할려는 element의 개수\n",
    "- Returns\n",
    "  - ndarray X의 element중 큰 숫자 순서대로 n개 값이 반환됨 ndarray"
   ]
  },
  {
   "cell_type": "code",
   "execution_count": 26,
   "metadata": {},
   "outputs": [],
   "source": [
    "def get_n_largest_values(X, n):\n",
    "    return X[np.argsort(X[::-1]) [:n]]"
   ]
  },
  {
   "cell_type": "code",
   "execution_count": 27,
   "metadata": {},
   "outputs": [
    {
     "data": {
      "text/plain": [
       "array([0.60124652, 0.63768489, 0.54684097])"
      ]
     },
     "execution_count": 27,
     "metadata": {},
     "output_type": "execute_result"
    }
   ],
   "source": [
    "X = np.random.uniform(0, 1, 5)\n",
    "get_n_largest_values(X, 3)"
   ]
  }
 ],
 "metadata": {
  "kernelspec": {
   "display_name": "tensorflow",
   "language": "python",
   "name": "python3"
  },
  "language_info": {
   "codemirror_mode": {
    "name": "ipython",
    "version": 3
   },
   "file_extension": ".py",
   "mimetype": "text/x-python",
   "name": "python",
   "nbconvert_exporter": "python",
   "pygments_lexer": "ipython3",
   "version": "3.8.16"
  },
  "orig_nbformat": 4
 },
 "nbformat": 4,
 "nbformat_minor": 2
}
